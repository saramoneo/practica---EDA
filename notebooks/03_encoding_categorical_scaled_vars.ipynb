{
 "cells": [
  {
   "cell_type": "markdown",
   "id": "2f48e5ff",
   "metadata": {},
   "source": [
    "## Codificación de las variables categoricas, escalado y modelo"
   ]
  },
  {
   "cell_type": "code",
   "execution_count": 1,
   "id": "1072cd96",
   "metadata": {},
   "outputs": [],
   "source": [
    "import pandas as pd \n",
    "import numpy as np\n",
    "import sklearn\n",
    "from sklearn.pipeline import Pipeline\n",
    "from sklearn import metrics\n",
    "import warnings\n",
    "import category_encoders as ce"
   ]
  },
  {
   "cell_type": "code",
   "execution_count": 2,
   "id": "24e59615",
   "metadata": {},
   "outputs": [],
   "source": [
    "warnings.filterwarnings('ignore')"
   ]
  },
  {
   "cell_type": "markdown",
   "id": "2e1ba286",
   "metadata": {},
   "source": [
    "Cargamos los datasets guardados en el notebook 2 para definir los dataframes de train y test."
   ]
  },
  {
   "cell_type": "code",
   "execution_count": 3,
   "id": "83b75dde",
   "metadata": {},
   "outputs": [],
   "source": [
    "pd_fraud_train = pd.read_csv(\"data/train_pd_data_preprocessing_missing_outlier.csv\")\n",
    "pd_fraud_test = pd.read_csv(\"data/test_pd_data_preprocessing_missing_outlier.csv\")"
   ]
  },
  {
   "cell_type": "markdown",
   "id": "ef020dcd",
   "metadata": {},
   "source": [
    "Eliminamos la variable \"Unnamed: 0\" de ambos dataframes que se ha creado automáticamente al guardar los datasets en el notebook anterior."
   ]
  },
  {
   "cell_type": "code",
   "execution_count": 4,
   "id": "590bc8db",
   "metadata": {},
   "outputs": [],
   "source": [
    "pd_fraud_train =pd_fraud_train.drop(columns=[\"Unnamed: 0\"])"
   ]
  },
  {
   "cell_type": "code",
   "execution_count": 5,
   "id": "1bbe41f9",
   "metadata": {},
   "outputs": [],
   "source": [
    "pd_fraud_test=pd_fraud_test.drop(columns=[\"Unnamed: 0\"])"
   ]
  },
  {
   "cell_type": "markdown",
   "id": "2d1df362",
   "metadata": {},
   "source": [
    "Creamos tres variables: una variable que es una lista de las variables categóricas (lista_variables_categoricas), otra variable que es una lista de las variables numéricas (lista_variables_numericas) y otra variable que recoge a la variable objetivo fraud_boll (target)"
   ]
  },
  {
   "cell_type": "code",
   "execution_count": 6,
   "id": "68927d16",
   "metadata": {},
   "outputs": [],
   "source": [
    "lista_variables_categoricas = [\"payment_type\",\"employment_status\",\"housing_status\",\"email_is_free\",\"phone_home_valid\",\n",
    "                                \"phone_mobile_valid\",\"has_other_cards\",\"foreign_request\",\"source\",\"device_os\",\"keep_alive_session\", \"fraud_bool\"]\n",
    "\n",
    "lista_variables_numericas = [\"income\", \"name_email_similarity\", \"prev_address_months_count\", \"current_address_months_count\", \"customer_age\", \"days_since_request\",\n",
    "                            \"intended_balcon_amount\", \"zip_count_4w\", \"velocity_6h\", \"velocity_24h\", \"velocity_4w\", \"bank_branch_count_8w\", \"date_of_birth_distinct_emails_4w\",\n",
    "                            \"credit_risk_score\", \"bank_months_count\", \"proposed_credit_limit\", \"session_length_in_minutes\", \"device_distinct_emails_8w\", \"device_fraud_count\",\n",
    "                            \"month\"]\n",
    "target = 'fraud_bool'"
   ]
  },
  {
   "cell_type": "markdown",
   "id": "2da01f08",
   "metadata": {},
   "source": [
    "Convertimos las variables categóricas (lista_variables_categoricas) a tipos de datos categóricos en los DataFrames pd_fraud_train y pd_fraud_test:"
   ]
  },
  {
   "cell_type": "code",
   "execution_count": 7,
   "id": "3003fd50",
   "metadata": {},
   "outputs": [],
   "source": [
    "for columna in lista_variables_categoricas:\n",
    "    pd_fraud_train[columna] = pd_fraud_train[columna].astype('category')"
   ]
  },
  {
   "cell_type": "code",
   "execution_count": 8,
   "id": "1d2f451d",
   "metadata": {},
   "outputs": [],
   "source": [
    "for columna in lista_variables_categoricas:\n",
    "    pd_fraud_test[columna] = pd_fraud_test[columna].astype('category')"
   ]
  },
  {
   "cell_type": "markdown",
   "id": "b039afce",
   "metadata": {},
   "source": [
    "Modificamos el tipo de datos de la columna \"fraud_bool\" (variable objetivo) en los DataFrames pd_fraud_train y pd_fraud_test a tipo de datos de cadena (str):"
   ]
  },
  {
   "cell_type": "code",
   "execution_count": 9,
   "id": "0901e689",
   "metadata": {},
   "outputs": [],
   "source": [
    "pd_fraud_train[target] = pd_fraud_train[target].astype(str)"
   ]
  },
  {
   "cell_type": "code",
   "execution_count": 10,
   "id": "4fc0757c",
   "metadata": {},
   "outputs": [],
   "source": [
    "pd_fraud_test[target] = pd_fraud_test[target].astype(str)"
   ]
  },
  {
   "cell_type": "code",
   "execution_count": 11,
   "id": "cfbd8145",
   "metadata": {},
   "outputs": [
    {
     "data": {
      "text/plain": [
       "Index(['income', 'name_email_similarity', 'prev_address_months_count',\n",
       "       'current_address_months_count', 'customer_age', 'days_since_request',\n",
       "       'intended_balcon_amount', 'payment_type', 'zip_count_4w', 'velocity_6h',\n",
       "       'velocity_24h', 'velocity_4w', 'bank_branch_count_8w',\n",
       "       'date_of_birth_distinct_emails_4w', 'employment_status',\n",
       "       'credit_risk_score', 'email_is_free', 'housing_status',\n",
       "       'phone_home_valid', 'phone_mobile_valid', 'bank_months_count',\n",
       "       'has_other_cards', 'proposed_credit_limit', 'foreign_request', 'source',\n",
       "       'session_length_in_minutes', 'device_os', 'keep_alive_session',\n",
       "       'device_distinct_emails_8w', 'device_fraud_count', 'month',\n",
       "       'fraud_bool'],\n",
       "      dtype='object')"
      ]
     },
     "execution_count": 11,
     "metadata": {},
     "output_type": "execute_result"
    }
   ],
   "source": [
    "pd_fraud_train.columns"
   ]
  },
  {
   "cell_type": "code",
   "execution_count": 12,
   "id": "6c8616d4",
   "metadata": {
    "scrolled": true
   },
   "outputs": [
    {
     "data": {
      "text/html": [
       "<div>\n",
       "<style scoped>\n",
       "    .dataframe tbody tr th:only-of-type {\n",
       "        vertical-align: middle;\n",
       "    }\n",
       "\n",
       "    .dataframe tbody tr th {\n",
       "        vertical-align: top;\n",
       "    }\n",
       "\n",
       "    .dataframe thead th {\n",
       "        text-align: right;\n",
       "    }\n",
       "</style>\n",
       "<table border=\"1\" class=\"dataframe\">\n",
       "  <thead>\n",
       "    <tr style=\"text-align: right;\">\n",
       "      <th></th>\n",
       "      <th>income</th>\n",
       "      <th>name_email_similarity</th>\n",
       "      <th>prev_address_months_count</th>\n",
       "      <th>current_address_months_count</th>\n",
       "      <th>customer_age</th>\n",
       "      <th>days_since_request</th>\n",
       "      <th>intended_balcon_amount</th>\n",
       "      <th>payment_type</th>\n",
       "      <th>zip_count_4w</th>\n",
       "      <th>velocity_6h</th>\n",
       "      <th>...</th>\n",
       "      <th>proposed_credit_limit</th>\n",
       "      <th>foreign_request</th>\n",
       "      <th>source</th>\n",
       "      <th>session_length_in_minutes</th>\n",
       "      <th>device_os</th>\n",
       "      <th>keep_alive_session</th>\n",
       "      <th>device_distinct_emails_8w</th>\n",
       "      <th>device_fraud_count</th>\n",
       "      <th>month</th>\n",
       "      <th>fraud_bool</th>\n",
       "    </tr>\n",
       "  </thead>\n",
       "  <tbody>\n",
       "    <tr>\n",
       "      <th>0</th>\n",
       "      <td>0.7</td>\n",
       "      <td>0.778701</td>\n",
       "      <td>-1.0</td>\n",
       "      <td>139.0</td>\n",
       "      <td>40</td>\n",
       "      <td>0.008380</td>\n",
       "      <td>-0.202636</td>\n",
       "      <td>AB</td>\n",
       "      <td>3846.0</td>\n",
       "      <td>7304.807120</td>\n",
       "      <td>...</td>\n",
       "      <td>1500.0</td>\n",
       "      <td>0</td>\n",
       "      <td>INTERNET</td>\n",
       "      <td>11.979712</td>\n",
       "      <td>windows</td>\n",
       "      <td>0</td>\n",
       "      <td>2</td>\n",
       "      <td>0</td>\n",
       "      <td>3</td>\n",
       "      <td>0</td>\n",
       "    </tr>\n",
       "    <tr>\n",
       "      <th>1</th>\n",
       "      <td>0.4</td>\n",
       "      <td>0.293344</td>\n",
       "      <td>-1.0</td>\n",
       "      <td>131.0</td>\n",
       "      <td>50</td>\n",
       "      <td>0.037644</td>\n",
       "      <td>5.051617</td>\n",
       "      <td>AA</td>\n",
       "      <td>1849.0</td>\n",
       "      <td>6779.956008</td>\n",
       "      <td>...</td>\n",
       "      <td>200.0</td>\n",
       "      <td>0</td>\n",
       "      <td>INTERNET</td>\n",
       "      <td>7.516187</td>\n",
       "      <td>other</td>\n",
       "      <td>0</td>\n",
       "      <td>1</td>\n",
       "      <td>0</td>\n",
       "      <td>6</td>\n",
       "      <td>0</td>\n",
       "    </tr>\n",
       "    <tr>\n",
       "      <th>2</th>\n",
       "      <td>0.1</td>\n",
       "      <td>0.353385</td>\n",
       "      <td>-1.0</td>\n",
       "      <td>68.0</td>\n",
       "      <td>40</td>\n",
       "      <td>0.013479</td>\n",
       "      <td>-0.535074</td>\n",
       "      <td>AD</td>\n",
       "      <td>1511.0</td>\n",
       "      <td>7134.121115</td>\n",
       "      <td>...</td>\n",
       "      <td>200.0</td>\n",
       "      <td>0</td>\n",
       "      <td>INTERNET</td>\n",
       "      <td>3.677833</td>\n",
       "      <td>other</td>\n",
       "      <td>1</td>\n",
       "      <td>1</td>\n",
       "      <td>0</td>\n",
       "      <td>3</td>\n",
       "      <td>0</td>\n",
       "    </tr>\n",
       "    <tr>\n",
       "      <th>3</th>\n",
       "      <td>0.1</td>\n",
       "      <td>0.104095</td>\n",
       "      <td>55.0</td>\n",
       "      <td>1.0</td>\n",
       "      <td>30</td>\n",
       "      <td>0.008555</td>\n",
       "      <td>-0.795406</td>\n",
       "      <td>AB</td>\n",
       "      <td>598.0</td>\n",
       "      <td>14307.739803</td>\n",
       "      <td>...</td>\n",
       "      <td>200.0</td>\n",
       "      <td>0</td>\n",
       "      <td>INTERNET</td>\n",
       "      <td>11.055169</td>\n",
       "      <td>linux</td>\n",
       "      <td>1</td>\n",
       "      <td>1</td>\n",
       "      <td>0</td>\n",
       "      <td>4</td>\n",
       "      <td>0</td>\n",
       "    </tr>\n",
       "    <tr>\n",
       "      <th>4</th>\n",
       "      <td>0.8</td>\n",
       "      <td>0.735244</td>\n",
       "      <td>-1.0</td>\n",
       "      <td>303.0</td>\n",
       "      <td>30</td>\n",
       "      <td>0.017484</td>\n",
       "      <td>50.871129</td>\n",
       "      <td>AA</td>\n",
       "      <td>1370.0</td>\n",
       "      <td>4974.196161</td>\n",
       "      <td>...</td>\n",
       "      <td>500.0</td>\n",
       "      <td>0</td>\n",
       "      <td>INTERNET</td>\n",
       "      <td>6.714066</td>\n",
       "      <td>other</td>\n",
       "      <td>0</td>\n",
       "      <td>1</td>\n",
       "      <td>0</td>\n",
       "      <td>3</td>\n",
       "      <td>0</td>\n",
       "    </tr>\n",
       "    <tr>\n",
       "      <th>...</th>\n",
       "      <td>...</td>\n",
       "      <td>...</td>\n",
       "      <td>...</td>\n",
       "      <td>...</td>\n",
       "      <td>...</td>\n",
       "      <td>...</td>\n",
       "      <td>...</td>\n",
       "      <td>...</td>\n",
       "      <td>...</td>\n",
       "      <td>...</td>\n",
       "      <td>...</td>\n",
       "      <td>...</td>\n",
       "      <td>...</td>\n",
       "      <td>...</td>\n",
       "      <td>...</td>\n",
       "      <td>...</td>\n",
       "      <td>...</td>\n",
       "      <td>...</td>\n",
       "      <td>...</td>\n",
       "      <td>...</td>\n",
       "      <td>...</td>\n",
       "    </tr>\n",
       "    <tr>\n",
       "      <th>199995</th>\n",
       "      <td>0.8</td>\n",
       "      <td>0.204922</td>\n",
       "      <td>32.0</td>\n",
       "      <td>32.0</td>\n",
       "      <td>20</td>\n",
       "      <td>0.010461</td>\n",
       "      <td>-1.064150</td>\n",
       "      <td>AB</td>\n",
       "      <td>1016.0</td>\n",
       "      <td>4951.200948</td>\n",
       "      <td>...</td>\n",
       "      <td>200.0</td>\n",
       "      <td>0</td>\n",
       "      <td>INTERNET</td>\n",
       "      <td>1.453849</td>\n",
       "      <td>other</td>\n",
       "      <td>1</td>\n",
       "      <td>1</td>\n",
       "      <td>0</td>\n",
       "      <td>5</td>\n",
       "      <td>0</td>\n",
       "    </tr>\n",
       "    <tr>\n",
       "      <th>199996</th>\n",
       "      <td>0.2</td>\n",
       "      <td>0.267594</td>\n",
       "      <td>-1.0</td>\n",
       "      <td>63.0</td>\n",
       "      <td>30</td>\n",
       "      <td>0.026145</td>\n",
       "      <td>-0.570981</td>\n",
       "      <td>AB</td>\n",
       "      <td>698.0</td>\n",
       "      <td>4825.271785</td>\n",
       "      <td>...</td>\n",
       "      <td>200.0</td>\n",
       "      <td>0</td>\n",
       "      <td>INTERNET</td>\n",
       "      <td>7.241431</td>\n",
       "      <td>linux</td>\n",
       "      <td>1</td>\n",
       "      <td>1</td>\n",
       "      <td>0</td>\n",
       "      <td>7</td>\n",
       "      <td>0</td>\n",
       "    </tr>\n",
       "    <tr>\n",
       "      <th>199997</th>\n",
       "      <td>0.7</td>\n",
       "      <td>0.997080</td>\n",
       "      <td>27.0</td>\n",
       "      <td>13.0</td>\n",
       "      <td>20</td>\n",
       "      <td>10.717964</td>\n",
       "      <td>47.289811</td>\n",
       "      <td>AA</td>\n",
       "      <td>2111.0</td>\n",
       "      <td>8199.098682</td>\n",
       "      <td>...</td>\n",
       "      <td>990.0</td>\n",
       "      <td>0</td>\n",
       "      <td>INTERNET</td>\n",
       "      <td>8.956753</td>\n",
       "      <td>linux</td>\n",
       "      <td>1</td>\n",
       "      <td>1</td>\n",
       "      <td>0</td>\n",
       "      <td>2</td>\n",
       "      <td>0</td>\n",
       "    </tr>\n",
       "    <tr>\n",
       "      <th>199998</th>\n",
       "      <td>0.9</td>\n",
       "      <td>0.054926</td>\n",
       "      <td>-1.0</td>\n",
       "      <td>45.0</td>\n",
       "      <td>40</td>\n",
       "      <td>0.025997</td>\n",
       "      <td>-1.174708</td>\n",
       "      <td>AB</td>\n",
       "      <td>635.0</td>\n",
       "      <td>6693.513234</td>\n",
       "      <td>...</td>\n",
       "      <td>200.0</td>\n",
       "      <td>0</td>\n",
       "      <td>INTERNET</td>\n",
       "      <td>10.354687</td>\n",
       "      <td>windows</td>\n",
       "      <td>1</td>\n",
       "      <td>1</td>\n",
       "      <td>0</td>\n",
       "      <td>3</td>\n",
       "      <td>0</td>\n",
       "    </tr>\n",
       "    <tr>\n",
       "      <th>199999</th>\n",
       "      <td>0.1</td>\n",
       "      <td>0.332872</td>\n",
       "      <td>-1.0</td>\n",
       "      <td>31.0</td>\n",
       "      <td>30</td>\n",
       "      <td>0.019118</td>\n",
       "      <td>-1.434603</td>\n",
       "      <td>AB</td>\n",
       "      <td>1099.0</td>\n",
       "      <td>2052.477627</td>\n",
       "      <td>...</td>\n",
       "      <td>200.0</td>\n",
       "      <td>0</td>\n",
       "      <td>INTERNET</td>\n",
       "      <td>5.719852</td>\n",
       "      <td>other</td>\n",
       "      <td>1</td>\n",
       "      <td>1</td>\n",
       "      <td>0</td>\n",
       "      <td>5</td>\n",
       "      <td>0</td>\n",
       "    </tr>\n",
       "  </tbody>\n",
       "</table>\n",
       "<p>200000 rows × 32 columns</p>\n",
       "</div>"
      ],
      "text/plain": [
       "        income  name_email_similarity  prev_address_months_count  \\\n",
       "0          0.7               0.778701                       -1.0   \n",
       "1          0.4               0.293344                       -1.0   \n",
       "2          0.1               0.353385                       -1.0   \n",
       "3          0.1               0.104095                       55.0   \n",
       "4          0.8               0.735244                       -1.0   \n",
       "...        ...                    ...                        ...   \n",
       "199995     0.8               0.204922                       32.0   \n",
       "199996     0.2               0.267594                       -1.0   \n",
       "199997     0.7               0.997080                       27.0   \n",
       "199998     0.9               0.054926                       -1.0   \n",
       "199999     0.1               0.332872                       -1.0   \n",
       "\n",
       "        current_address_months_count  customer_age  days_since_request  \\\n",
       "0                              139.0            40            0.008380   \n",
       "1                              131.0            50            0.037644   \n",
       "2                               68.0            40            0.013479   \n",
       "3                                1.0            30            0.008555   \n",
       "4                              303.0            30            0.017484   \n",
       "...                              ...           ...                 ...   \n",
       "199995                          32.0            20            0.010461   \n",
       "199996                          63.0            30            0.026145   \n",
       "199997                          13.0            20           10.717964   \n",
       "199998                          45.0            40            0.025997   \n",
       "199999                          31.0            30            0.019118   \n",
       "\n",
       "        intended_balcon_amount payment_type  zip_count_4w   velocity_6h  ...  \\\n",
       "0                    -0.202636           AB        3846.0   7304.807120  ...   \n",
       "1                     5.051617           AA        1849.0   6779.956008  ...   \n",
       "2                    -0.535074           AD        1511.0   7134.121115  ...   \n",
       "3                    -0.795406           AB         598.0  14307.739803  ...   \n",
       "4                    50.871129           AA        1370.0   4974.196161  ...   \n",
       "...                        ...          ...           ...           ...  ...   \n",
       "199995               -1.064150           AB        1016.0   4951.200948  ...   \n",
       "199996               -0.570981           AB         698.0   4825.271785  ...   \n",
       "199997               47.289811           AA        2111.0   8199.098682  ...   \n",
       "199998               -1.174708           AB         635.0   6693.513234  ...   \n",
       "199999               -1.434603           AB        1099.0   2052.477627  ...   \n",
       "\n",
       "        proposed_credit_limit  foreign_request    source  \\\n",
       "0                      1500.0                0  INTERNET   \n",
       "1                       200.0                0  INTERNET   \n",
       "2                       200.0                0  INTERNET   \n",
       "3                       200.0                0  INTERNET   \n",
       "4                       500.0                0  INTERNET   \n",
       "...                       ...              ...       ...   \n",
       "199995                  200.0                0  INTERNET   \n",
       "199996                  200.0                0  INTERNET   \n",
       "199997                  990.0                0  INTERNET   \n",
       "199998                  200.0                0  INTERNET   \n",
       "199999                  200.0                0  INTERNET   \n",
       "\n",
       "        session_length_in_minutes device_os  keep_alive_session  \\\n",
       "0                       11.979712   windows                   0   \n",
       "1                        7.516187     other                   0   \n",
       "2                        3.677833     other                   1   \n",
       "3                       11.055169     linux                   1   \n",
       "4                        6.714066     other                   0   \n",
       "...                           ...       ...                 ...   \n",
       "199995                   1.453849     other                   1   \n",
       "199996                   7.241431     linux                   1   \n",
       "199997                   8.956753     linux                   1   \n",
       "199998                  10.354687   windows                   1   \n",
       "199999                   5.719852     other                   1   \n",
       "\n",
       "       device_distinct_emails_8w device_fraud_count month fraud_bool  \n",
       "0                              2                  0     3          0  \n",
       "1                              1                  0     6          0  \n",
       "2                              1                  0     3          0  \n",
       "3                              1                  0     4          0  \n",
       "4                              1                  0     3          0  \n",
       "...                          ...                ...   ...        ...  \n",
       "199995                         1                  0     5          0  \n",
       "199996                         1                  0     7          0  \n",
       "199997                         1                  0     2          0  \n",
       "199998                         1                  0     3          0  \n",
       "199999                         1                  0     5          0  \n",
       "\n",
       "[200000 rows x 32 columns]"
      ]
     },
     "execution_count": 12,
     "metadata": {},
     "output_type": "execute_result"
    }
   ],
   "source": [
    "pd_fraud_test"
   ]
  },
  {
   "cell_type": "code",
   "execution_count": 13,
   "id": "33da8556",
   "metadata": {},
   "outputs": [
    {
     "data": {
      "text/plain": [
       "income                               float64\n",
       "name_email_similarity                float64\n",
       "prev_address_months_count            float64\n",
       "current_address_months_count         float64\n",
       "customer_age                           int64\n",
       "days_since_request                   float64\n",
       "intended_balcon_amount               float64\n",
       "payment_type                        category\n",
       "zip_count_4w                         float64\n",
       "velocity_6h                          float64\n",
       "velocity_24h                         float64\n",
       "velocity_4w                          float64\n",
       "bank_branch_count_8w                 float64\n",
       "date_of_birth_distinct_emails_4w       int64\n",
       "employment_status                   category\n",
       "credit_risk_score                    float64\n",
       "email_is_free                       category\n",
       "housing_status                      category\n",
       "phone_home_valid                    category\n",
       "phone_mobile_valid                  category\n",
       "bank_months_count                      int64\n",
       "has_other_cards                     category\n",
       "proposed_credit_limit                float64\n",
       "foreign_request                     category\n",
       "source                              category\n",
       "session_length_in_minutes            float64\n",
       "device_os                           category\n",
       "keep_alive_session                  category\n",
       "device_distinct_emails_8w              int64\n",
       "device_fraud_count                     int64\n",
       "month                                  int64\n",
       "fraud_bool                            object\n",
       "dtype: object"
      ]
     },
     "execution_count": 13,
     "metadata": {},
     "output_type": "execute_result"
    }
   ],
   "source": [
    "pd_fraud_train.dtypes"
   ]
  },
  {
   "cell_type": "markdown",
   "id": "4ec2f4a9",
   "metadata": {},
   "source": [
    "## Codificación de la variable objetivo"
   ]
  },
  {
   "cell_type": "code",
   "execution_count": 14,
   "id": "90f2e398",
   "metadata": {
    "scrolled": true
   },
   "outputs": [
    {
     "data": {
      "text/plain": [
       "fraud_bool\n",
       "0    791177\n",
       "1      8823\n",
       "Name: count, dtype: int64"
      ]
     },
     "execution_count": 14,
     "metadata": {},
     "output_type": "execute_result"
    }
   ],
   "source": [
    "pd_fraud_train['fraud_bool'].value_counts()"
   ]
  },
  {
   "cell_type": "markdown",
   "id": "ed420143",
   "metadata": {},
   "source": [
    "Hemos convertido a la columna 'fraud_bool' en una columna numérica binaria donde 'Non-fraudulent Application' se representa como 0, 'Fraudulent Application' se representa como 1."
   ]
  },
  {
   "cell_type": "markdown",
   "id": "ef9297e0",
   "metadata": {},
   "source": [
    "Creamos una copia del DataFrame original para evitar que se modifique y reemplazamos los valores de la columna target."
   ]
  },
  {
   "cell_type": "code",
   "execution_count": 15,
   "id": "02adb1fa",
   "metadata": {},
   "outputs": [],
   "source": [
    "pd_fraud_train_str = pd_fraud_train.copy()\n",
    "\n",
    "pd_fraud_train_str['fraud_bool'] = pd_fraud_train_str['fraud_bool'].map({\"0\": \"No fraude\", \"1\": \"Fraude\"})\n",
    "\n",
    "pd_fraud_test_str = pd_fraud_test.copy()\n",
    "\n",
    "pd_fraud_test_str['fraud_bool'] = pd_fraud_test_str['fraud_bool'].map({\"0\": \"No fraude\", \"1\": \"Fraude\"})\n",
    "\n"
   ]
  },
  {
   "cell_type": "code",
   "execution_count": 16,
   "id": "451fd165",
   "metadata": {},
   "outputs": [
    {
     "data": {
      "text/plain": [
       "fraud_bool\n",
       "No fraude    791177\n",
       "Fraude         8823\n",
       "Name: count, dtype: int64"
      ]
     },
     "execution_count": 16,
     "metadata": {},
     "output_type": "execute_result"
    }
   ],
   "source": [
    "pd_fraud_train_str['fraud_bool'].value_counts()"
   ]
  },
  {
   "cell_type": "code",
   "execution_count": 17,
   "id": "00074033",
   "metadata": {
    "scrolled": true
   },
   "outputs": [
    {
     "data": {
      "text/plain": [
       "fraud_bool\n",
       "No fraude    197794\n",
       "Fraude         2206\n",
       "Name: count, dtype: int64"
      ]
     },
     "execution_count": 17,
     "metadata": {},
     "output_type": "execute_result"
    }
   ],
   "source": [
    "pd_fraud_test_str['fraud_bool'].value_counts()"
   ]
  },
  {
   "cell_type": "markdown",
   "id": "b5b0bce7",
   "metadata": {},
   "source": [
    "Eliminamos a la variable objetivo (fraud_bool) del conjunto de entrenamiento X_train y de test X_test puesto que va a formar parte de y_train e y_test. "
   ]
  },
  {
   "cell_type": "code",
   "execution_count": 18,
   "id": "81bfd4e0",
   "metadata": {},
   "outputs": [],
   "source": [
    "X_train = pd_fraud_train.drop('fraud_bool',axis=1)\n",
    "X_test = pd_fraud_test.drop('fraud_bool',axis=1)\n",
    "y_train = pd_fraud_train['fraud_bool']\n",
    "y_test = pd_fraud_test['fraud_bool']"
   ]
  },
  {
   "cell_type": "markdown",
   "id": "0bcae66d",
   "metadata": {},
   "source": [
    "## Codificación del resto de variables categoricas"
   ]
  },
  {
   "cell_type": "markdown",
   "id": "22d4e171",
   "metadata": {},
   "source": [
    "Creamos las variables \"list_columns_cat\" que contiene las columnas categóricas y \"list_other\" que contiene las columnas no categóricas en el DataFrame X_train. De esta forma se puede separar y tratar de manera diferente las variables categóricas y no categóricas del dataset."
   ]
  },
  {
   "cell_type": "code",
   "execution_count": 19,
   "id": "cc21d0f0",
   "metadata": {},
   "outputs": [],
   "source": [
    "list_columns_cat = list(X_train.select_dtypes(include=['category', 'object']).columns)\n",
    "list_other = list(set(X_train.columns)-set(list_columns_cat))"
   ]
  },
  {
   "cell_type": "code",
   "execution_count": 20,
   "id": "a8500f89",
   "metadata": {},
   "outputs": [],
   "source": [
    "ohe = ce.OneHotEncoder(cols=list_columns_cat)\n",
    "model = ohe.fit(X_train, y_train)"
   ]
  },
  {
   "cell_type": "markdown",
   "id": "77273b07",
   "metadata": {},
   "source": [
    "Hemos codificado las variables categóricas (list_columns_cat) con one-hot-encoding y posteriormente hemos ajustado el encoder a los datos de entrenamiento. Con esto lo que hacemos es convertir las distintas categorías de una columna en: cada columna tendrá un '1' si la categoría original era esa y '0' lo contrario."
   ]
  },
  {
   "cell_type": "code",
   "execution_count": 21,
   "id": "baee2a01",
   "metadata": {
    "scrolled": true
   },
   "outputs": [
    {
     "data": {
      "text/html": [
       "<style>#sk-container-id-1 {color: black;background-color: white;}#sk-container-id-1 pre{padding: 0;}#sk-container-id-1 div.sk-toggleable {background-color: white;}#sk-container-id-1 label.sk-toggleable__label {cursor: pointer;display: block;width: 100%;margin-bottom: 0;padding: 0.3em;box-sizing: border-box;text-align: center;}#sk-container-id-1 label.sk-toggleable__label-arrow:before {content: \"▸\";float: left;margin-right: 0.25em;color: #696969;}#sk-container-id-1 label.sk-toggleable__label-arrow:hover:before {color: black;}#sk-container-id-1 div.sk-estimator:hover label.sk-toggleable__label-arrow:before {color: black;}#sk-container-id-1 div.sk-toggleable__content {max-height: 0;max-width: 0;overflow: hidden;text-align: left;background-color: #f0f8ff;}#sk-container-id-1 div.sk-toggleable__content pre {margin: 0.2em;color: black;border-radius: 0.25em;background-color: #f0f8ff;}#sk-container-id-1 input.sk-toggleable__control:checked~div.sk-toggleable__content {max-height: 200px;max-width: 100%;overflow: auto;}#sk-container-id-1 input.sk-toggleable__control:checked~label.sk-toggleable__label-arrow:before {content: \"▾\";}#sk-container-id-1 div.sk-estimator input.sk-toggleable__control:checked~label.sk-toggleable__label {background-color: #d4ebff;}#sk-container-id-1 div.sk-label input.sk-toggleable__control:checked~label.sk-toggleable__label {background-color: #d4ebff;}#sk-container-id-1 input.sk-hidden--visually {border: 0;clip: rect(1px 1px 1px 1px);clip: rect(1px, 1px, 1px, 1px);height: 1px;margin: -1px;overflow: hidden;padding: 0;position: absolute;width: 1px;}#sk-container-id-1 div.sk-estimator {font-family: monospace;background-color: #f0f8ff;border: 1px dotted black;border-radius: 0.25em;box-sizing: border-box;margin-bottom: 0.5em;}#sk-container-id-1 div.sk-estimator:hover {background-color: #d4ebff;}#sk-container-id-1 div.sk-parallel-item::after {content: \"\";width: 100%;border-bottom: 1px solid gray;flex-grow: 1;}#sk-container-id-1 div.sk-label:hover label.sk-toggleable__label {background-color: #d4ebff;}#sk-container-id-1 div.sk-serial::before {content: \"\";position: absolute;border-left: 1px solid gray;box-sizing: border-box;top: 0;bottom: 0;left: 50%;z-index: 0;}#sk-container-id-1 div.sk-serial {display: flex;flex-direction: column;align-items: center;background-color: white;padding-right: 0.2em;padding-left: 0.2em;position: relative;}#sk-container-id-1 div.sk-item {position: relative;z-index: 1;}#sk-container-id-1 div.sk-parallel {display: flex;align-items: stretch;justify-content: center;background-color: white;position: relative;}#sk-container-id-1 div.sk-item::before, #sk-container-id-1 div.sk-parallel-item::before {content: \"\";position: absolute;border-left: 1px solid gray;box-sizing: border-box;top: 0;bottom: 0;left: 50%;z-index: -1;}#sk-container-id-1 div.sk-parallel-item {display: flex;flex-direction: column;z-index: 1;position: relative;background-color: white;}#sk-container-id-1 div.sk-parallel-item:first-child::after {align-self: flex-end;width: 50%;}#sk-container-id-1 div.sk-parallel-item:last-child::after {align-self: flex-start;width: 50%;}#sk-container-id-1 div.sk-parallel-item:only-child::after {width: 0;}#sk-container-id-1 div.sk-dashed-wrapped {border: 1px dashed gray;margin: 0 0.4em 0.5em 0.4em;box-sizing: border-box;padding-bottom: 0.4em;background-color: white;}#sk-container-id-1 div.sk-label label {font-family: monospace;font-weight: bold;display: inline-block;line-height: 1.2em;}#sk-container-id-1 div.sk-label-container {text-align: center;}#sk-container-id-1 div.sk-container {/* jupyter's `normalize.less` sets `[hidden] { display: none; }` but bootstrap.min.css set `[hidden] { display: none !important; }` so we also need the `!important` here to be able to override the default hidden behavior on the sphinx rendered scikit-learn.org. See: https://github.com/scikit-learn/scikit-learn/issues/21755 */display: inline-block !important;position: relative;}#sk-container-id-1 div.sk-text-repr-fallback {display: none;}</style><div id=\"sk-container-id-1\" class=\"sk-top-container\"><div class=\"sk-text-repr-fallback\"><pre>OneHotEncoder(cols=[&#x27;payment_type&#x27;, &#x27;employment_status&#x27;, &#x27;email_is_free&#x27;,\n",
       "                    &#x27;housing_status&#x27;, &#x27;phone_home_valid&#x27;, &#x27;phone_mobile_valid&#x27;,\n",
       "                    &#x27;has_other_cards&#x27;, &#x27;foreign_request&#x27;, &#x27;source&#x27;, &#x27;device_os&#x27;,\n",
       "                    &#x27;keep_alive_session&#x27;])</pre><b>In a Jupyter environment, please rerun this cell to show the HTML representation or trust the notebook. <br />On GitHub, the HTML representation is unable to render, please try loading this page with nbviewer.org.</b></div><div class=\"sk-container\" hidden><div class=\"sk-item\"><div class=\"sk-estimator sk-toggleable\"><input class=\"sk-toggleable__control sk-hidden--visually\" id=\"sk-estimator-id-1\" type=\"checkbox\" checked><label for=\"sk-estimator-id-1\" class=\"sk-toggleable__label sk-toggleable__label-arrow\">OneHotEncoder</label><div class=\"sk-toggleable__content\"><pre>OneHotEncoder(cols=[&#x27;payment_type&#x27;, &#x27;employment_status&#x27;, &#x27;email_is_free&#x27;,\n",
       "                    &#x27;housing_status&#x27;, &#x27;phone_home_valid&#x27;, &#x27;phone_mobile_valid&#x27;,\n",
       "                    &#x27;has_other_cards&#x27;, &#x27;foreign_request&#x27;, &#x27;source&#x27;, &#x27;device_os&#x27;,\n",
       "                    &#x27;keep_alive_session&#x27;])</pre></div></div></div></div></div>"
      ],
      "text/plain": [
       "OneHotEncoder(cols=['payment_type', 'employment_status', 'email_is_free',\n",
       "                    'housing_status', 'phone_home_valid', 'phone_mobile_valid',\n",
       "                    'has_other_cards', 'foreign_request', 'source', 'device_os',\n",
       "                    'keep_alive_session'])"
      ]
     },
     "execution_count": 21,
     "metadata": {},
     "output_type": "execute_result"
    }
   ],
   "source": [
    "model"
   ]
  },
  {
   "cell_type": "markdown",
   "id": "031fd0f8",
   "metadata": {},
   "source": [
    "\"X_train_t\" transforma el conjunto de entrenamiento (X_train) utilizando el modelo \"model\" e \"X_test_t\" transforma el conjunto de prueba (X_test) utilizando el mismo modelo \"model\"."
   ]
  },
  {
   "cell_type": "code",
   "execution_count": 22,
   "id": "1cf56614",
   "metadata": {},
   "outputs": [],
   "source": [
    "X_train_t = model.transform(X_train, y_train)\n",
    "X_test_t = model.transform(X_test, y_test)\n",
    "# X_train_t.columns = list_columns_cat\n",
    "# X_test_t.columns = list_columns_cat"
   ]
  },
  {
   "cell_type": "markdown",
   "id": "7dcf3652",
   "metadata": {},
   "source": [
    "Obtenemos conjuntos de datos de entrenamiento y prueba (X_train_t y X_test_t) preparados para utilizarse en un modelo de aprendizaje automático, puesto que todas las variables categóricas ya están codificadas adecuadamente.\n",
    "\n",
    "A continuación, calculamos el número de columnas del DataFrame X_train_t, y así podemos comprobar el nuevo número de columnas que se han creado."
   ]
  },
  {
   "cell_type": "code",
   "execution_count": 23,
   "id": "9a22e62d",
   "metadata": {},
   "outputs": [
    {
     "data": {
      "text/plain": [
       "58"
      ]
     },
     "execution_count": 23,
     "metadata": {},
     "output_type": "execute_result"
    }
   ],
   "source": [
    "len(list(X_train_t.columns))"
   ]
  },
  {
   "cell_type": "markdown",
   "id": "e61328d1",
   "metadata": {},
   "source": [
    "El conjunto de entrenamiento de X dispone de 31 variables "
   ]
  },
  {
   "cell_type": "code",
   "execution_count": 24,
   "id": "864c5aca",
   "metadata": {},
   "outputs": [
    {
     "data": {
      "text/plain": [
       "{'income': dtype('float64'),\n",
       " 'name_email_similarity': dtype('float64'),\n",
       " 'prev_address_months_count': dtype('float64'),\n",
       " 'current_address_months_count': dtype('float64'),\n",
       " 'customer_age': dtype('int64'),\n",
       " 'days_since_request': dtype('float64'),\n",
       " 'intended_balcon_amount': dtype('float64'),\n",
       " 'payment_type_1': dtype('int64'),\n",
       " 'payment_type_2': dtype('int64'),\n",
       " 'payment_type_3': dtype('int64'),\n",
       " 'payment_type_4': dtype('int64'),\n",
       " 'payment_type_5': dtype('int64'),\n",
       " 'zip_count_4w': dtype('float64'),\n",
       " 'velocity_6h': dtype('float64'),\n",
       " 'velocity_24h': dtype('float64'),\n",
       " 'velocity_4w': dtype('float64'),\n",
       " 'bank_branch_count_8w': dtype('float64'),\n",
       " 'date_of_birth_distinct_emails_4w': dtype('int64'),\n",
       " 'employment_status_1': dtype('int64'),\n",
       " 'employment_status_2': dtype('int64'),\n",
       " 'employment_status_3': dtype('int64'),\n",
       " 'employment_status_4': dtype('int64'),\n",
       " 'employment_status_5': dtype('int64'),\n",
       " 'employment_status_6': dtype('int64'),\n",
       " 'employment_status_7': dtype('int64'),\n",
       " 'credit_risk_score': dtype('float64'),\n",
       " 'email_is_free_1': dtype('int64'),\n",
       " 'email_is_free_2': dtype('int64'),\n",
       " 'housing_status_1': dtype('int64'),\n",
       " 'housing_status_2': dtype('int64'),\n",
       " 'housing_status_3': dtype('int64'),\n",
       " 'housing_status_4': dtype('int64'),\n",
       " 'housing_status_5': dtype('int64'),\n",
       " 'housing_status_6': dtype('int64'),\n",
       " 'housing_status_7': dtype('int64'),\n",
       " 'phone_home_valid_1': dtype('int64'),\n",
       " 'phone_home_valid_2': dtype('int64'),\n",
       " 'phone_mobile_valid_1': dtype('int64'),\n",
       " 'phone_mobile_valid_2': dtype('int64'),\n",
       " 'bank_months_count': dtype('int64'),\n",
       " 'has_other_cards_1': dtype('int64'),\n",
       " 'has_other_cards_2': dtype('int64'),\n",
       " 'proposed_credit_limit': dtype('float64'),\n",
       " 'foreign_request_1': dtype('int64'),\n",
       " 'foreign_request_2': dtype('int64'),\n",
       " 'source_1': dtype('int64'),\n",
       " 'source_2': dtype('int64'),\n",
       " 'session_length_in_minutes': dtype('float64'),\n",
       " 'device_os_1': dtype('int64'),\n",
       " 'device_os_2': dtype('int64'),\n",
       " 'device_os_3': dtype('int64'),\n",
       " 'device_os_4': dtype('int64'),\n",
       " 'device_os_5': dtype('int64'),\n",
       " 'keep_alive_session_1': dtype('int64'),\n",
       " 'keep_alive_session_2': dtype('int64'),\n",
       " 'device_distinct_emails_8w': dtype('int64'),\n",
       " 'device_fraud_count': dtype('int64'),\n",
       " 'month': dtype('int64')}"
      ]
     },
     "execution_count": 24,
     "metadata": {},
     "output_type": "execute_result"
    }
   ],
   "source": [
    "X_train_t.dtypes.to_dict()"
   ]
  },
  {
   "cell_type": "markdown",
   "id": "cc1fd97b",
   "metadata": {},
   "source": [
    "Observamos los tipos de datos de \"X_train_t\""
   ]
  },
  {
   "cell_type": "markdown",
   "id": "70f8e448",
   "metadata": {},
   "source": [
    "# CONCLUSIONES FINALES"
   ]
  },
  {
   "cell_type": "markdown",
   "id": "4bbcd87b",
   "metadata": {},
   "source": [
    "- Leemos los datasets creados en el notebook 2 para definir los datasets 'pd_fraud_train' y 'pd_fraud_test'.\n",
    "- Eliminamos la variable \"Unnamed: 0\" de ambos dataframes que se ha creado automáticamente al guardar los datasets en el notebook anterior.\n",
    "- Las variables \"lista_variables_categoricas\", \"lista_variables_numericas\" y \"target\" recogen a las variables categóricas, numéricas y la variable objetivo del dataset, respectivamente.\n",
    "- Las variables categóricas son transformadas a tipo de datos categórico en pd_fraud_train y pd_fraud_test para su preprocesamiento y la variable objetivo a formato string.\n",
    "- Creamos una copia del DataFrame original para evitar que se modifique y reemplazamos los valores de la columna target. A este nuevo DataFrame ('pd_fraud_train_str'), le realizamos la codificación de la variable objetivo convirtiendo a la columna 'fraud_bool'en una columna numérica binaria donde 'Non-fraudulent Application' se representa como 0, 'Fraudulent Application' se representa como 1. \n",
    "- Eliminamos a la variable objetivo del conjunto de entrenamiento X_train y de test X_test puesto que va a formar parte de y_train e y_test.\n",
    "- Codificación del resto de variables categóricas: Creamos las variables \"list_columns_cat\" que contiene las columnas categóricas y \"list_other\" que contiene las columnas no categóricas en el DataFrame X_train.\n",
    "- Hemos codificado las variables categóricas (list_columns_cat) con one-hot-encoding y posteriormente hemos ajustado el encoder a los datos de entrenamiento siendo los conjuntos de entramiento y test transformados: \"X_train_t\" y \"X_test_t\", respectivamente."
   ]
  }
 ],
 "metadata": {
  "kernelspec": {
   "display_name": "Kernel 1",
   "language": "python",
   "name": "kernel-1"
  },
  "language_info": {
   "codemirror_mode": {
    "name": "ipython",
    "version": 3
   },
   "file_extension": ".py",
   "mimetype": "text/x-python",
   "name": "python",
   "nbconvert_exporter": "python",
   "pygments_lexer": "ipython3",
   "version": "3.11.5"
  }
 },
 "nbformat": 4,
 "nbformat_minor": 5
}
