{
 "cells": [
  {
   "cell_type": "markdown",
   "id": "0556db7b",
   "metadata": {},
   "source": [
    "# SELECCIÓN DE VARIABLES"
   ]
  },
  {
   "cell_type": "markdown",
   "id": "cd3a492c",
   "metadata": {},
   "source": [
    "La selección de variables es un proceso que implica elegir automáticamente las características más importantes de los datos que tienen un impacto significativo en la variable que estamos tratando de predecir.\n",
    "\n",
    "Cuando tenemos características en nuestros datos que no son relevantes para la variable objetivo, pueden disminuir la precisión de ciertos modelos, especialmente aquellos que son sensibles a la presencia de variables irrelevantes, como la regresión lineal y logística.\n",
    "\n",
    "Realizar la selección de características antes de construir un modelo proporciona varios beneficios:\n",
    "\n",
    "1. Reduce el sobreajuste: Al eliminar características innecesarias, evitamos que el modelo se ajuste demasiado a detalles irrelevantes en los datos de entrenamiento, lo que mejora su capacidad para generalizar a nuevos datos.\n",
    "\n",
    "2. Mejora la precisión en algunos modelos: Al centrarse en las características más importantes, se puede lograr una mejor precisión en la predicción, ya que el modelo se basa en información más relevante.\n",
    "\n",
    "3. Reduce el tiempo de entrenamiento: Menos datos redundantes significan que los algoritmos pueden entrenarse más rápidamente, ya que tienen menos información para procesar. Esto es beneficioso, especialmente en conjuntos de datos grandes, ya que acelera el proceso de construcción del modelo.\n",
    "\n",
    "\n",
    "Para seleccionar variables, además, ejecutaremos varios métodos de selección de variables que nos ayudarán a analizar las variables de nuestro dataset y, más tarde, poder realizar el feature engineering.\n",
    "\n",
    "Estandarizamos las variables previamente a aplicar los métodos de selección de variables.\n",
    "\n",
    "**Métodos de selección de variables a utilizar**:\n",
    "1. **SelectFromModel**:\n",
    "    - **Regularización Ridge**\n",
    "    - **Regularización Lasso**\n",
    "    - **Comparación Ridge y Lasso**\n",
    "    \n",
    "2. **Eliminación Recursiva de Características (RFE)**"
   ]
  },
  {
   "cell_type": "markdown",
   "id": "2ce731ad",
   "metadata": {},
   "source": [
    "### Librerías"
   ]
  },
  {
   "cell_type": "markdown",
   "id": "1a42f63e",
   "metadata": {},
   "source": [
    "En primer lugar, se importan las librerías necesarias y se cargan los datos guardados en los notebooks previos para emplearlos en los modelos."
   ]
  },
  {
   "cell_type": "code",
   "execution_count": 1,
   "id": "fc51b259",
   "metadata": {},
   "outputs": [],
   "source": [
    "import pandas as pd \n",
    "import numpy as np\n",
    "import sklearn\n",
    "from sklearn.pipeline import Pipeline\n",
    "from sklearn import metrics\n",
    "# conda install category_encoders\n",
    "import category_encoders as ce\n",
    "from sklearn.preprocessing import OneHotEncoder\n",
    "\n",
    "import matplotlib.pyplot as plt\n",
    "import seaborn as sns\n",
    "from sklearn.ensemble import RandomForestClassifier, GradientBoostingClassifier\n",
    "from sklearn import metrics\n",
    "from sklearn.metrics import confusion_matrix, roc_curve, roc_auc_score\n",
    "from sklearn.linear_model import Lasso, LogisticRegression\n",
    "from sklearn.feature_selection import SelectFromModel, RFE\n",
    "from sklearn.preprocessing import StandardScaler\n",
    "from sklearn.tree import DecisionTreeClassifier\n",
    "\n",
    "from boruta import BorutaPy \n",
    "import warnings"
   ]
  },
  {
   "cell_type": "code",
   "execution_count": 2,
   "id": "4123a70e",
   "metadata": {},
   "outputs": [],
   "source": [
    "warnings.filterwarnings('ignore')"
   ]
  },
  {
   "cell_type": "markdown",
   "id": "158beed3",
   "metadata": {},
   "source": [
    "### Lectura dataset"
   ]
  },
  {
   "cell_type": "code",
   "execution_count": 3,
   "id": "64139b82",
   "metadata": {},
   "outputs": [],
   "source": [
    "pd_fraud = pd.read_csv(\"data/pd_fraud_02.csv\")"
   ]
  },
  {
   "cell_type": "markdown",
   "id": "ff95bcde",
   "metadata": {},
   "source": [
    "Eliminación de la columna que se crea automáticamente al guardar el csv \"Unnamed: 0\": "
   ]
  },
  {
   "cell_type": "code",
   "execution_count": 4,
   "id": "4908841a",
   "metadata": {
    "scrolled": true
   },
   "outputs": [
    {
     "data": {
      "text/html": [
       "<div>\n",
       "<style scoped>\n",
       "    .dataframe tbody tr th:only-of-type {\n",
       "        vertical-align: middle;\n",
       "    }\n",
       "\n",
       "    .dataframe tbody tr th {\n",
       "        vertical-align: top;\n",
       "    }\n",
       "\n",
       "    .dataframe thead th {\n",
       "        text-align: right;\n",
       "    }\n",
       "</style>\n",
       "<table border=\"1\" class=\"dataframe\">\n",
       "  <thead>\n",
       "    <tr style=\"text-align: right;\">\n",
       "      <th></th>\n",
       "      <th>fraud_bool</th>\n",
       "      <th>income</th>\n",
       "      <th>name_email_similarity</th>\n",
       "      <th>prev_address_months_count</th>\n",
       "      <th>current_address_months_count</th>\n",
       "      <th>customer_age</th>\n",
       "      <th>days_since_request</th>\n",
       "      <th>intended_balcon_amount</th>\n",
       "      <th>payment_type</th>\n",
       "      <th>zip_count_4w</th>\n",
       "      <th>...</th>\n",
       "      <th>has_other_cards</th>\n",
       "      <th>proposed_credit_limit</th>\n",
       "      <th>foreign_request</th>\n",
       "      <th>source</th>\n",
       "      <th>session_length_in_minutes</th>\n",
       "      <th>device_os</th>\n",
       "      <th>keep_alive_session</th>\n",
       "      <th>device_distinct_emails_8w</th>\n",
       "      <th>device_fraud_count</th>\n",
       "      <th>month</th>\n",
       "    </tr>\n",
       "  </thead>\n",
       "  <tbody>\n",
       "    <tr>\n",
       "      <th>0</th>\n",
       "      <td>1</td>\n",
       "      <td>0.9</td>\n",
       "      <td>0.166828</td>\n",
       "      <td>-1.0</td>\n",
       "      <td>88.0</td>\n",
       "      <td>50</td>\n",
       "      <td>0.020925</td>\n",
       "      <td>-1.331345</td>\n",
       "      <td>AA</td>\n",
       "      <td>769.0</td>\n",
       "      <td>...</td>\n",
       "      <td>0</td>\n",
       "      <td>500.0</td>\n",
       "      <td>0</td>\n",
       "      <td>INTERNET</td>\n",
       "      <td>3.888115</td>\n",
       "      <td>windows</td>\n",
       "      <td>0</td>\n",
       "      <td>1</td>\n",
       "      <td>0</td>\n",
       "      <td>7</td>\n",
       "    </tr>\n",
       "    <tr>\n",
       "      <th>1</th>\n",
       "      <td>1</td>\n",
       "      <td>0.9</td>\n",
       "      <td>0.296286</td>\n",
       "      <td>-1.0</td>\n",
       "      <td>144.0</td>\n",
       "      <td>50</td>\n",
       "      <td>0.005418</td>\n",
       "      <td>-0.816224</td>\n",
       "      <td>AB</td>\n",
       "      <td>366.0</td>\n",
       "      <td>...</td>\n",
       "      <td>0</td>\n",
       "      <td>1500.0</td>\n",
       "      <td>0</td>\n",
       "      <td>INTERNET</td>\n",
       "      <td>31.798819</td>\n",
       "      <td>windows</td>\n",
       "      <td>0</td>\n",
       "      <td>1</td>\n",
       "      <td>0</td>\n",
       "      <td>7</td>\n",
       "    </tr>\n",
       "    <tr>\n",
       "      <th>2</th>\n",
       "      <td>1</td>\n",
       "      <td>0.9</td>\n",
       "      <td>0.044985</td>\n",
       "      <td>-1.0</td>\n",
       "      <td>132.0</td>\n",
       "      <td>40</td>\n",
       "      <td>3.108549</td>\n",
       "      <td>-0.755728</td>\n",
       "      <td>AC</td>\n",
       "      <td>870.0</td>\n",
       "      <td>...</td>\n",
       "      <td>0</td>\n",
       "      <td>200.0</td>\n",
       "      <td>0</td>\n",
       "      <td>INTERNET</td>\n",
       "      <td>4.728705</td>\n",
       "      <td>other</td>\n",
       "      <td>0</td>\n",
       "      <td>1</td>\n",
       "      <td>0</td>\n",
       "      <td>7</td>\n",
       "    </tr>\n",
       "    <tr>\n",
       "      <th>3</th>\n",
       "      <td>1</td>\n",
       "      <td>0.9</td>\n",
       "      <td>0.159511</td>\n",
       "      <td>-1.0</td>\n",
       "      <td>22.0</td>\n",
       "      <td>50</td>\n",
       "      <td>0.019079</td>\n",
       "      <td>-1.205124</td>\n",
       "      <td>AB</td>\n",
       "      <td>810.0</td>\n",
       "      <td>...</td>\n",
       "      <td>1</td>\n",
       "      <td>200.0</td>\n",
       "      <td>0</td>\n",
       "      <td>INTERNET</td>\n",
       "      <td>2.047904</td>\n",
       "      <td>linux</td>\n",
       "      <td>0</td>\n",
       "      <td>1</td>\n",
       "      <td>0</td>\n",
       "      <td>7</td>\n",
       "    </tr>\n",
       "    <tr>\n",
       "      <th>4</th>\n",
       "      <td>1</td>\n",
       "      <td>0.9</td>\n",
       "      <td>0.596414</td>\n",
       "      <td>-1.0</td>\n",
       "      <td>218.0</td>\n",
       "      <td>50</td>\n",
       "      <td>0.004441</td>\n",
       "      <td>-0.773276</td>\n",
       "      <td>AB</td>\n",
       "      <td>890.0</td>\n",
       "      <td>...</td>\n",
       "      <td>0</td>\n",
       "      <td>1500.0</td>\n",
       "      <td>0</td>\n",
       "      <td>INTERNET</td>\n",
       "      <td>3.775225</td>\n",
       "      <td>macintosh</td>\n",
       "      <td>1</td>\n",
       "      <td>1</td>\n",
       "      <td>0</td>\n",
       "      <td>7</td>\n",
       "    </tr>\n",
       "  </tbody>\n",
       "</table>\n",
       "<p>5 rows × 32 columns</p>\n",
       "</div>"
      ],
      "text/plain": [
       "   fraud_bool  income  name_email_similarity  prev_address_months_count  \\\n",
       "0           1     0.9               0.166828                       -1.0   \n",
       "1           1     0.9               0.296286                       -1.0   \n",
       "2           1     0.9               0.044985                       -1.0   \n",
       "3           1     0.9               0.159511                       -1.0   \n",
       "4           1     0.9               0.596414                       -1.0   \n",
       "\n",
       "   current_address_months_count  customer_age  days_since_request  \\\n",
       "0                          88.0            50            0.020925   \n",
       "1                         144.0            50            0.005418   \n",
       "2                         132.0            40            3.108549   \n",
       "3                          22.0            50            0.019079   \n",
       "4                         218.0            50            0.004441   \n",
       "\n",
       "   intended_balcon_amount payment_type  zip_count_4w  ...  has_other_cards  \\\n",
       "0               -1.331345           AA         769.0  ...                0   \n",
       "1               -0.816224           AB         366.0  ...                0   \n",
       "2               -0.755728           AC         870.0  ...                0   \n",
       "3               -1.205124           AB         810.0  ...                1   \n",
       "4               -0.773276           AB         890.0  ...                0   \n",
       "\n",
       "   proposed_credit_limit  foreign_request    source  \\\n",
       "0                  500.0                0  INTERNET   \n",
       "1                 1500.0                0  INTERNET   \n",
       "2                  200.0                0  INTERNET   \n",
       "3                  200.0                0  INTERNET   \n",
       "4                 1500.0                0  INTERNET   \n",
       "\n",
       "   session_length_in_minutes  device_os  keep_alive_session  \\\n",
       "0                   3.888115    windows                   0   \n",
       "1                  31.798819    windows                   0   \n",
       "2                   4.728705      other                   0   \n",
       "3                   2.047904      linux                   0   \n",
       "4                   3.775225  macintosh                   1   \n",
       "\n",
       "   device_distinct_emails_8w device_fraud_count  month  \n",
       "0                          1                  0      7  \n",
       "1                          1                  0      7  \n",
       "2                          1                  0      7  \n",
       "3                          1                  0      7  \n",
       "4                          1                  0      7  \n",
       "\n",
       "[5 rows x 32 columns]"
      ]
     },
     "execution_count": 4,
     "metadata": {},
     "output_type": "execute_result"
    }
   ],
   "source": [
    "pd_fraud =pd_fraud.drop(columns=[\"Unnamed: 0\"])\n",
    "pd_fraud.head()"
   ]
  },
  {
   "cell_type": "markdown",
   "id": "86b819bd",
   "metadata": {},
   "source": [
    "A continuación, para realizar la selección de variables y poder utilizar correctamente las regularizaciones Ridge y Lasso, en primer lugar distinguimos entre variables categóricas y continuas. Esto lo realizamos para después separar las variables en string y numéricas, puesto que en las numéricas ahora vamos a incluir las variables binarias. Esta distinción la hemos considerado oportuna para la posterior modelización de los algoritmos y puesto que las variables binarias son también numéricas."
   ]
  },
  {
   "cell_type": "code",
   "execution_count": 5,
   "id": "b924db2d",
   "metadata": {},
   "outputs": [],
   "source": [
    "lista_variables_categoricas = [\"payment_type\",\"employment_status\",\"housing_status\",\"email_is_free\",\"phone_home_valid\",\n",
    "                                \"phone_mobile_valid\",\"has_other_cards\",\"foreign_request\",\"source\",\"device_os\",\"keep_alive_session\"]\n",
    "\n",
    "lista_variables_continuas = [\"income\", \"name_email_similarity\", \"prev_address_months_count\", \"current_address_months_count\", \"customer_age\", \"days_since_request\",\n",
    "                            \"intended_balcon_amount\", \"zip_count_4w\", \"velocity_6h\", \"velocity_24h\", \"velocity_4w\", \"bank_branch_count_8w\", \"date_of_birth_distinct_emails_4w\",\n",
    "                            \"credit_risk_score\", \"bank_months_count\", \"proposed_credit_limit\", \"session_length_in_minutes\", \"device_distinct_emails_8w\", \"device_fraud_count\",\n",
    "                            \"month\"]\n",
    "target = 'fraud_bool'"
   ]
  },
  {
   "cell_type": "markdown",
   "id": "d2925d84",
   "metadata": {},
   "source": [
    "En lista_variables_numericas incluimos las variables binarias puesto que las consideramos numéricas"
   ]
  },
  {
   "cell_type": "code",
   "execution_count": 10,
   "id": "4074b325",
   "metadata": {},
   "outputs": [],
   "source": [
    "lista_variables_string = pd_fraud.select_dtypes(include=['object']).columns\n",
    "lista_variables_numericas = pd_fraud.select_dtypes(include=['int64', 'float64']).columns"
   ]
  },
  {
   "cell_type": "markdown",
   "id": "eda25afb",
   "metadata": {},
   "source": [
    "Eliminamos la variable 'device_fraud_count' de la lista_variables_numericas puesto que la vamos a eliminar a continuación y no la vamos a utilizar en futuros análisis."
   ]
  },
  {
   "cell_type": "code",
   "execution_count": 15,
   "id": "51fa0619",
   "metadata": {},
   "outputs": [],
   "source": [
    "lista_variables_numericas = lista_variables_numericas.drop(['device_fraud_count'])"
   ]
  },
  {
   "cell_type": "markdown",
   "id": "fb88c27e",
   "metadata": {},
   "source": [
    "## Previos comentarios a los análisis de selección de variables"
   ]
  },
  {
   "cell_type": "markdown",
   "id": "2ede4d1a",
   "metadata": {},
   "source": [
    "Como vimos en el notebook02, la variable 'device_fraud_count' únicamente toma un valor por lo que decidimos eliminarla del dataset. "
   ]
  },
  {
   "cell_type": "markdown",
   "id": "62e9a580",
   "metadata": {},
   "source": [
    "Creamos un nuevo dataset en el que no quedan incluidas las variables a eliminar a continuación ('pd_fraud_reduced'):"
   ]
  },
  {
   "cell_type": "code",
   "execution_count": 16,
   "id": "b838b9d3",
   "metadata": {},
   "outputs": [],
   "source": [
    "pd_fraud_reduced = pd_fraud.drop(['device_fraud_count'], axis=1)"
   ]
  },
  {
   "cell_type": "code",
   "execution_count": 17,
   "id": "3e01349f",
   "metadata": {
    "scrolled": false
   },
   "outputs": [
    {
     "data": {
      "text/html": [
       "<div>\n",
       "<style scoped>\n",
       "    .dataframe tbody tr th:only-of-type {\n",
       "        vertical-align: middle;\n",
       "    }\n",
       "\n",
       "    .dataframe tbody tr th {\n",
       "        vertical-align: top;\n",
       "    }\n",
       "\n",
       "    .dataframe thead th {\n",
       "        text-align: right;\n",
       "    }\n",
       "</style>\n",
       "<table border=\"1\" class=\"dataframe\">\n",
       "  <thead>\n",
       "    <tr style=\"text-align: right;\">\n",
       "      <th></th>\n",
       "      <th>fraud_bool</th>\n",
       "      <th>income</th>\n",
       "      <th>name_email_similarity</th>\n",
       "      <th>prev_address_months_count</th>\n",
       "      <th>current_address_months_count</th>\n",
       "      <th>customer_age</th>\n",
       "      <th>days_since_request</th>\n",
       "      <th>intended_balcon_amount</th>\n",
       "      <th>zip_count_4w</th>\n",
       "      <th>velocity_6h</th>\n",
       "      <th>...</th>\n",
       "      <th>phone_home_valid</th>\n",
       "      <th>phone_mobile_valid</th>\n",
       "      <th>bank_months_count</th>\n",
       "      <th>has_other_cards</th>\n",
       "      <th>proposed_credit_limit</th>\n",
       "      <th>foreign_request</th>\n",
       "      <th>session_length_in_minutes</th>\n",
       "      <th>keep_alive_session</th>\n",
       "      <th>device_distinct_emails_8w</th>\n",
       "      <th>month</th>\n",
       "    </tr>\n",
       "  </thead>\n",
       "  <tbody>\n",
       "    <tr>\n",
       "      <th>0</th>\n",
       "      <td>1</td>\n",
       "      <td>0.9</td>\n",
       "      <td>0.166828</td>\n",
       "      <td>-1.0</td>\n",
       "      <td>88.0</td>\n",
       "      <td>50</td>\n",
       "      <td>0.020925</td>\n",
       "      <td>-1.331345</td>\n",
       "      <td>769.0</td>\n",
       "      <td>10650.765523</td>\n",
       "      <td>...</td>\n",
       "      <td>1</td>\n",
       "      <td>0</td>\n",
       "      <td>24</td>\n",
       "      <td>0</td>\n",
       "      <td>500.0</td>\n",
       "      <td>0</td>\n",
       "      <td>3.888115</td>\n",
       "      <td>0</td>\n",
       "      <td>1</td>\n",
       "      <td>7</td>\n",
       "    </tr>\n",
       "    <tr>\n",
       "      <th>1</th>\n",
       "      <td>1</td>\n",
       "      <td>0.9</td>\n",
       "      <td>0.296286</td>\n",
       "      <td>-1.0</td>\n",
       "      <td>144.0</td>\n",
       "      <td>50</td>\n",
       "      <td>0.005418</td>\n",
       "      <td>-0.816224</td>\n",
       "      <td>366.0</td>\n",
       "      <td>534.047319</td>\n",
       "      <td>...</td>\n",
       "      <td>0</td>\n",
       "      <td>0</td>\n",
       "      <td>15</td>\n",
       "      <td>0</td>\n",
       "      <td>1500.0</td>\n",
       "      <td>0</td>\n",
       "      <td>31.798819</td>\n",
       "      <td>0</td>\n",
       "      <td>1</td>\n",
       "      <td>7</td>\n",
       "    </tr>\n",
       "    <tr>\n",
       "      <th>2</th>\n",
       "      <td>1</td>\n",
       "      <td>0.9</td>\n",
       "      <td>0.044985</td>\n",
       "      <td>-1.0</td>\n",
       "      <td>132.0</td>\n",
       "      <td>40</td>\n",
       "      <td>3.108549</td>\n",
       "      <td>-0.755728</td>\n",
       "      <td>870.0</td>\n",
       "      <td>4048.534263</td>\n",
       "      <td>...</td>\n",
       "      <td>0</td>\n",
       "      <td>1</td>\n",
       "      <td>-1</td>\n",
       "      <td>0</td>\n",
       "      <td>200.0</td>\n",
       "      <td>0</td>\n",
       "      <td>4.728705</td>\n",
       "      <td>0</td>\n",
       "      <td>1</td>\n",
       "      <td>7</td>\n",
       "    </tr>\n",
       "    <tr>\n",
       "      <th>3</th>\n",
       "      <td>1</td>\n",
       "      <td>0.9</td>\n",
       "      <td>0.159511</td>\n",
       "      <td>-1.0</td>\n",
       "      <td>22.0</td>\n",
       "      <td>50</td>\n",
       "      <td>0.019079</td>\n",
       "      <td>-1.205124</td>\n",
       "      <td>810.0</td>\n",
       "      <td>3457.064063</td>\n",
       "      <td>...</td>\n",
       "      <td>0</td>\n",
       "      <td>1</td>\n",
       "      <td>31</td>\n",
       "      <td>1</td>\n",
       "      <td>200.0</td>\n",
       "      <td>0</td>\n",
       "      <td>2.047904</td>\n",
       "      <td>0</td>\n",
       "      <td>1</td>\n",
       "      <td>7</td>\n",
       "    </tr>\n",
       "    <tr>\n",
       "      <th>4</th>\n",
       "      <td>1</td>\n",
       "      <td>0.9</td>\n",
       "      <td>0.596414</td>\n",
       "      <td>-1.0</td>\n",
       "      <td>218.0</td>\n",
       "      <td>50</td>\n",
       "      <td>0.004441</td>\n",
       "      <td>-0.773276</td>\n",
       "      <td>890.0</td>\n",
       "      <td>5020.341679</td>\n",
       "      <td>...</td>\n",
       "      <td>1</td>\n",
       "      <td>0</td>\n",
       "      <td>31</td>\n",
       "      <td>0</td>\n",
       "      <td>1500.0</td>\n",
       "      <td>0</td>\n",
       "      <td>3.775225</td>\n",
       "      <td>1</td>\n",
       "      <td>1</td>\n",
       "      <td>7</td>\n",
       "    </tr>\n",
       "    <tr>\n",
       "      <th>...</th>\n",
       "      <td>...</td>\n",
       "      <td>...</td>\n",
       "      <td>...</td>\n",
       "      <td>...</td>\n",
       "      <td>...</td>\n",
       "      <td>...</td>\n",
       "      <td>...</td>\n",
       "      <td>...</td>\n",
       "      <td>...</td>\n",
       "      <td>...</td>\n",
       "      <td>...</td>\n",
       "      <td>...</td>\n",
       "      <td>...</td>\n",
       "      <td>...</td>\n",
       "      <td>...</td>\n",
       "      <td>...</td>\n",
       "      <td>...</td>\n",
       "      <td>...</td>\n",
       "      <td>...</td>\n",
       "      <td>...</td>\n",
       "      <td>...</td>\n",
       "    </tr>\n",
       "    <tr>\n",
       "      <th>999995</th>\n",
       "      <td>0</td>\n",
       "      <td>0.6</td>\n",
       "      <td>0.192631</td>\n",
       "      <td>-1.0</td>\n",
       "      <td>104.0</td>\n",
       "      <td>40</td>\n",
       "      <td>0.030592</td>\n",
       "      <td>-1.044454</td>\n",
       "      <td>804.0</td>\n",
       "      <td>7905.711839</td>\n",
       "      <td>...</td>\n",
       "      <td>1</td>\n",
       "      <td>1</td>\n",
       "      <td>25</td>\n",
       "      <td>0</td>\n",
       "      <td>200.0</td>\n",
       "      <td>0</td>\n",
       "      <td>8.511502</td>\n",
       "      <td>1</td>\n",
       "      <td>1</td>\n",
       "      <td>4</td>\n",
       "    </tr>\n",
       "    <tr>\n",
       "      <th>999996</th>\n",
       "      <td>0</td>\n",
       "      <td>0.8</td>\n",
       "      <td>0.322989</td>\n",
       "      <td>148.0</td>\n",
       "      <td>9.0</td>\n",
       "      <td>50</td>\n",
       "      <td>1.628119</td>\n",
       "      <td>-1.409803</td>\n",
       "      <td>3306.0</td>\n",
       "      <td>5391.470463</td>\n",
       "      <td>...</td>\n",
       "      <td>1</td>\n",
       "      <td>1</td>\n",
       "      <td>-1</td>\n",
       "      <td>0</td>\n",
       "      <td>200.0</td>\n",
       "      <td>0</td>\n",
       "      <td>8.967865</td>\n",
       "      <td>0</td>\n",
       "      <td>1</td>\n",
       "      <td>4</td>\n",
       "    </tr>\n",
       "    <tr>\n",
       "      <th>999997</th>\n",
       "      <td>0</td>\n",
       "      <td>0.8</td>\n",
       "      <td>0.879403</td>\n",
       "      <td>-1.0</td>\n",
       "      <td>30.0</td>\n",
       "      <td>20</td>\n",
       "      <td>0.018563</td>\n",
       "      <td>34.692760</td>\n",
       "      <td>1522.0</td>\n",
       "      <td>8063.102636</td>\n",
       "      <td>...</td>\n",
       "      <td>0</td>\n",
       "      <td>1</td>\n",
       "      <td>11</td>\n",
       "      <td>0</td>\n",
       "      <td>200.0</td>\n",
       "      <td>0</td>\n",
       "      <td>8.195531</td>\n",
       "      <td>0</td>\n",
       "      <td>1</td>\n",
       "      <td>4</td>\n",
       "    </tr>\n",
       "    <tr>\n",
       "      <th>999998</th>\n",
       "      <td>0</td>\n",
       "      <td>0.9</td>\n",
       "      <td>0.762112</td>\n",
       "      <td>-1.0</td>\n",
       "      <td>189.0</td>\n",
       "      <td>20</td>\n",
       "      <td>0.015352</td>\n",
       "      <td>94.661055</td>\n",
       "      <td>1418.0</td>\n",
       "      <td>8092.641762</td>\n",
       "      <td>...</td>\n",
       "      <td>1</td>\n",
       "      <td>0</td>\n",
       "      <td>28</td>\n",
       "      <td>0</td>\n",
       "      <td>500.0</td>\n",
       "      <td>0</td>\n",
       "      <td>4.336064</td>\n",
       "      <td>1</td>\n",
       "      <td>1</td>\n",
       "      <td>4</td>\n",
       "    </tr>\n",
       "    <tr>\n",
       "      <th>999999</th>\n",
       "      <td>0</td>\n",
       "      <td>0.2</td>\n",
       "      <td>0.697452</td>\n",
       "      <td>-1.0</td>\n",
       "      <td>321.0</td>\n",
       "      <td>20</td>\n",
       "      <td>2.655916</td>\n",
       "      <td>9.908499</td>\n",
       "      <td>951.0</td>\n",
       "      <td>6169.630036</td>\n",
       "      <td>...</td>\n",
       "      <td>0</td>\n",
       "      <td>1</td>\n",
       "      <td>15</td>\n",
       "      <td>0</td>\n",
       "      <td>200.0</td>\n",
       "      <td>0</td>\n",
       "      <td>6.717022</td>\n",
       "      <td>0</td>\n",
       "      <td>1</td>\n",
       "      <td>4</td>\n",
       "    </tr>\n",
       "  </tbody>\n",
       "</table>\n",
       "<p>1000000 rows × 26 columns</p>\n",
       "</div>"
      ],
      "text/plain": [
       "        fraud_bool  income  name_email_similarity  prev_address_months_count  \\\n",
       "0                1     0.9               0.166828                       -1.0   \n",
       "1                1     0.9               0.296286                       -1.0   \n",
       "2                1     0.9               0.044985                       -1.0   \n",
       "3                1     0.9               0.159511                       -1.0   \n",
       "4                1     0.9               0.596414                       -1.0   \n",
       "...            ...     ...                    ...                        ...   \n",
       "999995           0     0.6               0.192631                       -1.0   \n",
       "999996           0     0.8               0.322989                      148.0   \n",
       "999997           0     0.8               0.879403                       -1.0   \n",
       "999998           0     0.9               0.762112                       -1.0   \n",
       "999999           0     0.2               0.697452                       -1.0   \n",
       "\n",
       "        current_address_months_count  customer_age  days_since_request  \\\n",
       "0                               88.0            50            0.020925   \n",
       "1                              144.0            50            0.005418   \n",
       "2                              132.0            40            3.108549   \n",
       "3                               22.0            50            0.019079   \n",
       "4                              218.0            50            0.004441   \n",
       "...                              ...           ...                 ...   \n",
       "999995                         104.0            40            0.030592   \n",
       "999996                           9.0            50            1.628119   \n",
       "999997                          30.0            20            0.018563   \n",
       "999998                         189.0            20            0.015352   \n",
       "999999                         321.0            20            2.655916   \n",
       "\n",
       "        intended_balcon_amount  zip_count_4w   velocity_6h  ...  \\\n",
       "0                    -1.331345         769.0  10650.765523  ...   \n",
       "1                    -0.816224         366.0    534.047319  ...   \n",
       "2                    -0.755728         870.0   4048.534263  ...   \n",
       "3                    -1.205124         810.0   3457.064063  ...   \n",
       "4                    -0.773276         890.0   5020.341679  ...   \n",
       "...                        ...           ...           ...  ...   \n",
       "999995               -1.044454         804.0   7905.711839  ...   \n",
       "999996               -1.409803        3306.0   5391.470463  ...   \n",
       "999997               34.692760        1522.0   8063.102636  ...   \n",
       "999998               94.661055        1418.0   8092.641762  ...   \n",
       "999999                9.908499         951.0   6169.630036  ...   \n",
       "\n",
       "        phone_home_valid  phone_mobile_valid  bank_months_count  \\\n",
       "0                      1                   0                 24   \n",
       "1                      0                   0                 15   \n",
       "2                      0                   1                 -1   \n",
       "3                      0                   1                 31   \n",
       "4                      1                   0                 31   \n",
       "...                  ...                 ...                ...   \n",
       "999995                 1                   1                 25   \n",
       "999996                 1                   1                 -1   \n",
       "999997                 0                   1                 11   \n",
       "999998                 1                   0                 28   \n",
       "999999                 0                   1                 15   \n",
       "\n",
       "        has_other_cards  proposed_credit_limit  foreign_request  \\\n",
       "0                     0                  500.0                0   \n",
       "1                     0                 1500.0                0   \n",
       "2                     0                  200.0                0   \n",
       "3                     1                  200.0                0   \n",
       "4                     0                 1500.0                0   \n",
       "...                 ...                    ...              ...   \n",
       "999995                0                  200.0                0   \n",
       "999996                0                  200.0                0   \n",
       "999997                0                  200.0                0   \n",
       "999998                0                  500.0                0   \n",
       "999999                0                  200.0                0   \n",
       "\n",
       "        session_length_in_minutes  keep_alive_session  \\\n",
       "0                        3.888115                   0   \n",
       "1                       31.798819                   0   \n",
       "2                        4.728705                   0   \n",
       "3                        2.047904                   0   \n",
       "4                        3.775225                   1   \n",
       "...                           ...                 ...   \n",
       "999995                   8.511502                   1   \n",
       "999996                   8.967865                   0   \n",
       "999997                   8.195531                   0   \n",
       "999998                   4.336064                   1   \n",
       "999999                   6.717022                   0   \n",
       "\n",
       "        device_distinct_emails_8w  month  \n",
       "0                               1      7  \n",
       "1                               1      7  \n",
       "2                               1      7  \n",
       "3                               1      7  \n",
       "4                               1      7  \n",
       "...                           ...    ...  \n",
       "999995                          1      4  \n",
       "999996                          1      4  \n",
       "999997                          1      4  \n",
       "999998                          1      4  \n",
       "999999                          1      4  \n",
       "\n",
       "[1000000 rows x 26 columns]"
      ]
     },
     "execution_count": 17,
     "metadata": {},
     "output_type": "execute_result"
    }
   ],
   "source": [
    "pd_fraud_reduced[lista_variables_numericas]"
   ]
  },
  {
   "cell_type": "markdown",
   "id": "c3af681c",
   "metadata": {},
   "source": [
    "Además, para poder introducir las variables categóricas en los métodos de regularización de variables, hemos de pasar las variables categóricas a numéricas. Esto lo realizamos antes de estandarizar las variables."
   ]
  },
  {
   "cell_type": "markdown",
   "id": "6a9fadd7",
   "metadata": {},
   "source": [
    "Lo vamos a realizar de forma manual puesto que no son muchos los valores únicos que toma cada variable.\n",
    "\n",
    "Por ello, primero vamos a ver los valores únicos de cada variable para después asignarle un número a cada valor."
   ]
  },
  {
   "cell_type": "code",
   "execution_count": 88,
   "id": "c1564065",
   "metadata": {
    "scrolled": true
   },
   "outputs": [
    {
     "data": {
      "text/plain": [
       "payment_type\n",
       "AB    370554\n",
       "AA    258249\n",
       "AC    252071\n",
       "AD    118837\n",
       "AE       289\n",
       "Name: count, dtype: int64"
      ]
     },
     "execution_count": 88,
     "metadata": {},
     "output_type": "execute_result"
    }
   ],
   "source": [
    "pd_fraud_reduced['payment_type'].value_counts()"
   ]
  },
  {
   "cell_type": "code",
   "execution_count": 89,
   "id": "079e9c4d",
   "metadata": {},
   "outputs": [],
   "source": [
    "pd_fraud_reduced['payment_type'] = pd_fraud_reduced['payment_type'].replace(['AA'],0) \n",
    "pd_fraud_reduced['payment_type'] = pd_fraud_reduced['payment_type'].replace(['AB'],1) \n",
    "pd_fraud_reduced['payment_type'] = pd_fraud_reduced['payment_type'].replace(['AC'],2) \n",
    "pd_fraud_reduced['payment_type'] = pd_fraud_reduced['payment_type'].replace(['AD'],3) \n",
    "pd_fraud_reduced['payment_type'] = pd_fraud_reduced['payment_type'].replace(['AE'],4) "
   ]
  },
  {
   "cell_type": "code",
   "execution_count": 90,
   "id": "06dc6758",
   "metadata": {
    "scrolled": true
   },
   "outputs": [
    {
     "data": {
      "text/plain": [
       "employment_status\n",
       "CA    730252\n",
       "CB    138288\n",
       "CF     44034\n",
       "CC     37758\n",
       "CD     26522\n",
       "CE     22693\n",
       "CG       453\n",
       "Name: count, dtype: int64"
      ]
     },
     "execution_count": 90,
     "metadata": {},
     "output_type": "execute_result"
    }
   ],
   "source": [
    "pd_fraud_reduced['employment_status'].value_counts()"
   ]
  },
  {
   "cell_type": "code",
   "execution_count": 91,
   "id": "beca772c",
   "metadata": {},
   "outputs": [],
   "source": [
    "pd_fraud_reduced['employment_status'] = pd_fraud_reduced['employment_status'].replace(['CA'],0) \n",
    "pd_fraud_reduced['employment_status'] = pd_fraud_reduced['employment_status'].replace(['CB'],1) \n",
    "pd_fraud_reduced['employment_status'] = pd_fraud_reduced['employment_status'].replace(['CC'],2) \n",
    "pd_fraud_reduced['employment_status'] = pd_fraud_reduced['employment_status'].replace(['CD'],3) \n",
    "pd_fraud_reduced['employment_status'] = pd_fraud_reduced['employment_status'].replace(['CE'],4) \n",
    "pd_fraud_reduced['employment_status'] = pd_fraud_reduced['employment_status'].replace(['CF'],5) \n",
    "pd_fraud_reduced['employment_status'] = pd_fraud_reduced['employment_status'].replace(['CG'],6) "
   ]
  },
  {
   "cell_type": "code",
   "execution_count": 92,
   "id": "a579c71f",
   "metadata": {
    "scrolled": true
   },
   "outputs": [
    {
     "data": {
      "text/plain": [
       "housing_status\n",
       "BC    372143\n",
       "BB    260965\n",
       "BA    169675\n",
       "BE    169135\n",
       "BD     26161\n",
       "BF      1669\n",
       "BG       252\n",
       "Name: count, dtype: int64"
      ]
     },
     "execution_count": 92,
     "metadata": {},
     "output_type": "execute_result"
    }
   ],
   "source": [
    "pd_fraud_reduced['housing_status'].value_counts()"
   ]
  },
  {
   "cell_type": "code",
   "execution_count": 93,
   "id": "e0d43c3d",
   "metadata": {},
   "outputs": [],
   "source": [
    "pd_fraud_reduced['housing_status'] = pd_fraud_reduced['housing_status'].replace(['BA'],0) \n",
    "pd_fraud_reduced['housing_status'] = pd_fraud_reduced['housing_status'].replace(['BB'],1) \n",
    "pd_fraud_reduced['housing_status'] = pd_fraud_reduced['housing_status'].replace(['BC'],2) \n",
    "pd_fraud_reduced['housing_status'] = pd_fraud_reduced['housing_status'].replace(['BD'],3) \n",
    "pd_fraud_reduced['housing_status'] = pd_fraud_reduced['housing_status'].replace(['BE'],4) \n",
    "pd_fraud_reduced['housing_status'] = pd_fraud_reduced['housing_status'].replace(['BF'],5) \n",
    "pd_fraud_reduced['housing_status'] = pd_fraud_reduced['housing_status'].replace(['BG'],6) "
   ]
  },
  {
   "cell_type": "code",
   "execution_count": 94,
   "id": "e329f50d",
   "metadata": {
    "scrolled": true
   },
   "outputs": [
    {
     "data": {
      "text/plain": [
       "source\n",
       "INTERNET    992952\n",
       "TELEAPP       7048\n",
       "Name: count, dtype: int64"
      ]
     },
     "execution_count": 94,
     "metadata": {},
     "output_type": "execute_result"
    }
   ],
   "source": [
    "pd_fraud_reduced['source'].value_counts()"
   ]
  },
  {
   "cell_type": "code",
   "execution_count": 95,
   "id": "2a5d7e53",
   "metadata": {},
   "outputs": [],
   "source": [
    "pd_fraud_reduced['source'] = pd_fraud_reduced['source'].replace(['INTERNET'],0) \n",
    "pd_fraud_reduced['source'] = pd_fraud_reduced['source'].replace(['TELEAPP'],1) "
   ]
  },
  {
   "cell_type": "code",
   "execution_count": 96,
   "id": "a307988b",
   "metadata": {
    "scrolled": true
   },
   "outputs": [
    {
     "data": {
      "text/plain": [
       "device_os\n",
       "other        342728\n",
       "linux        332712\n",
       "windows      263506\n",
       "macintosh     53826\n",
       "x11            7228\n",
       "Name: count, dtype: int64"
      ]
     },
     "execution_count": 96,
     "metadata": {},
     "output_type": "execute_result"
    }
   ],
   "source": [
    "pd_fraud_reduced['device_os'].value_counts()"
   ]
  },
  {
   "cell_type": "code",
   "execution_count": 97,
   "id": "fc0edb09",
   "metadata": {},
   "outputs": [],
   "source": [
    "pd_fraud_reduced['device_os'] = pd_fraud_reduced['device_os'].replace(['windows'],0) \n",
    "pd_fraud_reduced['device_os'] = pd_fraud_reduced['device_os'].replace(['linux'],1) \n",
    "pd_fraud_reduced['device_os'] = pd_fraud_reduced['device_os'].replace(['macintosh'],2) \n",
    "pd_fraud_reduced['device_os'] = pd_fraud_reduced['device_os'].replace(['x11'],3)\n",
    "pd_fraud_reduced['device_os'] = pd_fraud_reduced['device_os'].replace(['other'],4) "
   ]
  },
  {
   "cell_type": "markdown",
   "id": "98ac1d69",
   "metadata": {},
   "source": [
    "**Conclusión**\n",
    "\n",
    "A través de esta conversión de las variables categóricas a numéricas, cada una de las categorías de estas variables va a pasar a tener un valor numérico (por ejemplo, para la variable “housing_status” la categoría “BA” pasa a tomar un valor de 0 y la categoría “BB” un valor de 1).\n",
    "\n",
    "Esta transformación es realizada para poder aplicar las regularizaciones de Lasso y Ridge al total de variables del conjunto de datos."
   ]
  },
  {
   "cell_type": "markdown",
   "id": "99898ab8",
   "metadata": {},
   "source": [
    "## ESTANDARIZACIÓN DE LAS VARIABLES"
   ]
  },
  {
   "cell_type": "markdown",
   "id": "63a38203",
   "metadata": {},
   "source": [
    "Para algunos modelos de predicción, es muy cómodo trabajar directamente sobre un dataset estandarizado, de manera que se tenga una media constante en todas las variables de 0 y una desviación típica igual a 1. Esto garantiza que todas las variables contribuyan de manera uniforme al proceso de regularización al tener la misma escala."
   ]
  },
  {
   "cell_type": "code",
   "execution_count": 19,
   "id": "513b8d4b",
   "metadata": {},
   "outputs": [],
   "source": [
    "from sklearn.preprocessing import StandardScaler\n",
    "\n",
    "escala = StandardScaler()\n",
    "a = escala.fit_transform(pd_fraud_reduced.drop([\"fraud_bool\"],axis=1))\n",
    "pd_fraud_std = pd.DataFrame(a, columns= pd_fraud_reduced.drop([\"fraud_bool\"],axis=1).columns)\n",
    "aux = pd.DataFrame(pd_fraud_reduced['fraud_bool'])\n",
    "aux.reset_index(inplace=True)\n",
    "pd_fraud_std['fraud_bool']=aux['fraud_bool']"
   ]
  },
  {
   "cell_type": "code",
   "execution_count": 20,
   "id": "c824c8b9",
   "metadata": {},
   "outputs": [
    {
     "data": {
      "text/html": [
       "<div>\n",
       "<style scoped>\n",
       "    .dataframe tbody tr th:only-of-type {\n",
       "        vertical-align: middle;\n",
       "    }\n",
       "\n",
       "    .dataframe tbody tr th {\n",
       "        vertical-align: top;\n",
       "    }\n",
       "\n",
       "    .dataframe thead th {\n",
       "        text-align: right;\n",
       "    }\n",
       "</style>\n",
       "<table border=\"1\" class=\"dataframe\">\n",
       "  <thead>\n",
       "    <tr style=\"text-align: right;\">\n",
       "      <th></th>\n",
       "      <th>count</th>\n",
       "      <th>mean</th>\n",
       "      <th>std</th>\n",
       "      <th>min</th>\n",
       "      <th>25%</th>\n",
       "      <th>50%</th>\n",
       "      <th>75%</th>\n",
       "      <th>max</th>\n",
       "    </tr>\n",
       "  </thead>\n",
       "  <tbody>\n",
       "    <tr>\n",
       "      <th>income</th>\n",
       "      <td>1000000.0</td>\n",
       "      <td>-5.583587e-16</td>\n",
       "      <td>1.000000</td>\n",
       "      <td>-1.593620</td>\n",
       "      <td>-0.904778</td>\n",
       "      <td>0.128484</td>\n",
       "      <td>0.817326</td>\n",
       "      <td>1.161747</td>\n",
       "    </tr>\n",
       "    <tr>\n",
       "      <th>name_email_similarity</th>\n",
       "      <td>1000000.0</td>\n",
       "      <td>-5.687326e-16</td>\n",
       "      <td>1.000001</td>\n",
       "      <td>-1.707543</td>\n",
       "      <td>-0.928588</td>\n",
       "      <td>-0.005332</td>\n",
       "      <td>0.905745</td>\n",
       "      <td>1.751166</td>\n",
       "    </tr>\n",
       "    <tr>\n",
       "      <th>prev_address_months_count</th>\n",
       "      <td>1000000.0</td>\n",
       "      <td>-3.439027e-18</td>\n",
       "      <td>1.000000</td>\n",
       "      <td>-0.402272</td>\n",
       "      <td>-0.402272</td>\n",
       "      <td>-0.402272</td>\n",
       "      <td>-0.107128</td>\n",
       "      <td>8.315845</td>\n",
       "    </tr>\n",
       "    <tr>\n",
       "      <th>current_address_months_count</th>\n",
       "      <td>1000000.0</td>\n",
       "      <td>-6.357936e-17</td>\n",
       "      <td>1.000001</td>\n",
       "      <td>-0.990740</td>\n",
       "      <td>-0.764512</td>\n",
       "      <td>-0.391236</td>\n",
       "      <td>0.491051</td>\n",
       "      <td>3.861842</td>\n",
       "    </tr>\n",
       "    <tr>\n",
       "      <th>customer_age</th>\n",
       "      <td>1000000.0</td>\n",
       "      <td>2.415135e-16</td>\n",
       "      <td>1.000001</td>\n",
       "      <td>-1.969856</td>\n",
       "      <td>-1.138310</td>\n",
       "      <td>-0.306764</td>\n",
       "      <td>0.524782</td>\n",
       "      <td>4.682512</td>\n",
       "    </tr>\n",
       "    <tr>\n",
       "      <th>days_since_request</th>\n",
       "      <td>1000000.0</td>\n",
       "      <td>-1.280398e-17</td>\n",
       "      <td>1.000001</td>\n",
       "      <td>-0.190587</td>\n",
       "      <td>-0.189250</td>\n",
       "      <td>-0.187767</td>\n",
       "      <td>-0.185694</td>\n",
       "      <td>14.387517</td>\n",
       "    </tr>\n",
       "    <tr>\n",
       "      <th>intended_balcon_amount</th>\n",
       "      <td>1000000.0</td>\n",
       "      <td>1.653575e-16</td>\n",
       "      <td>1.000001</td>\n",
       "      <td>-1.195487</td>\n",
       "      <td>-0.486406</td>\n",
       "      <td>-0.469062</td>\n",
       "      <td>-0.181721</td>\n",
       "      <td>5.153918</td>\n",
       "    </tr>\n",
       "    <tr>\n",
       "      <th>payment_type</th>\n",
       "      <td>1000000.0</td>\n",
       "      <td>-1.177085e-16</td>\n",
       "      <td>1.000000</td>\n",
       "      <td>-1.274973</td>\n",
       "      <td>-1.274973</td>\n",
       "      <td>-0.240397</td>\n",
       "      <td>0.794179</td>\n",
       "      <td>2.863330</td>\n",
       "    </tr>\n",
       "    <tr>\n",
       "      <th>zip_count_4w</th>\n",
       "      <td>1000000.0</td>\n",
       "      <td>2.307132e-17</td>\n",
       "      <td>1.000001</td>\n",
       "      <td>-1.563291</td>\n",
       "      <td>-0.675064</td>\n",
       "      <td>-0.308037</td>\n",
       "      <td>0.369323</td>\n",
       "      <td>5.099901</td>\n",
       "    </tr>\n",
       "    <tr>\n",
       "      <th>velocity_6h</th>\n",
       "      <td>1000000.0</td>\n",
       "      <td>9.192576e-16</td>\n",
       "      <td>1.000001</td>\n",
       "      <td>-1.939237</td>\n",
       "      <td>-0.740661</td>\n",
       "      <td>-0.114817</td>\n",
       "      <td>0.669713</td>\n",
       "      <td>3.671943</td>\n",
       "    </tr>\n",
       "    <tr>\n",
       "      <th>velocity_24h</th>\n",
       "      <td>1000000.0</td>\n",
       "      <td>-1.347189e-17</td>\n",
       "      <td>1.000001</td>\n",
       "      <td>-2.345489</td>\n",
       "      <td>-0.795425</td>\n",
       "      <td>-0.013427</td>\n",
       "      <td>0.664403</td>\n",
       "      <td>3.202458</td>\n",
       "    </tr>\n",
       "    <tr>\n",
       "      <th>velocity_4w</th>\n",
       "      <td>1000000.0</td>\n",
       "      <td>1.518799e-15</td>\n",
       "      <td>1.000001</td>\n",
       "      <td>-2.207523</td>\n",
       "      <td>-0.639191</td>\n",
       "      <td>0.062090</td>\n",
       "      <td>0.686812</td>\n",
       "      <td>2.324787</td>\n",
       "    </tr>\n",
       "    <tr>\n",
       "      <th>bank_branch_count_8w</th>\n",
       "      <td>1000000.0</td>\n",
       "      <td>-5.542233e-18</td>\n",
       "      <td>1.000001</td>\n",
       "      <td>-0.401114</td>\n",
       "      <td>-0.398938</td>\n",
       "      <td>-0.381532</td>\n",
       "      <td>-0.346721</td>\n",
       "      <td>4.787898</td>\n",
       "    </tr>\n",
       "    <tr>\n",
       "      <th>date_of_birth_distinct_emails_4w</th>\n",
       "      <td>1000000.0</td>\n",
       "      <td>6.681233e-17</td>\n",
       "      <td>1.000001</td>\n",
       "      <td>-1.887950</td>\n",
       "      <td>-0.696005</td>\n",
       "      <td>-0.100033</td>\n",
       "      <td>0.694597</td>\n",
       "      <td>5.859692</td>\n",
       "    </tr>\n",
       "    <tr>\n",
       "      <th>employment_status</th>\n",
       "      <td>1000000.0</td>\n",
       "      <td>-1.224976e-17</td>\n",
       "      <td>1.000001</td>\n",
       "      <td>-0.474043</td>\n",
       "      <td>-0.474043</td>\n",
       "      <td>-0.474043</td>\n",
       "      <td>0.306879</td>\n",
       "      <td>4.211486</td>\n",
       "    </tr>\n",
       "    <tr>\n",
       "      <th>credit_risk_score</th>\n",
       "      <td>1000000.0</td>\n",
       "      <td>-1.121236e-16</td>\n",
       "      <td>1.000001</td>\n",
       "      <td>-4.319488</td>\n",
       "      <td>-0.688696</td>\n",
       "      <td>-0.129009</td>\n",
       "      <td>0.674644</td>\n",
       "      <td>3.702696</td>\n",
       "    </tr>\n",
       "    <tr>\n",
       "      <th>email_is_free</th>\n",
       "      <td>1000000.0</td>\n",
       "      <td>-8.526513e-18</td>\n",
       "      <td>1.000001</td>\n",
       "      <td>-1.061670</td>\n",
       "      <td>-1.061670</td>\n",
       "      <td>0.941912</td>\n",
       "      <td>0.941912</td>\n",
       "      <td>0.941912</td>\n",
       "    </tr>\n",
       "    <tr>\n",
       "      <th>housing_status</th>\n",
       "      <td>1000000.0</td>\n",
       "      <td>6.926371e-17</td>\n",
       "      <td>1.000000</td>\n",
       "      <td>-1.395675</td>\n",
       "      <td>-0.607216</td>\n",
       "      <td>0.181242</td>\n",
       "      <td>0.181242</td>\n",
       "      <td>3.335076</td>\n",
       "    </tr>\n",
       "    <tr>\n",
       "      <th>phone_home_valid</th>\n",
       "      <td>1000000.0</td>\n",
       "      <td>7.439915e-17</td>\n",
       "      <td>1.000001</td>\n",
       "      <td>-0.845868</td>\n",
       "      <td>-0.845868</td>\n",
       "      <td>-0.845868</td>\n",
       "      <td>1.182218</td>\n",
       "      <td>1.182218</td>\n",
       "    </tr>\n",
       "    <tr>\n",
       "      <th>phone_mobile_valid</th>\n",
       "      <td>1000000.0</td>\n",
       "      <td>-1.195062e-16</td>\n",
       "      <td>1.000000</td>\n",
       "      <td>-2.839755</td>\n",
       "      <td>0.352143</td>\n",
       "      <td>0.352143</td>\n",
       "      <td>0.352143</td>\n",
       "      <td>0.352143</td>\n",
       "    </tr>\n",
       "    <tr>\n",
       "      <th>bank_months_count</th>\n",
       "      <td>1000000.0</td>\n",
       "      <td>2.697931e-17</td>\n",
       "      <td>1.000001</td>\n",
       "      <td>-0.977093</td>\n",
       "      <td>-0.977093</td>\n",
       "      <td>-0.481915</td>\n",
       "      <td>1.168676</td>\n",
       "      <td>1.746383</td>\n",
       "    </tr>\n",
       "    <tr>\n",
       "      <th>has_other_cards</th>\n",
       "      <td>1000000.0</td>\n",
       "      <td>-5.780265e-18</td>\n",
       "      <td>1.000000</td>\n",
       "      <td>-0.535706</td>\n",
       "      <td>-0.535706</td>\n",
       "      <td>-0.535706</td>\n",
       "      <td>-0.535706</td>\n",
       "      <td>1.866694</td>\n",
       "    </tr>\n",
       "    <tr>\n",
       "      <th>proposed_credit_limit</th>\n",
       "      <td>1000000.0</td>\n",
       "      <td>8.024514e-17</td>\n",
       "      <td>1.000001</td>\n",
       "      <td>-0.668331</td>\n",
       "      <td>-0.647820</td>\n",
       "      <td>-0.647820</td>\n",
       "      <td>-0.032511</td>\n",
       "      <td>3.249139</td>\n",
       "    </tr>\n",
       "    <tr>\n",
       "      <th>foreign_request</th>\n",
       "      <td>1000000.0</td>\n",
       "      <td>1.346834e-17</td>\n",
       "      <td>1.000000</td>\n",
       "      <td>-0.160921</td>\n",
       "      <td>-0.160921</td>\n",
       "      <td>-0.160921</td>\n",
       "      <td>-0.160921</td>\n",
       "      <td>6.214219</td>\n",
       "    </tr>\n",
       "    <tr>\n",
       "      <th>source</th>\n",
       "      <td>1000000.0</td>\n",
       "      <td>-4.953371e-17</td>\n",
       "      <td>1.000001</td>\n",
       "      <td>-0.084250</td>\n",
       "      <td>-0.084250</td>\n",
       "      <td>-0.084250</td>\n",
       "      <td>-0.084250</td>\n",
       "      <td>11.869466</td>\n",
       "    </tr>\n",
       "    <tr>\n",
       "      <th>session_length_in_minutes</th>\n",
       "      <td>1000000.0</td>\n",
       "      <td>-1.219931e-16</td>\n",
       "      <td>1.000001</td>\n",
       "      <td>-1.063716</td>\n",
       "      <td>-0.552948</td>\n",
       "      <td>-0.302575</td>\n",
       "      <td>0.164468</td>\n",
       "      <td>9.753916</td>\n",
       "    </tr>\n",
       "    <tr>\n",
       "      <th>device_os</th>\n",
       "      <td>1000000.0</td>\n",
       "      <td>4.686029e-17</td>\n",
       "      <td>1.000001</td>\n",
       "      <td>-1.107944</td>\n",
       "      <td>-1.107944</td>\n",
       "      <td>-0.503488</td>\n",
       "      <td>1.309880</td>\n",
       "      <td>1.309880</td>\n",
       "    </tr>\n",
       "    <tr>\n",
       "      <th>keep_alive_session</th>\n",
       "      <td>1000000.0</td>\n",
       "      <td>5.731238e-17</td>\n",
       "      <td>1.000000</td>\n",
       "      <td>-1.167806</td>\n",
       "      <td>-1.167806</td>\n",
       "      <td>0.856307</td>\n",
       "      <td>0.856307</td>\n",
       "      <td>0.856307</td>\n",
       "    </tr>\n",
       "    <tr>\n",
       "      <th>device_distinct_emails_8w</th>\n",
       "      <td>1000000.0</td>\n",
       "      <td>-6.069563e-16</td>\n",
       "      <td>1.000000</td>\n",
       "      <td>-11.165616</td>\n",
       "      <td>-0.101305</td>\n",
       "      <td>-0.101305</td>\n",
       "      <td>-0.101305</td>\n",
       "      <td>5.430851</td>\n",
       "    </tr>\n",
       "    <tr>\n",
       "      <th>month</th>\n",
       "      <td>1000000.0</td>\n",
       "      <td>-9.134737e-17</td>\n",
       "      <td>1.000001</td>\n",
       "      <td>-1.488092</td>\n",
       "      <td>-1.035602</td>\n",
       "      <td>-0.130622</td>\n",
       "      <td>0.774358</td>\n",
       "      <td>1.679338</td>\n",
       "    </tr>\n",
       "    <tr>\n",
       "      <th>fraud_bool</th>\n",
       "      <td>1000000.0</td>\n",
       "      <td>1.102900e-02</td>\n",
       "      <td>0.104438</td>\n",
       "      <td>0.000000</td>\n",
       "      <td>0.000000</td>\n",
       "      <td>0.000000</td>\n",
       "      <td>0.000000</td>\n",
       "      <td>1.000000</td>\n",
       "    </tr>\n",
       "  </tbody>\n",
       "</table>\n",
       "</div>"
      ],
      "text/plain": [
       "                                      count          mean       std  \\\n",
       "income                            1000000.0 -5.583587e-16  1.000000   \n",
       "name_email_similarity             1000000.0 -5.687326e-16  1.000001   \n",
       "prev_address_months_count         1000000.0 -3.439027e-18  1.000000   \n",
       "current_address_months_count      1000000.0 -6.357936e-17  1.000001   \n",
       "customer_age                      1000000.0  2.415135e-16  1.000001   \n",
       "days_since_request                1000000.0 -1.280398e-17  1.000001   \n",
       "intended_balcon_amount            1000000.0  1.653575e-16  1.000001   \n",
       "payment_type                      1000000.0 -1.177085e-16  1.000000   \n",
       "zip_count_4w                      1000000.0  2.307132e-17  1.000001   \n",
       "velocity_6h                       1000000.0  9.192576e-16  1.000001   \n",
       "velocity_24h                      1000000.0 -1.347189e-17  1.000001   \n",
       "velocity_4w                       1000000.0  1.518799e-15  1.000001   \n",
       "bank_branch_count_8w              1000000.0 -5.542233e-18  1.000001   \n",
       "date_of_birth_distinct_emails_4w  1000000.0  6.681233e-17  1.000001   \n",
       "employment_status                 1000000.0 -1.224976e-17  1.000001   \n",
       "credit_risk_score                 1000000.0 -1.121236e-16  1.000001   \n",
       "email_is_free                     1000000.0 -8.526513e-18  1.000001   \n",
       "housing_status                    1000000.0  6.926371e-17  1.000000   \n",
       "phone_home_valid                  1000000.0  7.439915e-17  1.000001   \n",
       "phone_mobile_valid                1000000.0 -1.195062e-16  1.000000   \n",
       "bank_months_count                 1000000.0  2.697931e-17  1.000001   \n",
       "has_other_cards                   1000000.0 -5.780265e-18  1.000000   \n",
       "proposed_credit_limit             1000000.0  8.024514e-17  1.000001   \n",
       "foreign_request                   1000000.0  1.346834e-17  1.000000   \n",
       "source                            1000000.0 -4.953371e-17  1.000001   \n",
       "session_length_in_minutes         1000000.0 -1.219931e-16  1.000001   \n",
       "device_os                         1000000.0  4.686029e-17  1.000001   \n",
       "keep_alive_session                1000000.0  5.731238e-17  1.000000   \n",
       "device_distinct_emails_8w         1000000.0 -6.069563e-16  1.000000   \n",
       "month                             1000000.0 -9.134737e-17  1.000001   \n",
       "fraud_bool                        1000000.0  1.102900e-02  0.104438   \n",
       "\n",
       "                                        min       25%       50%       75%  \\\n",
       "income                            -1.593620 -0.904778  0.128484  0.817326   \n",
       "name_email_similarity             -1.707543 -0.928588 -0.005332  0.905745   \n",
       "prev_address_months_count         -0.402272 -0.402272 -0.402272 -0.107128   \n",
       "current_address_months_count      -0.990740 -0.764512 -0.391236  0.491051   \n",
       "customer_age                      -1.969856 -1.138310 -0.306764  0.524782   \n",
       "days_since_request                -0.190587 -0.189250 -0.187767 -0.185694   \n",
       "intended_balcon_amount            -1.195487 -0.486406 -0.469062 -0.181721   \n",
       "payment_type                      -1.274973 -1.274973 -0.240397  0.794179   \n",
       "zip_count_4w                      -1.563291 -0.675064 -0.308037  0.369323   \n",
       "velocity_6h                       -1.939237 -0.740661 -0.114817  0.669713   \n",
       "velocity_24h                      -2.345489 -0.795425 -0.013427  0.664403   \n",
       "velocity_4w                       -2.207523 -0.639191  0.062090  0.686812   \n",
       "bank_branch_count_8w              -0.401114 -0.398938 -0.381532 -0.346721   \n",
       "date_of_birth_distinct_emails_4w  -1.887950 -0.696005 -0.100033  0.694597   \n",
       "employment_status                 -0.474043 -0.474043 -0.474043  0.306879   \n",
       "credit_risk_score                 -4.319488 -0.688696 -0.129009  0.674644   \n",
       "email_is_free                     -1.061670 -1.061670  0.941912  0.941912   \n",
       "housing_status                    -1.395675 -0.607216  0.181242  0.181242   \n",
       "phone_home_valid                  -0.845868 -0.845868 -0.845868  1.182218   \n",
       "phone_mobile_valid                -2.839755  0.352143  0.352143  0.352143   \n",
       "bank_months_count                 -0.977093 -0.977093 -0.481915  1.168676   \n",
       "has_other_cards                   -0.535706 -0.535706 -0.535706 -0.535706   \n",
       "proposed_credit_limit             -0.668331 -0.647820 -0.647820 -0.032511   \n",
       "foreign_request                   -0.160921 -0.160921 -0.160921 -0.160921   \n",
       "source                            -0.084250 -0.084250 -0.084250 -0.084250   \n",
       "session_length_in_minutes         -1.063716 -0.552948 -0.302575  0.164468   \n",
       "device_os                         -1.107944 -1.107944 -0.503488  1.309880   \n",
       "keep_alive_session                -1.167806 -1.167806  0.856307  0.856307   \n",
       "device_distinct_emails_8w        -11.165616 -0.101305 -0.101305 -0.101305   \n",
       "month                             -1.488092 -1.035602 -0.130622  0.774358   \n",
       "fraud_bool                         0.000000  0.000000  0.000000  0.000000   \n",
       "\n",
       "                                        max  \n",
       "income                             1.161747  \n",
       "name_email_similarity              1.751166  \n",
       "prev_address_months_count          8.315845  \n",
       "current_address_months_count       3.861842  \n",
       "customer_age                       4.682512  \n",
       "days_since_request                14.387517  \n",
       "intended_balcon_amount             5.153918  \n",
       "payment_type                       2.863330  \n",
       "zip_count_4w                       5.099901  \n",
       "velocity_6h                        3.671943  \n",
       "velocity_24h                       3.202458  \n",
       "velocity_4w                        2.324787  \n",
       "bank_branch_count_8w               4.787898  \n",
       "date_of_birth_distinct_emails_4w   5.859692  \n",
       "employment_status                  4.211486  \n",
       "credit_risk_score                  3.702696  \n",
       "email_is_free                      0.941912  \n",
       "housing_status                     3.335076  \n",
       "phone_home_valid                   1.182218  \n",
       "phone_mobile_valid                 0.352143  \n",
       "bank_months_count                  1.746383  \n",
       "has_other_cards                    1.866694  \n",
       "proposed_credit_limit              3.249139  \n",
       "foreign_request                    6.214219  \n",
       "source                            11.869466  \n",
       "session_length_in_minutes          9.753916  \n",
       "device_os                          1.309880  \n",
       "keep_alive_session                 0.856307  \n",
       "device_distinct_emails_8w          5.430851  \n",
       "month                              1.679338  \n",
       "fraud_bool                         1.000000  "
      ]
     },
     "execution_count": 20,
     "metadata": {},
     "output_type": "execute_result"
    }
   ],
   "source": [
    "pd_fraud_std.describe().T"
   ]
  },
  {
   "cell_type": "markdown",
   "id": "78d97851",
   "metadata": {},
   "source": [
    "Como muestra la anterior línea de código, las variables del conjunto de datos poseen media 0 y desviación típica 1, por lo que quedan estandarizadas.\n",
    "\n",
    "Por ello, el dataframe 'pd_fraud_std' va a ser el que utilicemos en la selección de variables."
   ]
  },
  {
   "cell_type": "markdown",
   "id": "ef9d9c50",
   "metadata": {},
   "source": [
    "## Métodos de selección de las variables más importantes"
   ]
  },
  {
   "cell_type": "markdown",
   "id": "88c5c936",
   "metadata": {},
   "source": [
    "## 1. SelectFromModel\n",
    "[Información adicional](https://scikit-learn.org/stable/modules/generated/sklearn.feature_selection.SelectFromModel.html)"
   ]
  },
  {
   "cell_type": "markdown",
   "id": "66a2593b",
   "metadata": {},
   "source": [
    "SelectFromModel es una herramienta que puedes emplear junto a cualquier modelo que atribuya importancia a cada variable mediante un atributo específico, como coef_ o feature_importances. Elimina las características consideradas \"poco importantes\" si su importancia, medida por el umbral especificado, está por debajo de cierto valor. Además de establecer el umbral numéricamente, puedes utilizar heurísticas integradas, como \"media\", \"mediana\" o múltiplos flotantes de estas, como \"0,1*media\". También, puedes limitar el número de características seleccionadas con el parámetro max_features en combinación con el criterio de umbral.\n",
    "\n",
    "\n",
    "[Información sobre elección de variables](https://scikit-learn.org/stable/modules/feature_selection.html)"
   ]
  },
  {
   "cell_type": "markdown",
   "id": "dfa183b9",
   "metadata": {},
   "source": [
    "### * Regresiones con regularización"
   ]
  },
  {
   "cell_type": "markdown",
   "id": "7548bd3c",
   "metadata": {},
   "source": [
    "En las regresiones con regularización, se introducen penalizaciones durante el ajuste mediante mínimos cuadrados ordinarios (OLS). El propósito es evitar el sobreajuste, reducir la variabilidad, contrarrestar la correlación entre predictores y minimizar la influencia de los predictores menos importantes en el modelo. Por lo general, al aplicar regularización, se logran modelos con una capacidad predictiva mejorada y una mejor generalización\n",
    "Debido a que estos métodos de regularización afectan la magnitud de los coeficientes del modelo, es crucial que todos estén en la misma escala. Por esta razón, se requiere estandarizar o normalizar los predictores antes de entrenar el modelo."
   ]
  },
  {
   "cell_type": "markdown",
   "id": "318a21bb",
   "metadata": {},
   "source": [
    "### - Regularización Ridge"
   ]
  },
  {
   "cell_type": "markdown",
   "id": "1f14c1a5",
   "metadata": {},
   "source": [
    "La regularización Ridge es una técnica que aplica una penalización a la suma de los coeficientes estimados, elevados al cuadrado. Esta penalización, conocida como \"l2\", tiene el efecto de reducir de manera proporcional el valor de todos los coeficientes del modelo, pero evita que lleguen a cero.\n",
    "\n",
    "El grado de penalización está controlado por el hiperparámetro λ. Cuando λ=0, no hay penalización, y el resultado es equivalente al de un modelo line al mediante mínimos cuadrados ordinarios (OLS). A medida que λ aumenta, la penalización se intensifica, lo que conlleva a valores más pequeños para los predictores en el modelo.\n",
    "\n",
    "[Información adicional](https://scikit-learn.org/stable/modules/generated/sklearn.linear_model.ridge_regression.html)"
   ]
  },
  {
   "cell_type": "code",
   "execution_count": 69,
   "id": "feba5a96",
   "metadata": {},
   "outputs": [
    {
     "name": "stdout",
     "output_type": "stream",
     "text": [
      "Total de características: 30\n",
      "Características seleccionadas: 12\n",
      "Variables seleccionadas: income, name_email_similarity, prev_address_months_count, customer_age, employment_status, credit_risk_score, email_is_free, housing_status, phone_home_valid, has_other_cards, device_os, keep_alive_session\n"
     ]
    },
    {
     "data": {
      "image/png": "[encoded data removed]",
      "text/plain": [
       "<Figure size 1600x384 with 1 Axes>"
      ]
     },
     "metadata": {},
     "output_type": "display_data"
    }
   ],
   "source": [
    "from sklearn.linear_model import LogisticRegression\n",
    "from sklearn.feature_selection import SelectFromModel\n",
    "import matplotlib.pyplot as plt\n",
    "\n",
    "def logistic_ridge(X, y):\n",
    "    sel_ridge = SelectFromModel(LogisticRegression(C=1, penalty='l2'), threshold=0.2)\n",
    "    # tras observar las importancias de las variables añadimos un threshold de 0.2\n",
    "    \n",
    "    sel_ridge.fit(X, y)\n",
    "    \n",
    "    # Coeficientes del modelo\n",
    "    df_coeficientes = pd.DataFrame(\n",
    "        {'predictor': X.columns,\n",
    "         'coef': sel_ridge.estimator_.coef_.flatten()}\n",
    "    )\n",
    "\n",
    "    # Visualizar los coeficientes\n",
    "    fig, ax = plt.subplots(figsize=(16, 3.84))\n",
    "    ax.stem(df_coeficientes.predictor, df_coeficientes.coef, markerfmt=' ')\n",
    "    plt.xticks(rotation=90, ha='right', size=10)\n",
    "    ax.set_xlabel('variable')\n",
    "    ax.set_ylabel('coeficientes')\n",
    "    ax.set_title('Coeficientes del modelo ridge (Logistic Regression)')\n",
    "\n",
    "    # Obtener las características seleccionadas\n",
    "    selected_feat = X.columns[sel_ridge.get_support()]\n",
    "\n",
    "    print('Total de características: {}'.format(X.shape[1]))\n",
    "    print('Características seleccionadas: {}'.format(len(selected_feat)))\n",
    "    print('Variables seleccionadas: ' + ', '.join(selected_feat))\n",
    "\n",
    "    return selected_feat\n",
    "\n",
    "# Llama a la función logistic_ridge con el DataFrame estandarizado\n",
    "selected_features_logistic_ridge = logistic_ridge(pd_fraud_std.drop(['fraud_bool'], axis=1), pd_fraud_std['fraud_bool'])\n"
   ]
  },
  {
   "cell_type": "code",
   "execution_count": 70,
   "id": "c6019f37",
   "metadata": {},
   "outputs": [
    {
     "data": {
      "text/html": [
       "<style>#sk-container-id-3 {color: black;}#sk-container-id-3 pre{padding: 0;}#sk-container-id-3 div.sk-toggleable {background-color: white;}#sk-container-id-3 label.sk-toggleable__label {cursor: pointer;display: block;width: 100%;margin-bottom: 0;padding: 0.3em;box-sizing: border-box;text-align: center;}#sk-container-id-3 label.sk-toggleable__label-arrow:before {content: \"▸\";float: left;margin-right: 0.25em;color: #696969;}#sk-container-id-3 label.sk-toggleable__label-arrow:hover:before {color: black;}#sk-container-id-3 div.sk-estimator:hover label.sk-toggleable__label-arrow:before {color: black;}#sk-container-id-3 div.sk-toggleable__content {max-height: 0;max-width: 0;overflow: hidden;text-align: left;background-color: #f0f8ff;}#sk-container-id-3 div.sk-toggleable__content pre {margin: 0.2em;color: black;border-radius: 0.25em;background-color: #f0f8ff;}#sk-container-id-3 input.sk-toggleable__control:checked~div.sk-toggleable__content {max-height: 200px;max-width: 100%;overflow: auto;}#sk-container-id-3 input.sk-toggleable__control:checked~label.sk-toggleable__label-arrow:before {content: \"▾\";}#sk-container-id-3 div.sk-estimator input.sk-toggleable__control:checked~label.sk-toggleable__label {background-color: #d4ebff;}#sk-container-id-3 div.sk-label input.sk-toggleable__control:checked~label.sk-toggleable__label {background-color: #d4ebff;}#sk-container-id-3 input.sk-hidden--visually {border: 0;clip: rect(1px 1px 1px 1px);clip: rect(1px, 1px, 1px, 1px);height: 1px;margin: -1px;overflow: hidden;padding: 0;position: absolute;width: 1px;}#sk-container-id-3 div.sk-estimator {font-family: monospace;background-color: #f0f8ff;border: 1px dotted black;border-radius: 0.25em;box-sizing: border-box;margin-bottom: 0.5em;}#sk-container-id-3 div.sk-estimator:hover {background-color: #d4ebff;}#sk-container-id-3 div.sk-parallel-item::after {content: \"\";width: 100%;border-bottom: 1px solid gray;flex-grow: 1;}#sk-container-id-3 div.sk-label:hover label.sk-toggleable__label {background-color: #d4ebff;}#sk-container-id-3 div.sk-serial::before {content: \"\";position: absolute;border-left: 1px solid gray;box-sizing: border-box;top: 0;bottom: 0;left: 50%;z-index: 0;}#sk-container-id-3 div.sk-serial {display: flex;flex-direction: column;align-items: center;background-color: white;padding-right: 0.2em;padding-left: 0.2em;position: relative;}#sk-container-id-3 div.sk-item {position: relative;z-index: 1;}#sk-container-id-3 div.sk-parallel {display: flex;align-items: stretch;justify-content: center;background-color: white;position: relative;}#sk-container-id-3 div.sk-item::before, #sk-container-id-3 div.sk-parallel-item::before {content: \"\";position: absolute;border-left: 1px solid gray;box-sizing: border-box;top: 0;bottom: 0;left: 50%;z-index: -1;}#sk-container-id-3 div.sk-parallel-item {display: flex;flex-direction: column;z-index: 1;position: relative;background-color: white;}#sk-container-id-3 div.sk-parallel-item:first-child::after {align-self: flex-end;width: 50%;}#sk-container-id-3 div.sk-parallel-item:last-child::after {align-self: flex-start;width: 50%;}#sk-container-id-3 div.sk-parallel-item:only-child::after {width: 0;}#sk-container-id-3 div.sk-dashed-wrapped {border: 1px dashed gray;margin: 0 0.4em 0.5em 0.4em;box-sizing: border-box;padding-bottom: 0.4em;background-color: white;}#sk-container-id-3 div.sk-label label {font-family: monospace;font-weight: bold;display: inline-block;line-height: 1.2em;}#sk-container-id-3 div.sk-label-container {text-align: center;}#sk-container-id-3 div.sk-container {/* jupyter's `normalize.less` sets `[hidden] { display: none; }` but bootstrap.min.css set `[hidden] { display: none !important; }` so we also need the `!important` here to be able to override the default hidden behavior on the sphinx rendered scikit-learn.org. See: https://github.com/scikit-learn/scikit-learn/issues/21755 */display: inline-block !important;position: relative;}#sk-container-id-3 div.sk-text-repr-fallback {display: none;}</style><div id=\"sk-container-id-3\" class=\"sk-top-container\"><div class=\"sk-text-repr-fallback\"><pre>SelectFromModel(estimator=LogisticRegression(C=1), threshold=0.2)</pre><b>In a Jupyter environment, please rerun this cell to show the HTML representation or trust the notebook. <br />On GitHub, the HTML representation is unable to render, please try loading this page with nbviewer.org.</b></div><div class=\"sk-container\" hidden><div class=\"sk-item sk-dashed-wrapped\"><div class=\"sk-label-container\"><div class=\"sk-label sk-toggleable\"><input class=\"sk-toggleable__control sk-hidden--visually\" id=\"sk-estimator-id-7\" type=\"checkbox\" ><label for=\"sk-estimator-id-7\" class=\"sk-toggleable__label sk-toggleable__label-arrow\">SelectFromModel</label><div class=\"sk-toggleable__content\"><pre>SelectFromModel(estimator=LogisticRegression(C=1), threshold=0.2)</pre></div></div></div><div class=\"sk-parallel\"><div class=\"sk-parallel-item\"><div class=\"sk-item\"><div class=\"sk-label-container\"><div class=\"sk-label sk-toggleable\"><input class=\"sk-toggleable__control sk-hidden--visually\" id=\"sk-estimator-id-8\" type=\"checkbox\" ><label for=\"sk-estimator-id-8\" class=\"sk-toggleable__label sk-toggleable__label-arrow\">estimator: LogisticRegression</label><div class=\"sk-toggleable__content\"><pre>LogisticRegression(C=1)</pre></div></div></div><div class=\"sk-serial\"><div class=\"sk-item\"><div class=\"sk-estimator sk-toggleable\"><input class=\"sk-toggleable__control sk-hidden--visually\" id=\"sk-estimator-id-9\" type=\"checkbox\" ><label for=\"sk-estimator-id-9\" class=\"sk-toggleable__label sk-toggleable__label-arrow\">LogisticRegression</label><div class=\"sk-toggleable__content\"><pre>LogisticRegression(C=1)</pre></div></div></div></div></div></div></div></div></div></div>"
      ],
      "text/plain": [
       "SelectFromModel(estimator=LogisticRegression(C=1), threshold=0.2)"
      ]
     },
     "execution_count": 70,
     "metadata": {},
     "output_type": "execute_result"
    }
   ],
   "source": [
    "sel_ridge = SelectFromModel(LogisticRegression(C=1, penalty='l2'), threshold = 0.2)\n",
    "# Instancia de un modelo de regresión logística con regularización l2. \n",
    "# El parámetro C controla la fuerza de la regularización, y penalty='l2' especifica el tipo de regularización.\n",
    "# El modelo selecciona las características si sus coeficientes son mayores que 0.2.\n",
    "\n",
    "sel_ridge.fit(pd_fraud_std.drop(['fraud_bool'], axis=1), pd_fraud_std['fraud_bool'])"
   ]
  },
  {
   "cell_type": "code",
   "execution_count": 71,
   "id": "35d65e43",
   "metadata": {},
   "outputs": [
    {
     "data": {
      "image/png": "[encoded data removed]",
      "text/plain": [
       "<Figure size 1600x384 with 1 Axes>"
      ]
     },
     "metadata": {},
     "output_type": "display_data"
    }
   ],
   "source": [
    "# Coeficientes del modelo\n",
    "# ==============================================================================\n",
    "df_coeficientes = pd.DataFrame(\n",
    "                        {'predictor': pd_fraud_std.drop(['fraud_bool'], axis=1).columns,\n",
    "                         'coef': sel_ridge.estimator_.coef_.flatten()}\n",
    "                  )\n",
    "\n",
    "fig, ax = plt.subplots(figsize=(16, 3.84))\n",
    "ax.stem(df_coeficientes.predictor, df_coeficientes.coef, markerfmt=' ')\n",
    "plt.xticks(rotation=90, ha='right', size=10)\n",
    "ax.set_xlabel('variable')\n",
    "ax.set_ylabel('coeficientes')\n",
    "ax.set_title('Coeficientes del modelo ridge');"
   ]
  },
  {
   "cell_type": "markdown",
   "id": "04165737",
   "metadata": {},
   "source": [
    "Se observa la existencia tanto de correlaciones positivas como negativas."
   ]
  },
  {
   "cell_type": "code",
   "execution_count": 72,
   "id": "0453d2f9",
   "metadata": {},
   "outputs": [
    {
     "data": {
      "text/plain": [
       "Index(['income', 'name_email_similarity', 'prev_address_months_count',\n",
       "       'customer_age', 'employment_status', 'credit_risk_score',\n",
       "       'email_is_free', 'housing_status', 'phone_home_valid',\n",
       "       'has_other_cards', 'device_os', 'keep_alive_session'],\n",
       "      dtype='object')"
      ]
     },
     "execution_count": 72,
     "metadata": {},
     "output_type": "execute_result"
    }
   ],
   "source": [
    "sel_ridge.get_support()\n",
    "selected_feat = pd_fraud_std.drop(['fraud_bool'], axis=1).columns[sel_ridge.get_support()]\n",
    "selected_feat"
   ]
  },
  {
   "cell_type": "code",
   "execution_count": 73,
   "id": "2b89fc82",
   "metadata": {},
   "outputs": [
    {
     "name": "stdout",
     "output_type": "stream",
     "text": [
      "total features: 30\n",
      "selected features: 12\n"
     ]
    }
   ],
   "source": [
    "print('total features: {}'.format((pd_fraud_std.drop(['fraud_bool'], axis=1).shape[1])))\n",
    "print('selected features: {}'.format(len(selected_feat)))"
   ]
  },
  {
   "cell_type": "markdown",
   "id": "e224703f",
   "metadata": {},
   "source": [
    "#### Conclusiones regularización Ridge\n",
    "\n",
    "\n",
    "Observamos que la regularización de Ridge selecciona 12 de las 30 variables al establecer un threshold=0.2. A continuación, comprobaremos los resultados que se obtienen con Lasso. "
   ]
  },
  {
   "cell_type": "markdown",
   "id": "9dca809f",
   "metadata": {},
   "source": [
    "### - Regularización Lasso"
   ]
  },
  {
   "cell_type": "markdown",
   "id": "7d8f7219",
   "metadata": {},
   "source": [
    "La regresión Lasso, que utiliza la penalización L1, permite que algunos coeficientes sean exactamente cero. En el contexto de la función SelectFromModel, si no se proporcionan parámetros, esta técnica conserva todas las variables cuyos coeficientes no son cero. Sin embargo, si se desea limitar el número de variables seleccionadas, es necesario especificar valores para los parámetros correspondientes.\n",
    "\n",
    "[Información adicional](https://scikit-learn.org/stable/modules/generated/sklearn.linear_model.Lasso.html)"
   ]
  },
  {
   "cell_type": "code",
   "execution_count": 56,
   "id": "da5d1571",
   "metadata": {},
   "outputs": [
    {
     "data": {
      "text/html": [
       "<style>#sk-container-id-2 {color: black;}#sk-container-id-2 pre{padding: 0;}#sk-container-id-2 div.sk-toggleable {background-color: white;}#sk-container-id-2 label.sk-toggleable__label {cursor: pointer;display: block;width: 100%;margin-bottom: 0;padding: 0.3em;box-sizing: border-box;text-align: center;}#sk-container-id-2 label.sk-toggleable__label-arrow:before {content: \"▸\";float: left;margin-right: 0.25em;color: #696969;}#sk-container-id-2 label.sk-toggleable__label-arrow:hover:before {color: black;}#sk-container-id-2 div.sk-estimator:hover label.sk-toggleable__label-arrow:before {color: black;}#sk-container-id-2 div.sk-toggleable__content {max-height: 0;max-width: 0;overflow: hidden;text-align: left;background-color: #f0f8ff;}#sk-container-id-2 div.sk-toggleable__content pre {margin: 0.2em;color: black;border-radius: 0.25em;background-color: #f0f8ff;}#sk-container-id-2 input.sk-toggleable__control:checked~div.sk-toggleable__content {max-height: 200px;max-width: 100%;overflow: auto;}#sk-container-id-2 input.sk-toggleable__control:checked~label.sk-toggleable__label-arrow:before {content: \"▾\";}#sk-container-id-2 div.sk-estimator input.sk-toggleable__control:checked~label.sk-toggleable__label {background-color: #d4ebff;}#sk-container-id-2 div.sk-label input.sk-toggleable__control:checked~label.sk-toggleable__label {background-color: #d4ebff;}#sk-container-id-2 input.sk-hidden--visually {border: 0;clip: rect(1px 1px 1px 1px);clip: rect(1px, 1px, 1px, 1px);height: 1px;margin: -1px;overflow: hidden;padding: 0;position: absolute;width: 1px;}#sk-container-id-2 div.sk-estimator {font-family: monospace;background-color: #f0f8ff;border: 1px dotted black;border-radius: 0.25em;box-sizing: border-box;margin-bottom: 0.5em;}#sk-container-id-2 div.sk-estimator:hover {background-color: #d4ebff;}#sk-container-id-2 div.sk-parallel-item::after {content: \"\";width: 100%;border-bottom: 1px solid gray;flex-grow: 1;}#sk-container-id-2 div.sk-label:hover label.sk-toggleable__label {background-color: #d4ebff;}#sk-container-id-2 div.sk-serial::before {content: \"\";position: absolute;border-left: 1px solid gray;box-sizing: border-box;top: 0;bottom: 0;left: 50%;z-index: 0;}#sk-container-id-2 div.sk-serial {display: flex;flex-direction: column;align-items: center;background-color: white;padding-right: 0.2em;padding-left: 0.2em;position: relative;}#sk-container-id-2 div.sk-item {position: relative;z-index: 1;}#sk-container-id-2 div.sk-parallel {display: flex;align-items: stretch;justify-content: center;background-color: white;position: relative;}#sk-container-id-2 div.sk-item::before, #sk-container-id-2 div.sk-parallel-item::before {content: \"\";position: absolute;border-left: 1px solid gray;box-sizing: border-box;top: 0;bottom: 0;left: 50%;z-index: -1;}#sk-container-id-2 div.sk-parallel-item {display: flex;flex-direction: column;z-index: 1;position: relative;background-color: white;}#sk-container-id-2 div.sk-parallel-item:first-child::after {align-self: flex-end;width: 50%;}#sk-container-id-2 div.sk-parallel-item:last-child::after {align-self: flex-start;width: 50%;}#sk-container-id-2 div.sk-parallel-item:only-child::after {width: 0;}#sk-container-id-2 div.sk-dashed-wrapped {border: 1px dashed gray;margin: 0 0.4em 0.5em 0.4em;box-sizing: border-box;padding-bottom: 0.4em;background-color: white;}#sk-container-id-2 div.sk-label label {font-family: monospace;font-weight: bold;display: inline-block;line-height: 1.2em;}#sk-container-id-2 div.sk-label-container {text-align: center;}#sk-container-id-2 div.sk-container {/* jupyter's `normalize.less` sets `[hidden] { display: none; }` but bootstrap.min.css set `[hidden] { display: none !important; }` so we also need the `!important` here to be able to override the default hidden behavior on the sphinx rendered scikit-learn.org. See: https://github.com/scikit-learn/scikit-learn/issues/21755 */display: inline-block !important;position: relative;}#sk-container-id-2 div.sk-text-repr-fallback {display: none;}</style><div id=\"sk-container-id-2\" class=\"sk-top-container\"><div class=\"sk-text-repr-fallback\"><pre>SelectFromModel(estimator=LogisticRegression(C=1, penalty=&#x27;l1&#x27;,\n",
       "                                             solver=&#x27;liblinear&#x27;),\n",
       "                threshold=0.2)</pre><b>In a Jupyter environment, please rerun this cell to show the HTML representation or trust the notebook. <br />On GitHub, the HTML representation is unable to render, please try loading this page with nbviewer.org.</b></div><div class=\"sk-container\" hidden><div class=\"sk-item sk-dashed-wrapped\"><div class=\"sk-label-container\"><div class=\"sk-label sk-toggleable\"><input class=\"sk-toggleable__control sk-hidden--visually\" id=\"sk-estimator-id-4\" type=\"checkbox\" ><label for=\"sk-estimator-id-4\" class=\"sk-toggleable__label sk-toggleable__label-arrow\">SelectFromModel</label><div class=\"sk-toggleable__content\"><pre>SelectFromModel(estimator=LogisticRegression(C=1, penalty=&#x27;l1&#x27;,\n",
       "                                             solver=&#x27;liblinear&#x27;),\n",
       "                threshold=0.2)</pre></div></div></div><div class=\"sk-parallel\"><div class=\"sk-parallel-item\"><div class=\"sk-item\"><div class=\"sk-label-container\"><div class=\"sk-label sk-toggleable\"><input class=\"sk-toggleable__control sk-hidden--visually\" id=\"sk-estimator-id-5\" type=\"checkbox\" ><label for=\"sk-estimator-id-5\" class=\"sk-toggleable__label sk-toggleable__label-arrow\">estimator: LogisticRegression</label><div class=\"sk-toggleable__content\"><pre>LogisticRegression(C=1, penalty=&#x27;l1&#x27;, solver=&#x27;liblinear&#x27;)</pre></div></div></div><div class=\"sk-serial\"><div class=\"sk-item\"><div class=\"sk-estimator sk-toggleable\"><input class=\"sk-toggleable__control sk-hidden--visually\" id=\"sk-estimator-id-6\" type=\"checkbox\" ><label for=\"sk-estimator-id-6\" class=\"sk-toggleable__label sk-toggleable__label-arrow\">LogisticRegression</label><div class=\"sk-toggleable__content\"><pre>LogisticRegression(C=1, penalty=&#x27;l1&#x27;, solver=&#x27;liblinear&#x27;)</pre></div></div></div></div></div></div></div></div></div></div>"
      ],
      "text/plain": [
       "SelectFromModel(estimator=LogisticRegression(C=1, penalty='l1',\n",
       "                                             solver='liblinear'),\n",
       "                threshold=0.2)"
      ]
     },
     "execution_count": 56,
     "metadata": {},
     "output_type": "execute_result"
    }
   ],
   "source": [
    "sel_lasso = SelectFromModel(LogisticRegression(C=1, penalty='l1', \n",
    "                                          solver='liblinear'), threshold = 0.20) \n",
    "# Instancia de un modelo de regresión logística, con regularización L1. \n",
    "# La regularización L1 es conocida por crear dispersión en los coeficientes,\n",
    "# y solver='liblinear' es un algoritmo específico para resolver problemas de optimización asociados con la regularización L1.\n",
    "# 'Threshold=0.20', se seleccionan las características si sus coeficientes son mayores que 0.20.\n",
    "\n",
    "\n",
    "sel_lasso.fit(pd_fraud_std.drop(['fraud_bool'], axis=1), pd_fraud_std['fraud_bool'])"
   ]
  },
  {
   "cell_type": "code",
   "execution_count": 62,
   "id": "f35f2cfb",
   "metadata": {},
   "outputs": [
    {
     "data": {
      "text/plain": [
       "Index(['income', 'name_email_similarity', 'prev_address_months_count',\n",
       "       'customer_age', 'employment_status', 'credit_risk_score',\n",
       "       'email_is_free', 'housing_status', 'phone_home_valid',\n",
       "       'has_other_cards', 'device_os', 'keep_alive_session'],\n",
       "      dtype='object')"
      ]
     },
     "execution_count": 62,
     "metadata": {},
     "output_type": "execute_result"
    }
   ],
   "source": [
    "sel_lasso.get_support()\n",
    "selected_feat_lasso = pd_fraud_std.drop(['fraud_bool'], axis=1).columns[sel_lasso.get_support()]\n",
    "selected_feat_lasso"
   ]
  },
  {
   "cell_type": "code",
   "execution_count": 63,
   "id": "a4e9b6dd",
   "metadata": {},
   "outputs": [
    {
     "name": "stdout",
     "output_type": "stream",
     "text": [
      "total features: 30\n",
      "selected features: 12\n"
     ]
    }
   ],
   "source": [
    "print('total features: {}'.format((pd_fraud_std.drop(['fraud_bool'], axis=1).shape[1])))\n",
    "print('selected features: {}'.format(len(selected_feat_lasso)))"
   ]
  },
  {
   "cell_type": "code",
   "execution_count": 64,
   "id": "2bae68f0",
   "metadata": {
    "scrolled": false
   },
   "outputs": [
    {
     "data": {
      "image/png": "[encoded data removed]",
      "text/plain": [
       "<Figure size 1600x384 with 1 Axes>"
      ]
     },
     "metadata": {},
     "output_type": "display_data"
    }
   ],
   "source": [
    "# Coeficientes del modelo\n",
    "# ==============================================================================\n",
    "df_coeficientes_lasso = pd.DataFrame(\n",
    "                        {'predictor': pd_fraud_std.drop(['fraud_bool'], axis=1).columns,\n",
    "                         'coef': sel_lasso.estimator_.coef_.flatten()}\n",
    "                  )\n",
    "\n",
    "fig, ax = plt.subplots(figsize=(16, 3.84))\n",
    "ax.stem(df_coeficientes_lasso.predictor, df_coeficientes_lasso.coef, markerfmt=' ')\n",
    "plt.xticks(rotation=90, ha='right', size=10)\n",
    "ax.set_xlabel('variable')\n",
    "ax.set_ylabel('coeficientes')\n",
    "ax.set_title('Coeficientes del modelo lasso');"
   ]
  },
  {
   "cell_type": "code",
   "execution_count": 74,
   "id": "ce77d0c8",
   "metadata": {},
   "outputs": [
    {
     "name": "stdout",
     "output_type": "stream",
     "text": [
      "Index(['income', 'name_email_similarity', 'prev_address_months_count',\n",
      "       'customer_age', 'employment_status', 'credit_risk_score',\n",
      "       'email_is_free', 'housing_status', 'phone_home_valid',\n",
      "       'has_other_cards', 'device_os', 'keep_alive_session'],\n",
      "      dtype='object')\n",
      "Index(['income', 'name_email_similarity', 'prev_address_months_count',\n",
      "       'customer_age', 'employment_status', 'credit_risk_score',\n",
      "       'email_is_free', 'housing_status', 'phone_home_valid',\n",
      "       'has_other_cards', 'device_os', 'keep_alive_session'],\n",
      "      dtype='object')\n"
     ]
    }
   ],
   "source": [
    "print(selected_feat_lasso)\n",
    "print(selected_features_logistic_ridge)"
   ]
  },
  {
   "cell_type": "markdown",
   "id": "c08dd13e",
   "metadata": {},
   "source": [
    "#### Conclusiones regularización Lasso\n",
    "\n",
    "La regularización Lasso al igual que Ridge selecciona únicamente 12 de 30 variables con un threshold=0.2; es más, selecciona no solo la misma cantidad de variables sino las mismas. Además, ninguna de las velocidades es escogida a través de este técnica, por lo que se podría confirmar de nuevo que una combinación de las tres velocidades por su media aritmética podría ser relevante (en vez, de permanecer las tres variables por separado).\n",
    "\n",
    "Observamos que los mayores coeficientes otorgados por Lasso son a las variables 'housing_status', 'has_other_cards', y 'phone_home_valid'. En valor absoluto algo más de un 0.4.\n",
    "Como comprobamos en anteriores notebooks, ya dijimos que la variables 'housing_status' era muy relevante, por lo que seguimos afirmando lo mencionado anteriormente.\n",
    "En cuanto a las otras dos variables, seguiremos teniéndolas en cuenta en futuros análisis previos a la realización de los algoritmos.\n",
    "\n",
    "Sin embargo, consideramos que por el significado que cada variable da al conjunto de datos (comprobado en el diccionario de datos del dataset), ninguna otra variable sería susceptible de ser eliminada por ahora."
   ]
  },
  {
   "cell_type": "markdown",
   "id": "1410dc96",
   "metadata": {},
   "source": [
    "### Comparación ridge y Lasso"
   ]
  },
  {
   "cell_type": "markdown",
   "id": "096d8c04",
   "metadata": {},
   "source": [
    "![texto](https://keepcoding.io/wp-content/uploads/2022/12/image-40-1024x363.png)"
   ]
  },
  {
   "cell_type": "markdown",
   "id": "bfd14214",
   "metadata": {},
   "source": [
    "Una distinción clave entre lasso y ridge radica en que lasso puede llevar algunos coeficientes a ser exactamente cero, realizando así una selección de variables para la predicción, mientras que ridge no excluye ninguno de manera completa. Este aspecto destaca la ventaja de lasso en situaciones donde no todos los predictores son cruciales para el modelo y se busca la exclusión de los menos influyentes.\n",
    "En contraste, cuando se enfrenta a predictores altamente correlacionados, ridge reduce su influencia de manera simultánea y proporcional en todos ellos.\n",
    "\n",
    "Para alcanzar un equilibrio óptimo entre estas dos propiedades, se puede recurrir a lo que se denomina penalización [Elastic Net](https://scikit-learn.org/stable/modules/generated/sklearn.linear_model.ElasticNet.html), que combina ambas estrategias de manera efectiva."
   ]
  },
  {
   "cell_type": "markdown",
   "id": "f154b437",
   "metadata": {},
   "source": [
    "## 2. RFE"
   ]
  },
  {
   "cell_type": "markdown",
   "id": "bd177bc2",
   "metadata": {},
   "source": [
    "Dentro del contexto de la eliminación recursiva de características (RFE), se trabaja con un estimador externo que asigna pesos a las características, como los coeficientes de un modelo lineal. El propósito principal de RFE es seleccionar estas características de manera recursiva, considerando conjuntos cada vez más reducidos de variables. En la primera fase, el estimador se entrena utilizando el conjunto completo de variables, y se evalúa la importancia de cada una mediante algún atributo especí\n",
    "específico. Luego, se eliminan las características menos relevantes del conjunto actual. Este proceso se repite de manera recursiva en el conjunto reducido hasta que se logra el número deseado de características a seleccionar.\n",
    "\n",
    "[Información adicional](https://machinelearningmastery.com/rfe-feature-selection-in-python/)"
   ]
  },
  {
   "cell_type": "code",
   "execution_count": 75,
   "id": "33022827",
   "metadata": {
    "scrolled": true
   },
   "outputs": [
    {
     "name": "stdout",
     "output_type": "stream",
     "text": [
      "Num Features: 12\n",
      "Selected Features: [False  True False  True False  True  True False  True  True  True  True\n",
      "  True  True False  True False False False False False False False False\n",
      " False  True False False False False]\n",
      "Feature Ranking: [ 6  1 12  1  5  1  1 10  1  1  1  1  1  1  9  1 13  7 14 17  2 16  3 18\n",
      " 19  1  8 15 11  4]\n"
     ]
    }
   ],
   "source": [
    "# feature extraction\n",
    "model = DecisionTreeClassifier()\n",
    "\n",
    "# model = RandomForestClassifier()\n",
    "rfe = RFE(model, n_features_to_select=12) \n",
    "# introduzco 12 como el valor deseado para selección de variables puesto que Ridge y Lasso han seleccionada esa cifra de variables\n",
    "\n",
    "fit = rfe.fit(pd_fraud_std.drop(['fraud_bool'], axis=1), pd_fraud_std['fraud_bool'])\n",
    "\n",
    "\n",
    "print(\"Num Features: %d\" % fit.n_features_)\n",
    "print(\"Selected Features: %s\" % fit.support_)\n",
    "print(\"Feature Ranking: %s\" % fit.ranking_)"
   ]
  },
  {
   "cell_type": "code",
   "execution_count": 76,
   "id": "08107e90",
   "metadata": {},
   "outputs": [
    {
     "name": "stdout",
     "output_type": "stream",
     "text": [
      "12 30\n"
     ]
    }
   ],
   "source": [
    "print(len(pd_fraud_std.drop(['fraud_bool'], axis=1).columns[fit.support_]), len(pd_fraud_std.drop(['fraud_bool'], axis=1).columns))"
   ]
  },
  {
   "cell_type": "code",
   "execution_count": 77,
   "id": "c0a1bc02",
   "metadata": {
    "scrolled": true
   },
   "outputs": [
    {
     "data": {
      "text/plain": [
       "Index(['name_email_similarity', 'current_address_months_count',\n",
       "       'days_since_request', 'intended_balcon_amount', 'zip_count_4w',\n",
       "       'velocity_6h', 'velocity_24h', 'velocity_4w', 'bank_branch_count_8w',\n",
       "       'date_of_birth_distinct_emails_4w', 'credit_risk_score',\n",
       "       'session_length_in_minutes'],\n",
       "      dtype='object')"
      ]
     },
     "execution_count": 77,
     "metadata": {},
     "output_type": "execute_result"
    }
   ],
   "source": [
    "pd_fraud_std.drop(['fraud_bool'], axis=1).columns[fit.support_]"
   ]
  },
  {
   "cell_type": "markdown",
   "id": "7648ba1c",
   "metadata": {},
   "source": [
    "Tras ver las variables seleccionadas y ver que no se han incluido variables como 'housing_status' o 'income' que ya hemos visto que tienen las correlaciones más altas con la variable objetivo y que son las que más valor obtienen con Lasso o Ridge decidimos no considerar la selección por RFE en nuestro análisis."
   ]
  },
  {
   "cell_type": "markdown",
   "id": "024b6201",
   "metadata": {},
   "source": [
    "### Eliminación de variables"
   ]
  },
  {
   "cell_type": "code",
   "execution_count": 30,
   "id": "1028f486",
   "metadata": {
    "scrolled": true
   },
   "outputs": [
    {
     "data": {
      "text/plain": [
       "fraud_bool                               2\n",
       "income                                   9\n",
       "name_email_similarity               998861\n",
       "prev_address_months_count              374\n",
       "current_address_months_count           423\n",
       "customer_age                             9\n",
       "days_since_request                  989330\n",
       "intended_balcon_amount              994971\n",
       "payment_type                             5\n",
       "zip_count_4w                          6306\n",
       "velocity_6h                         998687\n",
       "velocity_24h                        998940\n",
       "velocity_4w                         998318\n",
       "bank_branch_count_8w                  2326\n",
       "date_of_birth_distinct_emails_4w        40\n",
       "employment_status                        7\n",
       "credit_risk_score                      551\n",
       "email_is_free                            2\n",
       "housing_status                           7\n",
       "phone_home_valid                         2\n",
       "phone_mobile_valid                       2\n",
       "bank_months_count                       33\n",
       "has_other_cards                          2\n",
       "proposed_credit_limit                   12\n",
       "foreign_request                          2\n",
       "source                                   2\n",
       "session_length_in_minutes           994887\n",
       "device_os                                5\n",
       "keep_alive_session                       2\n",
       "device_distinct_emails_8w                4\n",
       "device_fraud_count                       1\n",
       "month                                    8\n",
       "dtype: int64"
      ]
     },
     "execution_count": 30,
     "metadata": {},
     "output_type": "execute_result"
    }
   ],
   "source": [
    "pd_fraud.nunique()"
   ]
  },
  {
   "cell_type": "markdown",
   "id": "4b4fcd33",
   "metadata": {},
   "source": [
    "A continuación, vamos a considerar la eliminación de otras variables según los resultados obtenidos hasta ahora en todos los notebooks."
   ]
  },
  {
   "cell_type": "markdown",
   "id": "d814a665",
   "metadata": {},
   "source": [
    "Vamos a analizar en mayor profundidad las variables prev_address_months_count y intended_balcon_amount puesto que como explicamos en el notebook 2 presentan muchos missings, y así poder decidir qué hacer con ellas."
   ]
  },
  {
   "cell_type": "code",
   "execution_count": 17,
   "id": "d1e89491",
   "metadata": {
    "scrolled": false
   },
   "outputs": [
    {
     "data": {
      "text/plain": [
       "<BarContainer object of 100 artists>"
      ]
     },
     "execution_count": 17,
     "metadata": {},
     "output_type": "execute_result"
    },
    {
     "data": {
      "image/png": "[encoded data removed]",
      "text/plain": [
       "<Figure size 640x480 with 1 Axes>"
      ]
     },
     "metadata": {},
     "output_type": "display_data"
    }
   ],
   "source": [
    "top_100_values = pd_fraud['prev_address_months_count'].value_counts().head(100)\n",
    "plt.barh(top_100_values.index, top_100_values)"
   ]
  },
  {
   "cell_type": "code",
   "execution_count": 67,
   "id": "b48d0163",
   "metadata": {
    "scrolled": false
   },
   "outputs": [
    {
     "data": {
      "text/plain": [
       "<BarContainer object of 500 artists>"
      ]
     },
     "execution_count": 67,
     "metadata": {},
     "output_type": "execute_result"
    },
    {
     "data": {
      "image/png": "[encoded data removed]",
      "text/plain": [
       "<Figure size 640x480 with 1 Axes>"
      ]
     },
     "metadata": {},
     "output_type": "display_data"
    }
   ],
   "source": [
    "top_100_values = pd_fraud['intended_balcon_amount'].value_counts().head(500)\n",
    "plt.barh(top_100_values.index, top_100_values)"
   ]
  },
  {
   "cell_type": "code",
   "execution_count": 69,
   "id": "0015009e",
   "metadata": {},
   "outputs": [
    {
     "data": {
      "text/plain": [
       "374"
      ]
     },
     "execution_count": 69,
     "metadata": {},
     "output_type": "execute_result"
    }
   ],
   "source": [
    "pd_fraud['prev_address_months_count'].nunique()"
   ]
  },
  {
   "cell_type": "code",
   "execution_count": 70,
   "id": "1790d375",
   "metadata": {},
   "outputs": [
    {
     "data": {
      "text/plain": [
       "994971"
      ]
     },
     "execution_count": 70,
     "metadata": {},
     "output_type": "execute_result"
    }
   ],
   "source": [
    "pd_fraud['intended_balcon_amount'].nunique()"
   ]
  },
  {
   "cell_type": "markdown",
   "id": "d06aa2ec",
   "metadata": {},
   "source": [
    "Ahora comprobamos cuántos de estos valores son negativos puesto que todos sus negativos son missings entonces es normal que la cantidad de valores únicos sea más alto."
   ]
  },
  {
   "cell_type": "code",
   "execution_count": 72,
   "id": "58668e10",
   "metadata": {},
   "outputs": [
    {
     "data": {
      "text/plain": [
       "737834"
      ]
     },
     "execution_count": 72,
     "metadata": {},
     "output_type": "execute_result"
    }
   ],
   "source": [
    "pd_fraud[pd_fraud['intended_balcon_amount'] < 0]['intended_balcon_amount'].nunique()"
   ]
  },
  {
   "cell_type": "code",
   "execution_count": 73,
   "id": "29d5c2cb",
   "metadata": {},
   "outputs": [
    {
     "data": {
      "text/plain": [
       "257137"
      ]
     },
     "execution_count": 73,
     "metadata": {},
     "output_type": "execute_result"
    }
   ],
   "source": [
    "pd_fraud[pd_fraud['intended_balcon_amount'] > 0]['intended_balcon_amount'].nunique()"
   ]
  },
  {
   "cell_type": "code",
   "execution_count": 66,
   "id": "9c93fad9",
   "metadata": {},
   "outputs": [
    {
     "data": {
      "text/html": [
       "<div>\n",
       "<style scoped>\n",
       "    .dataframe tbody tr th:only-of-type {\n",
       "        vertical-align: middle;\n",
       "    }\n",
       "\n",
       "    .dataframe tbody tr th {\n",
       "        vertical-align: top;\n",
       "    }\n",
       "\n",
       "    .dataframe thead th {\n",
       "        text-align: right;\n",
       "    }\n",
       "</style>\n",
       "<table border=\"1\" class=\"dataframe\">\n",
       "  <thead>\n",
       "    <tr style=\"text-align: right;\">\n",
       "      <th></th>\n",
       "      <th>Variable</th>\n",
       "      <th>Missing</th>\n",
       "      <th>Porcentaje Missing</th>\n",
       "    </tr>\n",
       "  </thead>\n",
       "  <tbody>\n",
       "    <tr>\n",
       "      <th>0</th>\n",
       "      <td>prev_address_months_count</td>\n",
       "      <td>712920</td>\n",
       "      <td>71.2920</td>\n",
       "    </tr>\n",
       "    <tr>\n",
       "      <th>1</th>\n",
       "      <td>current_address_months_count</td>\n",
       "      <td>4254</td>\n",
       "      <td>0.4254</td>\n",
       "    </tr>\n",
       "    <tr>\n",
       "      <th>2</th>\n",
       "      <td>intended_balcon_amount</td>\n",
       "      <td>742523</td>\n",
       "      <td>74.2523</td>\n",
       "    </tr>\n",
       "    <tr>\n",
       "      <th>3</th>\n",
       "      <td>bank_months_count</td>\n",
       "      <td>253635</td>\n",
       "      <td>25.3635</td>\n",
       "    </tr>\n",
       "    <tr>\n",
       "      <th>4</th>\n",
       "      <td>session_length_in_minutes</td>\n",
       "      <td>2015</td>\n",
       "      <td>0.2015</td>\n",
       "    </tr>\n",
       "    <tr>\n",
       "      <th>5</th>\n",
       "      <td>device_distinct_emails_8w</td>\n",
       "      <td>359</td>\n",
       "      <td>0.0359</td>\n",
       "    </tr>\n",
       "  </tbody>\n",
       "</table>\n",
       "</div>"
      ],
      "text/plain": [
       "                       Variable  Missing  Porcentaje Missing\n",
       "0     prev_address_months_count   712920             71.2920\n",
       "1  current_address_months_count     4254              0.4254\n",
       "2        intended_balcon_amount   742523             74.2523\n",
       "3             bank_months_count   253635             25.3635\n",
       "4     session_length_in_minutes     2015              0.2015\n",
       "5     device_distinct_emails_8w      359              0.0359"
      ]
     },
     "execution_count": 66,
     "metadata": {},
     "output_type": "execute_result"
    }
   ],
   "source": [
    "variables = ['prev_address_months_count', 'current_address_months_count','intended_balcon_amount', 'bank_months_count', 'session_length_in_minutes', 'device_distinct_emails_8w']\n",
    "missing_count = []\n",
    "missing_percentage = []\n",
    "\n",
    "# Calcular la cantidad y porcentaje de valores nulos para cada variable\n",
    "for variable in variables:\n",
    "    if variable == 'intended_balcon_amount':\n",
    "        missing_count.append(pd_fraud[pd_fraud[variable] < 0].shape[0])\n",
    "    else:\n",
    "        missing_count.append(pd_fraud[pd_fraud[variable] == -1].shape[0])\n",
    "\n",
    "    missing_percentage.append((missing_count[-1] /len(pd_fraud) * 100))\n",
    "\n",
    "# Crear un DataFrame con la información\n",
    "missing_data_df = pd.DataFrame({\n",
    "    'Variable': variables,\n",
    "    'Missing': missing_count,\n",
    "    'Porcentaje Missing': missing_percentage\n",
    "})\n",
    "\n",
    "# Imprimir el DataFrame\n",
    "missing_data_df"
   ]
  },
  {
   "cell_type": "markdown",
   "id": "03064029",
   "metadata": {},
   "source": [
    "Como podemos comprobar, los missings de estas dos variables son muy altos superando en ambos casos el 70%. Además, hemos acotado sus valores en los 100 primeros para ver cómo se distribuyen. Comprobamos que los valores de la variable **'prev_address_months_count'**, aunque no sean muy variados, en los boxplot del notebook 2 se observan distribuciones diferentes entre fraude y no fraude. Eso, sumado a que tanto Lasso como Ridge la incluyen entre las 12 variables seleccionadas nos hace decantarnos por dejarla en el dataset.\n",
    "\n",
    "Por otro lado, con respecto a la variable **'intended_balcon_amount'** hemos comprobado que, aunque presenta también un porcentaje mayor al 70% de valores faltantes, hay 257137 valores únicos positivos (puesto que todos los negativos son missings). Por lo tanto, consideramos que esta variable debe permanecer en el conjunto de datos por su variabilidad. "
   ]
  },
  {
   "cell_type": "markdown",
   "id": "77e6be2a",
   "metadata": {},
   "source": [
    "Además de los cambios realizados y guardados en el dataset 'pd_fraud_reduced' que es un dataset sobre el que hemos eliminado variables que no aportan nada en el modelo y sobre el que haremos combinaciones de variables con altas correlaciones en el próximo notebook, decidimos crear uno nuevo únicamente con las 12 variables seleccionadas por las regularizaciones Ridge y Lasso al que llamaremos 'pd_fraud_selection'."
   ]
  },
  {
   "cell_type": "code",
   "execution_count": 99,
   "id": "bbfdc5e7",
   "metadata": {
    "scrolled": true
   },
   "outputs": [
    {
     "data": {
      "text/html": [
       "<div>\n",
       "<style scoped>\n",
       "    .dataframe tbody tr th:only-of-type {\n",
       "        vertical-align: middle;\n",
       "    }\n",
       "\n",
       "    .dataframe tbody tr th {\n",
       "        vertical-align: top;\n",
       "    }\n",
       "\n",
       "    .dataframe thead th {\n",
       "        text-align: right;\n",
       "    }\n",
       "</style>\n",
       "<table border=\"1\" class=\"dataframe\">\n",
       "  <thead>\n",
       "    <tr style=\"text-align: right;\">\n",
       "      <th></th>\n",
       "      <th>income</th>\n",
       "      <th>name_email_similarity</th>\n",
       "      <th>prev_address_months_count</th>\n",
       "      <th>customer_age</th>\n",
       "      <th>employment_status</th>\n",
       "      <th>credit_risk_score</th>\n",
       "      <th>email_is_free</th>\n",
       "      <th>housing_status</th>\n",
       "      <th>phone_home_valid</th>\n",
       "      <th>has_other_cards</th>\n",
       "      <th>device_os</th>\n",
       "      <th>keep_alive_session</th>\n",
       "      <th>fraud_bool</th>\n",
       "    </tr>\n",
       "  </thead>\n",
       "  <tbody>\n",
       "    <tr>\n",
       "      <th>0</th>\n",
       "      <td>0.9</td>\n",
       "      <td>0.166828</td>\n",
       "      <td>-1.0</td>\n",
       "      <td>50</td>\n",
       "      <td>0</td>\n",
       "      <td>185.0</td>\n",
       "      <td>0</td>\n",
       "      <td>0</td>\n",
       "      <td>1</td>\n",
       "      <td>0</td>\n",
       "      <td>0</td>\n",
       "      <td>0</td>\n",
       "      <td>1</td>\n",
       "    </tr>\n",
       "    <tr>\n",
       "      <th>1</th>\n",
       "      <td>0.9</td>\n",
       "      <td>0.296286</td>\n",
       "      <td>-1.0</td>\n",
       "      <td>50</td>\n",
       "      <td>0</td>\n",
       "      <td>259.0</td>\n",
       "      <td>1</td>\n",
       "      <td>0</td>\n",
       "      <td>0</td>\n",
       "      <td>0</td>\n",
       "      <td>0</td>\n",
       "      <td>0</td>\n",
       "      <td>1</td>\n",
       "    </tr>\n",
       "    <tr>\n",
       "      <th>2</th>\n",
       "      <td>0.9</td>\n",
       "      <td>0.044985</td>\n",
       "      <td>-1.0</td>\n",
       "      <td>40</td>\n",
       "      <td>1</td>\n",
       "      <td>177.0</td>\n",
       "      <td>1</td>\n",
       "      <td>0</td>\n",
       "      <td>0</td>\n",
       "      <td>0</td>\n",
       "      <td>4</td>\n",
       "      <td>0</td>\n",
       "      <td>1</td>\n",
       "    </tr>\n",
       "    <tr>\n",
       "      <th>3</th>\n",
       "      <td>0.9</td>\n",
       "      <td>0.159511</td>\n",
       "      <td>-1.0</td>\n",
       "      <td>50</td>\n",
       "      <td>0</td>\n",
       "      <td>110.0</td>\n",
       "      <td>1</td>\n",
       "      <td>0</td>\n",
       "      <td>0</td>\n",
       "      <td>1</td>\n",
       "      <td>1</td>\n",
       "      <td>0</td>\n",
       "      <td>1</td>\n",
       "    </tr>\n",
       "    <tr>\n",
       "      <th>4</th>\n",
       "      <td>0.9</td>\n",
       "      <td>0.596414</td>\n",
       "      <td>-1.0</td>\n",
       "      <td>50</td>\n",
       "      <td>0</td>\n",
       "      <td>295.0</td>\n",
       "      <td>1</td>\n",
       "      <td>0</td>\n",
       "      <td>1</td>\n",
       "      <td>0</td>\n",
       "      <td>2</td>\n",
       "      <td>1</td>\n",
       "      <td>1</td>\n",
       "    </tr>\n",
       "  </tbody>\n",
       "</table>\n",
       "</div>"
      ],
      "text/plain": [
       "   income  name_email_similarity  prev_address_months_count  customer_age  \\\n",
       "0     0.9               0.166828                       -1.0            50   \n",
       "1     0.9               0.296286                       -1.0            50   \n",
       "2     0.9               0.044985                       -1.0            40   \n",
       "3     0.9               0.159511                       -1.0            50   \n",
       "4     0.9               0.596414                       -1.0            50   \n",
       "\n",
       "   employment_status  credit_risk_score  email_is_free  housing_status  \\\n",
       "0                  0              185.0              0               0   \n",
       "1                  0              259.0              1               0   \n",
       "2                  1              177.0              1               0   \n",
       "3                  0              110.0              1               0   \n",
       "4                  0              295.0              1               0   \n",
       "\n",
       "   phone_home_valid  has_other_cards  device_os  keep_alive_session  \\\n",
       "0                 1                0          0                   0   \n",
       "1                 0                0          0                   0   \n",
       "2                 0                0          4                   0   \n",
       "3                 0                1          1                   0   \n",
       "4                 1                0          2                   1   \n",
       "\n",
       "   fraud_bool  \n",
       "0           1  \n",
       "1           1  \n",
       "2           1  \n",
       "3           1  \n",
       "4           1  "
      ]
     },
     "execution_count": 99,
     "metadata": {},
     "output_type": "execute_result"
    }
   ],
   "source": [
    "pd_fraud_selection = pd_fraud_reduced[selected_features_logistic_ridge]\n",
    "pd_fraud_selection['fraud_bool'] = pd_fraud_reduced['fraud_bool']\n",
    "pd_fraud_selection.head()"
   ]
  },
  {
   "cell_type": "markdown",
   "id": "99b3fc85",
   "metadata": {},
   "source": [
    "## Conclusiones\n",
    "\n",
    "- Se ha **eliminado la variable 'device_fraud_count'** al únicamente tomar el valor 0 y se ha creado el dataframe  'pd_fraud_reduced'.\n",
    "- Para poder introducir las variables categóricas en los métodos de regularización de variables, hemos **pasado las variables categóricas a numéricas**: a través de esta conversión cada una de las categorías de estas variables va a pasar a tener un valor numérico.\n",
    "- Con anterioridad a la selección de variables se ha llevado a cabo la **estandarización de las variables**  y la creación del dataframe 'pd_fraud_std'.\n",
    "- **Regularización Ridge**: La regularización de Ridge selecciona 12 de las 30 variables al establecer un threshold=0.2 en 'pd_fraud_std'.\n",
    "- **Regularización Lasso**: La regularización de Lasso seleciona las mismas 12 variables que Ridge con un threshold=0.2. Además, ninguna de las velocidades es escogida a través de este técnica, por lo que se podría confirmar de nuevo que una combinación de las tres velocidades por su media aritmética podría ser relevante. Observamos que los mayores coeficientes otorgados por Lasso son a las variables 'housing_status', 'has_other_cards', y 'phone_home_valid' por lo que seguiremos teniéndolas en cuenta en futuros análisis previos a la realización de los algoritmos.\n",
    "- Sin embargo, consideramos que por el significado que cada variable da al conjunto de datos (comprobado en el diccionario de datos del dataset), **ninguna otra variable sería susceptible de ser eliminada por ahora**.\n",
    "- **RFE**: al observar las variables seleccionadas y ver que no se han incluido variables como 'housing_status' o 'income' las cuales poseen las correlaciones más altas con la variable objetivo y que son las que más valor obtienen con Lasso o Ridge **decidimos no considerar la selección por RFE en nuestro análisis**.\n",
    "- Al analizar en mayor profundidad las **variables que comentamos en el notebook 2 que presentaban más de un 70% de valores missings** ('prev_address_months_count' y 'intended_balcon_amount') se concluye que:\n",
    "    - Comprobamos que los valores de la variable 'prev_address_months_count' aunque no sean muy variados, en los boxplot del notebook 2 se observan distribuciones diferentes entre fraude y no fraude. Eso, sumado a que tanto Lasso como Ridge la incluyen entre las 12 variables seleccionadas nos hace decantarnos por dejarla en el dataset.\n",
    "    \n",
    "    - Por otro lado, con respecto a la variable 'intended_balcon_amount' hemos comprobado que, aunque presenta también un porcentaje mayor al 70% de valores faltantes, sus valores únicos positivos (puesto que todos los negativos son missings) suman 257137. Por lo tanto, consideramos que esta variable debe permanecer en el conjunto de datos.\n",
    "\n",
    "- El datataset **'pd_fraud_reduced'** es sobre el que hemos eliminado variables que no aportan y sobre el que haremos combinaciones de variables con altas correlaciones en el próximo notebook. Además, hemos decidido crear uno nuevo únicamente con las 12 variables seleccionadas por las regularizaciones Ridge y Lasso al que llamaremos **'pd_fraud_selection'**."
   ]
  },
  {
   "cell_type": "markdown",
   "id": "f3c89ccf",
   "metadata": {},
   "source": [
    "A continuación guardamos los datasets creados en formato csv."
   ]
  },
  {
   "cell_type": "code",
   "execution_count": 100,
   "id": "4e16f0e1",
   "metadata": {},
   "outputs": [],
   "source": [
    "pd_fraud_reduced.to_csv(\"data/pd_fraud_reduced.csv\")"
   ]
  },
  {
   "cell_type": "code",
   "execution_count": 101,
   "id": "cc0d33b6",
   "metadata": {},
   "outputs": [],
   "source": [
    "pd_fraud_selection.to_csv(\"data/pd_fraud_selection.csv\")"
   ]
  }
 ],
 "metadata": {
  "kernelspec": {
   "display_name": "Kernel 1",
   "language": "python",
   "name": "kernel-1"
  },
  "language_info": {
   "codemirror_mode": {
    "name": "ipython",
    "version": 3
   },
   "file_extension": ".py",
   "mimetype": "text/x-python",
   "name": "python",
   "nbconvert_exporter": "python",
   "pygments_lexer": "ipython3",
   "version": "3.11.5"
  }
 },
 "nbformat": 4,
 "nbformat_minor": 5
}
