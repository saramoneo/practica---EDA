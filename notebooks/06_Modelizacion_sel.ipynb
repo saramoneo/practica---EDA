{
 "cells": [
  {
   "cell_type": "markdown",
   "id": "a7cde5e4",
   "metadata": {},
   "source": [
    "# MODELIZACIÓN DE LOS DATASETS DENOMINADOS CON 'SEL'\n",
    "\n",
    "En el presente notebook se va a realizar la modelización de los siguientes conjuntos de datos:\n",
    "\n",
    "- X_train_sel_und\n",
    "- X_val_sel\n",
    "- y_train_sel_und\n",
    "- y_val_sel\n",
    "\n",
    "Se trata de los **datasets obtenidos de las variables que la regularizaciones de Lasso y Ridge seleccionaban** (los datasets con 'sel') con el **undersampling realizado** en el anterior notebook **sobre el train**. En el siguiente notebook se realizará este mismo procedimiento con los datasets obtenidos tras la selección de variables y la feature ingeneering realizadas previamente (los datasets de 'red').\n",
    "\n",
    "En primer lugar se construirá el modelo base (en concreto con imputación a la clase mayoritaria) aplicando sobre dicho modelo distintas métricas para comprobar su rendimiento. Con posterioridad se emplearán otros modelos vistos a lo largo de la asignatura para comprobar cuál es el mejor algoritmo para resolver el problema objeto de este proyecto, en base a **métricas como F1 score**. Estos modelos son:\n",
    "\n",
    "- Modelo base con imputación a la clase mayoritaria\n",
    "- Árbol de decisión\n",
    "- Bayes\n",
    "- Support Vector Machine\n",
    "- Random Forest\n",
    "- BaggingClassifier\n",
    "- XGBoost\n",
    "- AdaBoosting\n",
    "- LightGBM\n",
    "\n",
    "Una vez se concluya cuáles son los algoritmos candidatos a ganadores para este proyecto (después de los notebooks 6 y 7)  se procederá en el siguiente notebook a la optimización de parámetros y la evaluación del modelo con una serie de métricas (notebook 8).\n",
    "\n",
    "Cabe destacar que se va a emplear la librería \"time\" para que quede reflejado el tiempo de ejecución de cada uno de los modelos analizados puesto que además de los resultados obtenidos es relevante contemplar el coste computacional y tiempo que dichos algoritmos requieren.\n"
   ]
  },
  {
   "cell_type": "markdown",
   "id": "5142a1aa",
   "metadata": {},
   "source": [
    "En primer lugar, se importan las librerías necesarias y se cargan los datos guardados en los notebooks previos (tanto de train como test) para emplearlos en los modelos."
   ]
  },
  {
   "cell_type": "code",
   "execution_count": 1,
   "id": "f14029a8",
   "metadata": {
    "scrolled": true
   },
   "outputs": [],
   "source": [
    "import pandas as pd\n",
    "import matplotlib.pyplot as plt\n",
    "import pickle\n",
    "from sklearn import metrics\n",
    "from sklearn.model_selection import cross_val_score\n",
    "from sklearn.metrics import ConfusionMatrixDisplay, fbeta_score\n",
    "from sklearn.metrics import confusion_matrix, roc_curve, roc_auc_score, accuracy_score, classification_report\n",
    "from sklearn.pipeline import Pipeline\n",
    "from sklearn.dummy import DummyClassifier\n",
    "import scikitplot as skplt\n",
    "from sklearn.inspection import PartialDependenceDisplay\n",
    "import warnings\n",
    "warnings.filterwarnings('ignore')\n",
    "from sklearn.metrics import ConfusionMatrixDisplay\n",
    "import time\n",
    "from sklearn.ensemble import RandomForestClassifier\n",
    "from sklearn.naive_bayes import GaussianNB\n",
    "from sklearn.metrics import accuracy_score, classification_report, confusion_matrix\n",
    "from sklearn.model_selection import cross_val_predict\n",
    "import seaborn as sns\n",
    "import statsmodels.api as sm\n",
    "from sklearn.model_selection import train_test_split\n",
    "from sklearn.svm import SVC\n",
    "from sklearn.metrics import accuracy_score\n",
    "from sklearn.ensemble import BaggingClassifier\n",
    "from sklearn.datasets import make_classification\n",
    "from lightgbm import LGBMClassifier\n",
    "from xgboost import XGBClassifier\n",
    "from sklearn.compose import ColumnTransformer\n",
    "from sklearn import tree\n",
    "from sklearn.tree import DecisionTreeClassifier, plot_tree\n",
    "from sklearn.ensemble import AdaBoostClassifier\n",
    "from sklearn.ensemble import BaggingClassifier\n",
    "from tqdm import tqdm"
   ]
  },
  {
   "cell_type": "code",
   "execution_count": null,
   "id": "d504a27f",
   "metadata": {},
   "outputs": [],
   "source": [
    "#pip install tqdm"
   ]
  },
  {
   "cell_type": "code",
   "execution_count": 3,
   "id": "79969aa6",
   "metadata": {},
   "outputs": [],
   "source": [
    "#pip install scikit-plot"
   ]
  },
  {
   "cell_type": "code",
   "execution_count": 2,
   "id": "6a0dffb0",
   "metadata": {},
   "outputs": [],
   "source": [
    "warnings.filterwarnings('ignore')"
   ]
  },
  {
   "cell_type": "code",
   "execution_count": 5,
   "id": "d136ef58",
   "metadata": {},
   "outputs": [],
   "source": [
    "X_train_sel_und = pd.read_csv(\"data/X_train_sel_und.csv\")\n",
    "X_val_sel = pd.read_csv(\"data/X_val_sel.csv\")\n",
    "y_train_sel_und = pd.read_csv(\"data/y_train_sel_und.csv\")\n",
    "y_val_sel = pd.read_csv(\"data/y_val_sel.csv\")"
   ]
  },
  {
   "cell_type": "markdown",
   "id": "34f75957",
   "metadata": {},
   "source": [
    "Se elimina de los distintos archivos la columna \"Unnamed: 0\" puesto que se genera automáticamente al guardar los documentos csv pero no es de interés en este trabajo."
   ]
  },
  {
   "cell_type": "code",
   "execution_count": 6,
   "id": "4b12b6fc",
   "metadata": {},
   "outputs": [],
   "source": [
    "X_train_sel_und = X_train_sel_und.drop(columns=[\"Unnamed: 0\"])\n",
    "X_val_sel = X_val_sel.drop(columns=[\"Unnamed: 0\"])\n",
    "y_train_sel_und = y_train_sel_und.drop(columns=[\"Unnamed: 0\"])\n",
    "y_val_sel = y_val_sel.drop(columns=[\"Unnamed: 0\"])"
   ]
  },
  {
   "cell_type": "markdown",
   "id": "cc8d1e79",
   "metadata": {},
   "source": [
    "# MODELO BASE"
   ]
  },
  {
   "cell_type": "markdown",
   "id": "cd400120",
   "metadata": {},
   "source": [
    "Un modelo base es un modelo simple que se utiliza como punto de referencia para evaluar el rendimiento de modelos más avanzados. Sirve como una referencia básica para determinar si los modelos complejos ofrecen mejoras significativas en el rendimiento. La elección de un modelo base proporciona un estándar mínimo que otros modelos deben superar para justificar su complejidad adicional.\n",
    "\n",
    "En concreto, en este trabajo se ha optado para la construcción de un modelo base que impute a la clase mayoritaria, es decir, que predice la clase más frecuente en un conjunto de datos desbalanceado. Además, se establece una semilla para la generación de números aleatorios de 12345 para garantizar que el comportamiento sea reproducible y si se ejecuta el código varias veces con esta semilla se obtengan los mismos resultados.\n",
    "\n",
    "Señalar que al no tratarse de un algoritmo de regresión (DummyClassifier) se emplean los datasets no estandarizados."
   ]
  },
  {
   "cell_type": "markdown",
   "id": "ed36f4e4",
   "metadata": {},
   "source": [
    "En primer lugar se define la función 'evaluate_model', que toma tres parámetros y muestra las siguientes métricas:\n",
    "\n",
    "- Puntuación ROC-AUC: Esto se imprime solo si se proporciona ypred_proba. Evalúa el área bajo la curva de Característica Operativa del Receptor, lo cual es útil para problemas de clasificación binaria.\n",
    "\n",
    "- Precisión (Accuracy): Calcula e imprime la precisión del modelo utilizando las etiquetas reales (ytest) y las etiquetas predichas (ypred).\n",
    "\n",
    "- Informe de clasificación: Imprime el informe de clasificación, que incluye precisión, exhaustividad, puntuación F1 y soporte para cada clase."
   ]
  },
  {
   "cell_type": "code",
   "execution_count": 7,
   "id": "7a61c093",
   "metadata": {
    "scrolled": true
   },
   "outputs": [],
   "source": [
    "def evaluate_model(ytest, ypred, ypred_proba = None):\n",
    "    if ypred_proba is not None:\n",
    "        print('ROC-AUC score of the model: {}'.format(roc_auc_score(ytest, ypred_proba[:, 1])))\n",
    "    print('Accuracy of the model: {}\\n'.format(accuracy_score(ytest, ypred)))\n",
    "    print('Classification report: \\n{}\\n'.format(classification_report(ytest, ypred)))"
   ]
  },
  {
   "cell_type": "markdown",
   "id": "84728f24",
   "metadata": {},
   "source": [
    "A continuación, se emplea el 'DummyClassifier' con el objetivo de predecir siempre la clase más frecuente ('most_frequent') y una semilla (usando 'random_state=12345'). Posteriormente se crea un pipeline para este clasificador 'classifier':"
   ]
  },
  {
   "cell_type": "code",
   "execution_count": 8,
   "id": "49baaba3",
   "metadata": {},
   "outputs": [],
   "source": [
    "classifier = DummyClassifier(strategy = 'most_frequent', random_state = 12345)"
   ]
  },
  {
   "cell_type": "code",
   "execution_count": 9,
   "id": "a7f70917",
   "metadata": {},
   "outputs": [],
   "source": [
    "dummy_model = Pipeline(steps=[\n",
    "    ('classifier',  classifier)\n",
    "])"
   ]
  },
  {
   "cell_type": "markdown",
   "id": "f728d0f5",
   "metadata": {},
   "source": [
    "La siguiente línea de código está ajustando el modelo base o dummy utilizando el conjunto de datos de validación ('X_val_sel' e 'y_val_sel'), lo que significa que el modelo está siendo entrenado para hacer predicciones en base a la estrategia de clasificación más frecuente en este conjunto de datos de validación."
   ]
  },
  {
   "cell_type": "code",
   "execution_count": 10,
   "id": "95ecd4c6",
   "metadata": {},
   "outputs": [
    {
     "data": {
      "text/html": [
       "<style>#sk-container-id-1 {color: black;}#sk-container-id-1 pre{padding: 0;}#sk-container-id-1 div.sk-toggleable {background-color: white;}#sk-container-id-1 label.sk-toggleable__label {cursor: pointer;display: block;width: 100%;margin-bottom: 0;padding: 0.3em;box-sizing: border-box;text-align: center;}#sk-container-id-1 label.sk-toggleable__label-arrow:before {content: \"▸\";float: left;margin-right: 0.25em;color: #696969;}#sk-container-id-1 label.sk-toggleable__label-arrow:hover:before {color: black;}#sk-container-id-1 div.sk-estimator:hover label.sk-toggleable__label-arrow:before {color: black;}#sk-container-id-1 div.sk-toggleable__content {max-height: 0;max-width: 0;overflow: hidden;text-align: left;background-color: #f0f8ff;}#sk-container-id-1 div.sk-toggleable__content pre {margin: 0.2em;color: black;border-radius: 0.25em;background-color: #f0f8ff;}#sk-container-id-1 input.sk-toggleable__control:checked~div.sk-toggleable__content {max-height: 200px;max-width: 100%;overflow: auto;}#sk-container-id-1 input.sk-toggleable__control:checked~label.sk-toggleable__label-arrow:before {content: \"▾\";}#sk-container-id-1 div.sk-estimator input.sk-toggleable__control:checked~label.sk-toggleable__label {background-color: #d4ebff;}#sk-container-id-1 div.sk-label input.sk-toggleable__control:checked~label.sk-toggleable__label {background-color: #d4ebff;}#sk-container-id-1 input.sk-hidden--visually {border: 0;clip: rect(1px 1px 1px 1px);clip: rect(1px, 1px, 1px, 1px);height: 1px;margin: -1px;overflow: hidden;padding: 0;position: absolute;width: 1px;}#sk-container-id-1 div.sk-estimator {font-family: monospace;background-color: #f0f8ff;border: 1px dotted black;border-radius: 0.25em;box-sizing: border-box;margin-bottom: 0.5em;}#sk-container-id-1 div.sk-estimator:hover {background-color: #d4ebff;}#sk-container-id-1 div.sk-parallel-item::after {content: \"\";width: 100%;border-bottom: 1px solid gray;flex-grow: 1;}#sk-container-id-1 div.sk-label:hover label.sk-toggleable__label {background-color: #d4ebff;}#sk-container-id-1 div.sk-serial::before {content: \"\";position: absolute;border-left: 1px solid gray;box-sizing: border-box;top: 0;bottom: 0;left: 50%;z-index: 0;}#sk-container-id-1 div.sk-serial {display: flex;flex-direction: column;align-items: center;background-color: white;padding-right: 0.2em;padding-left: 0.2em;position: relative;}#sk-container-id-1 div.sk-item {position: relative;z-index: 1;}#sk-container-id-1 div.sk-parallel {display: flex;align-items: stretch;justify-content: center;background-color: white;position: relative;}#sk-container-id-1 div.sk-item::before, #sk-container-id-1 div.sk-parallel-item::before {content: \"\";position: absolute;border-left: 1px solid gray;box-sizing: border-box;top: 0;bottom: 0;left: 50%;z-index: -1;}#sk-container-id-1 div.sk-parallel-item {display: flex;flex-direction: column;z-index: 1;position: relative;background-color: white;}#sk-container-id-1 div.sk-parallel-item:first-child::after {align-self: flex-end;width: 50%;}#sk-container-id-1 div.sk-parallel-item:last-child::after {align-self: flex-start;width: 50%;}#sk-container-id-1 div.sk-parallel-item:only-child::after {width: 0;}#sk-container-id-1 div.sk-dashed-wrapped {border: 1px dashed gray;margin: 0 0.4em 0.5em 0.4em;box-sizing: border-box;padding-bottom: 0.4em;background-color: white;}#sk-container-id-1 div.sk-label label {font-family: monospace;font-weight: bold;display: inline-block;line-height: 1.2em;}#sk-container-id-1 div.sk-label-container {text-align: center;}#sk-container-id-1 div.sk-container {/* jupyter's `normalize.less` sets `[hidden] { display: none; }` but bootstrap.min.css set `[hidden] { display: none !important; }` so we also need the `!important` here to be able to override the default hidden behavior on the sphinx rendered scikit-learn.org. See: https://github.com/scikit-learn/scikit-learn/issues/21755 */display: inline-block !important;position: relative;}#sk-container-id-1 div.sk-text-repr-fallback {display: none;}</style><div id=\"sk-container-id-1\" class=\"sk-top-container\"><div class=\"sk-text-repr-fallback\"><pre>Pipeline(steps=[(&#x27;classifier&#x27;,\n",
       "                 DummyClassifier(random_state=12345,\n",
       "                                 strategy=&#x27;most_frequent&#x27;))])</pre><b>In a Jupyter environment, please rerun this cell to show the HTML representation or trust the notebook. <br />On GitHub, the HTML representation is unable to render, please try loading this page with nbviewer.org.</b></div><div class=\"sk-container\" hidden><div class=\"sk-item sk-dashed-wrapped\"><div class=\"sk-label-container\"><div class=\"sk-label sk-toggleable\"><input class=\"sk-toggleable__control sk-hidden--visually\" id=\"sk-estimator-id-1\" type=\"checkbox\" ><label for=\"sk-estimator-id-1\" class=\"sk-toggleable__label sk-toggleable__label-arrow\">Pipeline</label><div class=\"sk-toggleable__content\"><pre>Pipeline(steps=[(&#x27;classifier&#x27;,\n",
       "                 DummyClassifier(random_state=12345,\n",
       "                                 strategy=&#x27;most_frequent&#x27;))])</pre></div></div></div><div class=\"sk-serial\"><div class=\"sk-item\"><div class=\"sk-estimator sk-toggleable\"><input class=\"sk-toggleable__control sk-hidden--visually\" id=\"sk-estimator-id-2\" type=\"checkbox\" ><label for=\"sk-estimator-id-2\" class=\"sk-toggleable__label sk-toggleable__label-arrow\">DummyClassifier</label><div class=\"sk-toggleable__content\"><pre>DummyClassifier(random_state=12345, strategy=&#x27;most_frequent&#x27;)</pre></div></div></div></div></div></div></div>"
      ],
      "text/plain": [
       "Pipeline(steps=[('classifier',\n",
       "                 DummyClassifier(random_state=12345,\n",
       "                                 strategy='most_frequent'))])"
      ]
     },
     "execution_count": 10,
     "metadata": {},
     "output_type": "execute_result"
    }
   ],
   "source": [
    "dummy_model.fit(X_val_sel,y_val_sel)"
   ]
  },
  {
   "cell_type": "markdown",
   "id": "83d2023a",
   "metadata": {},
   "source": [
    "A continuación, por un lado 'pred' almacena las predicciones de la variable objetivo del conjunto de validación ('y_val_sel') realizadas en el conjunto de datos de validación ('X_val_sel'). Por otro lado, 'pred_proba' almacena las predicciones de las probabilidades de la variable objetivo del conjunto de validación ('y_val_sel') realizadas en el conjunto de datos de validación ('X_val_sel'):"
   ]
  },
  {
   "cell_type": "code",
   "execution_count": 11,
   "id": "54ebe00b",
   "metadata": {},
   "outputs": [],
   "source": [
    "pred = dummy_model.predict(X_val_sel)\n",
    "\n",
    "pred_proba = dummy_model.predict_proba(X_val_sel)"
   ]
  },
  {
   "cell_type": "markdown",
   "id": "8f589bcc",
   "metadata": {},
   "source": [
    "Se va a evaluar el rendimiento del modelo base para 'y_val_sel', 'pred' :"
   ]
  },
  {
   "cell_type": "code",
   "execution_count": 12,
   "id": "c143fbb8",
   "metadata": {},
   "outputs": [
    {
     "name": "stdout",
     "output_type": "stream",
     "text": [
      "Accuracy of the model: 0.98896875\n",
      "\n",
      "Classification report: \n",
      "              precision    recall  f1-score   support\n",
      "\n",
      "           0       0.99      1.00      0.99    158235\n",
      "           1       0.00      0.00      0.00      1765\n",
      "\n",
      "    accuracy                           0.99    160000\n",
      "   macro avg       0.49      0.50      0.50    160000\n",
      "weighted avg       0.98      0.99      0.98    160000\n",
      "\n",
      "\n"
     ]
    }
   ],
   "source": [
    "evaluate_model(y_val_sel, pred)"
   ]
  },
  {
   "cell_type": "markdown",
   "id": "3200a2df",
   "metadata": {},
   "source": [
    "Se observa que el accuracy es de un 99%; sin embargo, mientras que la precisión cuando la variable objetivo toma valor 0 es de un 99% cuando toma valor 1 es de 0% (al igual que las métricas de recall y f1-score). Por tanto, el modelo base no va a ser el mejor modelo para el problema a estudiar en este proyecto y es necesario probar otros algoritmos más complejos."
   ]
  },
  {
   "cell_type": "markdown",
   "id": "30e0b856",
   "metadata": {},
   "source": [
    "A continuación vamos a evaluar el modelo base a través de otras métricas como son la matriz de confusión, la curva Roc, la curva Lift y la curva de Ganancias:"
   ]
  },
  {
   "cell_type": "code",
   "execution_count": 13,
   "id": "4d15152c",
   "metadata": {},
   "outputs": [
    {
     "name": "stdout",
     "output_type": "stream",
     "text": [
      "Confusion matrix, without normalization\n",
      "[[158235      0]\n",
      " [  1765      0]]\n"
     ]
    },
    {
     "data": {
      "image/png": "[encoded data removed]",
      "text/plain": [
       "<Figure size 640x480 with 2 Axes>"
      ]
     },
     "metadata": {},
     "output_type": "display_data"
    },
    {
     "name": "stdout",
     "output_type": "stream",
     "text": [
      "Normalized confusion matrix\n",
      "[[1. 0.]\n",
      " [1. 0.]]\n"
     ]
    },
    {
     "data": {
      "image/png": "[encoded data removed]",
      "text/plain": [
       "<Figure size 640x480 with 2 Axes>"
      ]
     },
     "metadata": {},
     "output_type": "display_data"
    }
   ],
   "source": [
    "titles_options = [(\"Confusion matrix, without normalization\", None),\n",
    "                  (\"Normalized confusion matrix\", 'true')]\n",
    "\n",
    "for title, normalize in titles_options:\n",
    "    disp = ConfusionMatrixDisplay.from_estimator(\n",
    "        dummy_model, X_val_sel, y_val_sel, \n",
    "        display_labels=dummy_model.classes_, \n",
    "        cmap=plt.cm.Blues, \n",
    "        normalize=normalize\n",
    "    )\n",
    "    disp.ax_.set_title(title)\n",
    "    print(title)\n",
    "    print(disp.confusion_matrix)\n",
    "    plt.show()"
   ]
  },
  {
   "cell_type": "markdown",
   "id": "7c76479a",
   "metadata": {},
   "source": [
    "En las matrices de confusión superiores se observa que el modelo base de imputación a la clase mayoritaria empleado proporciona tanto verdaderos positivos como falsos negativos (158235 y 1765, respectivamente sin normalizar)."
   ]
  },
  {
   "cell_type": "markdown",
   "id": "a94401f1",
   "metadata": {},
   "source": [
    "A continuación se muestra una curva ROC que representa la capacidad del modelo base para clasificar la clase positiva frente a la clase negativa en diferentes umbrales de probabilidad. La línea punteada representa un clasificador sin habilidad discriminativa (No Skill), y la curva ROC del modelo dummy se traza en la gráfica:"
   ]
  },
  {
   "cell_type": "code",
   "execution_count": 14,
   "id": "301cf4ec",
   "metadata": {},
   "outputs": [
    {
     "data": {
      "image/png": "[encoded data removed]",
      "text/plain": [
       "<Figure size 640x480 with 1 Axes>"
      ]
     },
     "metadata": {},
     "output_type": "display_data"
    }
   ],
   "source": [
    "yhat = pred_proba[:, 1]\n",
    "\n",
    "fpr, tpr, thresholds = roc_curve(y_val_sel, yhat, pos_label='1')\n",
    "\n",
    "plt.plot([0,1], [0,1], linestyle='--', label='No Skill')\n",
    "plt.plot(fpr, tpr, marker='.', label='Dummy Classifier')\n",
    "\n",
    "plt.xlabel('False Positive Rate')\n",
    "plt.ylabel('True Positive Rate')\n",
    "plt.legend()\n",
    "\n",
    "plt.show()"
   ]
  },
  {
   "cell_type": "markdown",
   "id": "fa65dd78",
   "metadata": {},
   "source": [
    "Se observa que la curva ROC ni aparece"
   ]
  },
  {
   "cell_type": "markdown",
   "id": "a88ae914",
   "metadata": {},
   "source": [
    "A continuación, se muestran la curvas Lift y de Ganancias con 'y_val_sel' e 'pred_proba':"
   ]
  },
  {
   "cell_type": "code",
   "execution_count": 15,
   "id": "16d19a24",
   "metadata": {},
   "outputs": [
    {
     "data": {
      "image/png": "[encoded data removed]",
      "text/plain": [
       "<Figure size 640x480 with 1 Axes>"
      ]
     },
     "metadata": {},
     "output_type": "display_data"
    }
   ],
   "source": [
    "skplt.metrics.plot_lift_curve(y_val_sel, pred_proba)\n",
    "plt.show()"
   ]
  },
  {
   "cell_type": "markdown",
   "id": "13543f53",
   "metadata": {},
   "source": [
    "Dado que la curva es una recta horizontal con un valor de \"lift\" igual a 1 en todo el rango del eje Y, el modelo no está proporcionando ninguna mejora en la identificación de instancias positivas en comparación con un modelo aleatorio."
   ]
  },
  {
   "cell_type": "code",
   "execution_count": 16,
   "id": "ba5b3863",
   "metadata": {},
   "outputs": [
    {
     "data": {
      "image/png": "[encoded data removed]",
      "text/plain": [
       "<Figure size 640x480 with 1 Axes>"
      ]
     },
     "metadata": {},
     "output_type": "display_data"
    }
   ],
   "source": [
    "skplt.metrics.plot_cumulative_gain(y_val_sel, pred_proba)\n",
    "plt.show()"
   ]
  },
  {
   "cell_type": "markdown",
   "id": "fe253ced",
   "metadata": {},
   "source": [
    "Se observa que la curva de ganancias del modelo base se superpone a la que presentaría un modelo aleatorio y por tanto, el modelo base no mejora la tasa de verdaderos positivos acumulativa más rápidamente de lo que se esperaría al azar."
   ]
  },
  {
   "cell_type": "markdown",
   "id": "d2b1490f",
   "metadata": {},
   "source": [
    "Se concluye que el modelo base es demasiado simple, lo cual implica limitaciones que se reflejan en métricas poco favorables. En consecuencia, es necesario aplicar otros algoritmos que puedan abordar de manera más efectiva el problema objeto de estudio."
   ]
  },
  {
   "cell_type": "markdown",
   "id": "ca85c66f",
   "metadata": {},
   "source": [
    "# ÁRBOL DE DECISIÓN"
   ]
  },
  {
   "cell_type": "markdown",
   "id": "fb78e45b",
   "metadata": {},
   "source": [
    "Un árbol de decisión es un modelo predictivo en aprendizaje automático supervisado y no paramétrico que utiliza una estructura de árbol para representar reglas de decisión (empleado tanto clasificación y regresión). Cada nodo interno del árbol representa una prueba sobre una característica del conjunto de datos, las ramas representan los resultados de la prueba, y las hojas indican las predicciones. \n",
    "\n",
    "El objetivo es crear un modelo que prediga el valor de una variable objetivo al aprender reglas de decisión simples inferidas a partir de las características de los datos. Estos árboles se construyen dividiendo el conjunto de datos de manera recursiva con el objetivo de maximizar la homogeneidad en términos de la variable objetivo.\n",
    "\n",
    "Para más información se puede consultar la información que proporciona la web de la librería scikit learn acerca de los árboles de decisión: [Información adicional](https://scikit-learn.org/stable/modules/tree.html)\n",
    "\n",
    "![imagen](https://images.datacamp.com/image/upload/f_auto,q_auto:best/v1545933328/output_65_0_jteora.png)\n"
   ]
  },
  {
   "cell_type": "markdown",
   "id": "117fa8c0",
   "metadata": {},
   "source": [
    "A continuación se crea el clasificador del árbol de decisión 'DecisionTreeClassifier' para posteriormente entrenarlo con el conjunto de datos de entrenamiento de reduction: 'X_train_sel_und' e 'y_train_sel_und'."
   ]
  },
  {
   "cell_type": "code",
   "execution_count": 18,
   "id": "aa0801ba",
   "metadata": {},
   "outputs": [
    {
     "name": "stdout",
     "output_type": "stream",
     "text": [
      "CPU times: total: 62.5 ms\n",
      "Wall time: 88 ms\n"
     ]
    }
   ],
   "source": [
    "%%time\n",
    "\n",
    "clf = DecisionTreeClassifier()\n",
    "\n",
    "clf= clf.fit(X_train_sel_und,y_train_sel_und)\n"
   ]
  },
  {
   "cell_type": "markdown",
   "id": "c87eb2eb",
   "metadata": {},
   "source": [
    "El siguiente paso es visualizar el árbol de decisión entrenado con el clasificador clf mostrándose nodos, ramas y etiquetas de decisión que representan la estructura del árbol."
   ]
  },
  {
   "cell_type": "code",
   "execution_count": 19,
   "id": "bf808de1",
   "metadata": {},
   "outputs": [
    {
     "name": "stdout",
     "output_type": "stream",
     "text": [
      "CPU times: total: 1.19 s\n",
      "Wall time: 3 s\n"
     ]
    },
    {
     "data": {
      "text/plain": [
       "[Text(0.453114228529411, 0.9833333333333333, 'x[7] <= 0.5\\ngini = 0.5\\nsamples = 14116\\nvalue = [7058, 7058]'),\n",
       " Text(0.1838600031544362, 0.95, 'x[10] <= 0.5\\ngini = 0.343\\nsamples = 5194\\nvalue = [1140, 4054]'),\n",
       " Text(0.10623461821952378, 0.9166666666666666, 'x[9] <= 0.5\\ngini = 0.217\\nsamples = 2849\\nvalue = [352, 2497]'),\n",
       " Text(0.07179387477200609, 0.8833333333333333, 'x[11] <= 0.5\\ngini = 0.187\\nsamples = 2565\\nvalue = [267, 2298]'),\n",
       " Text(0.03721610074207331, 0.85, 'x[1] <= 0.757\\ngini = 0.133\\nsamples = 1668\\nvalue = [119, 1549]'),\n",
       " Text(0.025897608874896935, 0.8166666666666667, 'x[4] <= 2.5\\ngini = 0.104\\nsamples = 1320\\nvalue = [73, 1247]'),\n",
       " Text(0.020813032506308872, 0.7833333333333333, 'x[5] <= 171.5\\ngini = 0.099\\nsamples = 1306\\nvalue = [68, 1238]'),\n",
       " Text(0.014541638557829249, 0.75, 'x[2] <= 3.5\\ngini = 0.151\\nsamples = 402\\nvalue = [33, 369]'),\n",
       " Text(0.0094945406391325, 0.7166666666666667, 'x[6] <= 0.5\\ngini = 0.129\\nsamples = 375\\nvalue = [26, 349]'),\n",
       " Text(0.0046972990530445, 0.6833333333333333, 'x[1] <= 0.069\\ngini = 0.179\\nsamples = 161\\nvalue = [16, 145]'),\n",
       " Text(0.002798390925218, 0.65, 'x[3] <= 35.0\\ngini = 0.434\\nsamples = 22\\nvalue = [7, 15]'),\n",
       " Text(0.0019988506608699997, 0.6166666666666667, 'x[1] <= 0.047\\ngini = 0.469\\nsamples = 8\\nvalue = [5, 3]'),\n",
       " Text(0.0015990805286959999, 0.5833333333333334, 'x[8] <= 0.5\\ngini = 0.48\\nsamples = 5\\nvalue = [2, 3]'),\n",
       " Text(0.0011993103965219998, 0.55, 'x[0] <= 0.7\\ngini = 0.375\\nsamples = 4\\nvalue = [1, 3]'),\n",
       " Text(0.0007995402643479999, 0.5166666666666667, 'x[5] <= 109.5\\ngini = 0.5\\nsamples = 2\\nvalue = [1, 1]'),\n",
       " Text(0.00039977013217399996, 0.48333333333333334, 'gini = 0.0\\nsamples = 1\\nvalue = [0, 1]'),\n",
       " Text(0.0011993103965219998, 0.48333333333333334, 'gini = 0.0\\nsamples = 1\\nvalue = [1, 0]'),\n",
       " Text(0.0015990805286959999, 0.5166666666666667, 'gini = 0.0\\nsamples = 2\\nvalue = [0, 2]'),\n",
       " Text(0.0019988506608699997, 0.55, 'gini = 0.0\\nsamples = 1\\nvalue = [1, 0]'),\n",
       " Text(0.0023986207930439996, 0.5833333333333334, 'gini = 0.0\\nsamples = 3\\nvalue = [3, 0]'),\n",
       " Text(0.0035979311895659996, 0.6166666666666667, 'x[3] <= 70.0\\ngini = 0.245\\nsamples = 14\\nvalue = [2, 12]'),\n",
       " Text(0.0031981610573919997, 0.5833333333333334, 'x[1] <= 0.065\\ngini = 0.142\\nsamples = 13\\nvalue = [1, 12]'),\n",
       " Text(0.002798390925218, 0.55, 'gini = 0.0\\nsamples = 12\\nvalue = [0, 12]'),\n",
       " Text(0.0035979311895659996, 0.55, 'gini = 0.0\\nsamples = 1\\nvalue = [1, 0]'),\n",
       " Text(0.003997701321739999, 0.5833333333333334, 'gini = 0.0\\nsamples = 1\\nvalue = [1, 0]'),\n",
       " Text(0.006596207180870999, 0.65, 'x[5] <= 76.5\\ngini = 0.121\\nsamples = 139\\nvalue = [9, 130]'),\n",
       " Text(0.005197011718261999, 0.6166666666666667, 'x[5] <= 75.0\\ngini = 0.287\\nsamples = 23\\nvalue = [4, 19]'),\n",
       " Text(0.004797241586087999, 0.5833333333333334, 'x[5] <= 47.5\\ngini = 0.236\\nsamples = 22\\nvalue = [3, 19]'),\n",
       " Text(0.004397471453913999, 0.55, 'gini = 0.0\\nsamples = 11\\nvalue = [0, 11]'),\n",
       " Text(0.005197011718261999, 0.55, 'x[0] <= 0.85\\ngini = 0.397\\nsamples = 11\\nvalue = [3, 8]'),\n",
       " Text(0.004797241586087999, 0.5166666666666667, 'x[3] <= 35.0\\ngini = 0.5\\nsamples = 6\\nvalue = [3, 3]'),\n",
       " Text(0.004397471453913999, 0.48333333333333334, 'gini = 0.0\\nsamples = 2\\nvalue = [0, 2]'),\n",
       " Text(0.005197011718261999, 0.48333333333333334, 'x[0] <= 0.7\\ngini = 0.375\\nsamples = 4\\nvalue = [3, 1]'),\n",
       " Text(0.004797241586087999, 0.45, 'x[5] <= 60.5\\ngini = 0.5\\nsamples = 2\\nvalue = [1, 1]'),\n",
       " Text(0.004397471453913999, 0.4166666666666667, 'gini = 0.0\\nsamples = 1\\nvalue = [1, 0]'),\n",
       " Text(0.005197011718261999, 0.4166666666666667, 'gini = 0.0\\nsamples = 1\\nvalue = [0, 1]'),\n",
       " Text(0.005596781850436, 0.45, 'gini = 0.0\\nsamples = 2\\nvalue = [2, 0]'),\n",
       " Text(0.005596781850436, 0.5166666666666667, 'gini = 0.0\\nsamples = 5\\nvalue = [0, 5]'),\n",
       " Text(0.005596781850436, 0.5833333333333334, 'gini = 0.0\\nsamples = 1\\nvalue = [1, 0]'),\n",
       " Text(0.007995402643479999, 0.6166666666666667, 'x[5] <= 167.5\\ngini = 0.082\\nsamples = 116\\nvalue = [5, 111]'),\n",
       " Text(0.006796092246957999, 0.5833333333333334, 'x[0] <= 0.75\\ngini = 0.054\\nsamples = 108\\nvalue = [3, 105]'),\n",
       " Text(0.0063963221147839994, 0.55, 'gini = 0.0\\nsamples = 52\\nvalue = [0, 52]'),\n",
       " Text(0.007195862379131999, 0.55, 'x[5] <= 136.0\\ngini = 0.101\\nsamples = 56\\nvalue = [3, 53]'),\n",
       " Text(0.006796092246957999, 0.5166666666666667, 'gini = 0.0\\nsamples = 24\\nvalue = [0, 24]'),\n",
       " Text(0.007595632511305999, 0.5166666666666667, 'x[5] <= 142.5\\ngini = 0.17\\nsamples = 32\\nvalue = [3, 29]'),\n",
       " Text(0.006796092246957999, 0.48333333333333334, 'x[1] <= 0.504\\ngini = 0.444\\nsamples = 6\\nvalue = [2, 4]'),\n",
       " Text(0.0063963221147839994, 0.45, 'x[3] <= 35.0\\ngini = 0.444\\nsamples = 3\\nvalue = [2, 1]'),\n",
       " Text(0.00599655198261, 0.4166666666666667, 'gini = 0.0\\nsamples = 1\\nvalue = [0, 1]'),\n",
       " Text(0.006796092246957999, 0.4166666666666667, 'gini = 0.0\\nsamples = 2\\nvalue = [2, 0]'),\n",
       " Text(0.007195862379131999, 0.45, 'gini = 0.0\\nsamples = 3\\nvalue = [0, 3]'),\n",
       " Text(0.008395172775653999, 0.48333333333333334, 'x[8] <= 0.5\\ngini = 0.074\\nsamples = 26\\nvalue = [1, 25]'),\n",
       " Text(0.007995402643479999, 0.45, 'gini = 0.0\\nsamples = 20\\nvalue = [0, 20]'),\n",
       " Text(0.008794942907827999, 0.45, 'x[0] <= 0.85\\ngini = 0.278\\nsamples = 6\\nvalue = [1, 5]'),\n",
       " Text(0.008395172775653999, 0.4166666666666667, 'gini = 0.0\\nsamples = 1\\nvalue = [1, 0]'),\n",
       " Text(0.009194713040001998, 0.4166666666666667, 'gini = 0.0\\nsamples = 5\\nvalue = [0, 5]'),\n",
       " Text(0.009194713040001998, 0.5833333333333334, 'x[1] <= 0.181\\ngini = 0.375\\nsamples = 8\\nvalue = [2, 6]'),\n",
       " Text(0.008794942907827999, 0.55, 'x[0] <= 0.5\\ngini = 0.444\\nsamples = 3\\nvalue = [2, 1]'),\n",
       " Text(0.008395172775653999, 0.5166666666666667, 'gini = 0.0\\nsamples = 1\\nvalue = [0, 1]'),\n",
       " Text(0.009194713040001998, 0.5166666666666667, 'gini = 0.0\\nsamples = 2\\nvalue = [2, 0]'),\n",
       " Text(0.009594483172175998, 0.55, 'gini = 0.0\\nsamples = 5\\nvalue = [0, 5]'),\n",
       " Text(0.014291782225220498, 0.6833333333333333, 'x[3] <= 45.0\\ngini = 0.089\\nsamples = 214\\nvalue = [10, 204]'),\n",
       " Text(0.013892012093046498, 0.65, 'x[1] <= 0.127\\ngini = 0.148\\nsamples = 124\\nvalue = [10, 114]'),\n",
       " Text(0.013492241960872498, 0.6166666666666667, 'gini = 0.0\\nsamples = 43\\nvalue = [0, 43]'),\n",
       " Text(0.014291782225220498, 0.6166666666666667, 'x[1] <= 0.128\\ngini = 0.216\\nsamples = 81\\nvalue = [10, 71]'),\n",
       " Text(0.013892012093046498, 0.5833333333333334, 'gini = 0.0\\nsamples = 1\\nvalue = [1, 0]'),\n",
       " Text(0.014691552357394498, 0.5833333333333334, 'x[4] <= 0.5\\ngini = 0.2\\nsamples = 80\\nvalue = [9, 71]'),\n",
       " Text(0.012992529295654998, 0.55, 'x[0] <= 0.55\\ngini = 0.169\\nsamples = 75\\nvalue = [7, 68]'),\n",
       " Text(0.011193563700872, 0.5166666666666667, 'x[5] <= 117.5\\ngini = 0.346\\nsamples = 18\\nvalue = [4, 14]'),\n",
       " Text(0.009994253304349998, 0.48333333333333334, 'x[1] <= 0.423\\ngini = 0.133\\nsamples = 14\\nvalue = [1, 13]'),\n",
       " Text(0.009594483172175998, 0.45, 'gini = 0.0\\nsamples = 8\\nvalue = [0, 8]'),\n",
       " Text(0.010394023436523998, 0.45, 'x[1] <= 0.566\\ngini = 0.278\\nsamples = 6\\nvalue = [1, 5]'),\n",
       " Text(0.009994253304349998, 0.4166666666666667, 'gini = 0.0\\nsamples = 1\\nvalue = [1, 0]'),\n",
       " Text(0.010793793568697998, 0.4166666666666667, 'gini = 0.0\\nsamples = 5\\nvalue = [0, 5]'),\n",
       " Text(0.012392874097393999, 0.48333333333333334, 'x[3] <= 35.0\\ngini = 0.375\\nsamples = 4\\nvalue = [3, 1]'),\n",
       " Text(0.01199310396522, 0.45, 'x[1] <= 0.318\\ngini = 0.5\\nsamples = 2\\nvalue = [1, 1]'),\n",
       " Text(0.011593333833046, 0.4166666666666667, 'gini = 0.0\\nsamples = 1\\nvalue = [1, 0]'),\n",
       " Text(0.012392874097393999, 0.4166666666666667, 'gini = 0.0\\nsamples = 1\\nvalue = [0, 1]'),\n",
       " Text(0.012792644229567999, 0.45, 'gini = 0.0\\nsamples = 2\\nvalue = [2, 0]'),\n",
       " Text(0.014791494890437998, 0.5166666666666667, 'x[1] <= 0.465\\ngini = 0.1\\nsamples = 57\\nvalue = [3, 54]'),\n",
       " Text(0.013991954626089998, 0.48333333333333334, 'x[1] <= 0.169\\ngini = 0.05\\nsamples = 39\\nvalue = [1, 38]'),\n",
       " Text(0.013592184493915999, 0.45, 'x[1] <= 0.168\\ngini = 0.165\\nsamples = 11\\nvalue = [1, 10]'),\n",
       " Text(0.013192414361741999, 0.4166666666666667, 'gini = 0.0\\nsamples = 10\\nvalue = [0, 10]'),\n",
       " Text(0.013991954626089998, 0.4166666666666667, 'gini = 0.0\\nsamples = 1\\nvalue = [1, 0]'),\n",
       " Text(0.014391724758263998, 0.45, 'gini = 0.0\\nsamples = 28\\nvalue = [0, 28]'),\n",
       " Text(0.015591035154785998, 0.48333333333333334, 'x[1] <= 0.475\\ngini = 0.198\\nsamples = 18\\nvalue = [2, 16]'),\n",
       " Text(0.015191265022611998, 0.45, 'gini = 0.0\\nsamples = 1\\nvalue = [1, 0]'),\n",
       " Text(0.015990805286959998, 0.45, 'x[1] <= 0.496\\ngini = 0.111\\nsamples = 17\\nvalue = [1, 16]'),\n",
       " Text(0.015591035154785998, 0.4166666666666667, 'x[1] <= 0.49\\ngini = 0.375\\nsamples = 4\\nvalue = [1, 3]'),\n",
       " Text(0.015191265022611998, 0.38333333333333336, 'gini = 0.0\\nsamples = 3\\nvalue = [0, 3]'),\n",
       " Text(0.015990805286959998, 0.38333333333333336, 'gini = 0.0\\nsamples = 1\\nvalue = [1, 0]'),\n",
       " Text(0.016390575419134, 0.4166666666666667, 'gini = 0.0\\nsamples = 13\\nvalue = [0, 13]'),\n",
       " Text(0.016390575419134, 0.55, 'x[3] <= 35.0\\ngini = 0.48\\nsamples = 5\\nvalue = [2, 3]'),\n",
       " Text(0.015990805286959998, 0.5166666666666667, 'gini = 0.0\\nsamples = 2\\nvalue = [0, 2]'),\n",
       " Text(0.016790345551307997, 0.5166666666666667, 'x[8] <= 0.5\\ngini = 0.444\\nsamples = 3\\nvalue = [2, 1]'),\n",
       " Text(0.016390575419134, 0.48333333333333334, 'gini = 0.0\\nsamples = 2\\nvalue = [2, 0]'),\n",
       " Text(0.017190115683482, 0.48333333333333334, 'gini = 0.0\\nsamples = 1\\nvalue = [0, 1]'),\n",
       " Text(0.014691552357394498, 0.65, 'gini = 0.0\\nsamples = 90\\nvalue = [0, 90]'),\n",
       " Text(0.019588736476525998, 0.7166666666666667, 'x[2] <= 114.5\\ngini = 0.384\\nsamples = 27\\nvalue = [7, 20]'),\n",
       " Text(0.019188966344351997, 0.6833333333333333, 'x[2] <= 90.5\\ngini = 0.455\\nsamples = 20\\nvalue = [7, 13]'),\n",
       " Text(0.018389426080003997, 0.65, 'x[0] <= 0.85\\ngini = 0.375\\nsamples = 16\\nvalue = [4, 12]'),\n",
       " Text(0.01798965594783, 0.6166666666666667, 'x[5] <= 157.5\\ngini = 0.5\\nsamples = 8\\nvalue = [4, 4]'),\n",
       " Text(0.017589885815655997, 0.5833333333333334, 'x[2] <= 26.0\\ngini = 0.444\\nsamples = 6\\nvalue = [2, 4]'),\n",
       " Text(0.017190115683482, 0.55, 'gini = 0.0\\nsamples = 2\\nvalue = [2, 0]'),\n",
       " Text(0.01798965594783, 0.55, 'gini = 0.0\\nsamples = 4\\nvalue = [0, 4]'),\n",
       " Text(0.018389426080003997, 0.5833333333333334, 'gini = 0.0\\nsamples = 2\\nvalue = [2, 0]'),\n",
       " Text(0.018789196212178, 0.6166666666666667, 'gini = 0.0\\nsamples = 8\\nvalue = [0, 8]'),\n",
       " Text(0.019988506608699996, 0.65, 'x[5] <= 86.0\\ngini = 0.375\\nsamples = 4\\nvalue = [3, 1]'),\n",
       " Text(0.019588736476525998, 0.6166666666666667, 'gini = 0.0\\nsamples = 1\\nvalue = [0, 1]'),\n",
       " Text(0.020388276740873998, 0.6166666666666667, 'gini = 0.0\\nsamples = 3\\nvalue = [3, 0]'),\n",
       " Text(0.019988506608699996, 0.6833333333333333, 'gini = 0.0\\nsamples = 7\\nvalue = [0, 7]'),\n",
       " Text(0.027084426454788497, 0.75, 'x[3] <= 35.0\\ngini = 0.074\\nsamples = 904\\nvalue = [35, 869]'),\n",
       " Text(0.02398620793044, 0.7166666666666667, 'x[1] <= 0.605\\ngini = 0.115\\nsamples = 196\\nvalue = [12, 184]'),\n",
       " Text(0.022387127401744, 0.6833333333333333, 'x[5] <= 333.5\\ngini = 0.079\\nsamples = 170\\nvalue = [7, 163]'),\n",
       " Text(0.021587587137395996, 0.65, 'x[0] <= 0.85\\ngini = 0.069\\nsamples = 168\\nvalue = [6, 162]'),\n",
       " Text(0.021187817005221998, 0.6166666666666667, 'gini = 0.0\\nsamples = 83\\nvalue = [0, 83]'),\n",
       " Text(0.021987357269569997, 0.6166666666666667, 'x[2] <= 73.5\\ngini = 0.131\\nsamples = 85\\nvalue = [6, 79]'),\n",
       " Text(0.020987931939134997, 0.5833333333333334, 'x[8] <= 0.5\\ngini = 0.113\\nsamples = 83\\nvalue = [5, 78]'),\n",
       " Text(0.020188391674786997, 0.55, 'x[5] <= 223.0\\ngini = 0.079\\nsamples = 73\\nvalue = [3, 70]'),\n",
       " Text(0.019788621542613, 0.5166666666666667, 'x[5] <= 220.0\\ngini = 0.175\\nsamples = 31\\nvalue = [3, 28]'),\n",
       " Text(0.019388851410438997, 0.48333333333333334, 'x[5] <= 203.5\\ngini = 0.124\\nsamples = 30\\nvalue = [2, 28]'),\n",
       " Text(0.018989081278265, 0.45, 'gini = 0.0\\nsamples = 20\\nvalue = [0, 20]'),\n",
       " Text(0.019788621542613, 0.45, 'x[1] <= 0.197\\ngini = 0.32\\nsamples = 10\\nvalue = [2, 8]'),\n",
       " Text(0.019388851410438997, 0.4166666666666667, 'gini = 0.0\\nsamples = 7\\nvalue = [0, 7]'),\n",
       " Text(0.020188391674786997, 0.4166666666666667, 'x[5] <= 214.5\\ngini = 0.444\\nsamples = 3\\nvalue = [2, 1]'),\n",
       " Text(0.019788621542613, 0.38333333333333336, 'gini = 0.0\\nsamples = 2\\nvalue = [2, 0]'),\n",
       " Text(0.020588161806961, 0.38333333333333336, 'gini = 0.0\\nsamples = 1\\nvalue = [0, 1]'),\n",
       " Text(0.020188391674786997, 0.48333333333333334, 'gini = 0.0\\nsamples = 1\\nvalue = [1, 0]'),\n",
       " Text(0.020588161806961, 0.5166666666666667, 'gini = 0.0\\nsamples = 42\\nvalue = [0, 42]'),\n",
       " Text(0.021787472203482997, 0.55, 'x[5] <= 244.0\\ngini = 0.32\\nsamples = 10\\nvalue = [2, 8]'),\n",
       " Text(0.021387702071309, 0.5166666666666667, 'x[5] <= 194.5\\ngini = 0.444\\nsamples = 6\\nvalue = [2, 4]'),\n",
       " Text(0.020987931939134997, 0.48333333333333334, 'gini = 0.0\\nsamples = 3\\nvalue = [0, 3]'),\n",
       " Text(0.021787472203482997, 0.48333333333333334, 'x[2] <= 23.5\\ngini = 0.444\\nsamples = 3\\nvalue = [2, 1]'),\n",
       " Text(0.021387702071309, 0.45, 'gini = 0.0\\nsamples = 2\\nvalue = [2, 0]'),\n",
       " Text(0.022187242335656998, 0.45, 'gini = 0.0\\nsamples = 1\\nvalue = [0, 1]'),\n",
       " Text(0.022187242335656998, 0.5166666666666667, 'gini = 0.0\\nsamples = 4\\nvalue = [0, 4]'),\n",
       " Text(0.022986782600004998, 0.5833333333333334, 'x[5] <= 233.0\\ngini = 0.5\\nsamples = 2\\nvalue = [1, 1]'),\n",
       " Text(0.022587012467830996, 0.55, 'gini = 0.0\\nsamples = 1\\nvalue = [1, 0]'),\n",
       " Text(0.023386552732178996, 0.55, 'gini = 0.0\\nsamples = 1\\nvalue = [0, 1]'),\n",
       " Text(0.023186667666092, 0.65, 'x[3] <= 25.0\\ngini = 0.5\\nsamples = 2\\nvalue = [1, 1]'),\n",
       " Text(0.022786897533917997, 0.6166666666666667, 'gini = 0.0\\nsamples = 1\\nvalue = [0, 1]'),\n",
       " Text(0.023586437798265997, 0.6166666666666667, 'gini = 0.0\\nsamples = 1\\nvalue = [1, 0]'),\n",
       " Text(0.025585288459135998, 0.6833333333333333, 'x[5] <= 303.0\\ngini = 0.311\\nsamples = 26\\nvalue = [5, 21]'),\n",
       " Text(0.024785748194787998, 0.65, 'x[1] <= 0.673\\ngini = 0.227\\nsamples = 23\\nvalue = [3, 20]'),\n",
       " Text(0.024385978062613996, 0.6166666666666667, 'gini = 0.0\\nsamples = 11\\nvalue = [0, 11]'),\n",
       " Text(0.025185518326961996, 0.6166666666666667, 'x[5] <= 221.0\\ngini = 0.375\\nsamples = 12\\nvalue = [3, 9]'),\n",
       " Text(0.024785748194787998, 0.5833333333333334, 'gini = 0.0\\nsamples = 6\\nvalue = [0, 6]'),\n",
       " Text(0.025585288459135998, 0.5833333333333334, 'x[1] <= 0.688\\ngini = 0.5\\nsamples = 6\\nvalue = [3, 3]'),\n",
       " Text(0.025185518326961996, 0.55, 'gini = 0.0\\nsamples = 2\\nvalue = [2, 0]'),\n",
       " Text(0.025985058591309996, 0.55, 'x[5] <= 232.0\\ngini = 0.375\\nsamples = 4\\nvalue = [1, 3]'),\n",
       " Text(0.025585288459135998, 0.5166666666666667, 'x[0] <= 0.85\\ngini = 0.5\\nsamples = 2\\nvalue = [1, 1]'),\n",
       " Text(0.025185518326961996, 0.48333333333333334, 'gini = 0.0\\nsamples = 1\\nvalue = [1, 0]'),\n",
       " Text(0.025985058591309996, 0.48333333333333334, 'gini = 0.0\\nsamples = 1\\nvalue = [0, 1]'),\n",
       " Text(0.026384828723483997, 0.5166666666666667, 'gini = 0.0\\nsamples = 2\\nvalue = [0, 2]'),\n",
       " Text(0.026384828723483997, 0.65, 'x[1] <= 0.681\\ngini = 0.444\\nsamples = 3\\nvalue = [2, 1]'),\n",
       " Text(0.025985058591309996, 0.6166666666666667, 'gini = 0.0\\nsamples = 2\\nvalue = [2, 0]'),\n",
       " Text(0.026784598855657996, 0.6166666666666667, 'gini = 0.0\\nsamples = 1\\nvalue = [0, 1]'),\n",
       " Text(0.030182644979136995, 0.7166666666666667, 'x[1] <= 0.009\\ngini = 0.063\\nsamples = 708\\nvalue = [23, 685]'),\n",
       " Text(0.027584139120005995, 0.6833333333333333, 'x[1] <= 0.008\\ngini = 0.375\\nsamples = 4\\nvalue = [1, 3]'),\n",
       " Text(0.027184368987831997, 0.65, 'gini = 0.0\\nsamples = 3\\nvalue = [0, 3]'),\n",
       " Text(0.027983909252179997, 0.65, 'gini = 0.0\\nsamples = 1\\nvalue = [1, 0]'),\n",
       " Text(0.032781150838268, 0.6833333333333333, 'x[0] <= 0.15\\ngini = 0.061\\nsamples = 704\\nvalue = [22, 682]'),\n",
       " Text(0.028783449516527997, 0.65, 'x[3] <= 45.0\\ngini = 0.149\\nsamples = 37\\nvalue = [3, 34]'),\n",
       " Text(0.028383679384353995, 0.6166666666666667, 'x[5] <= 186.0\\ngini = 0.355\\nsamples = 13\\nvalue = [3, 10]'),\n",
       " Text(0.027983909252179997, 0.5833333333333334, 'gini = 0.0\\nsamples = 1\\nvalue = [1, 0]'),\n",
       " Text(0.028783449516527997, 0.5833333333333334, 'x[6] <= 0.5\\ngini = 0.278\\nsamples = 12\\nvalue = [2, 10]'),\n",
       " Text(0.028383679384353995, 0.55, 'x[1] <= 0.095\\ngini = 0.48\\nsamples = 5\\nvalue = [2, 3]'),\n",
       " Text(0.027983909252179997, 0.5166666666666667, 'gini = 0.0\\nsamples = 2\\nvalue = [0, 2]'),\n",
       " Text(0.028783449516527997, 0.5166666666666667, 'x[5] <= 255.5\\ngini = 0.444\\nsamples = 3\\nvalue = [2, 1]'),\n",
       " Text(0.028383679384353995, 0.48333333333333334, 'x[1] <= 0.266\\ngini = 0.5\\nsamples = 2\\nvalue = [1, 1]'),\n",
       " Text(0.027983909252179997, 0.45, 'gini = 0.0\\nsamples = 1\\nvalue = [1, 0]'),\n",
       " Text(0.028783449516527997, 0.45, 'gini = 0.0\\nsamples = 1\\nvalue = [0, 1]'),\n",
       " Text(0.029183219648701995, 0.48333333333333334, 'gini = 0.0\\nsamples = 1\\nvalue = [1, 0]'),\n",
       " Text(0.029183219648701995, 0.55, 'gini = 0.0\\nsamples = 7\\nvalue = [0, 7]'),\n",
       " Text(0.029183219648701995, 0.6166666666666667, 'gini = 0.0\\nsamples = 24\\nvalue = [0, 24]'),\n",
       " Text(0.036778852160007994, 0.65, 'x[4] <= 0.5\\ngini = 0.055\\nsamples = 667\\nvalue = [19, 648]'),\n",
       " Text(0.034280288833920494, 0.6166666666666667, 'x[1] <= 0.315\\ngini = 0.043\\nsamples = 549\\nvalue = [12, 537]'),\n",
       " Text(0.032781150838268, 0.5833333333333334, 'x[2] <= 104.0\\ngini = 0.023\\nsamples = 344\\nvalue = [4, 340]'),\n",
       " Text(0.031581840441745994, 0.55, 'x[8] <= 0.5\\ngini = 0.018\\nsamples = 333\\nvalue = [3, 330]'),\n",
       " Text(0.030382530045223996, 0.5166666666666667, 'x[1] <= 0.25\\ngini = 0.008\\nsamples = 251\\nvalue = [1, 250]'),\n",
       " Text(0.029982759913049998, 0.48333333333333334, 'gini = 0.0\\nsamples = 213\\nvalue = [0, 213]'),\n",
       " Text(0.030782300177397998, 0.48333333333333334, 'x[1] <= 0.251\\ngini = 0.051\\nsamples = 38\\nvalue = [1, 37]'),\n",
       " Text(0.030382530045223996, 0.45, 'gini = 0.0\\nsamples = 1\\nvalue = [1, 0]'),\n",
       " Text(0.031182070309571996, 0.45, 'gini = 0.0\\nsamples = 37\\nvalue = [0, 37]'),\n",
       " Text(0.032781150838268, 0.5166666666666667, 'x[5] <= 219.5\\ngini = 0.048\\nsamples = 82\\nvalue = [2, 80]'),\n",
       " Text(0.032381380706094, 0.48333333333333334, 'x[5] <= 217.5\\ngini = 0.137\\nsamples = 27\\nvalue = [2, 25]'),\n",
       " Text(0.031981610573919995, 0.45, 'x[0] <= 0.75\\ngini = 0.074\\nsamples = 26\\nvalue = [1, 25]'),\n",
       " Text(0.031581840441745994, 0.4166666666666667, 'x[5] <= 194.0\\ngini = 0.245\\nsamples = 7\\nvalue = [1, 6]'),\n",
       " Text(0.031182070309571996, 0.38333333333333336, 'x[3] <= 45.0\\ngini = 0.444\\nsamples = 3\\nvalue = [1, 2]'),\n",
       " Text(0.030782300177397998, 0.35, 'gini = 0.0\\nsamples = 2\\nvalue = [0, 2]'),\n",
       " Text(0.031581840441745994, 0.35, 'gini = 0.0\\nsamples = 1\\nvalue = [1, 0]'),\n",
       " Text(0.031981610573919995, 0.38333333333333336, 'gini = 0.0\\nsamples = 4\\nvalue = [0, 4]'),\n",
       " Text(0.032381380706094, 0.4166666666666667, 'gini = 0.0\\nsamples = 19\\nvalue = [0, 19]'),\n",
       " Text(0.032781150838268, 0.45, 'gini = 0.0\\nsamples = 1\\nvalue = [1, 0]'),\n",
       " Text(0.03318092097044199, 0.48333333333333334, 'gini = 0.0\\nsamples = 55\\nvalue = [0, 55]'),\n",
       " Text(0.033980461234789996, 0.55, 'x[2] <= 109.0\\ngini = 0.165\\nsamples = 11\\nvalue = [1, 10]'),\n",
       " Text(0.033580691102615995, 0.5166666666666667, 'gini = 0.0\\nsamples = 1\\nvalue = [1, 0]'),\n",
       " Text(0.034380231366964, 0.5166666666666667, 'gini = 0.0\\nsamples = 10\\nvalue = [0, 10]'),\n",
       " Text(0.035779426829573, 0.5833333333333334, 'x[1] <= 0.315\\ngini = 0.075\\nsamples = 205\\nvalue = [8, 197]'),\n",
       " Text(0.035379656697398995, 0.55, 'gini = 0.0\\nsamples = 1\\nvalue = [1, 0]'),\n",
       " Text(0.036179196961747, 0.55, 'x[5] <= 335.5\\ngini = 0.066\\nsamples = 204\\nvalue = [7, 197]'),\n",
       " Text(0.035379656697398995, 0.5166666666666667, 'x[1] <= 0.651\\ngini = 0.058\\nsamples = 201\\nvalue = [6, 195]'),\n",
       " Text(0.034979886565224994, 0.48333333333333334, 'x[1] <= 0.646\\ngini = 0.085\\nsamples = 135\\nvalue = [6, 129]'),\n",
       " Text(0.034580116433051, 0.45, 'x[1] <= 0.634\\ngini = 0.072\\nsamples = 134\\nvalue = [5, 129]'),\n",
       " Text(0.033580691102615995, 0.4166666666666667, 'x[5] <= 213.0\\ngini = 0.059\\nsamples = 131\\nvalue = [4, 127]'),\n",
       " Text(0.032781150838268, 0.38333333333333336, 'x[5] <= 211.0\\ngini = 0.17\\nsamples = 32\\nvalue = [3, 29]'),\n",
       " Text(0.032381380706094, 0.35, 'x[1] <= 0.426\\ngini = 0.121\\nsamples = 31\\nvalue = [2, 29]'),\n",
       " Text(0.031981610573919995, 0.31666666666666665, 'x[1] <= 0.405\\ngini = 0.26\\nsamples = 13\\nvalue = [2, 11]'),\n",
       " Text(0.031581840441745994, 0.2833333333333333, 'gini = 0.0\\nsamples = 11\\nvalue = [0, 11]'),\n",
       " Text(0.032381380706094, 0.2833333333333333, 'gini = 0.0\\nsamples = 2\\nvalue = [2, 0]'),\n",
       " Text(0.032781150838268, 0.31666666666666665, 'gini = 0.0\\nsamples = 18\\nvalue = [0, 18]'),\n",
       " Text(0.03318092097044199, 0.35, 'gini = 0.0\\nsamples = 1\\nvalue = [1, 0]'),\n",
       " Text(0.034380231366964, 0.38333333333333336, 'x[0] <= 0.65\\ngini = 0.02\\nsamples = 99\\nvalue = [1, 98]'),\n",
       " Text(0.033980461234789996, 0.35, 'x[5] <= 283.0\\ngini = 0.1\\nsamples = 19\\nvalue = [1, 18]'),\n",
       " Text(0.033580691102615995, 0.31666666666666665, 'gini = 0.0\\nsamples = 12\\nvalue = [0, 12]'),\n",
       " Text(0.034380231366964, 0.31666666666666665, 'x[5] <= 288.0\\ngini = 0.245\\nsamples = 7\\nvalue = [1, 6]'),\n",
       " Text(0.033980461234789996, 0.2833333333333333, 'gini = 0.0\\nsamples = 1\\nvalue = [1, 0]'),\n",
       " Text(0.03478000149913799, 0.2833333333333333, 'gini = 0.0\\nsamples = 6\\nvalue = [0, 6]'),\n",
       " Text(0.03478000149913799, 0.35, 'gini = 0.0\\nsamples = 80\\nvalue = [0, 80]'),\n",
       " Text(0.035579541763485996, 0.4166666666666667, 'x[5] <= 304.0\\ngini = 0.444\\nsamples = 3\\nvalue = [1, 2]'),\n",
       " Text(0.035179771631311994, 0.38333333333333336, 'gini = 0.0\\nsamples = 2\\nvalue = [0, 2]'),\n",
       " Text(0.03597931189566, 0.38333333333333336, 'gini = 0.0\\nsamples = 1\\nvalue = [1, 0]'),\n",
       " Text(0.035379656697398995, 0.45, 'gini = 0.0\\nsamples = 1\\nvalue = [1, 0]'),\n",
       " Text(0.035779426829573, 0.48333333333333334, 'gini = 0.0\\nsamples = 66\\nvalue = [0, 66]'),\n",
       " Text(0.036978737226094995, 0.5166666666666667, 'x[5] <= 341.5\\ngini = 0.444\\nsamples = 3\\nvalue = [1, 2]'),\n",
       " Text(0.03657896709392099, 0.48333333333333334, 'gini = 0.0\\nsamples = 1\\nvalue = [1, 0]'),\n",
       " Text(0.037378507358268996, 0.48333333333333334, 'gini = 0.0\\nsamples = 2\\nvalue = [0, 2]'),\n",
       " Text(0.03927741548609549, 0.6166666666666667, 'x[1] <= 0.039\\ngini = 0.112\\nsamples = 118\\nvalue = [7, 111]'),\n",
       " Text(0.03817804762261699, 0.5833333333333334, 'x[1] <= 0.031\\ngini = 0.444\\nsamples = 3\\nvalue = [1, 2]'),\n",
       " Text(0.037778277490443, 0.55, 'gini = 0.0\\nsamples = 2\\nvalue = [0, 2]'),\n",
       " Text(0.038577817754790994, 0.55, 'gini = 0.0\\nsamples = 1\\nvalue = [1, 0]'),\n",
       " Text(0.040376783349573994, 0.5833333333333334, 'x[5] <= 280.0\\ngini = 0.099\\nsamples = 115\\nvalue = [6, 109]'),\n",
       " Text(0.039377358019139, 0.55, 'x[0] <= 0.45\\ngini = 0.061\\nsamples = 96\\nvalue = [3, 93]'),\n",
       " Text(0.038577817754790994, 0.5166666666666667, 'x[5] <= 199.0\\ngini = 0.198\\nsamples = 9\\nvalue = [1, 8]'),\n",
       " Text(0.03817804762261699, 0.48333333333333334, 'x[5] <= 187.0\\ngini = 0.5\\nsamples = 2\\nvalue = [1, 1]'),\n",
       " Text(0.037778277490443, 0.45, 'gini = 0.0\\nsamples = 1\\nvalue = [0, 1]'),\n",
       " Text(0.038577817754790994, 0.45, 'gini = 0.0\\nsamples = 1\\nvalue = [1, 0]'),\n",
       " Text(0.038977587886964996, 0.48333333333333334, 'gini = 0.0\\nsamples = 7\\nvalue = [0, 7]'),\n",
       " Text(0.04017689828348699, 0.5166666666666667, 'x[6] <= 0.5\\ngini = 0.045\\nsamples = 87\\nvalue = [2, 85]'),\n",
       " Text(0.03977712815131299, 0.48333333333333334, 'x[8] <= 0.5\\ngini = 0.128\\nsamples = 29\\nvalue = [2, 27]'),\n",
       " Text(0.039377358019139, 0.45, 'gini = 0.0\\nsamples = 21\\nvalue = [0, 21]'),\n",
       " Text(0.04017689828348699, 0.45, 'x[3] <= 65.0\\ngini = 0.375\\nsamples = 8\\nvalue = [2, 6]'),\n",
       " Text(0.03977712815131299, 0.4166666666666667, 'x[1] <= 0.323\\ngini = 0.245\\nsamples = 7\\nvalue = [1, 6]'),\n",
       " Text(0.039377358019139, 0.38333333333333336, 'gini = 0.0\\nsamples = 4\\nvalue = [0, 4]'),\n",
       " Text(0.04017689828348699, 0.38333333333333336, 'x[1] <= 0.384\\ngini = 0.444\\nsamples = 3\\nvalue = [1, 2]'),\n",
       " Text(0.03977712815131299, 0.35, 'gini = 0.0\\nsamples = 1\\nvalue = [1, 0]'),\n",
       " Text(0.040576668415660995, 0.35, 'gini = 0.0\\nsamples = 2\\nvalue = [0, 2]'),\n",
       " Text(0.040576668415660995, 0.4166666666666667, 'gini = 0.0\\nsamples = 1\\nvalue = [1, 0]'),\n",
       " Text(0.040576668415660995, 0.48333333333333334, 'gini = 0.0\\nsamples = 58\\nvalue = [0, 58]'),\n",
       " Text(0.041376208680009, 0.55, 'x[5] <= 282.5\\ngini = 0.266\\nsamples = 19\\nvalue = [3, 16]'),\n",
       " Text(0.040976438547835, 0.5166666666666667, 'gini = 0.0\\nsamples = 1\\nvalue = [1, 0]'),\n",
       " Text(0.04177597881218299, 0.5166666666666667, 'x[1] <= 0.135\\ngini = 0.198\\nsamples = 18\\nvalue = [2, 16]'),\n",
       " Text(0.041376208680009, 0.48333333333333334, 'x[6] <= 0.5\\ngini = 0.408\\nsamples = 7\\nvalue = [2, 5]'),\n",
       " Text(0.040976438547835, 0.45, 'gini = 0.0\\nsamples = 1\\nvalue = [1, 0]'),\n",
       " Text(0.04177597881218299, 0.45, 'x[0] <= 0.7\\ngini = 0.278\\nsamples = 6\\nvalue = [1, 5]'),\n",
       " Text(0.041376208680009, 0.4166666666666667, 'x[1] <= 0.087\\ngini = 0.5\\nsamples = 2\\nvalue = [1, 1]'),\n",
       " Text(0.040976438547835, 0.38333333333333336, 'gini = 0.0\\nsamples = 1\\nvalue = [0, 1]'),\n",
       " Text(0.04177597881218299, 0.38333333333333336, 'gini = 0.0\\nsamples = 1\\nvalue = [1, 0]'),\n",
       " Text(0.042175748944356994, 0.4166666666666667, 'gini = 0.0\\nsamples = 4\\nvalue = [0, 4]'),\n",
       " Text(0.042175748944356994, 0.48333333333333334, 'gini = 0.0\\nsamples = 11\\nvalue = [0, 11]'),\n",
       " Text(0.030982185243484995, 0.7833333333333333, 'x[0] <= 0.35\\ngini = 0.459\\nsamples = 14\\nvalue = [5, 9]'),\n",
       " Text(0.030582415111310997, 0.75, 'gini = 0.0\\nsamples = 3\\nvalue = [3, 0]'),\n",
       " Text(0.03138195537565899, 0.75, 'x[1] <= 0.437\\ngini = 0.298\\nsamples = 11\\nvalue = [2, 9]'),\n",
       " Text(0.030982185243484995, 0.7166666666666667, 'gini = 0.0\\nsamples = 9\\nvalue = [0, 9]'),\n",
       " Text(0.031781725507832995, 0.7166666666666667, 'gini = 0.0\\nsamples = 2\\nvalue = [2, 0]'),\n",
       " Text(0.04853459260924968, 0.8166666666666667, 'x[1] <= 0.761\\ngini = 0.229\\nsamples = 348\\nvalue = [46, 302]'),\n",
       " Text(0.042975289208705, 0.7833333333333333, 'x[4] <= 0.5\\ngini = 0.408\\nsamples = 7\\nvalue = [5, 2]'),\n",
       " Text(0.042575519076530996, 0.75, 'x[1] <= 0.759\\ngini = 0.444\\nsamples = 3\\nvalue = [1, 2]'),\n",
       " Text(0.042175748944356994, 0.7166666666666667, 'gini = 0.0\\nsamples = 1\\nvalue = [1, 0]'),\n",
       " Text(0.042975289208705, 0.7166666666666667, 'gini = 0.0\\nsamples = 2\\nvalue = [0, 2]'),\n",
       " Text(0.04337505934087899, 0.75, 'gini = 0.0\\nsamples = 4\\nvalue = [4, 0]'),\n",
       " Text(0.05409389600979437, 0.7833333333333333, 'x[5] <= 203.5\\ngini = 0.212\\nsamples = 341\\nvalue = [41, 300]'),\n",
       " Text(0.046673162931314495, 0.75, 'x[0] <= 0.25\\ngini = 0.325\\nsamples = 132\\nvalue = [27, 105]'),\n",
       " Text(0.043774829473052994, 0.7166666666666667, 'x[8] <= 0.5\\ngini = 0.494\\nsamples = 18\\nvalue = [8, 10]'),\n",
       " Text(0.042975289208705, 0.6833333333333333, 'x[4] <= 0.5\\ngini = 0.486\\nsamples = 12\\nvalue = [7, 5]'),\n",
       " Text(0.042575519076530996, 0.65, 'x[6] <= 0.5\\ngini = 0.5\\nsamples = 10\\nvalue = [5, 5]'),\n",
       " Text(0.042175748944356994, 0.6166666666666667, 'gini = 0.0\\nsamples = 3\\nvalue = [0, 3]'),\n",
       " Text(0.042975289208705, 0.6166666666666667, 'x[3] <= 55.0\\ngini = 0.408\\nsamples = 7\\nvalue = [5, 2]'),\n",
       " Text(0.042575519076530996, 0.5833333333333334, 'x[5] <= 187.5\\ngini = 0.278\\nsamples = 6\\nvalue = [5, 1]'),\n",
       " Text(0.042175748944356994, 0.55, 'gini = 0.0\\nsamples = 4\\nvalue = [4, 0]'),\n",
       " Text(0.042975289208705, 0.55, 'x[5] <= 196.5\\ngini = 0.5\\nsamples = 2\\nvalue = [1, 1]'),\n",
       " Text(0.042575519076530996, 0.5166666666666667, 'gini = 0.0\\nsamples = 1\\nvalue = [0, 1]'),\n",
       " Text(0.04337505934087899, 0.5166666666666667, 'gini = 0.0\\nsamples = 1\\nvalue = [1, 0]'),\n",
       " Text(0.04337505934087899, 0.5833333333333334, 'gini = 0.0\\nsamples = 1\\nvalue = [0, 1]'),\n",
       " Text(0.04337505934087899, 0.65, 'gini = 0.0\\nsamples = 2\\nvalue = [2, 0]'),\n",
       " Text(0.044574369737401, 0.6833333333333333, 'x[1] <= 0.833\\ngini = 0.278\\nsamples = 6\\nvalue = [1, 5]'),\n",
       " Text(0.044174599605226995, 0.65, 'x[5] <= 133.5\\ngini = 0.5\\nsamples = 2\\nvalue = [1, 1]'),\n",
       " Text(0.043774829473052994, 0.6166666666666667, 'gini = 0.0\\nsamples = 1\\nvalue = [0, 1]'),\n",
       " Text(0.044574369737401, 0.6166666666666667, 'gini = 0.0\\nsamples = 1\\nvalue = [1, 0]'),\n",
       " Text(0.04497413986957499, 0.65, 'gini = 0.0\\nsamples = 4\\nvalue = [0, 4]'),\n",
       " Text(0.049571496389575996, 0.7166666666666667, 'x[6] <= 0.5\\ngini = 0.278\\nsamples = 114\\nvalue = [19, 95]'),\n",
       " Text(0.047572645728705995, 0.6833333333333333, 'x[5] <= 190.0\\ngini = 0.397\\nsamples = 55\\nvalue = [15, 40]'),\n",
       " Text(0.046173450266096996, 0.65, 'x[5] <= 60.0\\ngini = 0.335\\nsamples = 47\\nvalue = [10, 37]'),\n",
       " Text(0.04537391000174899, 0.6166666666666667, 'x[5] <= 37.0\\ngini = 0.48\\nsamples = 5\\nvalue = [3, 2]'),\n",
       " Text(0.04497413986957499, 0.5833333333333334, 'gini = 0.0\\nsamples = 2\\nvalue = [0, 2]'),\n",
       " Text(0.045773680133922995, 0.5833333333333334, 'gini = 0.0\\nsamples = 3\\nvalue = [3, 0]'),\n",
       " Text(0.04697299053044499, 0.6166666666666667, 'x[3] <= 25.0\\ngini = 0.278\\nsamples = 42\\nvalue = [7, 35]'),\n",
       " Text(0.04657322039827099, 0.5833333333333334, 'gini = 0.0\\nsamples = 1\\nvalue = [1, 0]'),\n",
       " Text(0.047372760662618994, 0.5833333333333334, 'x[1] <= 0.844\\ngini = 0.25\\nsamples = 41\\nvalue = [6, 35]'),\n",
       " Text(0.04657322039827099, 0.55, 'x[1] <= 0.832\\ngini = 0.391\\nsamples = 15\\nvalue = [4, 11]'),\n",
       " Text(0.046173450266096996, 0.5166666666666667, 'x[5] <= 155.5\\ngini = 0.26\\nsamples = 13\\nvalue = [2, 11]'),\n",
       " Text(0.045773680133922995, 0.48333333333333334, 'gini = 0.0\\nsamples = 6\\nvalue = [0, 6]'),\n",
       " Text(0.04657322039827099, 0.48333333333333334, 'x[5] <= 165.0\\ngini = 0.408\\nsamples = 7\\nvalue = [2, 5]'),\n",
       " Text(0.046173450266096996, 0.45, 'gini = 0.0\\nsamples = 1\\nvalue = [1, 0]'),\n",
       " Text(0.04697299053044499, 0.45, 'x[1] <= 0.774\\ngini = 0.278\\nsamples = 6\\nvalue = [1, 5]'),\n",
       " Text(0.04657322039827099, 0.4166666666666667, 'x[5] <= 181.5\\ngini = 0.5\\nsamples = 2\\nvalue = [1, 1]'),\n",
       " Text(0.046173450266096996, 0.38333333333333336, 'gini = 0.0\\nsamples = 1\\nvalue = [0, 1]'),\n",
       " Text(0.04697299053044499, 0.38333333333333336, 'gini = 0.0\\nsamples = 1\\nvalue = [1, 0]'),\n",
       " Text(0.047372760662618994, 0.4166666666666667, 'gini = 0.0\\nsamples = 4\\nvalue = [0, 4]'),\n",
       " Text(0.04697299053044499, 0.5166666666666667, 'gini = 0.0\\nsamples = 2\\nvalue = [2, 0]'),\n",
       " Text(0.048172300926967, 0.55, 'x[8] <= 0.5\\ngini = 0.142\\nsamples = 26\\nvalue = [2, 24]'),\n",
       " Text(0.047772530794792996, 0.5166666666666667, 'gini = 0.0\\nsamples = 19\\nvalue = [0, 19]'),\n",
       " Text(0.04857207105914099, 0.5166666666666667, 'x[5] <= 101.5\\ngini = 0.408\\nsamples = 7\\nvalue = [2, 5]'),\n",
       " Text(0.048172300926967, 0.48333333333333334, 'x[1] <= 0.965\\ngini = 0.444\\nsamples = 3\\nvalue = [2, 1]'),\n",
       " Text(0.047772530794792996, 0.45, 'gini = 0.0\\nsamples = 2\\nvalue = [2, 0]'),\n",
       " Text(0.04857207105914099, 0.45, 'gini = 0.0\\nsamples = 1\\nvalue = [0, 1]'),\n",
       " Text(0.048971841191314994, 0.48333333333333334, 'gini = 0.0\\nsamples = 4\\nvalue = [0, 4]'),\n",
       " Text(0.048971841191314994, 0.65, 'x[3] <= 55.0\\ngini = 0.469\\nsamples = 8\\nvalue = [5, 3]'),\n",
       " Text(0.04857207105914099, 0.6166666666666667, 'x[1] <= 0.935\\ngini = 0.278\\nsamples = 6\\nvalue = [5, 1]'),\n",
       " Text(0.048172300926967, 0.5833333333333334, 'gini = 0.0\\nsamples = 5\\nvalue = [5, 0]'),\n",
       " Text(0.048971841191314994, 0.5833333333333334, 'gini = 0.0\\nsamples = 1\\nvalue = [0, 1]'),\n",
       " Text(0.049371611323488995, 0.6166666666666667, 'gini = 0.0\\nsamples = 2\\nvalue = [0, 2]'),\n",
       " Text(0.05157034705044599, 0.6833333333333333, 'x[8] <= 0.5\\ngini = 0.126\\nsamples = 59\\nvalue = [4, 55]'),\n",
       " Text(0.05057092172001099, 0.65, 'x[5] <= 75.5\\ngini = 0.043\\nsamples = 46\\nvalue = [1, 45]'),\n",
       " Text(0.05017115158783699, 0.6166666666666667, 'x[1] <= 0.866\\ngini = 0.32\\nsamples = 5\\nvalue = [1, 4]'),\n",
       " Text(0.049771381455663, 0.5833333333333334, 'gini = 0.0\\nsamples = 3\\nvalue = [0, 3]'),\n",
       " Text(0.05057092172001099, 0.5833333333333334, 'x[1] <= 0.898\\ngini = 0.5\\nsamples = 2\\nvalue = [1, 1]'),\n",
       " Text(0.05017115158783699, 0.55, 'gini = 0.0\\nsamples = 1\\nvalue = [1, 0]'),\n",
       " Text(0.050970691852184995, 0.55, 'gini = 0.0\\nsamples = 1\\nvalue = [0, 1]'),\n",
       " Text(0.050970691852184995, 0.6166666666666667, 'gini = 0.0\\nsamples = 41\\nvalue = [0, 41]'),\n",
       " Text(0.052569772380880994, 0.65, 'x[0] <= 0.65\\ngini = 0.355\\nsamples = 13\\nvalue = [3, 10]'),\n",
       " Text(0.05177023211653299, 0.6166666666666667, 'x[1] <= 0.919\\ngini = 0.444\\nsamples = 3\\nvalue = [2, 1]'),\n",
       " Text(0.051370461984358996, 0.5833333333333334, 'gini = 0.0\\nsamples = 2\\nvalue = [2, 0]'),\n",
       " Text(0.05217000224870699, 0.5833333333333334, 'gini = 0.0\\nsamples = 1\\nvalue = [0, 1]'),\n",
       " Text(0.05336931264522899, 0.6166666666666667, 'x[3] <= 25.0\\ngini = 0.18\\nsamples = 10\\nvalue = [1, 9]'),\n",
       " Text(0.052969542513054996, 0.5833333333333334, 'gini = 0.0\\nsamples = 1\\nvalue = [1, 0]'),\n",
       " Text(0.05376908277740299, 0.5833333333333334, 'gini = 0.0\\nsamples = 9\\nvalue = [0, 9]'),\n",
       " Text(0.06151462908827424, 0.75, 'x[2] <= 27.0\\ngini = 0.125\\nsamples = 209\\nvalue = [14, 195]'),\n",
       " Text(0.05986557729305649, 0.7166666666666667, 'x[8] <= 0.5\\ngini = 0.11\\nsamples = 205\\nvalue = [12, 193]'),\n",
       " Text(0.057766784099142994, 0.6833333333333333, 'x[4] <= 0.5\\ngini = 0.074\\nsamples = 156\\nvalue = [6, 150]'),\n",
       " Text(0.056167703570446995, 0.65, 'x[0] <= 0.15\\ngini = 0.055\\nsamples = 142\\nvalue = [4, 138]'),\n",
       " Text(0.05496839317392499, 0.6166666666666667, 'x[1] <= 0.902\\ngini = 0.18\\nsamples = 10\\nvalue = [1, 9]'),\n",
       " Text(0.054568623041750995, 0.5833333333333334, 'gini = 0.0\\nsamples = 7\\nvalue = [0, 7]'),\n",
       " Text(0.05536816330609899, 0.5833333333333334, 'x[3] <= 45.0\\ngini = 0.444\\nsamples = 3\\nvalue = [1, 2]'),\n",
       " Text(0.05496839317392499, 0.55, 'gini = 0.0\\nsamples = 2\\nvalue = [0, 2]'),\n",
       " Text(0.05576793343827299, 0.55, 'gini = 0.0\\nsamples = 1\\nvalue = [1, 0]'),\n",
       " Text(0.05736701396696899, 0.6166666666666667, 'x[3] <= 45.0\\ngini = 0.044\\nsamples = 132\\nvalue = [3, 129]'),\n",
       " Text(0.05696724383479499, 0.5833333333333334, 'x[1] <= 0.872\\ngini = 0.075\\nsamples = 77\\nvalue = [3, 74]'),\n",
       " Text(0.056567473702620996, 0.55, 'x[1] <= 0.871\\ngini = 0.12\\nsamples = 47\\nvalue = [3, 44]'),\n",
       " Text(0.056167703570446995, 0.5166666666666667, 'x[5] <= 274.5\\ngini = 0.083\\nsamples = 46\\nvalue = [2, 44]'),\n",
       " Text(0.05576793343827299, 0.48333333333333334, 'x[5] <= 273.5\\ngini = 0.153\\nsamples = 24\\nvalue = [2, 22]'),\n",
       " Text(0.05496839317392499, 0.45, 'x[1] <= 0.808\\ngini = 0.091\\nsamples = 21\\nvalue = [1, 20]'),\n",
       " Text(0.054568623041750995, 0.4166666666666667, 'x[1] <= 0.806\\ngini = 0.245\\nsamples = 7\\nvalue = [1, 6]'),\n",
       " Text(0.054168852909576994, 0.38333333333333336, 'gini = 0.0\\nsamples = 6\\nvalue = [0, 6]'),\n",
       " Text(0.05496839317392499, 0.38333333333333336, 'gini = 0.0\\nsamples = 1\\nvalue = [1, 0]'),\n",
       " Text(0.05536816330609899, 0.4166666666666667, 'gini = 0.0\\nsamples = 14\\nvalue = [0, 14]'),\n",
       " Text(0.056567473702620996, 0.45, 'x[1] <= 0.835\\ngini = 0.444\\nsamples = 3\\nvalue = [1, 2]'),\n",
       " Text(0.056167703570446995, 0.4166666666666667, 'gini = 0.0\\nsamples = 2\\nvalue = [0, 2]'),\n",
       " Text(0.05696724383479499, 0.4166666666666667, 'gini = 0.0\\nsamples = 1\\nvalue = [1, 0]'),\n",
       " Text(0.056567473702620996, 0.48333333333333334, 'gini = 0.0\\nsamples = 22\\nvalue = [0, 22]'),\n",
       " Text(0.05696724383479499, 0.5166666666666667, 'gini = 0.0\\nsamples = 1\\nvalue = [1, 0]'),\n",
       " Text(0.05736701396696899, 0.55, 'gini = 0.0\\nsamples = 30\\nvalue = [0, 30]'),\n",
       " Text(0.057766784099142994, 0.5833333333333334, 'gini = 0.0\\nsamples = 55\\nvalue = [0, 55]'),\n",
       " Text(0.05936586462783899, 0.65, 'x[1] <= 0.867\\ngini = 0.245\\nsamples = 14\\nvalue = [2, 12]'),\n",
       " Text(0.05896609449566499, 0.6166666666666667, 'x[1] <= 0.827\\ngini = 0.444\\nsamples = 6\\nvalue = [2, 4]'),\n",
       " Text(0.05856632436349099, 0.5833333333333334, 'gini = 0.0\\nsamples = 3\\nvalue = [0, 3]'),\n",
       " Text(0.05936586462783899, 0.5833333333333334, 'x[5] <= 210.0\\ngini = 0.444\\nsamples = 3\\nvalue = [2, 1]'),\n",
       " Text(0.05896609449566499, 0.55, 'gini = 0.0\\nsamples = 1\\nvalue = [0, 1]'),\n",
       " Text(0.059765634760012995, 0.55, 'gini = 0.0\\nsamples = 2\\nvalue = [2, 0]'),\n",
       " Text(0.059765634760012995, 0.6166666666666667, 'gini = 0.0\\nsamples = 8\\nvalue = [0, 8]'),\n",
       " Text(0.06196437048696999, 0.6833333333333333, 'x[1] <= 0.789\\ngini = 0.215\\nsamples = 49\\nvalue = [6, 43]'),\n",
       " Text(0.06096494515653499, 0.65, 'x[1] <= 0.785\\ngini = 0.48\\nsamples = 10\\nvalue = [4, 6]'),\n",
       " Text(0.06056517502436099, 0.6166666666666667, 'x[5] <= 230.0\\ngini = 0.375\\nsamples = 8\\nvalue = [2, 6]'),\n",
       " Text(0.06016540489218699, 0.5833333333333334, 'gini = 0.0\\nsamples = 2\\nvalue = [2, 0]'),\n",
       " Text(0.06096494515653499, 0.5833333333333334, 'gini = 0.0\\nsamples = 6\\nvalue = [0, 6]'),\n",
       " Text(0.061364715288708994, 0.6166666666666667, 'gini = 0.0\\nsamples = 2\\nvalue = [2, 0]'),\n",
       " Text(0.062963795817405, 0.65, 'x[5] <= 208.5\\ngini = 0.097\\nsamples = 39\\nvalue = [2, 37]'),\n",
       " Text(0.06216425555305699, 0.6166666666666667, 'x[5] <= 207.5\\ngini = 0.5\\nsamples = 2\\nvalue = [1, 1]'),\n",
       " Text(0.06176448542088299, 0.5833333333333334, 'gini = 0.0\\nsamples = 1\\nvalue = [0, 1]'),\n",
       " Text(0.06256402568523099, 0.5833333333333334, 'gini = 0.0\\nsamples = 1\\nvalue = [1, 0]'),\n",
       " Text(0.063763336081753, 0.6166666666666667, 'x[5] <= 339.0\\ngini = 0.053\\nsamples = 37\\nvalue = [1, 36]'),\n",
       " Text(0.063363565949579, 0.5833333333333334, 'gini = 0.0\\nsamples = 33\\nvalue = [0, 33]'),\n",
       " Text(0.064163106213927, 0.5833333333333334, 'x[6] <= 0.5\\ngini = 0.375\\nsamples = 4\\nvalue = [1, 3]'),\n",
       " Text(0.063763336081753, 0.55, 'gini = 0.0\\nsamples = 1\\nvalue = [1, 0]'),\n",
       " Text(0.06456287634610099, 0.55, 'gini = 0.0\\nsamples = 3\\nvalue = [0, 3]'),\n",
       " Text(0.06316368088349199, 0.7166666666666667, 'x[2] <= 72.0\\ngini = 0.5\\nsamples = 4\\nvalue = [2, 2]'),\n",
       " Text(0.06276391075131799, 0.6833333333333333, 'gini = 0.0\\nsamples = 2\\nvalue = [2, 0]'),\n",
       " Text(0.06356345101566599, 0.6833333333333333, 'gini = 0.0\\nsamples = 2\\nvalue = [0, 2]'),\n",
       " Text(0.10637164880193889, 0.85, 'x[2] <= 35.0\\ngini = 0.276\\nsamples = 897\\nvalue = [148, 749]'),\n",
       " Text(0.08821490143167679, 0.8166666666666667, 'x[1] <= 0.351\\ngini = 0.253\\nsamples = 861\\nvalue = [128, 733]'),\n",
       " Text(0.07565649751392949, 0.7833333333333333, 'x[5] <= -16.0\\ngini = 0.151\\nsamples = 413\\nvalue = [34, 379]'),\n",
       " Text(0.07525672738175548, 0.75, 'gini = 0.0\\nsamples = 1\\nvalue = [1, 0]'),\n",
       " Text(0.07605626764610349, 0.75, 'x[8] <= 0.5\\ngini = 0.147\\nsamples = 412\\nvalue = [33, 379]'),\n",
       " Text(0.07290807785523325, 0.7166666666666667, 'x[2] <= 27.5\\ngini = 0.11\\nsamples = 275\\nvalue = [16, 259]'),\n",
       " Text(0.07025960072958048, 0.6833333333333333, 'x[0] <= 0.45\\ngini = 0.104\\nsamples = 272\\nvalue = [15, 257]'),\n",
       " Text(0.06616195687479699, 0.65, 'x[6] <= 0.5\\ngini = 0.198\\nsamples = 54\\nvalue = [6, 48]'),\n",
       " Text(0.06576218674262299, 0.6166666666666667, 'gini = 0.0\\nsamples = 20\\nvalue = [0, 20]'),\n",
       " Text(0.066561727006971, 0.6166666666666667, 'x[1] <= 0.239\\ngini = 0.291\\nsamples = 34\\nvalue = [6, 28]'),\n",
       " Text(0.06576218674262299, 0.5833333333333334, 'x[5] <= 63.0\\ngini = 0.225\\nsamples = 31\\nvalue = [4, 27]'),\n",
       " Text(0.06536241661044899, 0.55, 'gini = 0.0\\nsamples = 1\\nvalue = [1, 0]'),\n",
       " Text(0.06616195687479699, 0.55, 'x[0] <= 0.35\\ngini = 0.18\\nsamples = 30\\nvalue = [3, 27]'),\n",
       " Text(0.06576218674262299, 0.5166666666666667, 'gini = 0.0\\nsamples = 20\\nvalue = [0, 20]'),\n",
       " Text(0.066561727006971, 0.5166666666666667, 'x[5] <= 239.5\\ngini = 0.42\\nsamples = 10\\nvalue = [3, 7]'),\n",
       " Text(0.06576218674262299, 0.48333333333333334, 'x[3] <= 45.0\\ngini = 0.245\\nsamples = 7\\nvalue = [1, 6]'),\n",
       " Text(0.06536241661044899, 0.45, 'x[3] <= 35.0\\ngini = 0.5\\nsamples = 2\\nvalue = [1, 1]'),\n",
       " Text(0.06496264647827499, 0.4166666666666667, 'gini = 0.0\\nsamples = 1\\nvalue = [0, 1]'),\n",
       " Text(0.06576218674262299, 0.4166666666666667, 'gini = 0.0\\nsamples = 1\\nvalue = [1, 0]'),\n",
       " Text(0.06616195687479699, 0.45, 'gini = 0.0\\nsamples = 5\\nvalue = [0, 5]'),\n",
       " Text(0.067361267271319, 0.48333333333333334, 'x[1] <= 0.226\\ngini = 0.444\\nsamples = 3\\nvalue = [2, 1]'),\n",
       " Text(0.066961497139145, 0.45, 'gini = 0.0\\nsamples = 2\\nvalue = [2, 0]'),\n",
       " Text(0.06776103740349299, 0.45, 'gini = 0.0\\nsamples = 1\\nvalue = [0, 1]'),\n",
       " Text(0.067361267271319, 0.5833333333333334, 'x[1] <= 0.327\\ngini = 0.444\\nsamples = 3\\nvalue = [2, 1]'),\n",
       " Text(0.066961497139145, 0.55, 'gini = 0.0\\nsamples = 2\\nvalue = [2, 0]'),\n",
       " Text(0.06776103740349299, 0.55, 'gini = 0.0\\nsamples = 1\\nvalue = [0, 1]'),\n",
       " Text(0.07435724458436399, 0.65, 'x[6] <= 0.5\\ngini = 0.079\\nsamples = 218\\nvalue = [9, 209]'),\n",
       " Text(0.07255827898958099, 0.6166666666666667, 'x[5] <= 267.5\\ngini = 0.16\\nsamples = 91\\nvalue = [8, 83]'),\n",
       " Text(0.070959198460885, 0.5833333333333334, 'x[4] <= 1.5\\ngini = 0.102\\nsamples = 74\\nvalue = [4, 70]'),\n",
       " Text(0.070159658196537, 0.55, 'x[5] <= 170.5\\ngini = 0.08\\nsamples = 72\\nvalue = [3, 69]'),\n",
       " Text(0.069759888064363, 0.5166666666666667, 'x[5] <= 167.0\\ngini = 0.185\\nsamples = 29\\nvalue = [3, 26]'),\n",
       " Text(0.06896034780001499, 0.48333333333333334, 'x[4] <= 0.5\\ngini = 0.074\\nsamples = 26\\nvalue = [1, 25]'),\n",
       " Text(0.06856057766784099, 0.45, 'gini = 0.0\\nsamples = 22\\nvalue = [0, 22]'),\n",
       " Text(0.06936011793218899, 0.45, 'x[1] <= 0.143\\ngini = 0.375\\nsamples = 4\\nvalue = [1, 3]'),\n",
       " Text(0.06896034780001499, 0.4166666666666667, 'gini = 0.0\\nsamples = 1\\nvalue = [1, 0]'),\n",
       " Text(0.069759888064363, 0.4166666666666667, 'gini = 0.0\\nsamples = 3\\nvalue = [0, 3]'),\n",
       " Text(0.070559428328711, 0.48333333333333334, 'x[1] <= 0.214\\ngini = 0.444\\nsamples = 3\\nvalue = [2, 1]'),\n",
       " Text(0.070159658196537, 0.45, 'gini = 0.0\\nsamples = 2\\nvalue = [2, 0]'),\n",
       " Text(0.070959198460885, 0.45, 'gini = 0.0\\nsamples = 1\\nvalue = [0, 1]'),\n",
       " Text(0.070559428328711, 0.5166666666666667, 'gini = 0.0\\nsamples = 43\\nvalue = [0, 43]'),\n",
       " Text(0.07175873872523299, 0.55, 'x[5] <= 152.0\\ngini = 0.5\\nsamples = 2\\nvalue = [1, 1]'),\n",
       " Text(0.07135896859305899, 0.5166666666666667, 'gini = 0.0\\nsamples = 1\\nvalue = [1, 0]'),\n",
       " Text(0.07215850885740699, 0.5166666666666667, 'gini = 0.0\\nsamples = 1\\nvalue = [0, 1]'),\n",
       " Text(0.074157359518277, 0.5833333333333334, 'x[5] <= 294.0\\ngini = 0.36\\nsamples = 17\\nvalue = [4, 13]'),\n",
       " Text(0.073757589386103, 0.55, 'x[1] <= 0.199\\ngini = 0.463\\nsamples = 11\\nvalue = [4, 7]'),\n",
       " Text(0.07295804912175499, 0.5166666666666667, 'x[0] <= 0.75\\ngini = 0.245\\nsamples = 7\\nvalue = [1, 6]'),\n",
       " Text(0.07255827898958099, 0.48333333333333334, 'x[3] <= 40.0\\ngini = 0.444\\nsamples = 3\\nvalue = [1, 2]'),\n",
       " Text(0.07215850885740699, 0.45, 'gini = 0.0\\nsamples = 2\\nvalue = [0, 2]'),\n",
       " Text(0.07295804912175499, 0.45, 'gini = 0.0\\nsamples = 1\\nvalue = [1, 0]'),\n",
       " Text(0.073357819253929, 0.48333333333333334, 'gini = 0.0\\nsamples = 4\\nvalue = [0, 4]'),\n",
       " Text(0.07455712965045098, 0.5166666666666667, 'x[1] <= 0.298\\ngini = 0.375\\nsamples = 4\\nvalue = [3, 1]'),\n",
       " Text(0.074157359518277, 0.48333333333333334, 'gini = 0.0\\nsamples = 3\\nvalue = [3, 0]'),\n",
       " Text(0.07495689978262499, 0.48333333333333334, 'gini = 0.0\\nsamples = 1\\nvalue = [0, 1]'),\n",
       " Text(0.07455712965045098, 0.55, 'gini = 0.0\\nsamples = 6\\nvalue = [0, 6]'),\n",
       " Text(0.07615621017914699, 0.6166666666666667, 'x[5] <= 181.0\\ngini = 0.016\\nsamples = 127\\nvalue = [1, 126]'),\n",
       " Text(0.07575644004697299, 0.5833333333333334, 'x[5] <= 179.5\\ngini = 0.048\\nsamples = 41\\nvalue = [1, 40]'),\n",
       " Text(0.07535666991479899, 0.55, 'gini = 0.0\\nsamples = 39\\nvalue = [0, 39]'),\n",
       " Text(0.07615621017914699, 0.55, 'x[3] <= 35.0\\ngini = 0.5\\nsamples = 2\\nvalue = [1, 1]'),\n",
       " Text(0.07575644004697299, 0.5166666666666667, 'gini = 0.0\\nsamples = 1\\nvalue = [0, 1]'),\n",
       " Text(0.07655598031132099, 0.5166666666666667, 'gini = 0.0\\nsamples = 1\\nvalue = [1, 0]'),\n",
       " Text(0.07655598031132099, 0.5833333333333334, 'gini = 0.0\\nsamples = 86\\nvalue = [0, 86]'),\n",
       " Text(0.075556554980886, 0.6833333333333333, 'x[2] <= 30.5\\ngini = 0.444\\nsamples = 3\\nvalue = [1, 2]'),\n",
       " Text(0.075156784848712, 0.65, 'gini = 0.0\\nsamples = 1\\nvalue = [1, 0]'),\n",
       " Text(0.07595632511306, 0.65, 'gini = 0.0\\nsamples = 2\\nvalue = [0, 2]'),\n",
       " Text(0.07920445743697374, 0.7166666666666667, 'x[3] <= 25.0\\ngini = 0.217\\nsamples = 137\\nvalue = [17, 120]'),\n",
       " Text(0.07795517577392999, 0.6833333333333333, 'x[1] <= 0.207\\ngini = 0.444\\nsamples = 3\\nvalue = [2, 1]'),\n",
       " Text(0.07755540564175599, 0.65, 'gini = 0.0\\nsamples = 2\\nvalue = [2, 0]'),\n",
       " Text(0.07835494590610399, 0.65, 'gini = 0.0\\nsamples = 1\\nvalue = [0, 1]'),\n",
       " Text(0.08045373910001749, 0.6833333333333333, 'x[5] <= 160.0\\ngini = 0.199\\nsamples = 134\\nvalue = [15, 119]'),\n",
       " Text(0.079154486170452, 0.65, 'x[0] <= 0.2\\ngini = 0.349\\nsamples = 40\\nvalue = [9, 31]'),\n",
       " Text(0.078754716038278, 0.6166666666666667, 'gini = 0.0\\nsamples = 2\\nvalue = [2, 0]'),\n",
       " Text(0.07955425630262598, 0.6166666666666667, 'x[1] <= 0.218\\ngini = 0.301\\nsamples = 38\\nvalue = [7, 31]'),\n",
       " Text(0.07855483097219099, 0.5833333333333334, 'x[5] <= 153.5\\ngini = 0.185\\nsamples = 29\\nvalue = [3, 26]'),\n",
       " Text(0.07775529070784298, 0.55, 'x[1] <= 0.124\\ngini = 0.08\\nsamples = 24\\nvalue = [1, 23]'),\n",
       " Text(0.077355520575669, 0.5166666666666667, 'gini = 0.0\\nsamples = 17\\nvalue = [0, 17]'),\n",
       " Text(0.07815506084001698, 0.5166666666666667, 'x[1] <= 0.15\\ngini = 0.245\\nsamples = 7\\nvalue = [1, 6]'),\n",
       " Text(0.07775529070784298, 0.48333333333333334, 'gini = 0.0\\nsamples = 1\\nvalue = [1, 0]'),\n",
       " Text(0.07855483097219099, 0.48333333333333334, 'gini = 0.0\\nsamples = 6\\nvalue = [0, 6]'),\n",
       " Text(0.07935437123653899, 0.55, 'x[3] <= 45.0\\ngini = 0.48\\nsamples = 5\\nvalue = [2, 3]'),\n",
       " Text(0.07895460110436499, 0.5166666666666667, 'gini = 0.0\\nsamples = 2\\nvalue = [2, 0]'),\n",
       " Text(0.07975414136871299, 0.5166666666666667, 'gini = 0.0\\nsamples = 3\\nvalue = [0, 3]'),\n",
       " Text(0.080553681633061, 0.5833333333333334, 'x[3] <= 35.0\\ngini = 0.494\\nsamples = 9\\nvalue = [4, 5]'),\n",
       " Text(0.08015391150088699, 0.55, 'gini = 0.0\\nsamples = 2\\nvalue = [2, 0]'),\n",
       " Text(0.080953451765235, 0.55, 'x[4] <= 0.5\\ngini = 0.408\\nsamples = 7\\nvalue = [2, 5]'),\n",
       " Text(0.080553681633061, 0.5166666666666667, 'gini = 0.0\\nsamples = 3\\nvalue = [0, 3]'),\n",
       " Text(0.08135322189740898, 0.5166666666666667, 'x[0] <= 0.85\\ngini = 0.5\\nsamples = 4\\nvalue = [2, 2]'),\n",
       " Text(0.080953451765235, 0.48333333333333334, 'gini = 0.0\\nsamples = 2\\nvalue = [0, 2]'),\n",
       " Text(0.08175299202958299, 0.48333333333333334, 'gini = 0.0\\nsamples = 2\\nvalue = [2, 0]'),\n",
       " Text(0.08175299202958299, 0.65, 'x[5] <= 228.0\\ngini = 0.12\\nsamples = 94\\nvalue = [6, 88]'),\n",
       " Text(0.08135322189740898, 0.6166666666666667, 'gini = 0.0\\nsamples = 39\\nvalue = [0, 39]'),\n",
       " Text(0.08215276216175699, 0.6166666666666667, 'x[5] <= 229.5\\ngini = 0.194\\nsamples = 55\\nvalue = [6, 49]'),\n",
       " Text(0.08175299202958299, 0.5833333333333334, 'gini = 0.0\\nsamples = 1\\nvalue = [1, 0]'),\n",
       " Text(0.08255253229393099, 0.5833333333333334, 'x[1] <= 0.104\\ngini = 0.168\\nsamples = 54\\nvalue = [5, 49]'),\n",
       " Text(0.08215276216175699, 0.55, 'gini = 0.0\\nsamples = 19\\nvalue = [0, 19]'),\n",
       " Text(0.08295230242610499, 0.55, 'x[1] <= 0.105\\ngini = 0.245\\nsamples = 35\\nvalue = [5, 30]'),\n",
       " Text(0.08255253229393099, 0.5166666666666667, 'gini = 0.0\\nsamples = 1\\nvalue = [1, 0]'),\n",
       " Text(0.08335207255827899, 0.5166666666666667, 'x[5] <= 272.0\\ngini = 0.208\\nsamples = 34\\nvalue = [4, 30]'),\n",
       " Text(0.08255253229393099, 0.48333333333333334, 'x[5] <= 249.0\\ngini = 0.375\\nsamples = 12\\nvalue = [3, 9]'),\n",
       " Text(0.08215276216175699, 0.45, 'gini = 0.0\\nsamples = 4\\nvalue = [0, 4]'),\n",
       " Text(0.08295230242610499, 0.45, 'x[1] <= 0.261\\ngini = 0.469\\nsamples = 8\\nvalue = [3, 5]'),\n",
       " Text(0.08255253229393099, 0.4166666666666667, 'x[1] <= 0.13\\ngini = 0.48\\nsamples = 5\\nvalue = [3, 2]'),\n",
       " Text(0.08215276216175699, 0.38333333333333336, 'gini = 0.0\\nsamples = 2\\nvalue = [0, 2]'),\n",
       " Text(0.08295230242610499, 0.38333333333333336, 'gini = 0.0\\nsamples = 3\\nvalue = [3, 0]'),\n",
       " Text(0.08335207255827899, 0.4166666666666667, 'gini = 0.0\\nsamples = 3\\nvalue = [0, 3]'),\n",
       " Text(0.084151612822627, 0.48333333333333334, 'x[5] <= 328.5\\ngini = 0.087\\nsamples = 22\\nvalue = [1, 21]'),\n",
       " Text(0.083751842690453, 0.45, 'gini = 0.0\\nsamples = 17\\nvalue = [0, 17]'),\n",
       " Text(0.08455138295480098, 0.45, 'x[5] <= 331.5\\ngini = 0.32\\nsamples = 5\\nvalue = [1, 4]'),\n",
       " Text(0.084151612822627, 0.4166666666666667, 'gini = 0.0\\nsamples = 1\\nvalue = [1, 0]'),\n",
       " Text(0.08495115308697498, 0.4166666666666667, 'gini = 0.0\\nsamples = 4\\nvalue = [0, 4]'),\n",
       " Text(0.10077330534942408, 0.7833333333333333, 'x[8] <= 0.5\\ngini = 0.332\\nsamples = 448\\nvalue = [94, 354]'),\n",
       " Text(0.08783699372860605, 0.75, 'x[1] <= 0.371\\ngini = 0.25\\nsamples = 280\\nvalue = [41, 239]'),\n",
       " Text(0.08335207255827899, 0.7166666666666667, 'x[5] <= 155.5\\ngini = 0.486\\nsamples = 12\\nvalue = [5, 7]'),\n",
       " Text(0.08295230242610499, 0.6833333333333333, 'gini = 0.0\\nsamples = 2\\nvalue = [2, 0]'),\n",
       " Text(0.083751842690453, 0.6833333333333333, 'x[1] <= 0.367\\ngini = 0.42\\nsamples = 10\\nvalue = [3, 7]'),\n",
       " Text(0.08335207255827899, 0.65, 'x[1] <= 0.352\\ngini = 0.219\\nsamples = 8\\nvalue = [1, 7]'),\n",
       " Text(0.08295230242610499, 0.6166666666666667, 'gini = 0.0\\nsamples = 1\\nvalue = [1, 0]'),\n",
       " Text(0.083751842690453, 0.6166666666666667, 'gini = 0.0\\nsamples = 7\\nvalue = [0, 7]'),\n",
       " Text(0.084151612822627, 0.65, 'gini = 0.0\\nsamples = 2\\nvalue = [2, 0]'),\n",
       " Text(0.09232191489893311, 0.7166666666666667, 'x[0] <= 0.55\\ngini = 0.233\\nsamples = 268\\nvalue = [36, 232]'),\n",
       " Text(0.08794942907827999, 0.6833333333333333, 'x[6] <= 0.5\\ngini = 0.366\\nsamples = 58\\nvalue = [14, 44]'),\n",
       " Text(0.08575069335132299, 0.65, 'x[1] <= 0.726\\ngini = 0.461\\nsamples = 25\\nvalue = [9, 16]'),\n",
       " Text(0.08455138295480098, 0.6166666666666667, 'x[1] <= 0.461\\ngini = 0.278\\nsamples = 12\\nvalue = [2, 10]'),\n",
       " Text(0.084151612822627, 0.5833333333333334, 'gini = 0.0\\nsamples = 1\\nvalue = [1, 0]'),\n",
       " Text(0.08495115308697498, 0.5833333333333334, 'x[5] <= 256.0\\ngini = 0.165\\nsamples = 11\\nvalue = [1, 10]'),\n",
       " Text(0.08455138295480098, 0.55, 'gini = 0.0\\nsamples = 7\\nvalue = [0, 7]'),\n",
       " Text(0.08535092321914899, 0.55, 'x[3] <= 45.0\\ngini = 0.375\\nsamples = 4\\nvalue = [1, 3]'),\n",
       " Text(0.08495115308697498, 0.5166666666666667, 'gini = 0.0\\nsamples = 3\\nvalue = [0, 3]'),\n",
       " Text(0.08575069335132299, 0.5166666666666667, 'gini = 0.0\\nsamples = 1\\nvalue = [1, 0]'),\n",
       " Text(0.08695000374784499, 0.6166666666666667, 'x[3] <= 35.0\\ngini = 0.497\\nsamples = 13\\nvalue = [7, 6]'),\n",
       " Text(0.08655023361567099, 0.5833333333333334, 'gini = 0.0\\nsamples = 4\\nvalue = [4, 0]'),\n",
       " Text(0.087349773880019, 0.5833333333333334, 'x[0] <= 0.35\\ngini = 0.444\\nsamples = 9\\nvalue = [3, 6]'),\n",
       " Text(0.08695000374784499, 0.55, 'x[5] <= 251.5\\ngini = 0.245\\nsamples = 7\\nvalue = [1, 6]'),\n",
       " Text(0.08655023361567099, 0.5166666666666667, 'gini = 0.0\\nsamples = 6\\nvalue = [0, 6]'),\n",
       " Text(0.087349773880019, 0.5166666666666667, 'gini = 0.0\\nsamples = 1\\nvalue = [1, 0]'),\n",
       " Text(0.087749544012193, 0.55, 'gini = 0.0\\nsamples = 2\\nvalue = [2, 0]'),\n",
       " Text(0.09014816480523699, 0.65, 'x[2] <= 5.5\\ngini = 0.257\\nsamples = 33\\nvalue = [5, 28]'),\n",
       " Text(0.08974839467306299, 0.6166666666666667, 'x[5] <= 103.5\\ngini = 0.219\\nsamples = 32\\nvalue = [4, 28]'),\n",
       " Text(0.08894885440871499, 0.5833333333333334, 'x[1] <= 0.709\\ngini = 0.48\\nsamples = 5\\nvalue = [2, 3]'),\n",
       " Text(0.08854908427654098, 0.55, 'gini = 0.0\\nsamples = 2\\nvalue = [2, 0]'),\n",
       " Text(0.08934862454088899, 0.55, 'gini = 0.0\\nsamples = 3\\nvalue = [0, 3]'),\n",
       " Text(0.09054793493741099, 0.5833333333333334, 'x[0] <= 0.35\\ngini = 0.137\\nsamples = 27\\nvalue = [2, 25]'),\n",
       " Text(0.09014816480523699, 0.55, 'gini = 0.0\\nsamples = 14\\nvalue = [0, 14]'),\n",
       " Text(0.090947705069585, 0.55, 'x[5] <= 270.0\\ngini = 0.26\\nsamples = 13\\nvalue = [2, 11]'),\n",
       " Text(0.09054793493741099, 0.5166666666666667, 'x[5] <= 260.5\\ngini = 0.346\\nsamples = 9\\nvalue = [2, 7]'),\n",
       " Text(0.09014816480523699, 0.48333333333333334, 'x[1] <= 0.755\\ngini = 0.219\\nsamples = 8\\nvalue = [1, 7]'),\n",
       " Text(0.08974839467306299, 0.45, 'gini = 0.0\\nsamples = 6\\nvalue = [0, 6]'),\n",
       " Text(0.09054793493741099, 0.45, 'x[3] <= 35.0\\ngini = 0.5\\nsamples = 2\\nvalue = [1, 1]'),\n",
       " Text(0.09014816480523699, 0.4166666666666667, 'gini = 0.0\\nsamples = 1\\nvalue = [1, 0]'),\n",
       " Text(0.090947705069585, 0.4166666666666667, 'gini = 0.0\\nsamples = 1\\nvalue = [0, 1]'),\n",
       " Text(0.090947705069585, 0.48333333333333334, 'gini = 0.0\\nsamples = 1\\nvalue = [1, 0]'),\n",
       " Text(0.09134747520175898, 0.5166666666666667, 'gini = 0.0\\nsamples = 4\\nvalue = [0, 4]'),\n",
       " Text(0.09054793493741099, 0.6166666666666667, 'gini = 0.0\\nsamples = 1\\nvalue = [1, 0]'),\n",
       " Text(0.09669440071958624, 0.6833333333333333, 'x[1] <= 0.767\\ngini = 0.188\\nsamples = 210\\nvalue = [22, 188]'),\n",
       " Text(0.09404592359393349, 0.65, 'x[3] <= 45.0\\ngini = 0.113\\nsamples = 116\\nvalue = [7, 109]'),\n",
       " Text(0.09254678559828099, 0.6166666666666667, 'x[0] <= 0.75\\ngini = 0.029\\nsamples = 68\\nvalue = [1, 67]'),\n",
       " Text(0.09214701546610699, 0.5833333333333334, 'x[0] <= 0.65\\ngini = 0.245\\nsamples = 7\\nvalue = [1, 6]'),\n",
       " Text(0.09174724533393298, 0.55, 'gini = 0.0\\nsamples = 5\\nvalue = [0, 5]'),\n",
       " Text(0.09254678559828099, 0.55, 'x[3] <= 35.0\\ngini = 0.5\\nsamples = 2\\nvalue = [1, 1]'),\n",
       " Text(0.09214701546610699, 0.5166666666666667, 'gini = 0.0\\nsamples = 1\\nvalue = [0, 1]'),\n",
       " Text(0.09294655573045499, 0.5166666666666667, 'gini = 0.0\\nsamples = 1\\nvalue = [1, 0]'),\n",
       " Text(0.09294655573045499, 0.5833333333333334, 'gini = 0.0\\nsamples = 61\\nvalue = [0, 61]'),\n",
       " Text(0.09554506158958599, 0.6166666666666667, 'x[5] <= 234.5\\ngini = 0.219\\nsamples = 48\\nvalue = [6, 42]'),\n",
       " Text(0.094545636259151, 0.5833333333333334, 'x[5] <= 228.0\\ngini = 0.351\\nsamples = 22\\nvalue = [5, 17]'),\n",
       " Text(0.094145866126977, 0.55, 'x[4] <= 1.5\\ngini = 0.255\\nsamples = 20\\nvalue = [3, 17]'),\n",
       " Text(0.09374609599480299, 0.5166666666666667, 'x[1] <= 0.74\\ngini = 0.188\\nsamples = 19\\nvalue = [2, 17]'),\n",
       " Text(0.09294655573045499, 0.48333333333333334, 'x[0] <= 0.65\\ngini = 0.111\\nsamples = 17\\nvalue = [1, 16]'),\n",
       " Text(0.09254678559828099, 0.45, 'x[5] <= 212.5\\ngini = 0.444\\nsamples = 3\\nvalue = [1, 2]'),\n",
       " Text(0.09214701546610699, 0.4166666666666667, 'gini = 0.0\\nsamples = 2\\nvalue = [0, 2]'),\n",
       " Text(0.09294655573045499, 0.4166666666666667, 'gini = 0.0\\nsamples = 1\\nvalue = [1, 0]'),\n",
       " Text(0.09334632586262899, 0.45, 'gini = 0.0\\nsamples = 14\\nvalue = [0, 14]'),\n",
       " Text(0.094545636259151, 0.48333333333333334, 'x[5] <= 124.5\\ngini = 0.5\\nsamples = 2\\nvalue = [1, 1]'),\n",
       " Text(0.094145866126977, 0.45, 'gini = 0.0\\nsamples = 1\\nvalue = [0, 1]'),\n",
       " Text(0.09494540639132498, 0.45, 'gini = 0.0\\nsamples = 1\\nvalue = [1, 0]'),\n",
       " Text(0.094545636259151, 0.5166666666666667, 'gini = 0.0\\nsamples = 1\\nvalue = [1, 0]'),\n",
       " Text(0.09494540639132498, 0.55, 'gini = 0.0\\nsamples = 2\\nvalue = [2, 0]'),\n",
       " Text(0.09654448692002099, 0.5833333333333334, 'x[0] <= 0.75\\ngini = 0.074\\nsamples = 26\\nvalue = [1, 25]'),\n",
       " Text(0.09614471678784699, 0.55, 'x[1] <= 0.654\\ngini = 0.219\\nsamples = 8\\nvalue = [1, 7]'),\n",
       " Text(0.09574494665567299, 0.5166666666666667, 'x[1] <= 0.577\\ngini = 0.375\\nsamples = 4\\nvalue = [1, 3]'),\n",
       " Text(0.09534517652349898, 0.48333333333333334, 'gini = 0.0\\nsamples = 3\\nvalue = [0, 3]'),\n",
       " Text(0.09614471678784699, 0.48333333333333334, 'gini = 0.0\\nsamples = 1\\nvalue = [1, 0]'),\n",
       " Text(0.09654448692002099, 0.5166666666666667, 'gini = 0.0\\nsamples = 4\\nvalue = [0, 4]'),\n",
       " Text(0.09694425705219499, 0.55, 'gini = 0.0\\nsamples = 18\\nvalue = [0, 18]'),\n",
       " Text(0.09934287784523899, 0.65, 'x[1] <= 0.78\\ngini = 0.268\\nsamples = 94\\nvalue = [15, 79]'),\n",
       " Text(0.09854333758089098, 0.6166666666666667, 'x[0] <= 0.85\\ngini = 0.48\\nsamples = 5\\nvalue = [3, 2]'),\n",
       " Text(0.09814356744871698, 0.5833333333333334, 'x[0] <= 0.7\\ngini = 0.444\\nsamples = 3\\nvalue = [1, 2]'),\n",
       " Text(0.097743797316543, 0.55, 'gini = 0.0\\nsamples = 1\\nvalue = [1, 0]'),\n",
       " Text(0.09854333758089098, 0.55, 'gini = 0.0\\nsamples = 2\\nvalue = [0, 2]'),\n",
       " Text(0.09894310771306498, 0.5833333333333334, 'gini = 0.0\\nsamples = 2\\nvalue = [2, 0]'),\n",
       " Text(0.10014241810958699, 0.6166666666666667, 'x[1] <= 0.821\\ngini = 0.233\\nsamples = 89\\nvalue = [12, 77]'),\n",
       " Text(0.09974264797741299, 0.5833333333333334, 'gini = 0.0\\nsamples = 17\\nvalue = [0, 17]'),\n",
       " Text(0.10054218824176099, 0.5833333333333334, 'x[1] <= 0.832\\ngini = 0.278\\nsamples = 72\\nvalue = [12, 60]'),\n",
       " Text(0.099542762911326, 0.55, 'x[3] <= 45.0\\ngini = 0.48\\nsamples = 5\\nvalue = [3, 2]'),\n",
       " Text(0.09914299277915199, 0.5166666666666667, 'x[5] <= 320.0\\ngini = 0.444\\nsamples = 3\\nvalue = [1, 2]'),\n",
       " Text(0.09874322264697799, 0.48333333333333334, 'gini = 0.0\\nsamples = 2\\nvalue = [0, 2]'),\n",
       " Text(0.099542762911326, 0.48333333333333334, 'gini = 0.0\\nsamples = 1\\nvalue = [1, 0]'),\n",
       " Text(0.09994253304349998, 0.5166666666666667, 'gini = 0.0\\nsamples = 2\\nvalue = [2, 0]'),\n",
       " Text(0.10154161357219599, 0.55, 'x[3] <= 45.0\\ngini = 0.233\\nsamples = 67\\nvalue = [9, 58]'),\n",
       " Text(0.10074207330784798, 0.5166666666666667, 'x[5] <= 259.5\\ngini = 0.308\\nsamples = 42\\nvalue = [8, 34]'),\n",
       " Text(0.10034230317567398, 0.48333333333333334, 'x[5] <= 143.5\\ngini = 0.383\\nsamples = 31\\nvalue = [8, 23]'),\n",
       " Text(0.09994253304349998, 0.45, 'gini = 0.0\\nsamples = 8\\nvalue = [0, 8]'),\n",
       " Text(0.10074207330784798, 0.45, 'x[1] <= 0.864\\ngini = 0.454\\nsamples = 23\\nvalue = [8, 15]'),\n",
       " Text(0.09994253304349998, 0.4166666666666667, 'x[4] <= 0.5\\ngini = 0.219\\nsamples = 8\\nvalue = [1, 7]'),\n",
       " Text(0.099542762911326, 0.38333333333333336, 'gini = 0.0\\nsamples = 7\\nvalue = [0, 7]'),\n",
       " Text(0.10034230317567398, 0.38333333333333336, 'gini = 0.0\\nsamples = 1\\nvalue = [1, 0]'),\n",
       " Text(0.10154161357219599, 0.4166666666666667, 'x[1] <= 0.869\\ngini = 0.498\\nsamples = 15\\nvalue = [7, 8]'),\n",
       " Text(0.10114184344002199, 0.38333333333333336, 'gini = 0.0\\nsamples = 2\\nvalue = [2, 0]'),\n",
       " Text(0.10194138370436999, 0.38333333333333336, 'x[1] <= 0.88\\ngini = 0.473\\nsamples = 13\\nvalue = [5, 8]'),\n",
       " Text(0.10154161357219599, 0.35, 'gini = 0.0\\nsamples = 3\\nvalue = [0, 3]'),\n",
       " Text(0.10234115383654399, 0.35, 'x[6] <= 0.5\\ngini = 0.5\\nsamples = 10\\nvalue = [5, 5]'),\n",
       " Text(0.10194138370436999, 0.31666666666666665, 'gini = 0.0\\nsamples = 3\\nvalue = [3, 0]'),\n",
       " Text(0.10274092396871799, 0.31666666666666665, 'x[1] <= 0.892\\ngini = 0.408\\nsamples = 7\\nvalue = [2, 5]'),\n",
       " Text(0.10234115383654399, 0.2833333333333333, 'gini = 0.0\\nsamples = 2\\nvalue = [2, 0]'),\n",
       " Text(0.10314069410089198, 0.2833333333333333, 'gini = 0.0\\nsamples = 5\\nvalue = [0, 5]'),\n",
       " Text(0.10114184344002199, 0.48333333333333334, 'gini = 0.0\\nsamples = 11\\nvalue = [0, 11]'),\n",
       " Text(0.10234115383654399, 0.5166666666666667, 'x[5] <= 321.0\\ngini = 0.077\\nsamples = 25\\nvalue = [1, 24]'),\n",
       " Text(0.10194138370436999, 0.48333333333333334, 'gini = 0.0\\nsamples = 21\\nvalue = [0, 21]'),\n",
       " Text(0.10274092396871799, 0.48333333333333334, 'x[5] <= 324.0\\ngini = 0.375\\nsamples = 4\\nvalue = [1, 3]'),\n",
       " Text(0.10234115383654399, 0.45, 'gini = 0.0\\nsamples = 1\\nvalue = [1, 0]'),\n",
       " Text(0.10314069410089198, 0.45, 'gini = 0.0\\nsamples = 3\\nvalue = [0, 3]'),\n",
       " Text(0.11370961697024211, 0.75, 'x[4] <= 0.5\\ngini = 0.432\\nsamples = 168\\nvalue = [53, 115]'),\n",
       " Text(0.11008670014741524, 0.7166666666666667, 'x[5] <= 209.5\\ngini = 0.379\\nsamples = 138\\nvalue = [35, 103]'),\n",
       " Text(0.10623891262524049, 0.6833333333333333, 'x[5] <= 22.0\\ngini = 0.467\\nsamples = 62\\nvalue = [23, 39]'),\n",
       " Text(0.10583914249306649, 0.65, 'gini = 0.0\\nsamples = 2\\nvalue = [2, 0]'),\n",
       " Text(0.10663868275741449, 0.65, 'x[5] <= 140.5\\ngini = 0.455\\nsamples = 60\\nvalue = [21, 39]'),\n",
       " Text(0.10473977462958799, 0.6166666666666667, 'x[3] <= 35.0\\ngini = 0.32\\nsamples = 25\\nvalue = [5, 20]'),\n",
       " Text(0.10394023436523998, 0.5833333333333334, 'x[5] <= 121.5\\ngini = 0.494\\nsamples = 9\\nvalue = [4, 5]'),\n",
       " Text(0.10354046423306598, 0.55, 'x[0] <= 0.55\\ngini = 0.444\\nsamples = 6\\nvalue = [4, 2]'),\n",
       " Text(0.10314069410089198, 0.5166666666666667, 'gini = 0.0\\nsamples = 3\\nvalue = [3, 0]'),\n",
       " Text(0.10394023436523998, 0.5166666666666667, 'x[1] <= 0.812\\ngini = 0.444\\nsamples = 3\\nvalue = [1, 2]'),\n",
       " Text(0.10354046423306598, 0.48333333333333334, 'gini = 0.0\\nsamples = 2\\nvalue = [0, 2]'),\n",
       " Text(0.10434000449741399, 0.48333333333333334, 'gini = 0.0\\nsamples = 1\\nvalue = [1, 0]'),\n",
       " Text(0.10434000449741399, 0.55, 'gini = 0.0\\nsamples = 3\\nvalue = [0, 3]'),\n",
       " Text(0.10553931489393599, 0.5833333333333334, 'x[0] <= 0.75\\ngini = 0.117\\nsamples = 16\\nvalue = [1, 15]'),\n",
       " Text(0.10513954476176199, 0.55, 'x[1] <= 0.701\\ngini = 0.32\\nsamples = 5\\nvalue = [1, 4]'),\n",
       " Text(0.10473977462958799, 0.5166666666666667, 'gini = 0.0\\nsamples = 1\\nvalue = [1, 0]'),\n",
       " Text(0.10553931489393599, 0.5166666666666667, 'gini = 0.0\\nsamples = 4\\nvalue = [0, 4]'),\n",
       " Text(0.10593908502610999, 0.55, 'gini = 0.0\\nsamples = 11\\nvalue = [0, 11]'),\n",
       " Text(0.10853759088524098, 0.6166666666666667, 'x[0] <= 0.85\\ngini = 0.496\\nsamples = 35\\nvalue = [16, 19]'),\n",
       " Text(0.10713839542263198, 0.5833333333333334, 'x[5] <= 148.5\\ngini = 0.434\\nsamples = 22\\nvalue = [7, 15]'),\n",
       " Text(0.10673862529045798, 0.55, 'gini = 0.0\\nsamples = 2\\nvalue = [2, 0]'),\n",
       " Text(0.10753816555480598, 0.55, 'x[1] <= 0.466\\ngini = 0.375\\nsamples = 20\\nvalue = [5, 15]'),\n",
       " Text(0.10713839542263198, 0.5166666666666667, 'gini = 0.0\\nsamples = 1\\nvalue = [1, 0]'),\n",
       " Text(0.10793793568697999, 0.5166666666666667, 'x[2] <= 11.0\\ngini = 0.332\\nsamples = 19\\nvalue = [4, 15]'),\n",
       " Text(0.10753816555480598, 0.48333333333333334, 'x[5] <= 174.5\\ngini = 0.278\\nsamples = 18\\nvalue = [3, 15]'),\n",
       " Text(0.10673862529045798, 0.45, 'x[5] <= 172.5\\ngini = 0.444\\nsamples = 6\\nvalue = [2, 4]'),\n",
       " Text(0.10633885515828399, 0.4166666666666667, 'x[3] <= 45.0\\ngini = 0.32\\nsamples = 5\\nvalue = [1, 4]'),\n",
       " Text(0.10593908502610999, 0.38333333333333336, 'gini = 0.0\\nsamples = 1\\nvalue = [1, 0]'),\n",
       " Text(0.10673862529045798, 0.38333333333333336, 'gini = 0.0\\nsamples = 4\\nvalue = [0, 4]'),\n",
       " Text(0.10713839542263198, 0.4166666666666667, 'gini = 0.0\\nsamples = 1\\nvalue = [1, 0]'),\n",
       " Text(0.10833770581915399, 0.45, 'x[1] <= 0.523\\ngini = 0.153\\nsamples = 12\\nvalue = [1, 11]'),\n",
       " Text(0.10793793568697999, 0.4166666666666667, 'x[6] <= 0.5\\ngini = 0.5\\nsamples = 2\\nvalue = [1, 1]'),\n",
       " Text(0.10753816555480598, 0.38333333333333336, 'gini = 0.0\\nsamples = 1\\nvalue = [0, 1]'),\n",
       " Text(0.10833770581915399, 0.38333333333333336, 'gini = 0.0\\nsamples = 1\\nvalue = [1, 0]'),\n",
       " Text(0.10873747595132799, 0.4166666666666667, 'gini = 0.0\\nsamples = 10\\nvalue = [0, 10]'),\n",
       " Text(0.10833770581915399, 0.48333333333333334, 'gini = 0.0\\nsamples = 1\\nvalue = [1, 0]'),\n",
       " Text(0.10993678634784998, 0.5833333333333334, 'x[5] <= 170.5\\ngini = 0.426\\nsamples = 13\\nvalue = [9, 4]'),\n",
       " Text(0.10913724608350199, 0.55, 'x[5] <= 155.0\\ngini = 0.375\\nsamples = 4\\nvalue = [1, 3]'),\n",
       " Text(0.10873747595132799, 0.5166666666666667, 'gini = 0.0\\nsamples = 1\\nvalue = [1, 0]'),\n",
       " Text(0.10953701621567599, 0.5166666666666667, 'gini = 0.0\\nsamples = 3\\nvalue = [0, 3]'),\n",
       " Text(0.11073632661219798, 0.55, 'x[5] <= 200.5\\ngini = 0.198\\nsamples = 9\\nvalue = [8, 1]'),\n",
       " Text(0.11033655648002398, 0.5166666666666667, 'gini = 0.0\\nsamples = 6\\nvalue = [6, 0]'),\n",
       " Text(0.11113609674437198, 0.5166666666666667, 'x[5] <= 204.0\\ngini = 0.444\\nsamples = 3\\nvalue = [2, 1]'),\n",
       " Text(0.11073632661219798, 0.48333333333333334, 'gini = 0.0\\nsamples = 1\\nvalue = [0, 1]'),\n",
       " Text(0.11153586687654599, 0.48333333333333334, 'gini = 0.0\\nsamples = 2\\nvalue = [2, 0]'),\n",
       " Text(0.11393448766958998, 0.6833333333333333, 'x[5] <= 282.0\\ngini = 0.266\\nsamples = 76\\nvalue = [12, 64]'),\n",
       " Text(0.11313494740524199, 0.65, 'x[1] <= 0.47\\ngini = 0.338\\nsamples = 51\\nvalue = [11, 40]'),\n",
       " Text(0.11273517727306799, 0.6166666666666667, 'gini = 0.0\\nsamples = 11\\nvalue = [0, 11]'),\n",
       " Text(0.11353471753741598, 0.6166666666666667, 'x[1] <= 0.502\\ngini = 0.399\\nsamples = 40\\nvalue = [11, 29]'),\n",
       " Text(0.11313494740524199, 0.5833333333333334, 'gini = 0.0\\nsamples = 2\\nvalue = [2, 0]'),\n",
       " Text(0.11393448766958998, 0.5833333333333334, 'x[5] <= 279.0\\ngini = 0.361\\nsamples = 38\\nvalue = [9, 29]'),\n",
       " Text(0.11353471753741598, 0.55, 'x[1] <= 0.692\\ngini = 0.339\\nsamples = 37\\nvalue = [8, 29]'),\n",
       " Text(0.11273517727306799, 0.5166666666666667, 'x[1] <= 0.625\\ngini = 0.48\\nsamples = 10\\nvalue = [4, 6]'),\n",
       " Text(0.11233540714089399, 0.48333333333333334, 'x[1] <= 0.53\\ngini = 0.245\\nsamples = 7\\nvalue = [1, 6]'),\n",
       " Text(0.11193563700871999, 0.45, 'x[5] <= 237.0\\ngini = 0.5\\nsamples = 2\\nvalue = [1, 1]'),\n",
       " Text(0.11153586687654599, 0.4166666666666667, 'gini = 0.0\\nsamples = 1\\nvalue = [1, 0]'),\n",
       " Text(0.11233540714089399, 0.4166666666666667, 'gini = 0.0\\nsamples = 1\\nvalue = [0, 1]'),\n",
       " Text(0.11273517727306799, 0.45, 'gini = 0.0\\nsamples = 5\\nvalue = [0, 5]'),\n",
       " Text(0.11313494740524199, 0.48333333333333334, 'gini = 0.0\\nsamples = 3\\nvalue = [3, 0]'),\n",
       " Text(0.11433425780176398, 0.5166666666666667, 'x[1] <= 0.772\\ngini = 0.252\\nsamples = 27\\nvalue = [4, 23]'),\n",
       " Text(0.11393448766958998, 0.48333333333333334, 'gini = 0.0\\nsamples = 12\\nvalue = [0, 12]'),\n",
       " Text(0.11473402793393798, 0.48333333333333334, 'x[5] <= 241.0\\ngini = 0.391\\nsamples = 15\\nvalue = [4, 11]'),\n",
       " Text(0.11393448766958998, 0.45, 'x[0] <= 0.7\\ngini = 0.444\\nsamples = 3\\nvalue = [2, 1]'),\n",
       " Text(0.11353471753741598, 0.4166666666666667, 'gini = 0.0\\nsamples = 1\\nvalue = [0, 1]'),\n",
       " Text(0.11433425780176398, 0.4166666666666667, 'gini = 0.0\\nsamples = 2\\nvalue = [2, 0]'),\n",
       " Text(0.11553356819828599, 0.45, 'x[1] <= 0.78\\ngini = 0.278\\nsamples = 12\\nvalue = [2, 10]'),\n",
       " Text(0.11513379806611199, 0.4166666666666667, 'gini = 0.0\\nsamples = 1\\nvalue = [1, 0]'),\n",
       " Text(0.11593333833045999, 0.4166666666666667, 'x[5] <= 248.5\\ngini = 0.165\\nsamples = 11\\nvalue = [1, 10]'),\n",
       " Text(0.11553356819828599, 0.38333333333333336, 'x[5] <= 245.5\\ngini = 0.444\\nsamples = 3\\nvalue = [1, 2]'),\n",
       " Text(0.11513379806611199, 0.35, 'gini = 0.0\\nsamples = 2\\nvalue = [0, 2]'),\n",
       " Text(0.11593333833045999, 0.35, 'gini = 0.0\\nsamples = 1\\nvalue = [1, 0]'),\n",
       " Text(0.11633310846263399, 0.38333333333333336, 'gini = 0.0\\nsamples = 8\\nvalue = [0, 8]'),\n",
       " Text(0.11433425780176398, 0.55, 'gini = 0.0\\nsamples = 1\\nvalue = [1, 0]'),\n",
       " Text(0.11473402793393798, 0.65, 'x[1] <= 0.861\\ngini = 0.077\\nsamples = 25\\nvalue = [1, 24]'),\n",
       " Text(0.11433425780176398, 0.6166666666666667, 'gini = 0.0\\nsamples = 19\\nvalue = [0, 19]'),\n",
       " Text(0.11513379806611199, 0.6166666666666667, 'x[1] <= 0.863\\ngini = 0.278\\nsamples = 6\\nvalue = [1, 5]'),\n",
       " Text(0.11473402793393798, 0.5833333333333334, 'gini = 0.0\\nsamples = 1\\nvalue = [1, 0]'),\n",
       " Text(0.11553356819828599, 0.5833333333333334, 'gini = 0.0\\nsamples = 5\\nvalue = [0, 5]'),\n",
       " Text(0.11733253379306899, 0.7166666666666667, 'x[0] <= 0.55\\ngini = 0.48\\nsamples = 30\\nvalue = [18, 12]'),\n",
       " Text(0.11593333833045999, 0.6833333333333333, 'x[5] <= 251.5\\ngini = 0.219\\nsamples = 8\\nvalue = [7, 1]'),\n",
       " Text(0.11553356819828599, 0.65, 'gini = 0.0\\nsamples = 6\\nvalue = [6, 0]'),\n",
       " Text(0.11633310846263399, 0.65, 'x[5] <= 285.0\\ngini = 0.5\\nsamples = 2\\nvalue = [1, 1]'),\n",
       " Text(0.11593333833045999, 0.6166666666666667, 'gini = 0.0\\nsamples = 1\\nvalue = [0, 1]'),\n",
       " Text(0.11673287859480798, 0.6166666666666667, 'gini = 0.0\\nsamples = 1\\nvalue = [1, 0]'),\n",
       " Text(0.11873172925567799, 0.6833333333333333, 'x[4] <= 1.5\\ngini = 0.5\\nsamples = 22\\nvalue = [11, 11]'),\n",
       " Text(0.11793218899132998, 0.65, 'x[5] <= 192.5\\ngini = 0.397\\nsamples = 11\\nvalue = [8, 3]'),\n",
       " Text(0.11753241885915598, 0.6166666666666667, 'gini = 0.0\\nsamples = 4\\nvalue = [4, 0]'),\n",
       " Text(0.11833195912350399, 0.6166666666666667, 'x[5] <= 268.0\\ngini = 0.49\\nsamples = 7\\nvalue = [4, 3]'),\n",
       " Text(0.11793218899132998, 0.5833333333333334, 'x[1] <= 0.794\\ngini = 0.375\\nsamples = 4\\nvalue = [1, 3]'),\n",
       " Text(0.11753241885915598, 0.55, 'gini = 0.0\\nsamples = 3\\nvalue = [0, 3]'),\n",
       " Text(0.11833195912350399, 0.55, 'gini = 0.0\\nsamples = 1\\nvalue = [1, 0]'),\n",
       " Text(0.11873172925567799, 0.5833333333333334, 'gini = 0.0\\nsamples = 3\\nvalue = [3, 0]'),\n",
       " Text(0.11953126952002599, 0.65, 'x[5] <= 251.5\\ngini = 0.397\\nsamples = 11\\nvalue = [3, 8]'),\n",
       " Text(0.11913149938785199, 0.6166666666666667, 'gini = 0.0\\nsamples = 6\\nvalue = [0, 6]'),\n",
       " Text(0.11993103965219999, 0.6166666666666667, 'x[0] <= 0.85\\ngini = 0.48\\nsamples = 5\\nvalue = [3, 2]'),\n",
       " Text(0.11953126952002599, 0.5833333333333334, 'gini = 0.0\\nsamples = 2\\nvalue = [2, 0]'),\n",
       " Text(0.12033080978437398, 0.5833333333333334, 'x[1] <= 0.401\\ngini = 0.444\\nsamples = 3\\nvalue = [1, 2]'),\n",
       " Text(0.11993103965219999, 0.55, 'gini = 0.0\\nsamples = 1\\nvalue = [1, 0]'),\n",
       " Text(0.12073057991654798, 0.55, 'gini = 0.0\\nsamples = 2\\nvalue = [0, 2]'),\n",
       " Text(0.12452839617220099, 0.8166666666666667, 'x[5] <= 244.0\\ngini = 0.494\\nsamples = 36\\nvalue = [20, 16]'),\n",
       " Text(0.12312920070959199, 0.7833333333333333, 'x[1] <= 0.3\\ngini = 0.417\\nsamples = 27\\nvalue = [19, 8]'),\n",
       " Text(0.12232966044524399, 0.75, 'x[1] <= 0.144\\ngini = 0.497\\nsamples = 13\\nvalue = [7, 6]'),\n",
       " Text(0.12192989031306999, 0.7166666666666667, 'x[8] <= 0.5\\ngini = 0.346\\nsamples = 9\\nvalue = [7, 2]'),\n",
       " Text(0.12153012018089598, 0.6833333333333333, 'x[2] <= 64.5\\ngini = 0.48\\nsamples = 5\\nvalue = [3, 2]'),\n",
       " Text(0.12113035004872198, 0.65, 'x[5] <= 154.0\\ngini = 0.375\\nsamples = 4\\nvalue = [3, 1]'),\n",
       " Text(0.12073057991654798, 0.6166666666666667, 'gini = 0.0\\nsamples = 1\\nvalue = [0, 1]'),\n",
       " Text(0.12153012018089598, 0.6166666666666667, 'gini = 0.0\\nsamples = 3\\nvalue = [3, 0]'),\n",
       " Text(0.12192989031306999, 0.65, 'gini = 0.0\\nsamples = 1\\nvalue = [0, 1]'),\n",
       " Text(0.12232966044524399, 0.6833333333333333, 'gini = 0.0\\nsamples = 4\\nvalue = [4, 0]'),\n",
       " Text(0.12272943057741799, 0.7166666666666667, 'gini = 0.0\\nsamples = 4\\nvalue = [0, 4]'),\n",
       " Text(0.12392874097393998, 0.75, 'x[3] <= 45.0\\ngini = 0.245\\nsamples = 14\\nvalue = [12, 2]'),\n",
       " Text(0.12352897084176598, 0.7166666666666667, 'gini = 0.0\\nsamples = 11\\nvalue = [11, 0]'),\n",
       " Text(0.12432851110611398, 0.7166666666666667, 'x[5] <= 228.5\\ngini = 0.444\\nsamples = 3\\nvalue = [1, 2]'),\n",
       " Text(0.12392874097393998, 0.6833333333333333, 'gini = 0.0\\nsamples = 2\\nvalue = [0, 2]'),\n",
       " Text(0.12472828123828798, 0.6833333333333333, 'gini = 0.0\\nsamples = 1\\nvalue = [1, 0]'),\n",
       " Text(0.12592759163481, 0.7833333333333333, 'x[0] <= 0.65\\ngini = 0.198\\nsamples = 9\\nvalue = [1, 8]'),\n",
       " Text(0.12552782150263597, 0.75, 'x[5] <= 284.5\\ngini = 0.5\\nsamples = 2\\nvalue = [1, 1]'),\n",
       " Text(0.12512805137046198, 0.7166666666666667, 'gini = 0.0\\nsamples = 1\\nvalue = [0, 1]'),\n",
       " Text(0.12592759163481, 0.7166666666666667, 'gini = 0.0\\nsamples = 1\\nvalue = [1, 0]'),\n",
       " Text(0.12632736176698398, 0.75, 'gini = 0.0\\nsamples = 7\\nvalue = [0, 7]'),\n",
       " Text(0.14067536166704145, 0.8833333333333333, 'x[6] <= 0.5\\ngini = 0.419\\nsamples = 284\\nvalue = [85, 199]'),\n",
       " Text(0.13378557329535518, 0.85, 'x[2] <= 15.5\\ngini = 0.49\\nsamples = 128\\nvalue = [55, 73]'),\n",
       " Text(0.13164930165155037, 0.8166666666666667, 'x[3] <= 45.0\\ngini = 0.471\\nsamples = 116\\nvalue = [44, 72]'),\n",
       " Text(0.12927566649176722, 0.7833333333333333, 'x[5] <= 270.5\\ngini = 0.5\\nsamples = 61\\nvalue = [30, 31]'),\n",
       " Text(0.12887589635959323, 0.75, 'x[1] <= 0.624\\ngini = 0.494\\nsamples = 54\\nvalue = [30, 24]'),\n",
       " Text(0.12682707443220148, 0.7166666666666667, 'x[5] <= 230.0\\ngini = 0.494\\nsamples = 38\\nvalue = [17, 21]'),\n",
       " Text(0.12552782150263597, 0.6833333333333333, 'x[4] <= 0.5\\ngini = 0.444\\nsamples = 27\\nvalue = [9, 18]'),\n",
       " Text(0.12512805137046198, 0.65, 'x[5] <= 132.0\\ngini = 0.34\\nsamples = 23\\nvalue = [5, 18]'),\n",
       " Text(0.12412862604002699, 0.6166666666666667, 'x[5] <= 70.5\\ngini = 0.444\\nsamples = 3\\nvalue = [2, 1]'),\n",
       " Text(0.12372885590785299, 0.5833333333333334, 'gini = 0.0\\nsamples = 1\\nvalue = [0, 1]'),\n",
       " Text(0.12452839617220099, 0.5833333333333334, 'gini = 0.0\\nsamples = 2\\nvalue = [2, 0]'),\n",
       " Text(0.126127476700897, 0.6166666666666667, 'x[0] <= 0.75\\ngini = 0.255\\nsamples = 20\\nvalue = [3, 17]'),\n",
       " Text(0.125327936436549, 0.5833333333333334, 'x[8] <= 0.5\\ngini = 0.444\\nsamples = 6\\nvalue = [2, 4]'),\n",
       " Text(0.12492816630437499, 0.55, 'gini = 0.0\\nsamples = 2\\nvalue = [2, 0]'),\n",
       " Text(0.12572770656872298, 0.55, 'gini = 0.0\\nsamples = 4\\nvalue = [0, 4]'),\n",
       " Text(0.12692701696524497, 0.5833333333333334, 'x[5] <= 198.5\\ngini = 0.133\\nsamples = 14\\nvalue = [1, 13]'),\n",
       " Text(0.12652724683307098, 0.55, 'gini = 0.0\\nsamples = 11\\nvalue = [0, 11]'),\n",
       " Text(0.127326787097419, 0.55, 'x[1] <= 0.138\\ngini = 0.444\\nsamples = 3\\nvalue = [1, 2]'),\n",
       " Text(0.12692701696524497, 0.5166666666666667, 'gini = 0.0\\nsamples = 2\\nvalue = [0, 2]'),\n",
       " Text(0.12772655722959297, 0.5166666666666667, 'gini = 0.0\\nsamples = 1\\nvalue = [1, 0]'),\n",
       " Text(0.12592759163481, 0.65, 'gini = 0.0\\nsamples = 4\\nvalue = [4, 0]'),\n",
       " Text(0.128126327361767, 0.6833333333333333, 'x[5] <= 248.0\\ngini = 0.397\\nsamples = 11\\nvalue = [8, 3]'),\n",
       " Text(0.12772655722959297, 0.65, 'gini = 0.0\\nsamples = 5\\nvalue = [5, 0]'),\n",
       " Text(0.12852609749394098, 0.65, 'x[8] <= 0.5\\ngini = 0.5\\nsamples = 6\\nvalue = [3, 3]'),\n",
       " Text(0.128126327361767, 0.6166666666666667, 'x[5] <= 253.5\\ngini = 0.375\\nsamples = 4\\nvalue = [1, 3]'),\n",
       " Text(0.12772655722959297, 0.5833333333333334, 'gini = 0.0\\nsamples = 2\\nvalue = [0, 2]'),\n",
       " Text(0.12852609749394098, 0.5833333333333334, 'x[3] <= 30.0\\ngini = 0.5\\nsamples = 2\\nvalue = [1, 1]'),\n",
       " Text(0.128126327361767, 0.55, 'gini = 0.0\\nsamples = 1\\nvalue = [0, 1]'),\n",
       " Text(0.128925867626115, 0.55, 'gini = 0.0\\nsamples = 1\\nvalue = [1, 0]'),\n",
       " Text(0.128925867626115, 0.6166666666666667, 'gini = 0.0\\nsamples = 2\\nvalue = [2, 0]'),\n",
       " Text(0.130924718286985, 0.7166666666666667, 'x[1] <= 0.89\\ngini = 0.305\\nsamples = 16\\nvalue = [13, 3]'),\n",
       " Text(0.13052494815481097, 0.6833333333333333, 'x[11] <= 0.5\\ngini = 0.231\\nsamples = 15\\nvalue = [13, 2]'),\n",
       " Text(0.13012517802263698, 0.65, 'x[5] <= 189.5\\ngini = 0.408\\nsamples = 7\\nvalue = [5, 2]'),\n",
       " Text(0.129725407890463, 0.6166666666666667, 'gini = 0.0\\nsamples = 4\\nvalue = [4, 0]'),\n",
       " Text(0.13052494815481097, 0.6166666666666667, 'x[0] <= 0.8\\ngini = 0.444\\nsamples = 3\\nvalue = [1, 2]'),\n",
       " Text(0.13012517802263698, 0.5833333333333334, 'gini = 0.0\\nsamples = 1\\nvalue = [1, 0]'),\n",
       " Text(0.130924718286985, 0.5833333333333334, 'gini = 0.0\\nsamples = 2\\nvalue = [0, 2]'),\n",
       " Text(0.130924718286985, 0.65, 'gini = 0.0\\nsamples = 8\\nvalue = [8, 0]'),\n",
       " Text(0.13132448841915897, 0.6833333333333333, 'gini = 0.0\\nsamples = 1\\nvalue = [0, 1]'),\n",
       " Text(0.12967543662394124, 0.75, 'gini = 0.0\\nsamples = 7\\nvalue = [0, 7]'),\n",
       " Text(0.13402293681133348, 0.7833333333333333, 'x[0] <= 0.55\\ngini = 0.38\\nsamples = 55\\nvalue = [14, 41]'),\n",
       " Text(0.13292356894785498, 0.75, 'x[11] <= 0.5\\ngini = 0.408\\nsamples = 7\\nvalue = [5, 2]'),\n",
       " Text(0.132523798815681, 0.7166666666666667, 'x[5] <= 229.5\\ngini = 0.444\\nsamples = 3\\nvalue = [1, 2]'),\n",
       " Text(0.13212402868350698, 0.6833333333333333, 'gini = 0.0\\nsamples = 1\\nvalue = [1, 0]'),\n",
       " Text(0.13292356894785498, 0.6833333333333333, 'gini = 0.0\\nsamples = 2\\nvalue = [0, 2]'),\n",
       " Text(0.133323339080029, 0.7166666666666667, 'gini = 0.0\\nsamples = 4\\nvalue = [4, 0]'),\n",
       " Text(0.13512230467481198, 0.75, 'x[4] <= 0.5\\ngini = 0.305\\nsamples = 48\\nvalue = [9, 39]'),\n",
       " Text(0.134722534542638, 0.7166666666666667, 'x[8] <= 0.5\\ngini = 0.355\\nsamples = 39\\nvalue = [9, 30]'),\n",
       " Text(0.13372310921220298, 0.6833333333333333, 'x[5] <= 122.0\\ngini = 0.245\\nsamples = 21\\nvalue = [3, 18]'),\n",
       " Text(0.13292356894785498, 0.65, 'x[3] <= 55.0\\ngini = 0.5\\nsamples = 2\\nvalue = [1, 1]'),\n",
       " Text(0.132523798815681, 0.6166666666666667, 'gini = 0.0\\nsamples = 1\\nvalue = [0, 1]'),\n",
       " Text(0.133323339080029, 0.6166666666666667, 'gini = 0.0\\nsamples = 1\\nvalue = [1, 0]'),\n",
       " Text(0.134522649476551, 0.65, 'x[1] <= 0.496\\ngini = 0.188\\nsamples = 19\\nvalue = [2, 17]'),\n",
       " Text(0.13412287934437697, 0.6166666666666667, 'gini = 0.0\\nsamples = 9\\nvalue = [0, 9]'),\n",
       " Text(0.13492241960872497, 0.6166666666666667, 'x[1] <= 0.596\\ngini = 0.32\\nsamples = 10\\nvalue = [2, 8]'),\n",
       " Text(0.134522649476551, 0.5833333333333334, 'gini = 0.0\\nsamples = 1\\nvalue = [1, 0]'),\n",
       " Text(0.135322189740899, 0.5833333333333334, 'x[0] <= 0.85\\ngini = 0.198\\nsamples = 9\\nvalue = [1, 8]'),\n",
       " Text(0.13492241960872497, 0.55, 'x[1] <= 0.763\\ngini = 0.444\\nsamples = 3\\nvalue = [1, 2]'),\n",
       " Text(0.134522649476551, 0.5166666666666667, 'gini = 0.0\\nsamples = 1\\nvalue = [0, 1]'),\n",
       " Text(0.135322189740899, 0.5166666666666667, 'x[1] <= 0.881\\ngini = 0.5\\nsamples = 2\\nvalue = [1, 1]'),\n",
       " Text(0.13492241960872497, 0.48333333333333334, 'gini = 0.0\\nsamples = 1\\nvalue = [1, 0]'),\n",
       " Text(0.13572195987307298, 0.48333333333333334, 'gini = 0.0\\nsamples = 1\\nvalue = [0, 1]'),\n",
       " Text(0.13572195987307298, 0.55, 'gini = 0.0\\nsamples = 6\\nvalue = [0, 6]'),\n",
       " Text(0.13572195987307298, 0.6833333333333333, 'x[1] <= 0.048\\ngini = 0.444\\nsamples = 18\\nvalue = [6, 12]'),\n",
       " Text(0.135322189740899, 0.65, 'gini = 0.0\\nsamples = 1\\nvalue = [1, 0]'),\n",
       " Text(0.136121730005247, 0.65, 'x[1] <= 0.222\\ngini = 0.415\\nsamples = 17\\nvalue = [5, 12]'),\n",
       " Text(0.13572195987307298, 0.6166666666666667, 'gini = 0.0\\nsamples = 5\\nvalue = [0, 5]'),\n",
       " Text(0.13652150013742098, 0.6166666666666667, 'x[1] <= 0.359\\ngini = 0.486\\nsamples = 12\\nvalue = [5, 7]'),\n",
       " Text(0.136121730005247, 0.5833333333333334, 'gini = 0.0\\nsamples = 2\\nvalue = [2, 0]'),\n",
       " Text(0.13692127026959497, 0.5833333333333334, 'x[5] <= 295.0\\ngini = 0.42\\nsamples = 10\\nvalue = [3, 7]'),\n",
       " Text(0.13652150013742098, 0.55, 'x[5] <= 208.5\\ngini = 0.49\\nsamples = 7\\nvalue = [3, 4]'),\n",
       " Text(0.136121730005247, 0.5166666666666667, 'gini = 0.0\\nsamples = 2\\nvalue = [0, 2]'),\n",
       " Text(0.13692127026959497, 0.5166666666666667, 'x[1] <= 0.889\\ngini = 0.48\\nsamples = 5\\nvalue = [3, 2]'),\n",
       " Text(0.13652150013742098, 0.48333333333333334, 'x[5] <= 253.0\\ngini = 0.375\\nsamples = 4\\nvalue = [3, 1]'),\n",
       " Text(0.136121730005247, 0.45, 'gini = 0.0\\nsamples = 2\\nvalue = [2, 0]'),\n",
       " Text(0.13692127026959497, 0.45, 'x[0] <= 0.75\\ngini = 0.5\\nsamples = 2\\nvalue = [1, 1]'),\n",
       " Text(0.13652150013742098, 0.4166666666666667, 'gini = 0.0\\nsamples = 1\\nvalue = [1, 0]'),\n",
       " Text(0.13732104040176898, 0.4166666666666667, 'gini = 0.0\\nsamples = 1\\nvalue = [0, 1]'),\n",
       " Text(0.13732104040176898, 0.48333333333333334, 'gini = 0.0\\nsamples = 1\\nvalue = [0, 1]'),\n",
       " Text(0.13732104040176898, 0.55, 'gini = 0.0\\nsamples = 3\\nvalue = [0, 3]'),\n",
       " Text(0.13552207480698597, 0.7166666666666667, 'gini = 0.0\\nsamples = 9\\nvalue = [0, 9]'),\n",
       " Text(0.13592184493915999, 0.8166666666666667, 'x[5] <= 276.0\\ngini = 0.153\\nsamples = 12\\nvalue = [11, 1]'),\n",
       " Text(0.13552207480698597, 0.7833333333333333, 'gini = 0.0\\nsamples = 10\\nvalue = [10, 0]'),\n",
       " Text(0.13632161507133397, 0.7833333333333333, 'x[2] <= 55.0\\ngini = 0.5\\nsamples = 2\\nvalue = [1, 1]'),\n",
       " Text(0.13592184493915999, 0.75, 'gini = 0.0\\nsamples = 1\\nvalue = [1, 0]'),\n",
       " Text(0.136721385203508, 0.75, 'gini = 0.0\\nsamples = 1\\nvalue = [0, 1]'),\n",
       " Text(0.14756515003872772, 0.85, 'x[4] <= 1.5\\ngini = 0.311\\nsamples = 156\\nvalue = [30, 126]'),\n",
       " Text(0.14571621317742298, 0.8166666666666667, 'x[1] <= 0.864\\ngini = 0.265\\nsamples = 140\\nvalue = [22, 118]'),\n",
       " Text(0.14401719011568348, 0.7833333333333333, 'x[5] <= 259.0\\ngini = 0.229\\nsamples = 129\\nvalue = [17, 112]'),\n",
       " Text(0.14261799465307448, 0.75, 'x[5] <= 236.5\\ngini = 0.3\\nsamples = 87\\nvalue = [16, 71]'),\n",
       " Text(0.14181845438872648, 0.7166666666666667, 'x[1] <= 0.713\\ngini = 0.25\\nsamples = 75\\nvalue = [11, 64]'),\n",
       " Text(0.1414186842565525, 0.6833333333333333, 'x[1] <= 0.469\\ngini = 0.303\\nsamples = 59\\nvalue = [11, 48]'),\n",
       " Text(0.140319316393074, 0.65, 'x[4] <= 0.5\\ngini = 0.215\\nsamples = 49\\nvalue = [6, 43]'),\n",
       " Text(0.13931989106263898, 0.6166666666666667, 'x[1] <= 0.051\\ngini = 0.169\\nsamples = 43\\nvalue = [4, 39]'),\n",
       " Text(0.13852035079829098, 0.5833333333333334, 'x[11] <= 0.5\\ngini = 0.444\\nsamples = 3\\nvalue = [1, 2]'),\n",
       " Text(0.138120580666117, 0.55, 'gini = 0.0\\nsamples = 2\\nvalue = [0, 2]'),\n",
       " Text(0.138920120930465, 0.55, 'gini = 0.0\\nsamples = 1\\nvalue = [1, 0]'),\n",
       " Text(0.14011943132698698, 0.5833333333333334, 'x[5] <= 193.5\\ngini = 0.139\\nsamples = 40\\nvalue = [3, 37]'),\n",
       " Text(0.139719661194813, 0.55, 'gini = 0.0\\nsamples = 22\\nvalue = [0, 22]'),\n",
       " Text(0.14051920145916097, 0.55, 'x[5] <= 195.5\\ngini = 0.278\\nsamples = 18\\nvalue = [3, 15]'),\n",
       " Text(0.14011943132698698, 0.5166666666666667, 'gini = 0.0\\nsamples = 1\\nvalue = [1, 0]'),\n",
       " Text(0.14091897159133498, 0.5166666666666667, 'x[1] <= 0.226\\ngini = 0.208\\nsamples = 17\\nvalue = [2, 15]'),\n",
       " Text(0.14051920145916097, 0.48333333333333334, 'gini = 0.0\\nsamples = 10\\nvalue = [0, 10]'),\n",
       " Text(0.14131874172350897, 0.48333333333333334, 'x[8] <= 0.5\\ngini = 0.408\\nsamples = 7\\nvalue = [2, 5]'),\n",
       " Text(0.14091897159133498, 0.45, 'x[1] <= 0.295\\ngini = 0.278\\nsamples = 6\\nvalue = [1, 5]'),\n",
       " Text(0.14051920145916097, 0.4166666666666667, 'gini = 0.0\\nsamples = 1\\nvalue = [1, 0]'),\n",
       " Text(0.14131874172350897, 0.4166666666666667, 'gini = 0.0\\nsamples = 5\\nvalue = [0, 5]'),\n",
       " Text(0.141718511855683, 0.45, 'gini = 0.0\\nsamples = 1\\nvalue = [1, 0]'),\n",
       " Text(0.14131874172350897, 0.6166666666666667, 'x[3] <= 35.0\\ngini = 0.444\\nsamples = 6\\nvalue = [2, 4]'),\n",
       " Text(0.14091897159133498, 0.5833333333333334, 'gini = 0.0\\nsamples = 4\\nvalue = [0, 4]'),\n",
       " Text(0.141718511855683, 0.5833333333333334, 'gini = 0.0\\nsamples = 2\\nvalue = [2, 0]'),\n",
       " Text(0.142518052120031, 0.65, 'x[1] <= 0.507\\ngini = 0.5\\nsamples = 10\\nvalue = [5, 5]'),\n",
       " Text(0.14211828198785698, 0.6166666666666667, 'gini = 0.0\\nsamples = 3\\nvalue = [3, 0]'),\n",
       " Text(0.14291782225220498, 0.6166666666666667, 'x[1] <= 0.688\\ngini = 0.408\\nsamples = 7\\nvalue = [2, 5]'),\n",
       " Text(0.142518052120031, 0.5833333333333334, 'x[5] <= 156.0\\ngini = 0.278\\nsamples = 6\\nvalue = [1, 5]'),\n",
       " Text(0.14211828198785698, 0.55, 'gini = 0.0\\nsamples = 1\\nvalue = [1, 0]'),\n",
       " Text(0.14291782225220498, 0.55, 'gini = 0.0\\nsamples = 5\\nvalue = [0, 5]'),\n",
       " Text(0.143317592384379, 0.5833333333333334, 'gini = 0.0\\nsamples = 1\\nvalue = [1, 0]'),\n",
       " Text(0.1422182245209005, 0.6833333333333333, 'gini = 0.0\\nsamples = 16\\nvalue = [0, 16]'),\n",
       " Text(0.14341753491742248, 0.7166666666666667, 'x[1] <= 0.337\\ngini = 0.486\\nsamples = 12\\nvalue = [5, 7]'),\n",
       " Text(0.14301776478524847, 0.6833333333333333, 'gini = 0.0\\nsamples = 7\\nvalue = [0, 7]'),\n",
       " Text(0.14381730504959647, 0.6833333333333333, 'gini = 0.0\\nsamples = 5\\nvalue = [5, 0]'),\n",
       " Text(0.14541638557829248, 0.75, 'x[0] <= 0.5\\ngini = 0.046\\nsamples = 42\\nvalue = [1, 41]'),\n",
       " Text(0.1450166154461185, 0.7166666666666667, 'x[0] <= 0.3\\ngini = 0.278\\nsamples = 6\\nvalue = [1, 5]'),\n",
       " Text(0.14461684531394448, 0.6833333333333333, 'gini = 0.0\\nsamples = 5\\nvalue = [0, 5]'),\n",
       " Text(0.14541638557829248, 0.6833333333333333, 'gini = 0.0\\nsamples = 1\\nvalue = [1, 0]'),\n",
       " Text(0.1458161557104665, 0.7166666666666667, 'gini = 0.0\\nsamples = 36\\nvalue = [0, 36]'),\n",
       " Text(0.14741523623916247, 0.7833333333333333, 'x[0] <= 0.85\\ngini = 0.496\\nsamples = 11\\nvalue = [5, 6]'),\n",
       " Text(0.14701546610698848, 0.75, 'x[1] <= 0.893\\ngini = 0.408\\nsamples = 7\\nvalue = [5, 2]'),\n",
       " Text(0.14661569597481447, 0.7166666666666667, 'gini = 0.0\\nsamples = 3\\nvalue = [3, 0]'),\n",
       " Text(0.14741523623916247, 0.7166666666666667, 'x[1] <= 0.92\\ngini = 0.5\\nsamples = 4\\nvalue = [2, 2]'),\n",
       " Text(0.14701546610698848, 0.6833333333333333, 'gini = 0.0\\nsamples = 2\\nvalue = [0, 2]'),\n",
       " Text(0.1478150063713365, 0.6833333333333333, 'gini = 0.0\\nsamples = 2\\nvalue = [2, 0]'),\n",
       " Text(0.1478150063713365, 0.75, 'gini = 0.0\\nsamples = 4\\nvalue = [0, 4]'),\n",
       " Text(0.1494140869000325, 0.8166666666666667, 'x[1] <= 0.275\\ngini = 0.5\\nsamples = 16\\nvalue = [8, 8]'),\n",
       " Text(0.14901431676785848, 0.7833333333333333, 'gini = 0.0\\nsamples = 6\\nvalue = [0, 6]'),\n",
       " Text(0.14981385703220648, 0.7833333333333333, 'x[3] <= 65.0\\ngini = 0.32\\nsamples = 10\\nvalue = [8, 2]'),\n",
       " Text(0.1494140869000325, 0.75, 'x[1] <= 0.424\\ngini = 0.198\\nsamples = 9\\nvalue = [8, 1]'),\n",
       " Text(0.14901431676785848, 0.7166666666666667, 'x[1] <= 0.348\\ngini = 0.444\\nsamples = 3\\nvalue = [2, 1]'),\n",
       " Text(0.1486145466356845, 0.6833333333333333, 'gini = 0.0\\nsamples = 2\\nvalue = [2, 0]'),\n",
       " Text(0.1494140869000325, 0.6833333333333333, 'gini = 0.0\\nsamples = 1\\nvalue = [0, 1]'),\n",
       " Text(0.14981385703220648, 0.7166666666666667, 'gini = 0.0\\nsamples = 6\\nvalue = [6, 0]'),\n",
       " Text(0.15021362716438047, 0.75, 'gini = 0.0\\nsamples = 1\\nvalue = [0, 1]'),\n",
       " Text(0.2614853880893486, 0.9166666666666666, 'x[8] <= 0.5\\ngini = 0.446\\nsamples = 2345\\nvalue = [788, 1557]'),\n",
       " Text(0.21550538128076355, 0.8833333333333333, 'x[1] <= 0.256\\ngini = 0.38\\nsamples = 1600\\nvalue = [408, 1192]'),\n",
       " Text(0.1790751567848487, 0.85, 'x[9] <= 0.5\\ngini = 0.273\\nsamples = 759\\nvalue = [124, 635]'),\n",
       " Text(0.1660107937935687, 0.8166666666666667, 'x[0] <= 0.65\\ngini = 0.24\\nsamples = 668\\nvalue = [93, 575]'),\n",
       " Text(0.1567848487119906, 0.7833333333333333, 'x[1] <= 0.138\\ngini = 0.359\\nsamples = 192\\nvalue = [45, 147]'),\n",
       " Text(0.15256227669090272, 0.75, 'x[4] <= 4.5\\ngini = 0.272\\nsamples = 111\\nvalue = [18, 93]'),\n",
       " Text(0.15216250655872873, 0.7166666666666667, 'x[1] <= 0.074\\ngini = 0.25\\nsamples = 109\\nvalue = [16, 93]'),\n",
       " Text(0.15021362716438047, 0.6833333333333333, 'x[1] <= 0.073\\ngini = 0.35\\nsamples = 53\\nvalue = [12, 41]'),\n",
       " Text(0.14981385703220648, 0.65, 'x[5] <= 70.0\\ngini = 0.334\\nsamples = 52\\nvalue = [11, 41]'),\n",
       " Text(0.14851460410264097, 0.6166666666666667, 'x[1] <= 0.05\\ngini = 0.49\\nsamples = 7\\nvalue = [3, 4]'),\n",
       " Text(0.14811483397046699, 0.5833333333333334, 'gini = 0.0\\nsamples = 3\\nvalue = [3, 0]'),\n",
       " Text(0.148914374234815, 0.5833333333333334, 'gini = 0.0\\nsamples = 4\\nvalue = [0, 4]'),\n",
       " Text(0.151113109961772, 0.6166666666666667, 'x[1] <= 0.059\\ngini = 0.292\\nsamples = 45\\nvalue = [8, 37]'),\n",
       " Text(0.149713914499163, 0.5833333333333334, 'x[5] <= 125.5\\ngini = 0.229\\nsamples = 38\\nvalue = [5, 33]'),\n",
       " Text(0.14931414436698898, 0.55, 'gini = 0.0\\nsamples = 13\\nvalue = [0, 13]'),\n",
       " Text(0.15011368463133698, 0.55, 'x[5] <= 165.5\\ngini = 0.32\\nsamples = 25\\nvalue = [5, 20]'),\n",
       " Text(0.14931414436698898, 0.5166666666666667, 'x[1] <= 0.026\\ngini = 0.48\\nsamples = 5\\nvalue = [3, 2]'),\n",
       " Text(0.148914374234815, 0.48333333333333334, 'gini = 0.0\\nsamples = 2\\nvalue = [0, 2]'),\n",
       " Text(0.149713914499163, 0.48333333333333334, 'gini = 0.0\\nsamples = 3\\nvalue = [3, 0]'),\n",
       " Text(0.15091322489568498, 0.5166666666666667, 'x[0] <= 0.55\\ngini = 0.18\\nsamples = 20\\nvalue = [2, 18]'),\n",
       " Text(0.15051345476351097, 0.48333333333333334, 'gini = 0.0\\nsamples = 12\\nvalue = [0, 12]'),\n",
       " Text(0.15131299502785897, 0.48333333333333334, 'x[3] <= 45.0\\ngini = 0.375\\nsamples = 8\\nvalue = [2, 6]'),\n",
       " Text(0.15091322489568498, 0.45, 'gini = 0.0\\nsamples = 1\\nvalue = [1, 0]'),\n",
       " Text(0.151712765160033, 0.45, 'x[1] <= 0.049\\ngini = 0.245\\nsamples = 7\\nvalue = [1, 6]'),\n",
       " Text(0.15131299502785897, 0.4166666666666667, 'gini = 0.0\\nsamples = 4\\nvalue = [0, 4]'),\n",
       " Text(0.15211253529220697, 0.4166666666666667, 'x[3] <= 55.0\\ngini = 0.444\\nsamples = 3\\nvalue = [1, 2]'),\n",
       " Text(0.151712765160033, 0.38333333333333336, 'gini = 0.0\\nsamples = 1\\nvalue = [1, 0]'),\n",
       " Text(0.152512305424381, 0.38333333333333336, 'gini = 0.0\\nsamples = 2\\nvalue = [0, 2]'),\n",
       " Text(0.152512305424381, 0.5833333333333334, 'x[1] <= 0.071\\ngini = 0.49\\nsamples = 7\\nvalue = [3, 4]'),\n",
       " Text(0.15211253529220697, 0.55, 'x[0] <= 0.45\\ngini = 0.375\\nsamples = 4\\nvalue = [3, 1]'),\n",
       " Text(0.151712765160033, 0.5166666666666667, 'gini = 0.0\\nsamples = 2\\nvalue = [2, 0]'),\n",
       " Text(0.152512305424381, 0.5166666666666667, 'x[5] <= 202.5\\ngini = 0.5\\nsamples = 2\\nvalue = [1, 1]'),\n",
       " Text(0.15211253529220697, 0.48333333333333334, 'gini = 0.0\\nsamples = 1\\nvalue = [0, 1]'),\n",
       " Text(0.15291207555655498, 0.48333333333333334, 'gini = 0.0\\nsamples = 1\\nvalue = [1, 0]'),\n",
       " Text(0.15291207555655498, 0.55, 'gini = 0.0\\nsamples = 3\\nvalue = [0, 3]'),\n",
       " Text(0.15061339729655449, 0.65, 'gini = 0.0\\nsamples = 1\\nvalue = [1, 0]'),\n",
       " Text(0.15411138595307697, 0.6833333333333333, 'x[2] <= 13.5\\ngini = 0.133\\nsamples = 56\\nvalue = [4, 52]'),\n",
       " Text(0.153311845688729, 0.65, 'x[1] <= 0.112\\ngini = 0.105\\nsamples = 54\\nvalue = [3, 51]'),\n",
       " Text(0.15291207555655498, 0.6166666666666667, 'gini = 0.0\\nsamples = 28\\nvalue = [0, 28]'),\n",
       " Text(0.15371161582090298, 0.6166666666666667, 'x[1] <= 0.113\\ngini = 0.204\\nsamples = 26\\nvalue = [3, 23]'),\n",
       " Text(0.153311845688729, 0.5833333333333334, 'gini = 0.0\\nsamples = 1\\nvalue = [1, 0]'),\n",
       " Text(0.15411138595307697, 0.5833333333333334, 'x[0] <= 0.55\\ngini = 0.147\\nsamples = 25\\nvalue = [2, 23]'),\n",
       " Text(0.15371161582090298, 0.55, 'gini = 0.0\\nsamples = 20\\nvalue = [0, 20]'),\n",
       " Text(0.15451115608525098, 0.55, 'x[3] <= 45.0\\ngini = 0.48\\nsamples = 5\\nvalue = [2, 3]'),\n",
       " Text(0.15411138595307697, 0.5166666666666667, 'x[5] <= 203.5\\ngini = 0.444\\nsamples = 3\\nvalue = [2, 1]'),\n",
       " Text(0.15371161582090298, 0.48333333333333334, 'gini = 0.0\\nsamples = 2\\nvalue = [2, 0]'),\n",
       " Text(0.15451115608525098, 0.48333333333333334, 'gini = 0.0\\nsamples = 1\\nvalue = [0, 1]'),\n",
       " Text(0.15491092621742497, 0.5166666666666667, 'gini = 0.0\\nsamples = 2\\nvalue = [0, 2]'),\n",
       " Text(0.15491092621742497, 0.65, 'x[0] <= 0.15\\ngini = 0.5\\nsamples = 2\\nvalue = [1, 1]'),\n",
       " Text(0.15451115608525098, 0.6166666666666667, 'gini = 0.0\\nsamples = 1\\nvalue = [1, 0]'),\n",
       " Text(0.155310696349599, 0.6166666666666667, 'gini = 0.0\\nsamples = 1\\nvalue = [0, 1]'),\n",
       " Text(0.15296204682307674, 0.7166666666666667, 'gini = 0.0\\nsamples = 2\\nvalue = [2, 0]'),\n",
       " Text(0.16100742073307847, 0.75, 'x[5] <= 43.5\\ngini = 0.444\\nsamples = 81\\nvalue = [27, 54]'),\n",
       " Text(0.16060765060090448, 0.7166666666666667, 'gini = 0.0\\nsamples = 3\\nvalue = [3, 0]'),\n",
       " Text(0.1614071908652525, 0.7166666666666667, 'x[1] <= 0.217\\ngini = 0.426\\nsamples = 78\\nvalue = [24, 54]'),\n",
       " Text(0.16060765060090448, 0.6833333333333333, 'x[2] <= 5.5\\ngini = 0.46\\nsamples = 64\\nvalue = [23, 41]'),\n",
       " Text(0.16020788046873047, 0.65, 'x[5] <= 235.0\\ngini = 0.448\\nsamples = 62\\nvalue = [21, 41]'),\n",
       " Text(0.15870874247307798, 0.6166666666666667, 'x[11] <= 0.5\\ngini = 0.477\\nsamples = 51\\nvalue = [20, 31]'),\n",
       " Text(0.156909776878295, 0.5833333333333334, 'x[1] <= 0.201\\ngini = 0.408\\nsamples = 35\\nvalue = [10, 25]'),\n",
       " Text(0.156110236613947, 0.55, 'x[3] <= 25.0\\ngini = 0.358\\nsamples = 30\\nvalue = [7, 23]'),\n",
       " Text(0.15571046648177297, 0.5166666666666667, 'gini = 0.0\\nsamples = 2\\nvalue = [2, 0]'),\n",
       " Text(0.15651000674612098, 0.5166666666666667, 'x[5] <= 218.5\\ngini = 0.293\\nsamples = 28\\nvalue = [5, 23]'),\n",
       " Text(0.15571046648177297, 0.48333333333333334, 'x[5] <= 170.5\\ngini = 0.211\\nsamples = 25\\nvalue = [3, 22]'),\n",
       " Text(0.155310696349599, 0.45, 'gini = 0.0\\nsamples = 12\\nvalue = [0, 12]'),\n",
       " Text(0.156110236613947, 0.45, 'x[5] <= 180.5\\ngini = 0.355\\nsamples = 13\\nvalue = [3, 10]'),\n",
       " Text(0.15571046648177297, 0.4166666666666667, 'x[1] <= 0.178\\ngini = 0.375\\nsamples = 4\\nvalue = [3, 1]'),\n",
       " Text(0.155310696349599, 0.38333333333333336, 'gini = 0.0\\nsamples = 3\\nvalue = [3, 0]'),\n",
       " Text(0.156110236613947, 0.38333333333333336, 'gini = 0.0\\nsamples = 1\\nvalue = [0, 1]'),\n",
       " Text(0.15651000674612098, 0.4166666666666667, 'gini = 0.0\\nsamples = 9\\nvalue = [0, 9]'),\n",
       " Text(0.15730954701046898, 0.48333333333333334, 'x[3] <= 35.0\\ngini = 0.444\\nsamples = 3\\nvalue = [2, 1]'),\n",
       " Text(0.156909776878295, 0.45, 'gini = 0.0\\nsamples = 1\\nvalue = [0, 1]'),\n",
       " Text(0.15770931714264297, 0.45, 'gini = 0.0\\nsamples = 2\\nvalue = [2, 0]'),\n",
       " Text(0.15770931714264297, 0.55, 'x[0] <= 0.45\\ngini = 0.48\\nsamples = 5\\nvalue = [3, 2]'),\n",
       " Text(0.15730954701046898, 0.5166666666666667, 'gini = 0.0\\nsamples = 2\\nvalue = [0, 2]'),\n",
       " Text(0.15810908727481698, 0.5166666666666667, 'gini = 0.0\\nsamples = 3\\nvalue = [3, 0]'),\n",
       " Text(0.160507708067861, 0.5833333333333334, 'x[0] <= 0.25\\ngini = 0.469\\nsamples = 16\\nvalue = [10, 6]'),\n",
       " Text(0.159708167803513, 0.55, 'x[5] <= 198.0\\ngini = 0.408\\nsamples = 7\\nvalue = [2, 5]'),\n",
       " Text(0.15930839767133897, 0.5166666666666667, 'x[5] <= 160.5\\ngini = 0.278\\nsamples = 6\\nvalue = [1, 5]'),\n",
       " Text(0.158908627539165, 0.48333333333333334, 'x[5] <= 105.5\\ngini = 0.5\\nsamples = 2\\nvalue = [1, 1]'),\n",
       " Text(0.15850885740699097, 0.45, 'gini = 0.0\\nsamples = 1\\nvalue = [0, 1]'),\n",
       " Text(0.15930839767133897, 0.45, 'gini = 0.0\\nsamples = 1\\nvalue = [1, 0]'),\n",
       " Text(0.159708167803513, 0.48333333333333334, 'gini = 0.0\\nsamples = 4\\nvalue = [0, 4]'),\n",
       " Text(0.16010793793568698, 0.5166666666666667, 'gini = 0.0\\nsamples = 1\\nvalue = [1, 0]'),\n",
       " Text(0.16130724833220897, 0.55, 'x[5] <= 59.0\\ngini = 0.198\\nsamples = 9\\nvalue = [8, 1]'),\n",
       " Text(0.16090747820003498, 0.5166666666666667, 'gini = 0.0\\nsamples = 1\\nvalue = [0, 1]'),\n",
       " Text(0.16170701846438298, 0.5166666666666667, 'gini = 0.0\\nsamples = 8\\nvalue = [8, 0]'),\n",
       " Text(0.16170701846438298, 0.6166666666666667, 'x[1] <= 0.139\\ngini = 0.165\\nsamples = 11\\nvalue = [1, 10]'),\n",
       " Text(0.16130724833220897, 0.5833333333333334, 'gini = 0.0\\nsamples = 1\\nvalue = [1, 0]'),\n",
       " Text(0.16210678859655697, 0.5833333333333334, 'gini = 0.0\\nsamples = 10\\nvalue = [0, 10]'),\n",
       " Text(0.16100742073307847, 0.65, 'gini = 0.0\\nsamples = 2\\nvalue = [2, 0]'),\n",
       " Text(0.1622067311296005, 0.6833333333333333, 'x[5] <= 57.5\\ngini = 0.133\\nsamples = 14\\nvalue = [1, 13]'),\n",
       " Text(0.16180696099742647, 0.65, 'gini = 0.0\\nsamples = 1\\nvalue = [1, 0]'),\n",
       " Text(0.16260650126177448, 0.65, 'gini = 0.0\\nsamples = 13\\nvalue = [0, 13]'),\n",
       " Text(0.1752367388751468, 0.7833333333333333, 'x[11] <= 0.5\\ngini = 0.181\\nsamples = 476\\nvalue = [48, 428]'),\n",
       " Text(0.17048946855558053, 0.75, 'x[6] <= 0.5\\ngini = 0.129\\nsamples = 317\\nvalue = [22, 295]'),\n",
       " Text(0.16710391524873197, 0.7166666666666667, 'x[1] <= 0.017\\ngini = 0.205\\nsamples = 95\\nvalue = [11, 84]'),\n",
       " Text(0.16670414511655798, 0.6833333333333333, 'gini = 0.0\\nsamples = 1\\nvalue = [1, 0]'),\n",
       " Text(0.167503685380906, 0.6833333333333333, 'x[1] <= 0.243\\ngini = 0.19\\nsamples = 94\\nvalue = [10, 84]'),\n",
       " Text(0.166104489918297, 0.65, 'x[5] <= 175.0\\ngini = 0.162\\nsamples = 90\\nvalue = [8, 82]'),\n",
       " Text(0.16450540938960098, 0.6166666666666667, 'x[10] <= 1.5\\ngini = 0.263\\nsamples = 45\\nvalue = [7, 38]'),\n",
       " Text(0.163306098993079, 0.5833333333333334, 'x[5] <= 171.0\\ngini = 0.426\\nsamples = 13\\nvalue = [4, 9]'),\n",
       " Text(0.16290632886090498, 0.55, 'x[1] <= 0.121\\ngini = 0.298\\nsamples = 11\\nvalue = [2, 9]'),\n",
       " Text(0.162506558728731, 0.5166666666666667, 'gini = 0.0\\nsamples = 4\\nvalue = [0, 4]'),\n",
       " Text(0.163306098993079, 0.5166666666666667, 'x[1] <= 0.141\\ngini = 0.408\\nsamples = 7\\nvalue = [2, 5]'),\n",
       " Text(0.16290632886090498, 0.48333333333333334, 'gini = 0.0\\nsamples = 1\\nvalue = [1, 0]'),\n",
       " Text(0.16370586912525298, 0.48333333333333334, 'x[5] <= 89.5\\ngini = 0.278\\nsamples = 6\\nvalue = [1, 5]'),\n",
       " Text(0.163306098993079, 0.45, 'x[4] <= 0.5\\ngini = 0.5\\nsamples = 2\\nvalue = [1, 1]'),\n",
       " Text(0.16290632886090498, 0.4166666666666667, 'gini = 0.0\\nsamples = 1\\nvalue = [0, 1]'),\n",
       " Text(0.16370586912525298, 0.4166666666666667, 'gini = 0.0\\nsamples = 1\\nvalue = [1, 0]'),\n",
       " Text(0.16410563925742697, 0.45, 'gini = 0.0\\nsamples = 4\\nvalue = [0, 4]'),\n",
       " Text(0.16370586912525298, 0.55, 'gini = 0.0\\nsamples = 2\\nvalue = [2, 0]'),\n",
       " Text(0.16570471978612297, 0.5833333333333334, 'x[3] <= 45.0\\ngini = 0.17\\nsamples = 32\\nvalue = [3, 29]'),\n",
       " Text(0.16530494965394898, 0.55, 'x[1] <= 0.072\\ngini = 0.278\\nsamples = 18\\nvalue = [3, 15]'),\n",
       " Text(0.16490517952177497, 0.5166666666666667, 'gini = 0.0\\nsamples = 1\\nvalue = [1, 0]'),\n",
       " Text(0.16570471978612297, 0.5166666666666667, 'x[5] <= 141.5\\ngini = 0.208\\nsamples = 17\\nvalue = [2, 15]'),\n",
       " Text(0.16530494965394898, 0.48333333333333334, 'x[5] <= 138.0\\ngini = 0.375\\nsamples = 8\\nvalue = [2, 6]'),\n",
       " Text(0.16490517952177497, 0.45, 'x[4] <= 0.5\\ngini = 0.245\\nsamples = 7\\nvalue = [1, 6]'),\n",
       " Text(0.16450540938960098, 0.4166666666666667, 'gini = 0.0\\nsamples = 5\\nvalue = [0, 5]'),\n",
       " Text(0.16530494965394898, 0.4166666666666667, 'x[1] <= 0.198\\ngini = 0.5\\nsamples = 2\\nvalue = [1, 1]'),\n",
       " Text(0.16490517952177497, 0.38333333333333336, 'gini = 0.0\\nsamples = 1\\nvalue = [1, 0]'),\n",
       " Text(0.16570471978612297, 0.38333333333333336, 'gini = 0.0\\nsamples = 1\\nvalue = [0, 1]'),\n",
       " Text(0.16570471978612297, 0.45, 'gini = 0.0\\nsamples = 1\\nvalue = [1, 0]'),\n",
       " Text(0.166104489918297, 0.48333333333333334, 'gini = 0.0\\nsamples = 9\\nvalue = [0, 9]'),\n",
       " Text(0.166104489918297, 0.55, 'gini = 0.0\\nsamples = 14\\nvalue = [0, 14]'),\n",
       " Text(0.16770357044699297, 0.6166666666666667, 'x[0] <= 0.85\\ngini = 0.043\\nsamples = 45\\nvalue = [1, 44]'),\n",
       " Text(0.16730380031481898, 0.5833333333333334, 'x[3] <= 35.0\\ngini = 0.198\\nsamples = 9\\nvalue = [1, 8]'),\n",
       " Text(0.166904030182645, 0.55, 'x[10] <= 2.5\\ngini = 0.444\\nsamples = 3\\nvalue = [1, 2]'),\n",
       " Text(0.16650426005047098, 0.5166666666666667, 'gini = 0.0\\nsamples = 1\\nvalue = [0, 1]'),\n",
       " Text(0.16730380031481898, 0.5166666666666667, 'x[1] <= 0.136\\ngini = 0.5\\nsamples = 2\\nvalue = [1, 1]'),\n",
       " Text(0.166904030182645, 0.48333333333333334, 'gini = 0.0\\nsamples = 1\\nvalue = [0, 1]'),\n",
       " Text(0.16770357044699297, 0.48333333333333334, 'gini = 0.0\\nsamples = 1\\nvalue = [1, 0]'),\n",
       " ...]"
      ]
     },
     "execution_count": 19,
     "metadata": {},
     "output_type": "execute_result"
    },
    {
     "data": {
      "image/png": "[encoded data removed]",
      "text/plain": [
       "<Figure size 640x480 with 1 Axes>"
      ]
     },
     "metadata": {},
     "output_type": "display_data"
    }
   ],
   "source": [
    "%%time\n",
    "\n",
    "tree.plot_tree(clf)\n"
   ]
  },
  {
   "cell_type": "markdown",
   "id": "deb2e992",
   "metadata": {},
   "source": [
    "En este paso se emplea el clasificador de Árbol de Decisión ('DecisionTreeClassifier') para entrenar un modelo de árbol de decisión. Se entrena el clasificador con el conjunto de datos de características 'X_train_sel_und' y las etiquetas correspondientes 'y_train_sel_und'.\n",
    "\n",
    "Posteriormente, se utiliza el modelo entrenado para realizar predicciones en el conjunto de validación ('X_val_sel'), almacenándose dichas predicciones en la variable 'y_pred':"
   ]
  },
  {
   "cell_type": "code",
   "execution_count": 23,
   "id": "83433b41",
   "metadata": {},
   "outputs": [],
   "source": [
    "tree = DecisionTreeClassifier().fit(X_train_sel_und,y_train_sel_und)\n",
    "y_pred = tree.predict(X_val_sel)"
   ]
  },
  {
   "cell_type": "markdown",
   "id": "49e03d7c",
   "metadata": {},
   "source": [
    "Por último, se guarda con el módulo pickle el modelo de árbol de decisión entrenado en un archivo llamado 'modelo_decision_tree_sel.pkl'"
   ]
  },
  {
   "cell_type": "code",
   "execution_count": 24,
   "id": "7e5d6903",
   "metadata": {},
   "outputs": [],
   "source": [
    "with open('modelo_decision_tree_sel.pkl', 'wb') as file:\n",
    "    pickle.dump(tree, file)"
   ]
  },
  {
   "cell_type": "markdown",
   "id": "1c4d12c6",
   "metadata": {},
   "source": [
    "# BAYES"
   ]
  },
  {
   "cell_type": "markdown",
   "id": "b1ae931a",
   "metadata": {},
   "source": [
    "Los métodos Naive Bayes son algoritmos de aprendizaje supervisado basados en el teorema de Bayes, con la suposición de independencia condicional entre cada par de características dadas las clases y utilizan el teorema para predecir la probabilidad de una clase dada un conjunto de características. Se utilizan para actualizar las creencias sobre los parámetros del modelo a medida que se observan nuevos datos. Esto es especialmente útil cuando se tiene poca información y se desea incorporar conocimiento previo en el modelo. [Información adicional](https://scikit-learn.org/stable/modules/naive_bayes.html)\n",
    "\n",
    "\n",
    "![imagen](https://iq.opengenus.org/content/images/2020/02/Screenshot_1.jpg)"
   ]
  },
  {
   "cell_type": "markdown",
   "id": "d18e2032",
   "metadata": {},
   "source": [
    "En este caso se ha empleado \"GaussianNB\" que implementa el algoritmo Naive Bayes Gaussiano para clasificación asumiendo que la probabilidad de las características sigue una distribución Gaussiana."
   ]
  },
  {
   "cell_type": "code",
   "execution_count": 25,
   "id": "9323a1ff",
   "metadata": {},
   "outputs": [
    {
     "name": "stdout",
     "output_type": "stream",
     "text": [
      "CPU times: total: 0 ns\n",
      "Wall time: 0 ns\n"
     ]
    }
   ],
   "source": [
    "%%time\n",
    "\n",
    "naive_bayes_model = GaussianNB()"
   ]
  },
  {
   "cell_type": "markdown",
   "id": "6461af2a",
   "metadata": {},
   "source": [
    "Primero se realiza el ajuste del modelo con los datos de entrenamiento de 'X_train_sel_und', 'y_train_sel_und'. En segundo lugar, se realizan las predicciones en los datos de validación de 'X_val_sel':"
   ]
  },
  {
   "cell_type": "code",
   "execution_count": 26,
   "id": "294c5cba",
   "metadata": {},
   "outputs": [
    {
     "name": "stdout",
     "output_type": "stream",
     "text": [
      "CPU times: total: 46.9 ms\n",
      "Wall time: 52 ms\n"
     ]
    }
   ],
   "source": [
    "%%time\n",
    "\n",
    "naive_bayes_model.fit(X_train_sel_und, y_train_sel_und)\n",
    "y_pred = naive_bayes_model.predict(X_val_sel)"
   ]
  },
  {
   "cell_type": "markdown",
   "id": "5aef9e7b",
   "metadata": {},
   "source": [
    "Por último, se guarda con el módulo pickle el modelo de Bayes entrenado en un archivo llamado 'modelo_naive_bayes_sel.pkl'"
   ]
  },
  {
   "cell_type": "code",
   "execution_count": 27,
   "id": "4483ab16",
   "metadata": {},
   "outputs": [],
   "source": [
    "with open('modelo_naive_bayes_sel.pkl', 'wb') as file:\n",
    "    pickle.dump(naive_bayes_model, file)"
   ]
  },
  {
   "cell_type": "markdown",
   "id": "861a1ddf",
   "metadata": {},
   "source": [
    "# SUPPORT VECTOR MACHINE"
   ]
  },
  {
   "cell_type": "markdown",
   "id": "4367cdcb",
   "metadata": {},
   "source": [
    "Una Support Vector Machine (SVM) es un modelo de aprendizaje automático supervisado utilizado para clasificación, regresión y detección de valores atípicos. Su objetivo principal es encontrar un hiperplano en el espacio de características que maximice la separación entre instancias de diferentes clases. SVM se utiliza en una variedad de aplicaciones y es especialmente útil cuando se busca un límite de decisión claro entre clases en conjuntos de datos.\n",
    "[Información adicional](https://scikit-learn.org/stable/modules/svm.html)\n",
    "\n",
    "\n",
    "![Imagen](https://datatron.com/wp-content/uploads/2021/05/Support-Vector-Machine.png)"
   ]
  },
  {
   "cell_type": "markdown",
   "id": "074c90f0",
   "metadata": {},
   "source": [
    "Debido al alto coste computacional de este modelo y después de intentar ejecutarlo en la totalidad del conjunto de datos sin éxito decidimos que únicamente se va a emplear un 15% de 'X_train_sel_und' para este algoritmo. El modelo requeriría de demasiado tiempo de ejecución si se empleara la totalidad del x de entrenamiento, y además, al únicamente emplear un porcentaje reducido del entrenamiento no podemos extrapolar el resultado para el conjunto de datos y por tanto, no podremos seleccionar como modelo ganador a SVM en nuestro proyecto.\n",
    "\n",
    "Se utiliza SVC que es la clase que implementa Support Vector Classification en Scikit-learn para clasificación:"
   ]
  },
  {
   "cell_type": "code",
   "execution_count": 28,
   "id": "b6d37ba8",
   "metadata": {},
   "outputs": [
    {
     "name": "stdout",
     "output_type": "stream",
     "text": [
      "CPU times: total: 0 ns\n",
      "Wall time: 0 ns\n"
     ]
    }
   ],
   "source": [
    "%%time\n",
    "\n",
    "percentage_to_use = 0.15\n",
    "subset_size = int(len(X_train_sel_und) * percentage_to_use)\n",
    "\n",
    "svm_classifier = SVC()"
   ]
  },
  {
   "cell_type": "markdown",
   "id": "459773f7",
   "metadata": {},
   "source": [
    "Primero, se realiza el entrenamiento del modelo con 'X_train_sel_und' e 'y_train_sel_und'; en segundo lugar, se realizan las predicciones sobre el conjunto de validación de 'y_val_red':"
   ]
  },
  {
   "cell_type": "code",
   "execution_count": 29,
   "id": "28f1a59b",
   "metadata": {},
   "outputs": [
    {
     "name": "stdout",
     "output_type": "stream",
     "text": [
      "CPU times: total: 36.2 s\n",
      "Wall time: 1min 29s\n"
     ]
    }
   ],
   "source": [
    "%%time\n",
    "\n",
    "svm_classifier.fit(X_train_sel_und, y_train_sel_und)\n",
    "\n",
    "predictions_svm = svm_classifier.predict(X_val_sel)"
   ]
  },
  {
   "cell_type": "markdown",
   "id": "2fcacf9d",
   "metadata": {},
   "source": [
    "Por último, se guarda con el módulo pickle el modelo de SVM entrenado en un archivo llamado 'svm_model_sel.pkl'"
   ]
  },
  {
   "cell_type": "code",
   "execution_count": 30,
   "id": "8435fa2b",
   "metadata": {},
   "outputs": [],
   "source": [
    "with open('svm_model_sel.pkl', 'wb') as model_file:\n",
    "    pickle.dump(svm_classifier, model_file)"
   ]
  },
  {
   "cell_type": "markdown",
   "id": "e514a786",
   "metadata": {},
   "source": [
    "# BAGGING\n",
    "\n",
    "En el bagging, se selecciona de manera aleatoria una muestra de datos del conjunto de entrenamiento con reemplazo, lo que implica que los puntos de datos individuales pueden ser elegidos más de una vez. Después de generar múltiples muestras de datos, se entrenan modelos débiles de forma independiente. Dependiendo del tipo de tarea, ya sea regresión o clasificación, se obtiene una estimación más precisa al promediar o tomar la mayoría de las predicciones generadas por estos modelos. \n",
    "[Información adicional](https://www.ibm.com/es-es/topics/bagging)\n",
    "\n",
    "![Imagen](data:image/png;base64,iVBORw0KGgoAAAANSUhEUgAAAWsAAACLCAMAAACQq0h8AAAB+FBMVEX/AP9mAJnMAP/+AP7LAP9lAJnMAP7////y8vJhAJf/0v/10v/j0uy+APH5AP9kAJvOnK1eAJLy9fHmnfvz9/HVWPOlccL0+vJhAJ3uyPiql4XOobLNtNuqoYb6YvGlf7KJUqbz8PTNVdqOY47QLPn5avDRN/jcg+rXY/Hgefyu0wDngLzNcdibba79K/r7TfWVZKyPXKl5LKGtjLZ9OaLUUfTeiujx4/X8QfeFSKXoxtv6WPP3iOrade5tI474eO2FWpF2JJ/TSvX2svbmv935efnPvsXyv931m+Xzs+DSLvfluN6u0ByHbmp5M6CXl1GgrkGktjj3m/fhouS7oLy0mrjipePbeuz4guzGscGNf2PgmOXrvvi8m9DHMd99U3nBo9OboEurySm+eKPDVcNtGI31l+bpzdrWy8j1oeTjq+G2pmnAZ7S9gpq6jIdwLYqBYXPVweDJ2HyziMrQ8W91PoWTlFu0slucf4rCWb2xyDqBWXDsSNDyNN+5mHzps/i5u0Z4RH7d2Mq/ba+2oGyLdmWRhVe6kIK1rWDHJ93GQNbPxo+EZm20sYPPsJynr1PG0n7NXty25Qv7/9nb27ufiYnhZbXlWsB4PpTWf5qKYpDTiZLT63rEpmjOkYXInnXjYLnVzInOlLy8qkTpUMfVgprOo6vAZqusSAOjAAAgAElEQVR4nO19+0MTV9p/ZnJmyizokBAgui4QG0OIS7gFQuRiE5QqRCQKIjfRKBYviJaiNV7wXmXtdtd929rt7d13u/v+m99znnOZM5cE7Ha7P3zfUyHPXDIpn3nynM9zO+N77//GrzV8/+n/gf+Pxv9h/esN32/+U6P6PzVq/lPDV2b4nZv4Pzx87If88rkFeLEEXwVhN/oPjV0B4z80yiPt91sCyICoJMl7rEMUUHp3JMFvF/y+3TpSdVUn/2QBMUEayLa144FsAhJ7dgUUTVPgRwial2Bo0h6NCuQYE0FQlB0IcDJ+k5cSM1gcR/xir58JVEd9/n4fE/x+DqhL8DmF3QRU/J9KYSbwUkGnAv6tIvIbxaIqPY/uVEEkW1Hk2EPgdAqqU8BYVx4ae82UOWQoWjaruQ9KJ2meggfQ5Qc7tanJtrd/xDrB7xCkmyYJRNzNoAaldgkSuGi+FVHQiV7qIKvEGORaEbyKQ3CT6C8qqF57AGuu1ELrXIKmjCoGaKVhaPCbHMPiRI9hNHcZRIY9hnV3thG8DHMZmOFfcoBalGRHkmz29zOs8abfZjp8luBxD3z+3ez7zewFYrqnWkqoUwHN9+ViBND6HIYU5XoJvr05RPQa6fXkEMrVM0MDNogK7P2WwK64K+AJhFsVR1NdWIcNpSVlYERbMvh3tiurdI5OKFmMcXdXlgCO97NbpHjdNEUSyiqwEy+KUtOes6d8Rw/7Tu05tWfQ5184dWqBYO3fc2rhFFd8YZt9dsF+4d1e33DdwloIqO+jvvGrCM2fvnoEoSOn5w/p+kfzV6+i+jOo9aPTR84gNH5m/iNhONTKwvY2hI8nUz1PMkbmSc/srJF9Mj21YrSs9Ewps0+mlelmY3Z0aqXZUFam8VFNvkvl1Vtg60KJ22RpUvP5Th3FEsZ6BOvzHl8TxnckibE+ewBvSnrsfL+HsFvlX2onuOKbz4z2/AyGmOiwPl4fn8fI5lqxVTmi955Gp3uJEMN34moOiW+CU9BlYedYjxpGatYYnTCM2cxUu2H0NPdg80H2GRhrbGGyKwbZM2pBWnnI2red6SamY2ThqE9gffQow3pk5NSp6n4JZxe0LsONeYiOgGPoqltAHBm8g9jr0736maunP2qbmSFYn65HKsW6ntwGcgMw1oxo6KqXYN1LgbXjm+8UsL3WsqPGCrYTPZ2zGPHOWWVqtMfIMKyzRveoMduJsa40UTqw3sGQrLh/T5Ji7d/jG+B6feqoP+kXqPpkeDnHc7JsgjXYV8QEJAt0BqSTYB/GejxafxqbkTby+6qk14B1bByhMzlgdZzoVRAsrDX+3fcS8NyIbfIswdSYapntMkCHlZVuG9ag19ntjAe7KkPD77dBapE6ts39mANnD1RTG+LHWPtHjp1KE6yT1UePnhJv8RCYKZLg361SdgG6bON/nI/QPXji+6it7wiKfjQz9NGYfuTq6Sc5/aPTZ57o2F6fjiP9UBSNj88/ySHV/lZL0PnlgVBSHuKFim2fZsxOt4+2G50r7T0rSupJc/MTpb2n/YmSXWlXpijWKxj7qakn4vtQ4VuiAQ+xqIH1lXcxYq6Y/gNHMRdJ+jrwng58ajI5kiSC/+jRZBkX0e8pAOfjACCdk2xJEBQbxWbi5H7MzJDbEouOYz6Six7Rozn8gtRe/C2IRYW9RsJMI274ETcfcIzrtQfadsnoaiYMZKK5E/s12eZ2TEnam7sNI9OsZCaMFvy+FnwglR21PBcHuHZB2JAdsWzXSU0DR/e8Az+Xx25Vdgfd06M0EP3+w0u8fgjzkKH61nGyicBIo3gc7yx/qTL2etthME5NeAbl0UQkv/AL2Yl/2rt6Zo1tTAgXdowNdxZtQtPg4aS8x/ZdqCSU8WWQZDu8BAzrfGsU6UPzM8LfgZ19MWQ/sbywc6x3MLTm6eadTo2Kt77++webG9VfNewEd5RhLQeFtH9TsElclxoT9qcfPny8/1D/8cODVwY+7P+w6fKVDrx1YPBYE94aOHa56cPkhwOXLx843vFhx5XBA8eTh/DLYbJ1/OxZ+s6zsAUXSH54YPAK2Tpwmbzz0MCxY/Sq+J39hwbOwifuBvOJWoeu5g7lrva1HRk70nsab/UeiY3PzIzH8M6Z1jO947HxeN+Z3KGx8ba+0/XjufH4/Hwcn0te8Fb96b628bFDuTP4JXek/kzrDL4cvcCR3qtDrad78bltffAZ2Oojrtea0dWDmVxqJTM13bWSHe2a7mmfzYxmZnvaR7tHM1PNZCs129yMT4GXFnysvWeqBR+Fl8xs5/R0J97qmp7uGs2Mdk3hC+DLkQukRlum8FsyKxOjzc14q6sHnH1uQ/qTv55G+5kvQ+c9nSud6hZU/dX+u3f3vyLG5RfQahoOoHqtTXS79E+8hI3A26Wb9zaWjbBZVlc9tsoMhVoZjRGPwx0eiEiCzSH0FPw7OAeEA4fBbEM8REczMW5LHS47fr17LZ8vPHpUyOdfXt+lOqOkNqHCUZ1HVVttet3ZZfA5S5EETTHDw3OFfLFQKBTzpdsbpmmdUdkwl5sZ8VfIYPYacDggO31ux287AN/F4CfpV4jyEDQ0Vg6k66XS6laU8Lfo1mqp9BRmTu6R6NzX2YGAaEAKE0Oi2xC/JgC0GJ5c2Fy+nZ888RYLpjJ870J+ciOs2SDclpm7hGwK+AyP87ltiAtSR/DfWxCxVPlr4bcJA00g7wYmjXK6FYFTrZCGqr/MPwXx3N9h83rxTtQ7Hi0EYXk8yAdBPt4r25DUhCcu4SWMrmmaGvENMd7DtxNzpk2fXeE7xQgEApQYug4Rwci0GzLnGxxwAO2yDHKa5l0FvyT4OgZ8NC8DNGQ+hnh6QLUE9VXx5S6GEeNx+rP8OdUbZRbXzrXOb9YNRbl7L4e2gIHU58BTp1gbze2GhyaGTyROmKalwZoWflu8UMF4aEYgu35+3/nFjBEoc5aW6eQ2BFBJWlbg300A+6m5YjYkqnuZkFf5G7rYRdNX8/pq4pw9oYX4W4hX2ZpubAzh/xpr2hDysksoF+N6TUDMuoLWWAfDz/OPw8yYaDQQrc1dKE5avp9jGEZDzXuhIB6NkcWs4f6ekN8TLRLWoNeWXfa01zsY3hZEXJaNpgMUa+rAYCdE59OXEHYVnu0CHdQpGwELoKurxTF2Bk2YWQLqTTdW4VEXqqoKNu6JInY3dNUS0FC98NGxb93ebsjfdkDWXEo8NhnERLnxL/Pxm8SLwu2w5hmfNrK3QkH8kefT+MODkQZDcdw/8ttoaWb2milbUsLDAyoXZBWEbYY1N0JGRbcpH315du3iZ1SK9pJ9sS166NpLj5PJTYlHggTqqnpAPJSOySrPhWhUtdlrl2utLedvnjxJYxhrSwStx8vmcDGxNJy/GfZQWMWYSMPnBtfT8PFV6wEvi52d0ATWfspDbHTCPTVuL1jRQsce223DnM8HfiOgjHmIM8Kv/jkxpkdBy1Fsnrjtly4y5PN3VSmLwKgGnmCryJ9MFLqmEaR0FNHsvEqTYNRtihNCX4GHhL+4EH4xByiFL+Sx+TVfbGBesqaFX+cD0qk81GRkKdShdGqxioLeEBBZTGF3JM5HAeCcr9L4ZSy50GvQtqGo6hqFVUtxufLS23Cx4BWb0tPBYCjUWB2vi7TGaxpDoWBowaPOIRqVeAjF2jbMjcSySeg08amHHxOYTGxLCOUzS3Nhl63WjH3BKvzJ6Yb1yK2WfVgMVkW6nVdVuF6L3G4H53wOffa/M8JljIsw/8Re09gTJMB7o/ZcGP7ZSgAFQfoZruj4zGf7AafiJT476kzAClzXGFxorauvi4TwDDUUr2utDjbWI1XKNwC/xvaa8WtiJFIpu+nFunzyZJhoo9GJ7atmMpt7+wXeZd4ruqdGo6WqqmZ9vaEhEsLfqVup9fXzweCtgNOCcHst9PrsgAOgd7fDlZCWhQ76UbtVNjcKpeXCjWdsI85etwjK9JyHD13qivR0VbBtobpuaA/W6IW2zeq6ulBwj0uxgfNZet3e6dBALVB8DD6ilqIqj914TXv7JhEggOUfc//RotW3gsF9i+ma9cVIMFizfj5d04AVe8JwYq2lOOejmptMurBx47xjN7y84KecD9vx3VTjYsIjF4AXrnN06EvsoWU47pbcWMexWrWlQ6F0Xdtm23wkFNqD6UjIbWxyMQlrrdseCsW6u1HEu4i7qFFojGai3ydeE5DDk3OmYj9fUyJVwX37sOGoaVgEvCMY6+C6y4jYOJ+f+zL+ynrtqeFenroj1m1zLWFu9AvON884H7UfiJQ4JV5hO3JJ1nQmIEK87fYd+/CoDrCm/CNCSB/BmhgRewQckeyOyMtwzqewxEnADL8uEABP3CPWI0zsNqQfiWBq4bkLpmRyNC1rGpkgYI0/sKqhhkyNgPUtw2lsjBZ7PMTlo3u46O8oOAy+JSSpvaa0OcaTXVSRa/+wNZbAG/vvcqCtCiYUv4p25V/Z3Jk/f/x7fTNIscYWpL4RqxlgHWpF9uQXdZuQpdfdAjc8Ayof/07BcGrm3Js3G6YWuFB8bSocXPPC4/DNgqlJw/z887cNIYo19mPW8ezMsK5xT44szsdyu1ac7+fz5p3eCMr5uL1u5fb6ei0Zf/jkkz8mLLXFZE/n+XHM7/A8WvxjrTz+iM+vBqyDVZubm7HNzQWGdR3L8zAHHv8Qzmf56J1dVAHNT/eS8d0nH3+BPRbzxJvEmmm+fpMoBqyM4XLAXCrutY0/ffLdShXBOoRt9mJmfXExwrC2XExN4nxSPARzPr+Tdby7alsJc7vglwQ6NfghL6MD56M1krUQov6fP+x/ldAR10bsxMBuqG0ATQe9RiyeraI//+n3+gKxIdXpmt49ZGC3hum1zkN9VCA1mMiyIYLzmWQof9qbfXGSqPLSBnEWE28K4DZyp9JcKoVNaYQ//3wD9Hq9piZTk8ZjvSbI9NoZ9tOyKUPO7XYkbYhu48m4nXjPwl9PgcT5qL0GF7w3CgUL2HpA5cIY/peIynlDPPdxc0DsM8ZatuTRXdRe17Xh0UjGDMW6Mc7LKYW1b+uV7DXmfJoMyLAZnvvCVKh91rSl58PYJp8Y5q62+XqS2xSK37BmpLDZSC8uLqaqQtiMnK+her3PcIb7ysf5ZJPxyzgvjtFBzRWLPc3HGIq1AtzElp1nxKDM5hyAtpV38QvUhh1z7FJExgjebfVB4CGNupP0Yc4n+zIiHiKs9r0ShUajyq6EX7y5gAn3Gjkcvn3SwUPwWRHiKWJj3UBGJg16HWK4WnfRxvngi82dane8yC9sw44Ev6jOLiNgzkcEmpfRo7xespb5M7r6kriN0f1Ce2nB7/fniPz0C6HSQtBZMIQwARgLmF9Xc0dGFR6NnfO5Sqi1tfww8aw72aSJLUnpJgZ4krjnZuG1HWtyU/bRz8X+YgQbkZqamgb8f+C8rI3zAQyDLl/GY/wr7NqaCqw4n12vhR4+LRA1psEn/UhUlOSRnzurqkRNGD+Zb2RQh3LxejIWQsKEWDeGxvmcei3bVYynZrT/5YlBzPmsoZhhoH8a3Ic1t9+Y4rc4uN6AbcniOvbTz7srIiy/kSLQnxRYeMMt5VfEedsJXvVmfG4EzodonA/c7VqVh0B3yUbEbjLOWeZaMg56RGANMexQMFTtLvRBY7Y430S3EzzzecHEAD6ZNqSQKB3hF5MutcYgnmdfqNB6GmLY2G3MynePCdkUj/NRB8OZ23Wp507HthpOc7s+ntsdY3pbayWvHr6EHI1OS8aYAAG7h8/YHsQPgZHBniOMdIzFOCMxpPMCHy4QX8aq5+M8RIoza4H8EgZbMyS4aLkTPeIamlJDwY5kFtndzngkjA2oWVBsuV0bAfFCsBwFEYKojbQEdsgvBKzX8I7dVKGHoqx0rxaoMIA6lrjLfRC+a9ffCWL7SWaG7uFdGzQKPgNWJLgHVUNItaoenFHEXUeaOohGQWA2pKXFNYmFnxdZSkAj1gNCr51PsAEOn5wMSwgLlmEoNfQup87Tz20QkSdNOjU7YbDaSfivw8oVlIG7jJq6mZ/PLwmW8RFwg70GG0L4dW+UedK1Ko9LI/U6wxT19SLmOxLbEU1cFEbaYbLjxDnHDgz53ZiOITluyM8ZqofdIs6nWSgzwZychFwj9huZHhtdK1ktfCK/7KHW5LBxHgLXaWzFgqGalIfPqLjjfB1e+ap3NSA7yCcA5wMbQgEQhXi1sm29UYJbgOrHaMkk1e1HD1XEUwX2hgGEopsRbKjxv1C6Tue1fZzjUGtE+m10vUycjwIfKL6A3Ndw8QSJYwOaWnjJbUHELQpk9sFsEYrUrGueFScS56OQJh3xkJ8N9/ZD5HbBSMR0wa+Rhbb+rHiO2xDUR3nxq8JLoaiqS8Bot80v7Fmoi+sibm3PuqPemJVv5PEQR3LQfFs8qZjMCmSnITyKtfqE6UDYYuXEoLeP/tdoQ8rwVGpF5nwUzMEBn1Qk7ROCT4TqXP6330MQNfHlBcgV8L4Cncf5gF9zNSU/qwkaWSUVv0D7ruc/Y3yCh+4k/xs2pdI0JJW8cgHNcM4HHku72+kgYA8XCmthE5Lo2U6SWQ+c9JwXCcymqQ3/9dMv9376wVqgLNJOG+J35nadXM2jzsOKcfDjwg/yc2boLfAcGHzDY7wnrlZFkh4i9W7+0V2L8O1/lOBR7XKava0QpbIzzmdXV1O5nTi5FmbBj3Dgeb4w7IIaYM5+8OXevV9+kApopmZVyXvdFSvOB/Ac7rBw+tfGzjkfKGArs9eI22vE1FnVLxYTz57uP3du6+mzfH51FwetclVf+UHifBbWvJ7PjUx47UKidPvextuNpblCorAUNiXUQJsDKQLz3veXNVOu2ykn2HK7+E9v6pdQsRmMd8DSc59rl1WzAAGhKGs9rFXlflKK+59vvCzhcefGJWZyuaq6BYp5BYH4MhDDkjifN0RaePn1yUKxWCx98ZyUTvKUOEFWefvXT/d++en7ayRiUlGbpSFyuxQG2oXr9BxB6P/pq4Nfff2ARkJ9giZ7CDwg4hR8kgD1fMD5KIGgcT6KtWgl5c3/uv7q0t27lyDs5Kr34GWUSC8rsOi1Sq15W68q5WUyFkFzQqaFw8rG0r17j4fBS8dG/C3A/D6B+a9vFYpyBU12CNheU1+GgmWre5Jekt88ShTvvHz5KJ///uttUC4r2IPYJM5H5kaIoWLOR2cvVAtxbCuCgXdeepZPFAuPion8y+twB8TU+W4CXFYnnE/4jQ7OJ6ONp8MThXy+VCjl88WTjzHKGx9//ldsND794G2AGGphnb3XVVCcgpbqAq+fr7OQ9Pvs9gI2kj8k7nxFPUr/g2/zpa99v8CwOB8J9kcZsKiWl+gBh0AkjZt4uB9CGLu2buRJ1aqTeHBBwFlRsNfzKRDnE1ZA446NZiovEqW5DWVpydSW711IFB7/9bvvPt4YpkaDL2bBPHhBG4Wiex3ieXkGANVrG5Pw+X5KvHwAR3/4CnYeTHyfrOivuHxKryCU5TeqNM6HuA1h3joI0ZeJi4zjHSF+zfXio3PbzH2qVRJsH+w6FeJ81jCXiqUlbDrChQKx0OFlTEvefvl5RdNMOwzKH3b4jV49HAcTXznQTL589EAg6Tn8/QNHDwxUbAhJ8twutOzGoJUUER7CBMBmq/hybIyF+1h47mHikgeOFtRIz8Xb4jndE24yYtvE+cgIn0jMaRALGR6mWhneKBUC7qInCWglRVIF2bJwa9mUNDfy3K4wJOT3t/n7EuUGlL72/VB8IGPtEPyDNZFQY2Mw8puj5T1+K7dLEGI9HCwvw3nIVv4zVb30VCTBwY5fJGBbnqAuCwj1LqSD2EevSm/GELKdw94PNQuWj+7J+cLPE/cYrkKTzcBkabmc1mqB7vPpqmAoWBW51VDGn5FqFmA09Tu19avEA6dGPvgGm5NieTp3NI0/M/ibdDAYDNV4FAj6HXpNDG5bFEE7Acca0ImWPhPaeE4Qawx2OTOC9AVSNFBFyhdCVXWu/BeMMVs9X4urno8YkMQShtrkUT4BdsF0g01DroskKRS8RWJPwRqPYj4ybJzPJ+J8wkvsf/PT9w/o9n2A7SdmGO78aLmKdm43AjWioVN7IL4YPFBG/2lehq/V0ht15RtV9dkdi2j/uAUlwTAePrITcAF1LB2SaoIbqwXX498C1WWvMykXfFogcYJA/fyLt9Ixo7k9UPQonSSHlFshqSY4GMl49ana7LUf4nwcZTpe/ihykN/8RH5/y9Q8mfjJW6+P0Rhy1eGRkAS2m2H389wuYdEQ54PFLWpVRoyReinxCvIB3BPZv0pseTSGdpVIUJW2rUsCikZYbS7UPWGhmh3iPe8QD6kXsSeNcz5KFhgh0cIXCmHMNJbfvLmAXfDRLN5JavlSKfNxYs10sRb8eoulJhpusQxNynCewzkf4yF+R5wPb99PJF1gMuHbO26c8TjaiK1WqGrk6Mipo78JhkLBYCTpcQGfhTUQhxirtUE0zgftF49WqRzX5ZL1eB9Srxd3cVcRWYJegz8t1JhundnTVgfZqMZNxM5hEQCw6DHPuicxzLeJDYjxFXhgz7xdCoDXGJ48GRaGw1LYxSAkds833Fpcr4EcWNrtGCkMa81WsyBiTj7fjz/S1/8+aMH0gO5L5h9w/Cyl9fnTwcjICEY6EgqlTx0dGVkIhkY8bxbP7VIM+1hcH/xGiutWYgyC1+gqr92j2kv0vHSdRa15FA8CeI3B6s3N1pkafLerZ+o2N7GQQzSWpYsryD0cli8juXjh25PUIQ+sMRZt3pxjwuO8e3o0UpGq9L59GGmMeHpxfd++W165Xc0rt8vQ8wOe95kSPmAUhNju+1R++Q8PtT6M/96BkVMDC1i5gyMDIyP9+FvFLyruDVyKppF3AwKsTlWX7fWNlzrXWDKjvZQN741rPBytCoGUurfVbbbNpBuDjTVtM5utdaHQgtUNxidKK86neXE+TSneNOnaCiTeZ9IyEX6wJNcs0Hca54PBfQ37FhvI1yqy2LDvfEvQs2YhSz9KY3Ad7pDYHjYhEtuQdRr2HrxD74qfwQfeeHUwWD2IKdexpoURDHiosQPPUafEe/yWIDgfuOY0ziewJnCUrutS6E4/x60IGX/2qMWppzXBGObWGgJ4YzWphHLX4tjjfO1Ozmdu5IexDq5Ab4d2Yo53bQDdDt++4A5ip2k9H4a55jwBHOqeGlxcxNnD0dRvU9ODL/Gvr+/b8ebRj/slu68CtTyRqmD1WTwxhaqOngrhV4J1cI/P4xsgx/kQSQQA5sReI1rbmLi7ymPZiOslR3iMTJusoZEJoiY42Fgdxaot1wTbAn7Qm2TF+TKiQ47lZG6W8O7Rv5BlycznZH6EomDz3nMTs8CbJXvQxIQaM1oTHIpk9ok61X1u3sf0mmPtcPW+JWr8030PpA5+4+vPO7D+49d+bDEw1o2k5OrYbwj3A6zTTp2G28p6OKiZqI8yfaZ6fTGmnku82k9AudorJcWIlw72orjfpqz113W0ybG21QTPuPTayfmcej03iWGf6CHAhF8kEpMkU9iNHcgNzXy89LgYwGbFhAJizTTXbioGrwnGH1yxJtiZlzlr79v94QdL/pFPhdzaJvPfHLSNjz/52yD+RGxDgumFhaOnFhbSgHVVZBseglW5j5IDpNb+Ho+hj7/77d0EVeUo12Ua5NBXyV3RS3CeGP/zyd9+v4fVBO9ZWIjtWai2aoIRC2dRxcacj9lrmgOz5XY1biaop60NTxYeY+M9jU+CstXEi+L7H0jj0+/+dHOdYV1z61bLvlu3aE1wVY1HbrfLZkMcfbsCa7zxwB5lBSKS7E8m4Qd+ffy3rwdAr4PBs6cwGRk5PBKkeu3E2Yk1j/NhoXY/Hlsff/LHuwndMtDkMBrqs5I1pdX98rj4ycfXF2iteyS3ubmwuRmXat1lS89yu1bfblaxsRCGNa2eMUgXqaLQRT6xO/nmze3izfet8dcvv/vuy3bAuuq9hn1kNIiaYBvQEufTGBRWnA+A+OZ7Oz6++5LD/qDosCH3qb1Od3QMJCOkLneBYV0txwD5sPft8h4OqL9W0f/E1FeJqDAe+t+JLkatrn89z9pKGYJbT3VaE5zrzbGa4CqrJljnlIX3gelWPKTZEefTzOesOASKeGnjLt5aLhawzX4NNoQPzXz7pUJ6OKpqMplMd5BUS5xnWN8y5DXSNG5DNIXmG6EYyRZm+vqRQ5n/G5xF6t+Qg3Yah4Ua/DH4Lz11eBCPAwvAQ0LH2Dk23zFJV4hiPCSmsxmsluOnJ0iB+yvm7VEjAi9k16uEvaCP+D6kJphEvHJ1ra19rfEqWhMcddBrmgPTJV/GYVbNpRKwazwlEqwDS8vUmiSwP2OGTxQ0kRFQaN9HFgpwQu81rJPCyRZSE1wl9SZZyQIrzgdASGu1kO0HMP09cBAR/9+BGv8g8T8hnKIBCVIcW11dk45UEc5nnwTYOHCU6jXFyh7ng/GIOOLXXklw0nENuzh3i+6ISJSVTtK63DStCa5BLhsyUzm3S2pRsS5/8RwawcwXb14AyzPfkuBq+MJtVzmOwRxz8jfjEYmkSc+du/bJK84n5Qp8j0jo+v5BkH/61sf2U9+k9N8UYluuoJ/9wcHQwsBRMg5gwi0YiHxvrL5dotJxmPFUOaa6+kjljI8wld55qMihOkr6G9khxNfeI0SEfnZjPZS7x/HXqo0ZGovzOXO7UpkjC4uUiGs++ZxCfJN4NjTDQtS5eM9df90laoIXG9rbGxoa1r3awHidqtDrAUc85GDB2kzag6s/5T1TAcdYEXRoZKER6mODoSab+vNh99HrmXFGtUIRx95Q94V5I9GcpaLR/H4bhPR+iWL3UI5+NAk+uRZ5tnM+zRnnwz7685IJ/Y3UpCi82In27Qac6VxN4YqNDUcNLwMxFT0AABsxSURBVLf3KOkr17cr7G/+a59LK5nK/8PHZlH7QVayWTV4in4u9xqdNMaK86k0HsJrcQQq157ZbIRElFc9g6q8Jjgo1wS7z+rlnA8AcPXtkmUW7BVONEGzvKZ596MrRpbf5AbWYhBa9wiqSpxPBClskBzM2xUSb30F5ORgMelwT5iQZGB3DMBr44gdYjEszodU1erbrRVQY29mP2zsdxa2v2JpMNHjy5cjn4FMgagJjtQj1zkSvwYAXHMjNspz0HUuJrdhYlPMpRd4Zsx7LnpjpCjYkew6vceLXvFrJ78edE1jd1ikL/kj3wO25AEJX3vGWn3+BVi35Dfk7w1VnXKfQIfgfEDyaJwP8TgfNRerJVKho17cDz5ILEp6Tq/i4188E2qu2wQUh7VagnStlpocdWF0YfVVndsQXfZlHAUGmlI6iX3v2SysmQ9Y00qnjcRNz1yBZnSDggVv0bVapP5oydxIa7UACv1WSI6hkixSf8ZvIyMPit+6FNUaB6pJDwX+V7VQfo0M+9wYY3UISNgQAsgdnpghMZPTQJWxUj4jlcIWvdAlAUXnWU1wY7pVhJ0QPwmEKH23K7drRfXNtcRcWGsh+KZ6FE6xzeHi7bDmxhA0WyHuOcxOkX0TblsNZ2a76Ucw0+tYnw94X/F7y1VklSE/JX6w1NgpAB0ZHFlYGDnqXknA0mse54NIPonzUaEWsujMId9VeLTLwpFFkZ7lx1R7YYMEOubg8bqFhc26XtGewG8eE8rG+ST4sDc+B1VlRs9fUmwyDK8VL3gu4UyHoWUW99XsO9+gGK4LsjNEnI8V6vYLrRZcLnmnxHW6HyD2f5s4WEGrfV7W2T3s6/PFo4hzPoERUb6XjiCTulUojKkVh1US7H3YVqeKOZ9nzcLj/ORwmBgVmqfFtOR14nb56hB8PLvx5d4PAoEKBSJl4nx2A/yPxPf3Ld0+WHp0Xz68PdYeS8/Z7TUinA9iUARrxHWY/FpNXNuyQDv3MPHZLqmYTwAocJYFcRFdEizOR6AzMhnNa8Vxc3gy/2INHHGMY1hZKuRfm5JdF09EARdTS73/5d5P1zRTHFLcguSjwzjr3Qf24Id86ceDP93/6et/vMw/+kqKjHoKZQ/IAuUhpJ4PgQ1hClnLNZNDeO5hvrB6aWts7Nyl1S8w8GoZmLcDngs034jKcz4GtonhnXy+tLY8vHHzdql4e9lWwCAptLLx6d4vP8iaHvUM9lMlHkIyLEla2MifOGV1MSa//uFOqVR89P03DyzA/N6Cd02Z8wZxzkd5SFQXPAT6DEATmT6PPX1ZTOTzieLLi68EnGgHgrXNtdwWU7XifIpFQizB1DZeFPJkFC/cXA5r9nM0BvQHWKGhZFWQGKfAbxHBWsyNfrlOtcJwqqndm+E3iTs6Im7o+EdzBX62fsg8S8IiFnviyzjx7Et0bCzK8Lc9L4w/RIxXpOpWaaqqI5dALkdsiC7i183thsMkiG+9RopxlpeXAybp5pAO8N/Z90mlu2mKcJRdUOwC9xs1Blky6d8e63e+GU7zItwmv9SbxMCtddE5aYoTQVanvdDdguzDIElAtron5xpEri++ZtX+WlF/Bt/7H9Dcr1uXPQVH3ZOo5/v3Dym3Szkf2FPWw2EZbKqTultQKwo6b7XTkUOgfbuiFqezy/AESLMETQbYglxTTH6W0/x4rhjM43y8JtiK8/mcWukZrCujuWWnS2nY152MR5lVrZVMq9sSo7KCWk5QHQKsycx9GU3E+VwejReAHHVNmBLNccjjQqI6isT5gIf4eZzPVVnqYmz+bYRKjzjx83OovYbnN0LhV5RNibW0YIa37nJr7BaQHiX/IarFdKEXt6DaBXJ35L5dyvkcYzs+oWThv3cdcpyP/OUkzicaG9nUZhN2pNqV2nWtOB/vKwAnEeJ83IZwt1FFtsImZhpUChyK1utxPY5EhJsbZgDVuYcJKusr0FWPeIjUBFAJdm2ipbsl670cfMV7lLKvE5y0fBlPmLbpSrL76i5BMkZ+ti6OX+TA6IJO4DeyjDnv1tBVb4FVW1qmubyALMG+Lo48N7oV3MMeEM9l7f01zZGl3B5qR5zPT/t2Ze1zDWmpBL8Az0Gj/cxquASfJdB13WkPh64zvdZ13vvPO225wUB8gkOM1LGHtHkJzGJ4Cipd78maG6GHo0yYQ6i5ZvXbUc/FFVotHyixIibuer5tSchOJ8hthhQPQUyvVdabxGdDhKzgCB88HihXMjmFin4OrNXiFeerrJQ03Us8lw3F1DyJxnYC5nyWL8Pq+Zjb6FBXf1lw/Z7CdrdDcD6wHq2kN4kItdRBZ4vBsaUS9q8+vHbt2eqlXZyi6Lwvg3f4I5Hs0sW7EF9gTpUFaU1mxZ7btaDhfMMMwyDVCb8bVj7Yy2IeXvdi+9tlrdVCMRiovCazvyK6gmh4eI0elof5MjrMhHHoJSVzI2IdcgLprWeJ/J3Pbtz4DHvq1/Yzddc5r9PpVMqmPsbL6YNoKMUTtfKs/Z+EA9j6fCQVADxE4nUCO+KAP567MDk5efLEmvK7T/6w933FFP6jYOJlOZ4H2c4KX4agMNDvEysieJLs8gzDo9zGdpOcB61aHMavKXmoVZEuTAipBLmWeHaJl3fc/SxxZ4uG/HWqtnp5gZ0Dram6bgkz8prMGGtD9lsU/vxuzVy7XcxPvnh+Yu5kIV/85Ls/sGUXhI9eTuDXcArUXmua5DcK9mAH2ZL9HpTbfVNsghenkZ8Nwf1GsCG6Kunu3cS1c8IbOfdQHXtIF8UpH97zyg/Iw5HbLfMsH1N5kZ9cUoj9wD9rz0v5OdMVTXo3QeJ8AEPSXpburZ/vZJbLCmItRLCsMbbgKa+/RvQLfzHxv6pjXEp8JgEn5RW8oZcEtlmW80nDHC6VTpQml5mmmmHleaVUAcfUMCqcY1v/Gv9c5r6MNTEK++qvoMY2YWdD9O0CAB7rTuLxFDLpGM6tHy3YziVuWLzCSUJEWkaYcFW1CxDnEzzE/XwZgJrku+bevPmA6LJ5e8lUtPDb/AUxLbpmURLGC2AnvFsxAs510bggxfmoXpdX6Z0Pr64vtxmRat15PzrvA+MdR/uhNgGOvOJw6QTs66ogfw4BoVzdnnQ6vac1ipwFC8wDtT+Hw7XuJIF6OX/bNJcnb+PDwgaby0VHfZn8RkNpuBV57733qtKL3eXSYFacDzA420EdvX8dcM97IAt8rXGqjH0x1a7XBJjSqs0UCB1+SpdC9KDWqLcaWs+CwcbgAg1niXP4dez1fNhHt6DhXK9AVJgsNE4en8QPmW/zpO3Rk3cYDaR/lq5jVnXeKi2RTTbN7WpWvrH/F9DrnQ0pzkcXc0LcR6cCUi+WCE7XRaPMeIyjdsf9uAI4otdBMU4k3ghLirV59aQjR99uxsWvWS0OqW5/nqBlfRDDDt/06AKjWn1efr5MKO3duJtNSXOjfzt+TccvY7NFPR84LnThLMTXMQMLm4fGOoa1zgreQU/3k5JgTgQtAW3SPtYg7dutCs7I3IR7nLaeOy2TceLCa8zMuTVNWaO71jYAfN7e6IKalnqFGmjNVzCd9QBb9tGJ5TjLnlfAAxs2p3FHJIMbaJ+3YPmf/f3Ml1F1e90Tr/y4m9fteJITclT4YlVEWPmT2jBzbmWPSxrqbaWNu8F6HpW17DVdP8S9Pp9wOUjtJBQoLS3zlIy5dIKs+kmePCMrNpMNqCwLhmoaFhvow3ykbhnJQE24OZ8I2P18nd3J6LDV843x0KjFQ559JiJ6jNdhzb1K9P/vry4+UsUiLCwqpaJYiKzGnG5tS8PzfCKkx4FPnLoQYF0cVZ4bnTy4dCIFGRSTPiUawDZhVfJw6XnYwo/dHSMbIbXXGOlICON9Hs/M2JoEnL6MRjmfJvftVoR0Z/zZ6eh4XhLWe/LxdYLnYyyNa60TnL8keISu3mXL9NGUirqViPIkIlsUCr8shIIz9fHoQmOoKtQ4Pxbv3Qw1trKwtc6/HzqN87nWahGAm2v5tWwLf9wJwANrMhtPVgy2TrDdaBuLweC+zHrDeiSIlfpWZn29xatJmq7rTm0I/WJbdaoVDYUbTbcjuc2w1z3FeAZW9HCQFkYkTO05axkLUErSL2N3DFE0QnqTSDt6TWN1W126cU9dKJjmOQcBNsmBSfZaxPk4NrCuu0E7drVUN1k3+DYpdyeV2ubjvMLDJ7QMhygu9JI2BmvW19O3Gs7jOZn0gTWINfQ1FjXRYG7UbD0ctpBeGQtS2WLvROmlej4CM9Tz6SpfZ0El7eg0PaNL8TrYAMRKd1Vur3ld5FAj9IFhuzlTX5cOsd6kGK1yEDZdp/V88lotdpNA+huJB/PiQpjaEPPeG2ggNQzsTuaH7f4MPmWiij/zpCYDy4hAb5K7IV2K8wFGjPOV182yk549hrL9HbHWnQTTEI8yG0HtNVa9LdLfqK+QHPsMonEklcZJePO/SJSRp6CoopcUeEiQP8uHNXFIsVfqNrEaMw1iT3JCgPTckewLwVqDBxYoc0u0d5dQlA2TRahoMUPWNLp4LylZa1x6lg91J7lqEwGKjDVeH7Id5xPkRIDr9xS2A9on+TJgqAnno2vGwVz3p3/GtqC/kaxVHRtDdFWz69g51x+S0knQa2n87Z8xxPobyfxYH4pUWf2NgirS3O5MXFqT2chkHD41YE1cF1Knag4/J88+oUZaMwjWNiKS/dPe5XbWI40n44YaPCHz58toNm/HttY4/OXMhnjTNL+vrH3+GfbaWjOO2RBqd5/+87e//W3tx598fB2WtGBkm3E9rL76FjEtu/J//K088PlbFOvGYHxmqH5maEju2+VNe5zziefLeDyzG9sQkzvmmlJ8k1/TNEj/Yh6Bbcjnv7ON7z75eJrakGDD+vri+nomXa5H2rlOMI/zlVVJsVHe1OwQbP6cO4pCTCy2B9D+7Z/nCA9RhTKO8/VFyMm56LnELpbRoiFZotdgQ2bqWtvI6tdB9nyZ0JD00F36bu84n8VDeHs/UcxAIpF4bE4AgTAyzXhuDMjP8gkrWK/J88BuZRoaut9rDDW+Z/WSCoz5K43zieeS0txu+cXHfsEh+Y1SnI+ZVWInrt2AJRfsfGPrKQmexOEZHao4BPaaeDLp6uo9cWgzbGPP8skh6830ttrrQ5x9uyTsAfOf0YxJtnmi9AIrJAvQGeG5gqPlDttr0kuKDUhVw3k89rXQ58sEF7ft/Yd+dGttTtkyl2Em8jn2E7bJ4fBnVKm8TpXqKCuYwWBcL+porNf2/VfVV5dAvnNDdQ6Uo8tLVdW1ttbV1W3S9UMiuv39KjyvoJIvoyml16bJnmbHVgA22CQXLjj6wCDuxBrtSAcrHlWAtdfTISDOp4nnN4p+dIeh4ILzUbpS1bC/3N0oczH7msxiDX0reKEn7qr1fYgX1kieNuYo51RWu8AP4P+qWcNbqHGzjoy2ulBoE1kLFdELOHK77Z2OdYI1rLzhm49NlnLk5WSlk2Hs5iSGTUEORQ17A29qDO5roCMot/7zDJsV56OoAQ+R87BSiRhTd4GyY6k4S2A3wUtgUywtifXRfnTwE3kvKVdDIqwWyLK+oldOCKzzUSySDwLhMvxZPsEYPH5tD2ZgUdnDV5ley3E+d42ZNpx/XCRBJm359Rp3E8057M+EL3whBVWt21Nj9ZLCI5uw2ELXxLAxEaHXFJIBq3byX7HQ/rLKbQlirRaIobKYKo2mMmFX8SJASwo6xi5aVR7qXbYYomPaQwsM7MZe1rfb2Go/gdtrpKpWHt2Q4k4ghF+Ulgn5Ni+8KZmEhEBwxFTYknESyMwQZ/hDhNZZB2/ofECzn6O4e+7OsnXMuAl2G2cZSQ/BWfVX5k74gPNxG4J0tlaLztYGpoJ6iaTAsH7/L2ANMydgz555IqIlvJVUZyHNBX0B/ubGTe5USudI6wQrimcPB2Z6J+Gp0QRrxZj6C+VqZqD4ImyzNgLFhvcA4ojSThcIvCXskqTYlPNZsaekxZZtpE7Y5MraavdlvATr+pTzkXUnkcpyYIj7glxYJetasAkTqrRP442x/EPqrNNmL50tvwd1CdWg2ZEoQI6NNfUX4RAXgPOxGjON5cDsVQskB/YCmsBIVNUY/QukbsxAAdaS8+pkCmSgcTd4vqYKEjNej5vQtEync03miubDgwP+XFoo4nygbiK3a6d4NxKUd+hWuG4r/0zag3jvAQhIr4uQVbVIxC2UbkMsG48YD6FCvFfO7UpxPisZa27kXyhkAQDYmyI0JDxcnBS6LE95lIso+yJBWBExWFXTErAhLebGTLst9tSfFFrtpdc7q1P1pjCOk8TatTD/gS/DFjDTVUtQnyYejqn8GVUEodXEDZvLbRcQirZWpzHY6T1tOuLxPd0K9CFa666yHmkN1p3UFOc/83Fx8m3YFHESU7uZv+AOk0p2J9C9fqsG077zGcPlxTDB8VxS+hwOf2Ul3cZMOLRcFmTrTjmf33oOB+I0hJaGMWHri8QNEU99tZovXWKGm/omLgHfp2gsFtN51YIuz6GIxUMkveb1fDIuBOzlC4mTGyY4ieGwcrOQP6FpNt13AEqe5kOUN+BpP+Cj5HgI/tsHktsAXcFg+yrfIdeV6Mli/RDGEgRd4IJ66c6b0rPVp/+7+rDwpnBdJLNU1c4QLQEsOesmgEmRrabK3ibifABAxlqfz4YQtiNfJIonn99bujk3mc+/kJ8EVgZM2y3wOoOFAxgATYxfl6Md74R85WHvTaJxPquJFInHfxHKcP2zl4XSnYdPxyzqJu6H9SAOzlMEYVGRl4B9Gcr5CDRSHt0Fdjjw+mQhny9OvnhshqWCJs2Cleg6ZdKGJqKymnCALIGwFarXrnq+Sr7fAZjUOpL+pG033kx2CIV1mmq/S5B6OLAmztBadxZYpZxPZ+A4wWXI0UP1+liOVnDn6DtYCIULSLUEuoRADpZ/duYKXDYB/MYwKwqGtS0UyYhwPjJhZFtIYZmR6eYd0/zNXBCwT2T4czhAffuZDZE7QB11vcljdFkyf8cVFvBPQhxl4ArQcsIarU4Qtz0Xd47H+SgAMc9lEZDLpCB9jLp+2Cyj6BhC89Fe7LCM6Sg+ZLslZYcc59Psz17jgpNmTGCeMWFoRpaVImDYFMPAbqDRMoUtA5YMo9ldZ+K01xkpzufja7WUKXvieF2Gb0Dy7KEm//HLl32Xj/U3DR73Dx5q6j/gv4KlpiuDV8rbDj7kOJ/OOZ8LbbsBx1Cf6Tuj5/rO1OvjrXrffB/qi/bOoNN9V/X6IVbayh+J4hBUrtdQz6eXze3aLS5RzKmeTPdUz7TRPjXVnu0xlGljumdWaZnqmTV6Vjon2rXmnimMtZgky2DuXO8padWr2/VRCiwlAevBJH4d7PcdS2Jc/QODZ5ODvo6zGMD+wQMdeK9TjZ2CyO3qYBSiutxgy8yGzjmxEFCuFbX2olzbmeg8QrH6cZ1gjdGOzxCsPdr9+aOXxIUQ1PPxfhnmy1RQSa17tttobjGmJqYMbSqAsZ7q7jEy012dgemJCSz1GN0towrV6woXcvXtSmsQ+X1uKwtYYYz9DOvLx69c8WPbcbzp7GA/xvpwU5MvOXhgwHc5ySKz3Jv088vxXj7K+fz8mSfYR0eILXiP+Mr3dD4TIScwtjNoqHd+Jn5Gn0fx0wzr+kOnz+TquQ1xfzfsNsSxVov382WkYWSnm3tGp6a6pzHMCsF6YmVqqrOr3ZieSPUEMj2pWYF1xetYa7UAmgNJWfW8RxLs9eV+/5X+gWPY+8NYX2m63JS80t9xNnml6Vj/4QGu17bh0G1rDSK2fohsn4Vg1dBQXyV3tR7DHB/qw3od76s/g+Z39c7op+vjOrHXHiZElwS6OyqvO8meDVGh10jLtrf3EDU2eprbZ43p9p5ObaqzM9vZjvU6O5VJ9aSmu2aNbbCGr1A3j/MBCHxdHHkqk2kFyBA06ofZrQMTF/yW5NEBUshEqMjhfoJiv+QQlREse414bpebW0YcdMtUc91G8fG++liutTWWi8diQ329sXiutz5W39ca6613Lgng5uog2OuvWzKax3woCVq2uSeTau9pT6Wae2YnMj3NqVRLT0+mpSXVhfe3Z7pSnT1ErmyKuL3WRB+YWKulTFCkQjykgm223zK2QTkfjT3Rvl1K4rijx4DXbQqKdVmPlhu6pNKIfxuEoPMas1yM5WWAX7O+XRtBs0VHsEXPdnezX7PZbiLQX91coFsONXYJLLcrYqpJEQpxYUNfKwl+x55yYFOhg5azMR4S5VU2qmoTmPlWLYF7PFL7ABI+kM5zCy5B54L0nDs5zmerEZEE5pDQYXBB7LEGZ9+2f5okQG5X08Rz7kScjxsSe9RoO7S3UW2bYNXz6SzOJ8JDVjuAygskrbVWdiKovOlXEhBrDEbxHMy8UIujsbVa3OpsCbKCenjhZW2GU7Dq+ShSSRbn878bbnZ7s62fTr9C9KOstVoYRWORDb7UggBcElS5OcORDNC5tfAQ6G0l9Xy6btUseGC3k1GGkFd4Q3dGWlvLz2pxtsXJLrgVnP+uINB4CH0uKQlSxFhSRmeeOoT2wevWeXu6Q1Ddgu4WeFyKCTqreypfi+MQvBZi+XlDeg4HoFD5MYC/6BBxPnDm6kW+8d8+7OvzZVLGrzVYnE88X+bw8f5D/ccPD14Z+LD/wwOXr3R81H/8wOVjTXhr4MqxpkPJD5uOXT5wvOPDjuODRz9MHuq4MngYbw0cP3sW3olfyDFyAXzugcuwBRdIHhq4gnf20wv0f9Q0yLEmE17r0HjuUO5q39CRsUO9Z1pnrvYeio3PtI7HPspdnWm9Wn8kNz7Ud6b30Bh5ieOt+Px8/MjYEfIynjsSP9M3NE7eiV9yR+qv4gvkPoqNt86Mxw714guQdx4Z6ruKP2Nc8mUg+DbdOZpaaZma7lzpHu2a6mmfzYxmZnvaR7tXMlPNzdhPyczil9RKahZzPrw12t4z1YLPxS9deKtzGl+ge6ULXwBvwQVSK3CB1GgLuUBmZWK0uRl/Rte09Oy1f0/7V+VBa3HU7dXxFxwqEnOj8qtpNRkai/Oxb7ZPLPPxa2KNrNo8xuGsYCp76p3OBZZnYTwcOQUaTNHLCyxZyeIh1AS7lnjzsNOWpWbhPw+Bd7RrkgC7NSFgrD2g9Yo6lw1HOwtW3wFrhrGqugXuyaiqLDCPxRLUCoKjGAdxgT3b2IvoeUyRP4N3lB1lCZzHHfhFhd1WSM5ysa2Iqhtol2CPv8KrQ0Be654xzuelx9tCX5mQl3mXcP7/H+nf7X57tsWkAAAAAElFTkSuQmCC)\n"
   ]
  },
  {
   "cell_type": "markdown",
   "id": "fb3ef8e2",
   "metadata": {},
   "source": [
    "## 1.Random Forest\n",
    "\n",
    "\n",
    "Un Random Forest es un algoritmo de aprendizaje automático que forma parte de la categoría de métodos de conjunto (ensemble methods). En lugar de depender de un solo modelo, construye múltiples modelos de árboles de decisión durante el entrenamiento a partir de una muestra obtenida con reemplazo (es decir, una muestra bagging) y los combina para obtener una predicción más robusta y precisa.\n",
    "[Información adicional](https://scikit-learn.org/stable/modules/ensemble.html#random-forests)\n",
    "\n",
    "![imagen](data:image/png;base64,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)"
   ]
  },
  {
   "cell_type": "markdown",
   "id": "58d2c3e1",
   "metadata": {},
   "source": [
    "Se utiliza el clasificador 'RandomForestClassifier' para entrenar el modelo con el conjunto de entrenamiento 'X_train_sel_und' e 'y_train_sel_und', y luego se realizan predicciones en el conjunto de validación 'X_val_sel'."
   ]
  },
  {
   "cell_type": "code",
   "execution_count": 31,
   "id": "9a523d8e",
   "metadata": {
    "scrolled": true
   },
   "outputs": [
    {
     "name": "stdout",
     "output_type": "stream",
     "text": [
      "CPU times: total: 1.5 s\n",
      "Wall time: 4.15 s\n"
     ]
    }
   ],
   "source": [
    "%%time\n",
    "\n",
    "random_forest = RandomForestClassifier()\n",
    "\n",
    "random_forest.fit(X_train_sel_und, y_train_sel_und)\n",
    "\n",
    "predictions_rf = random_forest.predict(X_val_sel)"
   ]
  },
  {
   "cell_type": "markdown",
   "id": "ad463fe5",
   "metadata": {},
   "source": [
    "A continuación, generamos una matriz de confusión para el Random Forest:"
   ]
  },
  {
   "cell_type": "code",
   "execution_count": 33,
   "id": "ede896ec",
   "metadata": {},
   "outputs": [
    {
     "data": {
      "text/plain": [
       "array([[124693,  33542],\n",
       "       [   400,   1365]], dtype=int64)"
      ]
     },
     "execution_count": 33,
     "metadata": {},
     "output_type": "execute_result"
    }
   ],
   "source": [
    "conf_matrix = confusion_matrix(y_val_sel, predictions_rf)\n",
    "conf_matrix"
   ]
  },
  {
   "cell_type": "markdown",
   "id": "4ead593b",
   "metadata": {},
   "source": [
    "Por último, se guarda con el módulo pickle el modelo de Random Forest entrenado en un archivo llamado 'random_forest_model_sel.pkl'"
   ]
  },
  {
   "cell_type": "code",
   "execution_count": 34,
   "id": "4c074821",
   "metadata": {},
   "outputs": [],
   "source": [
    "with open('random_forest_model_sel.pkl', 'wb') as model_file:\n",
    "    pickle.dump(random_forest, model_file)"
   ]
  },
  {
   "cell_type": "markdown",
   "id": "947790e9",
   "metadata": {},
   "source": [
    "## 2.BaggingClassifier"
   ]
  },
  {
   "cell_type": "markdown",
   "id": "e34706cd",
   "metadata": {},
   "source": [
    "El Bagging Classifier, o Bootstrap Aggregating Classifier, es un algoritmo de ensamblado que combina múltiples modelos de aprendizaje para mejorar la precisión y robustez del modelo final. La idea principal detrás del bagging es entrenar varios modelos independientes, cada uno en un subconjunto diferente de los datos de entrenamiento, y luego combinar sus predicciones.\n",
    "\n",
    "El Bagging ayuda a reducir la varianza y mejorar la generalización del modelo al reducir el riesgo de sobreajuste.\n",
    "\n",
    "[Información adicional](https://scikit-learn.org/stable/modules/generated/sklearn.ensemble.BaggingClassifier.html)"
   ]
  },
  {
   "cell_type": "markdown",
   "id": "c1ab80de",
   "metadata": {},
   "source": [
    "A continuación se explican los pasos llevados a cabo en la implementación de un modelo de ensamblado utilizando la técnica de Bagging con un clasificador de árbol de decisión como 'base_model'. \n",
    "\n",
    "En primer lugar se crea el modelo base ('base_model') utilizando el clasificador de árbol de decisiones 'DecisionTreeClassifier()'. \n",
    "\n",
    "En segundo lugar, se crea un modelo de ensamblado utilizando 'BaggingClassifier' ('bagged_model') entrenando múltiples instancias del mismo modelo base en subconjuntos aleatorios del conjunto de datos de entrenamiento.\n",
    "\n",
    "En tercer lugar, se entrena el modelo ensamblado utilizando los datos de entrenamiento ('X_train_sel_und' e 'y_train_sel_und').\n",
    "\n",
    "Por último, una vez que el modelo ensamblado ha sido entrenado, se utiliza para hacer predicciones en un conjunto de datos de validación ('X_val_sel')."
   ]
  },
  {
   "cell_type": "code",
   "execution_count": 35,
   "id": "a4f41628",
   "metadata": {},
   "outputs": [],
   "source": [
    "base_model = DecisionTreeClassifier()\n",
    "\n",
    "bagged_model = BaggingClassifier(base_model)\n",
    "\n",
    "bagged_model.fit(X_train_sel_und, y_train_sel_und)\n",
    "\n",
    "predictions = bagged_model.predict(X_val_sel)"
   ]
  },
  {
   "cell_type": "markdown",
   "id": "dd2920e5",
   "metadata": {},
   "source": [
    "Por último, se guarda con el módulo pickle el modelo de BaggingClassifier entrenado en un archivo llamado 'bagged_model_sel.pkl'"
   ]
  },
  {
   "cell_type": "code",
   "execution_count": 36,
   "id": "623fe5f7",
   "metadata": {},
   "outputs": [],
   "source": [
    "with open('bagged_model_sel.pkl', 'wb') as model_file:\n",
    "    pickle.dump(bagged_model, model_file)"
   ]
  },
  {
   "cell_type": "markdown",
   "id": "b0b0b166",
   "metadata": {},
   "source": [
    "# BOOSTING\n",
    "\n",
    "El boosting es un método de aprendizaje por conjuntos que combina varios modelos de aprendizaje débiles para crear un modelo fuerte que minimiza los errores de entrenamiento. En el boosting, se selecciona una muestra aleatoria de datos, se ajusta un modelo y luego se entrena de manera secuencial. Cada modelo se construye para corregir las debilidades del modelo anterior. En cada iteración, las reglas débiles de cada modelo individual se combinan para formar una regla de predicción más fuerte y precisa. Este enfoque secuencial mejora gradualmente la capacidad del modelo para generalizar y hacer predicciones más precisas.\n",
    "\n",
    "[Información adicional](https://www.ibm.com/es-es/topics/boosting)"
   ]
  },
  {
   "cell_type": "markdown",
   "id": "cd96ae24",
   "metadata": {},
   "source": [
    "# XGBoost\n",
    "\n",
    "\n",
    "XGBoost es una biblioteca de aprendizaje automático de código abierto diseñada para implementar algoritmos de gradient boosting. Utiliza el enfoque de construir modelos predictivos combinando varios modelos débiles de manera secuencial, como árboles de decisión. XGBoost incluye características como regularización para prevenir el sobreajuste, manejo eficiente de características para conjuntos de datos grandes, optimización del rendimiento para acelerar el entrenamiento y flexibilidad para adaptarse a diversos problemas.\n",
    "\n",
    "[Información adicional](https://xgboost.readthedocs.io/en/stable/)\n",
    "\n",
    "![Foto](https://i0.wp.com/neptune.ai/wp-content/uploads/2022/10/XGBoost-vs-LightGBM-tree-growth.png?ssl=1)"
   ]
  },
  {
   "cell_type": "markdown",
   "id": "28abd965",
   "metadata": {},
   "source": [
    "ESe va a emplear el clasificador 'XGBClassifier' para posteriormente, ajustar el modelo a los datos de entrenamiento 'X_train_sel_und' e 'y_train_sel_und' y realizar predicciones en el conjunto de validación 'X_val_sel':"
   ]
  },
  {
   "cell_type": "code",
   "execution_count": 37,
   "id": "87571c6c",
   "metadata": {},
   "outputs": [
    {
     "name": "stdout",
     "output_type": "stream",
     "text": [
      "CPU times: total: 2.34 s\n",
      "Wall time: 190 ms\n"
     ]
    }
   ],
   "source": [
    "%%time\n",
    "\n",
    "xgb_classifier = XGBClassifier()\n",
    "\n",
    "xgb_classifier.fit(X_train_sel_und, y_train_sel_und)\n",
    "\n",
    "predictions_xgb = xgb_classifier.predict(X_val_sel)"
   ]
  },
  {
   "cell_type": "markdown",
   "id": "08bda457",
   "metadata": {},
   "source": [
    "Por último, se guarda con el módulo pickle el modelo de XGBoost entrenado en un archivo llamado 'xgb_classifier_model_sel.pkl'"
   ]
  },
  {
   "cell_type": "code",
   "execution_count": 38,
   "id": "d075990b",
   "metadata": {},
   "outputs": [],
   "source": [
    "with open('xgb_classifier_model_sel.pkl', 'wb') as model_file:\n",
    "    pickle.dump(xgb_classifier, model_file)"
   ]
  },
  {
   "cell_type": "markdown",
   "id": "108cc61f",
   "metadata": {},
   "source": [
    "# AdaBoosting"
   ]
  },
  {
   "cell_type": "markdown",
   "id": "06f6ae51",
   "metadata": {},
   "source": [
    "AdaBoost, o Adaptive Boosting, es un algoritmo de ensamblado que combina varios modelos más débiles, generalmente árboles de decisión poco profundos, para formar un modelo fuerte. Se destaca por su capacidad para adaptarse a los errores del modelo anterior asignando pesos a las instancias del conjunto de entrenamiento, centrándose en mejorar la clasificación de las instancias mal clasificadas. A lo largo de las iteraciones, los modelos más precisos reciben más peso, y la clasificación final se realiza mediante una votación ponderada de los modelos débiles. AdaBoost es robusto, eficaz en problemas de clasificación y puede adaptarse a datos ruidosos. Es una técnica popular en el aprendizaje automático.\n",
    "\n",
    "[Información adicional](https://scikit-learn.org/stable/modules/ensemble.html#adaboost)"
   ]
  },
  {
   "cell_type": "markdown",
   "id": "43729313",
   "metadata": {},
   "source": [
    "Se utiliza el clasificador 'AdaBoostClassifier' para entrenar el modelo con los datos de entrenamiento ('X_train_sel_und' e 'y_train_sel_und') y se realizan predicciones en el conjunto de validación ('X_val_sel')."
   ]
  },
  {
   "cell_type": "code",
   "execution_count": 39,
   "id": "3ccece9b",
   "metadata": {
    "scrolled": true
   },
   "outputs": [
    {
     "name": "stdout",
     "output_type": "stream",
     "text": [
      "CPU times: total: 453 ms\n",
      "Wall time: 1.21 s\n"
     ]
    }
   ],
   "source": [
    "%%time\n",
    "\n",
    "adaboost_model = AdaBoostClassifier()\n",
    "\n",
    "adaboost_model.fit(X_train_sel_und, y_train_sel_und)\n",
    "\n",
    "predictions_ada = adaboost_model.predict(X_val_sel)"
   ]
  },
  {
   "cell_type": "markdown",
   "id": "263d0c62",
   "metadata": {},
   "source": [
    "Por último, se guarda con el módulo pickle el modelo de XGBoost entrenado en un archivo llamado 'adaboost_model_sel.pkl'"
   ]
  },
  {
   "cell_type": "code",
   "execution_count": 40,
   "id": "028ff738",
   "metadata": {},
   "outputs": [],
   "source": [
    "with open('adaboost_model_sel.pkl', 'wb') as model_file:\n",
    "    pickle.dump(adaboost_model, model_file)"
   ]
  },
  {
   "cell_type": "markdown",
   "id": "e6bd83f7",
   "metadata": {},
   "source": [
    "# LightGBM\n",
    "\n",
    "LightGBM es una biblioteca de aprendizaje automático de código abierto  que se especializa en la implementación eficiente de modelos de gradient boosting. Está diseñada para ser rápida y escalable, lo que la hace especialmente útil para conjuntos de datos grandes y complejos.\n",
    "\n",
    "[Información adicional](https://lightgbm.readthedocs.io/en/stable/)\n",
    "\n",
    "![Imagen](https://i0.wp.com/neptune.ai/wp-content/uploads/2022/10/XGBoost-vs-LightGBM-tree-growth-2.png?ssl=1)\n",
    "\n",
    "Una diferencia entre XGBoost y LightGBM es que mientras XGBoost utiliza algoritmos basados en la clasificación previa, LightGBM usa algoritmos basados en histogramas (es decir, que agrupa los valores de atributos continuos en bins discretos) para agilizar el entrenamiento y reducir el uso de memoria. Otra diferencia es el manejo de las características categóricas: XGBoost trata por defecto las variables categóricas como numéricas ordenadas, requiriendo codificación one-hot para evitar problemas de interpretación mientras que LightGBM maneja características categóricas fácilmente, permitiendo la especificación de columnas categóricas y dividiendo por igualdad.\n",
    "\n",
    "[Información adicional](https://dev.to/ruizleandro/introduccion-a-lightgbm-ij7#:~:text=A%20diferencia%20de%20XGBoost%20(entre,reducir%20el%20uso%20de%20memoria.)\n",
    "\n",
    "[Más información acerca de las diferencias](https://neptune.ai/blog/xgboost-vs-lightgbm)"
   ]
  },
  {
   "cell_type": "markdown",
   "id": "24ffd4a3",
   "metadata": {},
   "source": [
    "Se va a emplear el clasificador 'LGBMClassifier' para posteriormente, ajustar el modelo a los datos de entrenamiento 'X_train_sel_und' e 'y_train_sel_und' y realizar predicciones en el conjunto de validación 'X_val_sel':"
   ]
  },
  {
   "cell_type": "code",
   "execution_count": 41,
   "id": "3ef33166",
   "metadata": {},
   "outputs": [
    {
     "name": "stdout",
     "output_type": "stream",
     "text": [
      "[LightGBM] [Info] Number of positive: 7058, number of negative: 7058\n",
      "[LightGBM] [Info] Auto-choosing row-wise multi-threading, the overhead of testing was 0.001704 seconds.\n",
      "You can set `force_row_wise=true` to remove the overhead.\n",
      "And if memory is not enough, you can set `force_col_wise=true`.\n",
      "[LightGBM] [Info] Total Bins 796\n",
      "[LightGBM] [Info] Number of data points in the train set: 14116, number of used features: 12\n",
      "[LightGBM] [Info] [binary:BoostFromScore]: pavg=0.500000 -> initscore=0.000000\n",
      "CPU times: total: 1.83 s\n",
      "Wall time: 352 ms\n"
     ]
    }
   ],
   "source": [
    "%%time\n",
    "\n",
    "lgb_classifier = LGBMClassifier()\n",
    "\n",
    "lgb_classifier.fit(X_train_sel_und, y_train_sel_und)\n",
    "\n",
    "predictions_lgb = lgb_classifier.predict(X_val_sel)"
   ]
  },
  {
   "cell_type": "markdown",
   "id": "797b8d78",
   "metadata": {},
   "source": [
    "Por último, se guarda con el módulo pickle el modelo de LightGBM entrenado en un archivo llamado 'lgb_model_sel.pkl'"
   ]
  },
  {
   "cell_type": "code",
   "execution_count": 42,
   "id": "c731582b",
   "metadata": {},
   "outputs": [],
   "source": [
    "with open('lgb_model_sel.pkl', 'wb') as model_file:\n",
    "    pickle.dump(lgb_classifier, model_file)"
   ]
  },
  {
   "cell_type": "markdown",
   "id": "5a50c694",
   "metadata": {},
   "source": [
    "## Anteriores resultados con PIPELINE "
   ]
  },
  {
   "cell_type": "markdown",
   "id": "b1a7c483",
   "metadata": {},
   "source": [
    "Este pipeline encapsula los modelos empleados a lo largo de este notebook, automatizando la comparación de varios su comparación y proporciona métricas de rendimiento para cada modelo en el conjunto de validación (accuracy, la precisión, el recall y F1 score):"
   ]
  },
  {
   "cell_type": "code",
   "execution_count": 43,
   "id": "bc452c8e",
   "metadata": {},
   "outputs": [
    {
     "name": "stderr",
     "output_type": "stream",
     "text": [
      " 12%|█▎        | 1/8 [00:00<00:02,  3.03it/s]"
     ]
    },
    {
     "name": "stdout",
     "output_type": "stream",
     "text": [
      "\n",
      "DecisionTreeClassifier()\n",
      "ROC-AUC score of the model: 0.7005906784571411\n",
      "Accuracy of the model: 0.69868\n",
      "Classification report: \n",
      "              precision    recall  f1-score   support\n",
      "\n",
      "           0       1.00      0.70      0.82    158235\n",
      "           1       0.03      0.70      0.05      1765\n",
      "\n",
      "    accuracy                           0.70    160000\n",
      "   macro avg       0.51      0.70      0.43    160000\n",
      "weighted avg       0.98      0.70      0.81    160000\n",
      "\n",
      "Confusion Matrix:\n",
      "[[110548  47687]\n",
      " [   525   1240]]\n"
     ]
    },
    {
     "name": "stderr",
     "output_type": "stream",
     "text": [
      "\r",
      " 25%|██▌       | 2/8 [00:00<00:01,  3.15it/s]"
     ]
    },
    {
     "name": "stdout",
     "output_type": "stream",
     "text": [
      "\n",
      "GaussianNB()\n",
      "ROC-AUC score of the model: 0.8183795948060542\n",
      "Accuracy of the model: 0.68953\n",
      "Classification report: \n",
      "              precision    recall  f1-score   support\n",
      "\n",
      "           0       1.00      0.69      0.81    158235\n",
      "           1       0.03      0.79      0.05      1765\n",
      "\n",
      "    accuracy                           0.69    160000\n",
      "   macro avg       0.51      0.74      0.43    160000\n",
      "weighted avg       0.99      0.69      0.81    160000\n",
      "\n",
      "Confusion Matrix:\n",
      "[[108926  49309]\n",
      " [   366   1399]]\n"
     ]
    },
    {
     "name": "stderr",
     "output_type": "stream",
     "text": [
      "\r",
      " 38%|███▊      | 3/8 [01:29<03:23, 40.74s/it]"
     ]
    },
    {
     "name": "stdout",
     "output_type": "stream",
     "text": [
      "\n",
      "SVC()\n",
      "ROC-AUC score of the model: N/A\n",
      "Accuracy of the model: 0.71282\n",
      "Classification report: \n",
      "              precision    recall  f1-score   support\n",
      "\n",
      "           0       1.00      0.71      0.83    158235\n",
      "           1       0.03      0.68      0.05      1765\n",
      "\n",
      "    accuracy                           0.71    160000\n",
      "   macro avg       0.51      0.70      0.44    160000\n",
      "weighted avg       0.98      0.71      0.82    160000\n",
      "\n",
      "Confusion Matrix:\n",
      "[[112846  45389]\n",
      " [   560   1205]]\n"
     ]
    },
    {
     "name": "stderr",
     "output_type": "stream",
     "text": [
      "\r",
      " 50%|█████     | 4/8 [01:36<01:48, 27.24s/it]"
     ]
    },
    {
     "name": "stdout",
     "output_type": "stream",
     "text": [
      "\n",
      "RandomForestClassifier()\n",
      "ROC-AUC score of the model: 0.8571004291229265\n",
      "Accuracy of the model: 0.78742\n",
      "Classification report: \n",
      "              precision    recall  f1-score   support\n",
      "\n",
      "           0       1.00      0.79      0.88    158235\n",
      "           1       0.04      0.77      0.07      1765\n",
      "\n",
      "    accuracy                           0.79    160000\n",
      "   macro avg       0.52      0.78      0.48    160000\n",
      "weighted avg       0.99      0.79      0.87    160000\n",
      "\n",
      "Confusion Matrix:\n",
      "[[124620  33615]\n",
      " [   398   1367]]\n"
     ]
    },
    {
     "name": "stderr",
     "output_type": "stream",
     "text": [
      "\r",
      " 62%|██████▎   | 5/8 [01:37<00:53, 17.91s/it]"
     ]
    },
    {
     "name": "stdout",
     "output_type": "stream",
     "text": [
      "\n",
      "BaggingClassifier(estimator=DecisionTreeClassifier())\n",
      "ROC-AUC score of the model: 0.8284070157422652\n",
      "Accuracy of the model: 0.78968\n",
      "Classification report: \n",
      "              precision    recall  f1-score   support\n",
      "\n",
      "           0       1.00      0.79      0.88    158235\n",
      "           1       0.04      0.72      0.07      1765\n",
      "\n",
      "    accuracy                           0.79    160000\n",
      "   macro avg       0.52      0.76      0.48    160000\n",
      "weighted avg       0.99      0.79      0.87    160000\n",
      "\n",
      "Confusion Matrix:\n",
      "[[125069  33166]\n",
      " [   486   1279]]\n"
     ]
    },
    {
     "name": "stderr",
     "output_type": "stream",
     "text": [
      "\r",
      " 75%|███████▌  | 6/8 [01:37<00:23, 11.97s/it]"
     ]
    },
    {
     "name": "stdout",
     "output_type": "stream",
     "text": [
      "\n",
      "XGBClassifier(base_score=None, booster=None, callbacks=None,\n",
      "              colsample_bylevel=None, colsample_bynode=None,\n",
      "              colsample_bytree=None, device=None, early_stopping_rounds=None,\n",
      "              enable_categorical=False, eval_metric=None, feature_types=None,\n",
      "              gamma=None, grow_policy=None, importance_type=None,\n",
      "              interaction_constraints=None, learning_rate=None, max_bin=None,\n",
      "              max_cat_threshold=None, max_cat_to_onehot=None,\n",
      "              max_delta_step=None, max_depth=None, max_leaves=None,\n",
      "              min_child_weight=None, missing=nan, monotone_constraints=None,\n",
      "              multi_strategy=None, n_estimators=None, n_jobs=None,\n",
      "              num_parallel_tree=None, random_state=None, ...)\n",
      "ROC-AUC score of the model: 0.859384175166727\n",
      "Accuracy of the model: 0.78185\n",
      "Classification report: \n",
      "              precision    recall  f1-score   support\n",
      "\n",
      "           0       1.00      0.78      0.88    158235\n",
      "           1       0.04      0.78      0.07      1765\n",
      "\n",
      "    accuracy                           0.78    160000\n",
      "   macro avg       0.52      0.78      0.47    160000\n",
      "weighted avg       0.99      0.78      0.87    160000\n",
      "\n",
      "Confusion Matrix:\n",
      "[[123719  34516]\n",
      " [   388   1377]]\n"
     ]
    },
    {
     "name": "stderr",
     "output_type": "stream",
     "text": [
      "\r",
      " 88%|████████▊ | 7/8 [01:40<00:08,  8.83s/it]"
     ]
    },
    {
     "name": "stdout",
     "output_type": "stream",
     "text": [
      "\n",
      "AdaBoostClassifier()\n",
      "ROC-AUC score of the model: 0.8751295268422706\n",
      "Accuracy of the model: 0.80018\n",
      "Classification report: \n",
      "              precision    recall  f1-score   support\n",
      "\n",
      "           0       1.00      0.80      0.89    158235\n",
      "           1       0.04      0.79      0.08      1765\n",
      "\n",
      "    accuracy                           0.80    160000\n",
      "   macro avg       0.52      0.80      0.48    160000\n",
      "weighted avg       0.99      0.80      0.88    160000\n",
      "\n",
      "Confusion Matrix:\n",
      "[[126627  31608]\n",
      " [   363   1402]]\n",
      "[LightGBM] [Info] Number of positive: 7058, number of negative: 7058\n",
      "[LightGBM] [Info] Auto-choosing row-wise multi-threading, the overhead of testing was 0.000617 seconds.\n",
      "You can set `force_row_wise=true` to remove the overhead.\n",
      "And if memory is not enough, you can set `force_col_wise=true`.\n",
      "[LightGBM] [Info] Total Bins 796\n",
      "[LightGBM] [Info] Number of data points in the train set: 14116, number of used features: 12\n",
      "[LightGBM] [Info] [binary:BoostFromScore]: pavg=0.500000 -> initscore=0.000000\n"
     ]
    },
    {
     "name": "stderr",
     "output_type": "stream",
     "text": [
      "100%|██████████| 8/8 [01:40<00:00, 12.60s/it]"
     ]
    },
    {
     "name": "stdout",
     "output_type": "stream",
     "text": [
      "\n",
      "LGBMClassifier()\n",
      "ROC-AUC score of the model: 0.8705806519528321\n",
      "Accuracy of the model: 0.79024\n",
      "Classification report: \n",
      "              precision    recall  f1-score   support\n",
      "\n",
      "           0       1.00      0.79      0.88    158235\n",
      "           1       0.04      0.79      0.08      1765\n",
      "\n",
      "    accuracy                           0.79    160000\n",
      "   macro avg       0.52      0.79      0.48    160000\n",
      "weighted avg       0.99      0.79      0.87    160000\n",
      "\n",
      "Confusion Matrix:\n",
      "[[125036  33199]\n",
      " [   362   1403]]\n",
      "CPU times: total: 44.5 s\n",
      "Wall time: 1min 40s\n"
     ]
    },
    {
     "name": "stderr",
     "output_type": "stream",
     "text": [
      "\n"
     ]
    }
   ],
   "source": [
    "%%time\n",
    "\n",
    "classifiers = [\n",
    "    DecisionTreeClassifier(),\n",
    "    GaussianNB(),\n",
    "    SVC(),\n",
    "    RandomForestClassifier(),\n",
    "    BaggingClassifier(base_model),\n",
    "    XGBClassifier(),\n",
    "    AdaBoostClassifier(),\n",
    "    LGBMClassifier(),\n",
    "]\n",
    "\n",
    "results = {}\n",
    "\n",
    "for classifier in tqdm(classifiers):\n",
    "    pipe = Pipeline(steps=[('classifier', classifier)])\n",
    "    pipe.fit(X_train_sel_und, y_train_sel_und)  \n",
    "    \n",
    "    predictions = pipe.predict(X_val_sel)\n",
    "\n",
    "    if hasattr(classifier, \"predict_proba\"):\n",
    "        probabilities = pipe.predict_proba(X_val_sel)[:, 1]\n",
    "        roc_auc = roc_auc_score(y_val_sel, probabilities)\n",
    "    else:\n",
    "        roc_auc = \"N/A\"\n",
    "\n",
    "    accuracy = accuracy_score(y_val_sel, predictions)\n",
    "    class_report = classification_report(y_val_sel, predictions)\n",
    "    \n",
    "    # Calcular la matriz de confusión\n",
    "    conf_matrix = confusion_matrix(y_val_sel, predictions)\n",
    "\n",
    "    print(f\"\\n{classifier}\")\n",
    "    print(f\"ROC-AUC score of the model: {roc_auc}\")\n",
    "    print(f\"Accuracy of the model: {accuracy:.5f}\")\n",
    "    print(\"Classification report: \")\n",
    "    print(class_report)\n",
    "    print(\"Confusion Matrix:\")\n",
    "    print(conf_matrix)\n",
    "\n",
    "    # Guardando el modelo y las métricas en un archivo pickle\n",
    "    results[classifier] = {\n",
    "        'model': pipe,\n",
    "        'roc_auc': roc_auc,\n",
    "        'accuracy': accuracy,\n",
    "        'class_report': class_report,\n",
    "        'confusion_matrix': conf_matrix\n",
    "    }\n",
    "\n",
    "\n",
    "# Guardar todos los resultados en un archivo pickle\n",
    "#with open('../models/model_results.pickle', 'wb') as handle:\n",
    "#    pickle.dump(results, handle, protocol=pickle.HIGHEST_PROTOCOL)\n"
   ]
  },
  {
   "cell_type": "markdown",
   "id": "6b2f795c",
   "metadata": {},
   "source": [
    "Este notebook (datasets de 'selection') será comparado con el siguiente notebook que contiene a los datasets 'reduced' para ver qué modelos son los que poseen unos mayores valores de F1- score y cuáles son los candidatos a ganadores como modelos para este proyecto.\n",
    "\n",
    "Se observa en el anterior pipeline que:\n",
    "- **AdaBoosting es el modelo que presenta mayores valores de f1-score**: 89% y 8% de aciertos para los casos en los que la variables objetivo toma 0 y 1, respectivamente.\n",
    "\n",
    "- El **siguiente mejor modelo con respecto a esta métrica es LightGBM** con unos valores de f1-score de 88% y 7% para los casos en los que la variables objetivo toma 0 y 1, respectivamente.\n",
    "\n",
    "- Los modelos que proporcionan los peores resultados de f1-score son el Árbol de decisión y Bayes en los datasets seleccionados.\n"
   ]
  },
  {
   "cell_type": "markdown",
   "id": "9a08db3e",
   "metadata": {},
   "source": [
    "# CONCLUSIONES"
   ]
  },
  {
   "cell_type": "markdown",
   "id": "f4ace875",
   "metadata": {},
   "source": [
    "- En este notebook, hemos utilizado los conjuntos de datos 'X_train_sel_und', 'X_val_sel', 'y_train_sel_std_und' e 'y_val_sel' en todos los modelos. Es importante señalar que los **conjuntos de datos estandarizados, 'X_train_sel_std' y 'X_val_sel_std', no se han empleado en este cuaderno**, ya que los **algoritmos** implementados **no se centran en problemas de regresión**.\n",
    "\n",
    "- Además, cabe destacar que únicamente se han utilizado los **conjuntos de datos balanceados con la técnica del undersampling en el train** (la validación está sin balancear).\n",
    "\n",
    "- **Los resultados al modelizar estos datasets** (los de las variables seleccionadas por las regularizaciones de Ridge y Lasso ('sel')) tendrán que ser **comparados con los resultados** de los datasets obtenidos de la selección de variables y feature engineering realizadas en anteriores notebooks ('red'), es decir, el **siguiente notebook**\n",
    "\n",
    "- **El modelo que presenta los mayores f1-score de los datasets 'selected' es AdaBoosting** con un 89% y 8% de aciertos para los casos en los que la variables objetivo toma 0 y 1, respectivamente. Siendo el segundo mejor modelo en relación con estas métricas LightGBM que presenta unos valores bastante similares al anterior modelo (89% y 7%, respectivamente)."
   ]
  }
 ],
 "metadata": {
  "kernelspec": {
   "display_name": "Kernel 1",
   "language": "python",
   "name": "kernel-1"
  },
  "language_info": {
   "codemirror_mode": {
    "name": "ipython",
    "version": 3
   },
   "file_extension": ".py",
   "mimetype": "text/x-python",
   "name": "python",
   "nbconvert_exporter": "python",
   "pygments_lexer": "ipython3",
   "version": "3.11.5"
  }
 },
 "nbformat": 4,
 "nbformat_minor": 5
}
