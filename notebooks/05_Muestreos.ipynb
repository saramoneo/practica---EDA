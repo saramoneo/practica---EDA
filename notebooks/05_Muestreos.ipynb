{
 "cells": [
  {
   "cell_type": "markdown",
   "id": "56c2bb9c",
   "metadata": {},
   "source": [
    "## INTRODUCCIÓN\n",
    "\n",
    "En este notebook se van a explorar diversas técnicas de muestreo, focalizándose en estrategias como el muestreo estratificado, undersampling y oversampling. Estas técnicas son fundamentales en el manejo de conjuntos de datos desbalanceados para mejorar el rendimiento de los modelos de aprendizaje automático.\n",
    "\n",
    "En primer lugar se realizan los siguientes **muestreos**:\n",
    "\n",
    "- **Estratificado**: Divide la población en subgrupos homogéneos (estratos) y luego realiza un muestreo independiente en cada estrato.\n",
    "\n",
    "- **Undersampling**: Reduce la cantidad de ejemplos de la clase mayoritaria en un conjunto de datos desbalanceado para equilibrar las clases.\n",
    "\n",
    "- **Oversampling**: Se utiliza en conjuntos de datos desbalanceados para aumentar la cantidad de ejemplos de la clase minoritaria.\n",
    "\n",
    "Posteriormente, se va a dividir el conjunto de entrenamiento en train y **validation** para tener ya los datasets separados para el posterior balanceo de los datos.\n",
    "\n",
    "Finalmente, realizamos el **undersampling únicamente en la parte del train**, puesto que la validación no debe estar balanceada para aplicar los algoritmos y elegir los candidatos a modelos ganadores."
   ]
  },
  {
   "cell_type": "markdown",
   "id": "37ebf5c3",
   "metadata": {},
   "source": [
    "### Librerías"
   ]
  },
  {
   "cell_type": "markdown",
   "id": "38766791",
   "metadata": {},
   "source": [
    "En primer lugar, se importan las librerías necesarias y se cargan los datos guardados en los notebooks previos para emplearlos en los modelos."
   ]
  },
  {
   "cell_type": "code",
   "execution_count": 1,
   "id": "70244e54",
   "metadata": {},
   "outputs": [],
   "source": [
    "import pandas as pd \n",
    "import numpy as np\n",
    "import sklearn\n",
    "from sklearn.pipeline import Pipeline\n",
    "from sklearn import metrics\n",
    "import warnings\n",
    "import category_encoders as ce\n",
    "from sklearn.model_selection import StratifiedShuffleSplit\n",
    "from imblearn.under_sampling import RandomUnderSampler\n",
    "from imblearn.over_sampling import SMOTE\n",
    "from sklearn.model_selection import train_test_split"
   ]
  },
  {
   "cell_type": "code",
   "execution_count": 2,
   "id": "d78a5204",
   "metadata": {},
   "outputs": [],
   "source": [
    "warnings.filterwarnings('ignore')"
   ]
  },
  {
   "cell_type": "markdown",
   "id": "b2cc8747",
   "metadata": {},
   "source": [
    "Cabe indicar que tras todas las transformaciones realizadas utilizaremos los siguientes 6 datasets:\n",
    "- **'X_pd_fraud_red_train'**: Recoge todas las variables sin estandarizar del X train menos aquellas que no ofrecían ninguna información y las que hemos podido reducir con una combinación de ellas gracias a su alta correlación.\n",
    "- **'X_pd_fraud_red_train_std'**: El dataset anterior con las variables estandarizadas para utilizarlo en modelos que requieran estandarización.\n",
    "- **'y_pd_fraud_red_train'**: Recoge la variable objetivo.\n",
    "- **'X_pd_fraud_sel_train'**: Dataset con 12 de las variables originales seleccionadas por los métodos de reducción de Lasso y Ridge que se utilizará para algoritmos que tienen un alto coste computacional o para facilitar el entrenamiento de otros algoritmos reduciendo la cantidad de variables a tener en cuenta.\n",
    "- **'X_pd_fraud_sel_train_std'**: Dataset anterior estandarizado.\n",
    "- **'y_pd_fraud_sel_train'**: Recoge la variable objetivo.\n",
    "\n",
    "Los datasets de test no se van a leer en este notebook puesto que no son susceptibles de balanceo ni tampoco se utilizan para la separación del train en train y validation."
   ]
  },
  {
   "cell_type": "markdown",
   "id": "7f07faf3",
   "metadata": {},
   "source": [
    "A continuación se leen los csv que recogen los datasets de interés:"
   ]
  },
  {
   "cell_type": "code",
   "execution_count": 3,
   "id": "f99422ee",
   "metadata": {},
   "outputs": [],
   "source": [
    "X_pd_fraud_red_train = pd.read_csv(\"data/X_pd_fraud_red_train.csv\")\n",
    "X_pd_fraud_red_train_std = pd.read_csv(\"data/X_pd_fraud_red_train_std.csv\")\n",
    "y_pd_fraud_red_train = pd.read_csv(\"data/y_pd_fraud_red_train.csv\")\n",
    "X_pd_fraud_sel_train = pd.read_csv(\"data/X_pd_fraud_sel_train.csv\")\n",
    "X_pd_fraud_sel_train_std = pd.read_csv(\"data/X_pd_fraud_sel_train_std.csv\")\n",
    "y_pd_fraud_sel_train = pd.read_csv(\"data/y_pd_fraud_sel_train.csv\")"
   ]
  },
  {
   "cell_type": "markdown",
   "id": "8df5141d",
   "metadata": {},
   "source": [
    "Eliminamos la variable \"Unnamed: 0\" de todos los conjuntos de datos puesto que se ha creado automáticamente al guardarlos en el notebook anterior."
   ]
  },
  {
   "cell_type": "code",
   "execution_count": 4,
   "id": "db824735",
   "metadata": {},
   "outputs": [],
   "source": [
    "X_pd_fraud_red_train = X_pd_fraud_red_train.drop(columns=[\"Unnamed: 0\"])\n",
    "X_pd_fraud_red_train_std = X_pd_fraud_red_train_std.drop(columns=[\"Unnamed: 0\"])\n",
    "y_pd_fraud_red_train = y_pd_fraud_red_train.drop(columns=[\"Unnamed: 0\"])\n",
    "X_pd_fraud_sel_train = X_pd_fraud_sel_train.drop(columns=[\"Unnamed: 0\"])\n",
    "X_pd_fraud_sel_train_std = X_pd_fraud_sel_train_std.drop(columns=[\"Unnamed: 0\"])\n",
    "y_pd_fraud_sel_train = y_pd_fraud_sel_train.drop(columns=[\"Unnamed: 0\"])"
   ]
  },
  {
   "cell_type": "markdown",
   "id": "e9548410",
   "metadata": {},
   "source": [
    "# Muestreos\n",
    "Todos los muestreos a realizar a continuación se van a ejecutar para los datasets de entrenamiento cargados con anterioridad de X e y: \n",
    "  - 'X_pd_fraud_red_train'\n",
    "  - 'y_pd_fraud_red_train'\n",
    "  - 'X_pd_fraud_red_train_std'\n",
    "  - 'X_pd_fraud_sel_train'\n",
    "  - 'y_pd_fraud_sel_train'\n",
    "  - 'X_pd_fraud_sel_train_std'"
   ]
  },
  {
   "cell_type": "markdown",
   "id": "aac3fbfd",
   "metadata": {},
   "source": [
    "## Muestreo estratificado\n",
    "[Información adicional](https://scikit-learn.org/stable/modules/generated/sklearn.model_selection.StratifiedShuffleSplit.html)"
   ]
  },
  {
   "cell_type": "markdown",
   "id": "243925a4",
   "metadata": {},
   "source": [
    "El muestreo estratificado es una técnica en aprendizaje automático que implica dividir un conjunto de datos en subgrupos, llamados estratos, y luego realizar un muestreo independiente en cada estrato. El objetivo principal es garantizar que cada subgrupo esté representado de manera proporcional en la muestra final, lo que ayuda a evitar sesgos y a capturar la variabilidad presente en cada estrato. "
   ]
  },
  {
   "cell_type": "markdown",
   "id": "3542da63",
   "metadata": {},
   "source": [
    "![texto](https://enciclopediaeconomica.com/wp-content/uploads/2019/03/Muestreo-estratificado.jpg)"
   ]
  },
  {
   "cell_type": "markdown",
   "id": "2a5bc8dc",
   "metadata": {},
   "source": [
    "A continuación se define una función para realizar el estratificado, la cual toma un conjunto de características (X) y una variable objetivo (y), y realiza una división estratificada en conjuntos de entrenamiento y validación. Posteriormente, muestra las proporciones de clases en el conjunto original y en el conjunto de entrenamiento estratificado. Finalmente, devuelve los conjuntos de características y variables objetivo para el conjunto de entrenamiento y validación.\n",
    "\n",
    "- n_splits=1, puesto que se hace una única división\n",
    "- test_size=0.2, puesto que se está asignando el 20% de los datos al conjunto de prueba.\n",
    "- random_state=42, elección arbitraria de la semilla."
   ]
  },
  {
   "cell_type": "code",
   "execution_count": 5,
   "id": "eb5eb480",
   "metadata": {},
   "outputs": [],
   "source": [
    "def stratified_splitter(X, y):\n",
    "    stratified_splitter = StratifiedShuffleSplit(n_splits=1, test_size=0.2, random_state=42)\n",
    "\n",
    "    for train_index, val_index in stratified_splitter.split(X, y):\n",
    "        X_train_stratified, X_val_stratified = X.iloc[train_index], X.iloc[val_index]\n",
    "        y_train_stratified, y_val_stratified = y.iloc[train_index], y.iloc[val_index]\n",
    "\n",
    "    print(\"Proporciones de clases en el conjunto original:\")\n",
    "    print(y.value_counts(normalize=True))\n",
    "\n",
    "    print(\"\\nProporciones de clases en el conjunto de entrenamiento estratificado:\")\n",
    "    print(y_train_stratified.value_counts(normalize=True))\n",
    "\n",
    "    return X_train_stratified, X_val_stratified, y_train_stratified, y_val_stratified"
   ]
  },
  {
   "cell_type": "markdown",
   "id": "986bcd56",
   "metadata": {},
   "source": [
    "A continuación se realizará una división estratificada del conjunto de datos 'X_train_red' e 'y_train_red' en conjuntos de entrenamiento y validación. Además, imprimirá las proporciones de clases en el conjunto original y en el conjunto de entrenamiento estratificado."
   ]
  },
  {
   "cell_type": "code",
   "execution_count": 6,
   "id": "f397444a",
   "metadata": {
    "scrolled": false
   },
   "outputs": [
    {
     "name": "stdout",
     "output_type": "stream",
     "text": [
      "Proporciones de clases en el conjunto original:\n",
      "fraud_bool\n",
      "0             0.988971\n",
      "1             0.011029\n",
      "Name: proportion, dtype: float64\n",
      "\n",
      "Proporciones de clases en el conjunto de entrenamiento estratificado:\n",
      "fraud_bool\n",
      "0             0.988972\n",
      "1             0.011028\n",
      "Name: proportion, dtype: float64\n"
     ]
    },
    {
     "data": {
      "text/plain": [
       "(        income  name_email_similarity  prev_address_months_count  \\\n",
       " 117311     0.2               0.550879                       -1.0   \n",
       " 37518      0.8               0.672267                       -1.0   \n",
       " 494826     0.1               0.933442                       24.0   \n",
       " 220779     0.9               0.841815                       -1.0   \n",
       " 296148     0.9               0.196882                       -1.0   \n",
       " ...        ...                    ...                        ...   \n",
       " 758688     0.9               0.500027                       26.0   \n",
       " 165490     0.8               0.108229                       -1.0   \n",
       " 645057     0.6               0.500067                       50.0   \n",
       " 716104     0.9               0.081564                       -1.0   \n",
       " 425514     0.9               0.523258                       -1.0   \n",
       " \n",
       "         current_address_months_count  customer_age  days_since_request  \\\n",
       " 117311                          55.0            30            0.009349   \n",
       " 37518                           96.0            50            0.040419   \n",
       " 494826                          10.0            30            0.013549   \n",
       " 220779                          34.0            40            0.008641   \n",
       " 296148                          76.0            30            0.001722   \n",
       " ...                              ...           ...                 ...   \n",
       " 758688                           2.0            30            0.035973   \n",
       " 165490                         177.0            30            0.006214   \n",
       " 645057                          16.0            30            0.012752   \n",
       " 716104                          71.0            50            9.962891   \n",
       " 425514                          25.0            40            0.022984   \n",
       " \n",
       "         intended_balcon_amount  payment_type  zip_count_4w  \\\n",
       " 117311               -1.000000             0         883.0   \n",
       " 37518                -1.000000             1         459.0   \n",
       " 494826               -1.000000             2        1771.0   \n",
       " 220779               37.868802             0        1312.0   \n",
       " 296148               -1.000000             1        2050.0   \n",
       " ...                        ...           ...           ...   \n",
       " 758688               -1.000000             1         393.0   \n",
       " 165490               -1.000000             2         519.0   \n",
       " 645057               -1.000000             1        2196.0   \n",
       " 716104               -1.000000             2         719.0   \n",
       " 425514               99.177327             3         928.0   \n",
       " \n",
       "         bank_branch_count_8w  ...  has_other_cards  proposed_credit_limit  \\\n",
       " 117311                  15.0  ...                0                  200.0   \n",
       " 37518                 1528.0  ...                1                 2000.0   \n",
       " 494826                   0.0  ...                0                  200.0   \n",
       " 220779                  26.0  ...                0                  200.0   \n",
       " 296148                   1.0  ...                0                 1000.0   \n",
       " ...                      ...  ...              ...                    ...   \n",
       " 758688                 817.0  ...                0                  200.0   \n",
       " 165490                   0.0  ...                0                  200.0   \n",
       " 645057                  13.0  ...                1                 1000.0   \n",
       " 716104                   0.0  ...                1                  200.0   \n",
       " 425514                  20.0  ...                0                  200.0   \n",
       " \n",
       "         foreign_request  source  session_length_in_minutes  device_os  \\\n",
       " 117311                0       0                   6.366372          4   \n",
       " 37518                 0       0                   5.168397          0   \n",
       " 494826                0       0                  11.761671          4   \n",
       " 220779                0       0                   2.066262          4   \n",
       " 296148                0       0                   0.996429          0   \n",
       " ...                 ...     ...                        ...        ...   \n",
       " 758688                0       0                   3.061954          0   \n",
       " 165490                1       0                   1.300087          1   \n",
       " 645057                0       0                   4.159841          1   \n",
       " 716104                0       0                   1.359641          0   \n",
       " 425514                0       0                   5.642777          1   \n",
       " \n",
       "         keep_alive_session  device_distinct_emails_8w  month  mean_velocities  \n",
       " 117311                   1                          1      6      3389.972045  \n",
       " 37518                    0                          1      4      5857.783798  \n",
       " 494826                   1                          1      2      8023.944653  \n",
       " 220779                   0                          1      2      6583.166182  \n",
       " 296148                   1                          1      1      7008.297519  \n",
       " ...                    ...                        ...    ...              ...  \n",
       " 758688                   1                          1      7      3553.356763  \n",
       " 165490                   1                          1      7      3084.446446  \n",
       " 645057                   0                          1      3      6581.967207  \n",
       " 716104                   1                          1      5      3649.705988  \n",
       " 425514                   1                          1      2      8506.455848  \n",
       " \n",
       " [640000 rows x 28 columns],\n",
       "         income  name_email_similarity  prev_address_months_count  \\\n",
       " 170877     0.9               0.266199                       -1.0   \n",
       " 273428     0.7               0.324718                       -1.0   \n",
       " 13368      0.9               0.448350                       28.0   \n",
       " 9327       0.4               0.845978                       -1.0   \n",
       " 765962     0.8               0.799161                       -1.0   \n",
       " ...        ...                    ...                        ...   \n",
       " 152933     0.9               0.888424                       -1.0   \n",
       " 632693     0.4               0.257836                       29.0   \n",
       " 111487     0.1               0.843837                       96.0   \n",
       " 552120     0.6               0.062290                       26.0   \n",
       " 707583     0.4               0.664179                       -1.0   \n",
       " \n",
       "         current_address_months_count  customer_age  days_since_request  \\\n",
       " 170877                          61.0            20            0.011010   \n",
       " 273428                          47.0            40            0.027353   \n",
       " 13368                            2.0            20            0.007967   \n",
       " 9327                           296.0            30            0.007690   \n",
       " 765962                          21.0            20            0.017840   \n",
       " ...                              ...           ...                 ...   \n",
       " 152933                          75.0            40            0.008703   \n",
       " 632693                          -1.0            20            0.011414   \n",
       " 111487                           0.0            30           10.216851   \n",
       " 552120                          22.0            30            0.032256   \n",
       " 707583                          51.0            20            0.022374   \n",
       " \n",
       "         intended_balcon_amount  payment_type  zip_count_4w  \\\n",
       " 170877               -1.000000             1        2637.0   \n",
       " 273428               -1.000000             2         992.0   \n",
       " 13368                -1.000000             2         520.0   \n",
       " 9327                 -1.000000             1        2122.0   \n",
       " 765962               -1.000000             1        2004.0   \n",
       " ...                        ...           ...           ...   \n",
       " 152933               -1.000000             1        3217.0   \n",
       " 632693               -1.000000             1        1216.0   \n",
       " 111487               -1.000000             2        2880.0   \n",
       " 552120               25.813121             0        1619.0   \n",
       " 707583               10.704087             0        1295.0   \n",
       " \n",
       "         bank_branch_count_8w  ...  has_other_cards  proposed_credit_limit  \\\n",
       " 170877                  20.0  ...                0                  500.0   \n",
       " 273428                   1.0  ...                1                  200.0   \n",
       " 13368                    0.0  ...                0                  200.0   \n",
       " 9327                     2.0  ...                1                 1500.0   \n",
       " 765962                  28.0  ...                0                  200.0   \n",
       " ...                      ...  ...              ...                    ...   \n",
       " 152933                  16.0  ...                0                 1500.0   \n",
       " 632693                   8.0  ...                0                  200.0   \n",
       " 111487                   0.0  ...                0                 2000.0   \n",
       " 552120                  25.0  ...                0                  200.0   \n",
       " 707583                   5.0  ...                0                  200.0   \n",
       " \n",
       "         foreign_request  source  session_length_in_minutes  device_os  \\\n",
       " 170877                0       0                   3.573649          0   \n",
       " 273428                0       0                   6.054849          4   \n",
       " 13368                 0       0                   5.944558          1   \n",
       " 9327                  0       0                   5.094384          4   \n",
       " 765962                0       0                   7.804327          4   \n",
       " ...                 ...     ...                        ...        ...   \n",
       " 152933                0       0                   4.734865          0   \n",
       " 632693                0       0                   3.691648          0   \n",
       " 111487                0       0                   6.213599          3   \n",
       " 552120                0       0                   6.593543          0   \n",
       " 707583                0       0                   1.777363          0   \n",
       " \n",
       "         keep_alive_session  device_distinct_emails_8w  month  mean_velocities  \n",
       " 170877                   0                          1      4      3687.569126  \n",
       " 273428                   0                          1      6      3786.762507  \n",
       " 13368                    1                          1      7      3679.043635  \n",
       " 9327                     0                          1      3      4953.818972  \n",
       " 765962                   0                          1      4      3930.813394  \n",
       " ...                    ...                        ...    ...              ...  \n",
       " 152933                   0                          1      4      3840.223768  \n",
       " 632693                   1                          1      3      5293.675512  \n",
       " 111487                   0                          1      3      4362.031654  \n",
       " 552120                   1                          1      0      4378.956541  \n",
       " 707583                   0                          1      4      4391.121002  \n",
       " \n",
       " [160000 rows x 28 columns],\n",
       "         fraud_bool\n",
       " 117311           0\n",
       " 37518            0\n",
       " 494826           0\n",
       " 220779           0\n",
       " 296148           0\n",
       " ...            ...\n",
       " 758688           0\n",
       " 165490           0\n",
       " 645057           0\n",
       " 716104           0\n",
       " 425514           0\n",
       " \n",
       " [640000 rows x 1 columns],\n",
       "         fraud_bool\n",
       " 170877           0\n",
       " 273428           0\n",
       " 13368            0\n",
       " 9327             0\n",
       " 765962           0\n",
       " ...            ...\n",
       " 152933           0\n",
       " 632693           0\n",
       " 111487           0\n",
       " 552120           0\n",
       " 707583           0\n",
       " \n",
       " [160000 rows x 1 columns])"
      ]
     },
     "execution_count": 6,
     "metadata": {},
     "output_type": "execute_result"
    }
   ],
   "source": [
    "stratified_splitter(X_pd_fraud_red_train, y_pd_fraud_red_train) "
   ]
  },
  {
   "cell_type": "markdown",
   "id": "1e79b1f3",
   "metadata": {},
   "source": [
    "A continuación, se realizará el mismo procedimiento con 'X_train_red_std' e 'y_train_red'; es decir, con el conjunto de características X reduction estandarizadas:"
   ]
  },
  {
   "cell_type": "code",
   "execution_count": 7,
   "id": "3583baaf",
   "metadata": {
    "scrolled": false
   },
   "outputs": [
    {
     "name": "stdout",
     "output_type": "stream",
     "text": [
      "Proporciones de clases en el conjunto original:\n",
      "fraud_bool\n",
      "0             0.988971\n",
      "1             0.011029\n",
      "Name: proportion, dtype: float64\n",
      "\n",
      "Proporciones de clases en el conjunto de entrenamiento estratificado:\n",
      "fraud_bool\n",
      "0             0.988972\n",
      "1             0.011028\n",
      "Name: proportion, dtype: float64\n"
     ]
    },
    {
     "data": {
      "text/plain": [
       "(          income  name_email_similarity  prev_address_months_count  \\\n",
       " 117311 -1.248818               0.198493                  -0.402198   \n",
       " 37518   0.817528               0.618318                  -0.402198   \n",
       " 494826 -1.593209               1.521598                   0.165604   \n",
       " 220779  1.161919               1.204704                  -0.402198   \n",
       " 296148  1.161919              -1.025819                  -0.402198   \n",
       " ...          ...                    ...                        ...   \n",
       " 758688  1.161919               0.022619                   0.211028   \n",
       " 165490  0.817528              -1.332429                  -0.402198   \n",
       " 645057  0.128746               0.022758                   0.756117   \n",
       " 716104  1.161919              -1.424649                  -0.402198   \n",
       " 425514  1.161919               0.102965                  -0.402198   \n",
       " \n",
       "         current_address_months_count  customer_age  days_since_request  \\\n",
       " 117311                     -0.357989     -0.307116           -0.188598   \n",
       " 37518                       0.105562      1.356764           -0.182813   \n",
       " 494826                     -0.866764     -0.307116           -0.187816   \n",
       " 220779                     -0.595418      0.524824           -0.188730   \n",
       " 296148                     -0.120560     -0.307116           -0.190018   \n",
       " ...                              ...           ...                 ...   \n",
       " 758688                     -0.957213     -0.307116           -0.183640   \n",
       " 165490                      1.021358     -0.307116           -0.189182   \n",
       " 645057                     -0.798928     -0.307116           -0.187964   \n",
       " 716104                     -0.177091      1.356764            1.664750   \n",
       " 425514                     -0.697173      0.524824           -0.186059   \n",
       " \n",
       "         intended_balcon_amount  payment_type  zip_count_4w  \\\n",
       " 117311               -1.000000     -1.274627     -0.686559   \n",
       " 37518                -1.000000     -0.240028     -1.108373   \n",
       " 494826               -1.000000      0.794571      0.196862   \n",
       " 220779                1.441390     -1.274627     -0.259772   \n",
       " 296148               -1.000000     -0.240028      0.474423   \n",
       " ...                        ...           ...           ...   \n",
       " 758688               -1.000000     -0.240028     -1.174033   \n",
       " 165490               -1.000000      0.794571     -1.048683   \n",
       " 645057               -1.000000     -0.240028      0.619670   \n",
       " 716104               -1.000000      0.794571     -0.849714   \n",
       " 425514                4.468403      1.829170     -0.641791   \n",
       " \n",
       "         bank_branch_count_8w  ...  has_other_cards  proposed_credit_limit  \\\n",
       " 117311             -0.369066  ...        -0.535768              -0.648367   \n",
       " 37518               2.920686  ...         1.866481               3.042459   \n",
       " 494826             -0.401681  ...        -0.535768              -0.648367   \n",
       " 220779             -0.345149  ...        -0.535768              -0.648367   \n",
       " 296148             -0.399507  ...        -0.535768               0.992000   \n",
       " ...                      ...  ...              ...                    ...   \n",
       " 758688              1.374742  ...        -0.535768              -0.648367   \n",
       " 165490             -0.401681  ...        -0.535768              -0.648367   \n",
       " 645057             -0.373415  ...         1.866481               0.992000   \n",
       " 716104             -0.401681  ...         1.866481              -0.648367   \n",
       " 425514             -0.358195  ...        -0.535768              -0.648367   \n",
       " \n",
       "         foreign_request    source  session_length_in_minutes  device_os  \\\n",
       " 117311        -0.161225 -0.084645                  -0.146533   1.312284   \n",
       " 37518         -0.161225 -0.084645                  -0.295781  -1.106775   \n",
       " 494826        -0.161225 -0.084645                   0.525633   1.312284   \n",
       " 220779        -0.161225 -0.084645                  -0.682255   1.312284   \n",
       " 296148        -0.161225 -0.084645                  -0.815539  -1.106775   \n",
       " ...                 ...       ...                        ...        ...   \n",
       " 758688        -0.161225 -0.084645                  -0.558209  -1.106775   \n",
       " 165490         6.202507 -0.084645                  -0.777708  -0.502010   \n",
       " 645057        -0.161225 -0.084645                  -0.421430  -0.502010   \n",
       " 716104        -0.161225 -0.084645                  -0.770289  -1.106775   \n",
       " 425514        -0.161225 -0.084645                  -0.236681  -0.502010   \n",
       " \n",
       "         keep_alive_session  device_distinct_emails_8w     month  \\\n",
       " 117311            0.857179                  -0.101106  1.227157   \n",
       " 37518            -1.166617                  -0.101106  0.322008   \n",
       " 494826            0.857179                  -0.101106 -0.583141   \n",
       " 220779           -1.166617                  -0.101106 -0.583141   \n",
       " 296148            0.857179                  -0.101106 -1.035715   \n",
       " ...                    ...                        ...       ...   \n",
       " 758688            0.857179                  -0.101106  1.679731   \n",
       " 165490            0.857179                  -0.101106  1.679731   \n",
       " 645057           -1.166617                  -0.101106 -0.130567   \n",
       " 716104            0.857179                  -0.101106  0.774582   \n",
       " 425514            0.857179                  -0.101106 -0.583141   \n",
       " \n",
       "         mean_velocities  \n",
       " 117311        -1.147682  \n",
       " 37518          0.511673  \n",
       " 494826         1.968198  \n",
       " 220779         0.999420  \n",
       " 296148         1.285278  \n",
       " ...                 ...  \n",
       " 758688        -1.037822  \n",
       " 165490        -1.353117  \n",
       " 645057         0.998614  \n",
       " 716104        -0.973037  \n",
       " 425514         2.292639  \n",
       " \n",
       " [640000 rows x 28 columns],\n",
       "           income  name_email_similarity  prev_address_months_count  \\\n",
       " 170877  1.161919              -0.786084                  -0.402198   \n",
       " 273428  0.473137              -0.583695                  -0.402198   \n",
       " 13368   1.161919              -0.156107                   0.256452   \n",
       " 9327   -0.560036               1.219101                  -0.402198   \n",
       " 765962  0.817528               1.057183                  -0.402198   \n",
       " ...          ...                    ...                        ...   \n",
       " 152933  1.161919               1.365905                  -0.402198   \n",
       " 632693 -0.560036              -0.815006                   0.279164   \n",
       " 111487 -1.593209               1.211698                   1.800872   \n",
       " 552120  0.128746              -1.491310                   0.211028   \n",
       " 707583 -0.560036               0.590343                  -0.402198   \n",
       " \n",
       "         current_address_months_count  customer_age  days_since_request  \\\n",
       " 170877                     -0.290152     -1.139056           -0.188289   \n",
       " 273428                     -0.448438      0.524824           -0.185246   \n",
       " 13368                      -0.957213     -1.139056           -0.188855   \n",
       " 9327                        2.366787     -0.307116           -0.188907   \n",
       " 765962                     -0.742397     -1.139056           -0.187017   \n",
       " ...                              ...           ...                 ...   \n",
       " 152933                     -0.131866      0.524824           -0.188718   \n",
       " 632693                     -0.991132     -1.139056           -0.188213   \n",
       " 111487                     -0.979826     -0.307116            1.712037   \n",
       " 552120                     -0.731091     -0.307116           -0.184333   \n",
       " 707583                     -0.403213     -1.139056           -0.186173   \n",
       " \n",
       "         intended_balcon_amount  payment_type  zip_count_4w  \\\n",
       " 170877               -1.000000     -0.240028      1.058396   \n",
       " 273428               -1.000000      0.794571     -0.578122   \n",
       " 13368                -1.000000      0.794571     -1.047688   \n",
       " 9327                 -1.000000     -0.240028      0.546052   \n",
       " 765962               -1.000000     -0.240028      0.428660   \n",
       " ...                        ...           ...           ...   \n",
       " 152933               -1.000000     -0.240028      1.635406   \n",
       " 632693               -1.000000     -0.240028     -0.355277   \n",
       " 111487               -1.000000      0.794571      1.300143   \n",
       " 552120                0.846159     -1.274627      0.045645   \n",
       " 707583                0.100174     -1.274627     -0.276684   \n",
       " \n",
       "         bank_branch_count_8w  ...  has_other_cards  proposed_credit_limit  \\\n",
       " 170877             -0.358195  ...        -0.535768              -0.033229   \n",
       " 273428             -0.399507  ...         1.866481              -0.648367   \n",
       " 13368              -0.401681  ...        -0.535768              -0.648367   \n",
       " 9327               -0.397332  ...         1.866481               2.017230   \n",
       " 765962             -0.340800  ...        -0.535768              -0.648367   \n",
       " ...                      ...  ...              ...                    ...   \n",
       " 152933             -0.366892  ...        -0.535768               2.017230   \n",
       " 632693             -0.384287  ...        -0.535768              -0.648367   \n",
       " 111487             -0.401681  ...        -0.535768               3.042459   \n",
       " 552120             -0.347323  ...        -0.535768              -0.648367   \n",
       " 707583             -0.390809  ...        -0.535768              -0.648367   \n",
       " \n",
       "         foreign_request    source  session_length_in_minutes  device_os  \\\n",
       " 170877        -0.161225 -0.084645                  -0.494460  -1.106775   \n",
       " 273428        -0.161225 -0.084645                  -0.185343   1.312284   \n",
       " 13368         -0.161225 -0.084645                  -0.199084  -0.502010   \n",
       " 9327          -0.161225 -0.084645                  -0.305001   1.312284   \n",
       " 765962        -0.161225 -0.084645                   0.032613   1.312284   \n",
       " ...                 ...       ...                        ...        ...   \n",
       " 152933        -0.161225 -0.084645                  -0.349792  -1.106775   \n",
       " 632693        -0.161225 -0.084645                  -0.479759  -1.106775   \n",
       " 111487        -0.161225 -0.084645                  -0.165566   0.707520   \n",
       " 552120        -0.161225 -0.084645                  -0.118231  -1.106775   \n",
       " 707583        -0.161225 -0.084645                  -0.718248  -1.106775   \n",
       " \n",
       "         keep_alive_session  device_distinct_emails_8w     month  \\\n",
       " 170877           -1.166617                  -0.101106  0.322008   \n",
       " 273428           -1.166617                  -0.101106  1.227157   \n",
       " 13368             0.857179                  -0.101106  1.679731   \n",
       " 9327             -1.166617                  -0.101106 -0.130567   \n",
       " 765962           -1.166617                  -0.101106  0.322008   \n",
       " ...                    ...                        ...       ...   \n",
       " 152933           -1.166617                  -0.101106  0.322008   \n",
       " 632693            0.857179                  -0.101106 -0.130567   \n",
       " 111487           -1.166617                  -0.101106 -0.130567   \n",
       " 552120            0.857179                  -0.101106 -1.488290   \n",
       " 707583           -1.166617                  -0.101106  0.322008   \n",
       " \n",
       "         mean_velocities  \n",
       " 170877        -0.947578  \n",
       " 273428        -0.880881  \n",
       " 13368         -0.953311  \n",
       " 9327          -0.096152  \n",
       " 765962        -0.784021  \n",
       " ...                 ...  \n",
       " 152933        -0.844933  \n",
       " 632693         0.132367  \n",
       " 111487        -0.494070  \n",
       " 552120        -0.482690  \n",
       " 707583        -0.474510  \n",
       " \n",
       " [160000 rows x 28 columns],\n",
       "         fraud_bool\n",
       " 117311           0\n",
       " 37518            0\n",
       " 494826           0\n",
       " 220779           0\n",
       " 296148           0\n",
       " ...            ...\n",
       " 758688           0\n",
       " 165490           0\n",
       " 645057           0\n",
       " 716104           0\n",
       " 425514           0\n",
       " \n",
       " [640000 rows x 1 columns],\n",
       "         fraud_bool\n",
       " 170877           0\n",
       " 273428           0\n",
       " 13368            0\n",
       " 9327             0\n",
       " 765962           0\n",
       " ...            ...\n",
       " 152933           0\n",
       " 632693           0\n",
       " 111487           0\n",
       " 552120           0\n",
       " 707583           0\n",
       " \n",
       " [160000 rows x 1 columns])"
      ]
     },
     "execution_count": 7,
     "metadata": {},
     "output_type": "execute_result"
    }
   ],
   "source": [
    "stratified_splitter(X_pd_fraud_red_train_std, y_pd_fraud_red_train)"
   ]
  },
  {
   "cell_type": "markdown",
   "id": "9a0cbdf1",
   "metadata": {},
   "source": [
    "A continuación, se realizará el mismo procedimiento con 'X_train_sel' e 'y_train_sel':"
   ]
  },
  {
   "cell_type": "code",
   "execution_count": 8,
   "id": "55f747f4",
   "metadata": {
    "scrolled": false
   },
   "outputs": [
    {
     "name": "stdout",
     "output_type": "stream",
     "text": [
      "Proporciones de clases en el conjunto original:\n",
      "fraud_bool\n",
      "0             0.988971\n",
      "1             0.011029\n",
      "Name: proportion, dtype: float64\n",
      "\n",
      "Proporciones de clases en el conjunto de entrenamiento estratificado:\n",
      "fraud_bool\n",
      "0             0.988972\n",
      "1             0.011028\n",
      "Name: proportion, dtype: float64\n"
     ]
    },
    {
     "data": {
      "text/plain": [
       "(        income  name_email_similarity  prev_address_months_count  \\\n",
       " 117313     0.8               0.053698                       27.0   \n",
       " 37527      0.3               0.998677                       11.0   \n",
       " 494750     0.9               0.737958                       -1.0   \n",
       " 220781     0.3               0.403609                      236.0   \n",
       " 296125     0.2               0.169192                      108.0   \n",
       " ...        ...                    ...                        ...   \n",
       " 758716     0.9               0.491015                       -1.0   \n",
       " 165507     0.8               0.380571                      103.0   \n",
       " 645005     0.9               0.066943                       -1.0   \n",
       " 716094     0.7               0.733941                       -1.0   \n",
       " 425458     0.1               0.038410                       48.0   \n",
       " \n",
       "         customer_age  employment_status  credit_risk_score  email_is_free  \\\n",
       " 117313            30                  0               90.0              0   \n",
       " 37527             30                  1              159.0              0   \n",
       " 494750            40                  0               87.0              0   \n",
       " 220781            20                  0              114.0              0   \n",
       " 296125            30                  0               54.0              1   \n",
       " ...              ...                ...                ...            ...   \n",
       " 758716            50                  2               78.0              1   \n",
       " 165507            20                  0              101.0              0   \n",
       " 645005            30                  0              131.0              0   \n",
       " 716094            40                  4               80.0              1   \n",
       " 425458            30                  1               80.0              1   \n",
       " \n",
       "         housing_status  phone_home_valid  has_other_cards  device_os  \\\n",
       " 117313               2                 0                0          4   \n",
       " 37527                2                 1                0          4   \n",
       " 494750               2                 1                0          4   \n",
       " 220781               4                 0                0          4   \n",
       " 296125               1                 0                0          1   \n",
       " ...                ...               ...              ...        ...   \n",
       " 758716               0                 1                1          4   \n",
       " 165507               4                 0                0          4   \n",
       " 645005               2                 0                1          0   \n",
       " 716094               4                 1                0          2   \n",
       " 425458               2                 0                0          1   \n",
       " \n",
       "         keep_alive_session  \n",
       " 117313                   1  \n",
       " 37527                    0  \n",
       " 494750                   1  \n",
       " 220781                   1  \n",
       " 296125                   1  \n",
       " ...                    ...  \n",
       " 758716                   1  \n",
       " 165507                   0  \n",
       " 645005                   0  \n",
       " 716094                   0  \n",
       " 425458                   0  \n",
       " \n",
       " [640000 rows x 12 columns],\n",
       "         income  name_email_similarity  prev_address_months_count  \\\n",
       " 170900     0.1               0.766572                       -1.0   \n",
       " 273441     0.4               0.322636                       -1.0   \n",
       " 13367      0.1               0.216577                       -1.0   \n",
       " 9332       0.4               0.042050                      119.0   \n",
       " 765975     0.8               0.317143                       11.0   \n",
       " ...        ...                    ...                        ...   \n",
       " 152939     0.8               0.016240                       -1.0   \n",
       " 632649     0.1               0.502285                       -1.0   \n",
       " 111500     0.9               0.339756                      112.0   \n",
       " 552041     0.3               0.915984                       -1.0   \n",
       " 707572     0.4               0.873428                       -1.0   \n",
       " \n",
       "         customer_age  employment_status  credit_risk_score  email_is_free  \\\n",
       " 170900            10                  0              173.0              0   \n",
       " 273441            50                  0              231.0              1   \n",
       " 13367             30                  5              128.0              1   \n",
       " 9332              30                  1              115.0              0   \n",
       " 765975            30                  0               92.0              1   \n",
       " ...              ...                ...                ...            ...   \n",
       " 152939            60                  1               42.0              0   \n",
       " 632649            40                  2              115.0              0   \n",
       " 111500            30                  0              165.0              0   \n",
       " 552041            30                  0               80.0              1   \n",
       " 707572            30                  5              133.0              1   \n",
       " \n",
       "         housing_status  phone_home_valid  has_other_cards  device_os  \\\n",
       " 170900               4                 0                0          1   \n",
       " 273441               0                 0                1          1   \n",
       " 13367                1                 0                0          4   \n",
       " 9332                 2                 1                0          1   \n",
       " 765975               3                 0                1          0   \n",
       " ...                ...               ...              ...        ...   \n",
       " 152939               0                 0                0          1   \n",
       " 632649               0                 1                0          4   \n",
       " 111500               3                 1                1          0   \n",
       " 552041               1                 0                1          1   \n",
       " 707572               1                 1                0          0   \n",
       " \n",
       "         keep_alive_session  \n",
       " 170900                   1  \n",
       " 273441                   1  \n",
       " 13367                    1  \n",
       " 9332                     1  \n",
       " 765975                   1  \n",
       " ...                    ...  \n",
       " 152939                   0  \n",
       " 632649                   0  \n",
       " 111500                   0  \n",
       " 552041                   0  \n",
       " 707572                   1  \n",
       " \n",
       " [160000 rows x 12 columns],\n",
       "         fraud_bool\n",
       " 117313           0\n",
       " 37527            0\n",
       " 494750           0\n",
       " 220781           0\n",
       " 296125           0\n",
       " ...            ...\n",
       " 758716           0\n",
       " 165507           0\n",
       " 645005           0\n",
       " 716094           0\n",
       " 425458           0\n",
       " \n",
       " [640000 rows x 1 columns],\n",
       "         fraud_bool\n",
       " 170900           0\n",
       " 273441           0\n",
       " 13367            0\n",
       " 9332             0\n",
       " 765975           0\n",
       " ...            ...\n",
       " 152939           0\n",
       " 632649           0\n",
       " 111500           0\n",
       " 552041           0\n",
       " 707572           0\n",
       " \n",
       " [160000 rows x 1 columns])"
      ]
     },
     "execution_count": 8,
     "metadata": {},
     "output_type": "execute_result"
    }
   ],
   "source": [
    "stratified_splitter(X_pd_fraud_sel_train, y_pd_fraud_sel_train)"
   ]
  },
  {
   "cell_type": "markdown",
   "id": "73002f28",
   "metadata": {},
   "source": [
    "Por último, se realizará el mismo procedimiento con 'X_train_sel_std' e 'y_train_sel'; es decir, con el conjunto de características X selection estandarizadas:"
   ]
  },
  {
   "cell_type": "code",
   "execution_count": 9,
   "id": "64921eda",
   "metadata": {
    "scrolled": false
   },
   "outputs": [
    {
     "name": "stdout",
     "output_type": "stream",
     "text": [
      "Proporciones de clases en el conjunto original:\n",
      "fraud_bool\n",
      "0             0.988971\n",
      "1             0.011029\n",
      "Name: proportion, dtype: float64\n",
      "\n",
      "Proporciones de clases en el conjunto de entrenamiento estratificado:\n",
      "fraud_bool\n",
      "0             0.988972\n",
      "1             0.011028\n",
      "Name: proportion, dtype: float64\n"
     ]
    },
    {
     "data": {
      "text/plain": [
       "(          income  name_email_similarity  prev_address_months_count  \\\n",
       " 117313  0.817723              -1.522365                   0.233321   \n",
       " 37527  -0.903724               1.747690                  -0.129826   \n",
       " 494750  1.162013               0.845482                  -0.402185   \n",
       " 220781 -0.903724              -0.311513                   4.976919   \n",
       " 296125 -1.248014              -1.122706                   2.071749   \n",
       " ...          ...                    ...                        ...   \n",
       " 758716  1.162013              -0.009052                  -0.402185   \n",
       " 165507  0.817723              -0.391238                   1.958266   \n",
       " 645005  1.162013              -1.476532                  -0.402185   \n",
       " 716094  0.473434               0.831582                  -0.402185   \n",
       " 425458 -1.592303              -1.575267                   0.709950   \n",
       " \n",
       "         customer_age  employment_status  credit_risk_score  email_is_free  \\\n",
       " 117313     -0.306876          -0.474390          -0.588238      -1.061884   \n",
       " 37527      -0.306876           0.305847           0.401985      -1.061884   \n",
       " 494750      0.524311          -0.474390          -0.631291      -1.061884   \n",
       " 220781     -1.138063          -0.474390          -0.243813      -1.061884   \n",
       " 296125     -0.306876          -0.474390          -1.104876       0.941723   \n",
       " ...              ...                ...                ...            ...   \n",
       " 758716      1.355497           1.086083          -0.760451       0.941723   \n",
       " 165507     -1.138063          -0.474390          -0.430377      -1.061884   \n",
       " 645005     -0.306876          -0.474390           0.000155      -1.061884   \n",
       " 716094      0.524311           2.646556          -0.731749       0.941723   \n",
       " 425458     -0.306876           0.305847          -0.731749       0.941723   \n",
       " \n",
       "         housing_status  phone_home_valid  has_other_cards  device_os  \\\n",
       " 117313        0.181309         -0.845684        -0.535391   1.310495   \n",
       " 37527         0.181309          1.182475        -0.535391   1.310495   \n",
       " 494750        0.181309          1.182475        -0.535391   1.310495   \n",
       " 220781        1.758172         -0.845684        -0.535391   1.310495   \n",
       " 296125       -0.607123         -0.845684        -0.535391  -0.503325   \n",
       " ...                ...               ...              ...        ...   \n",
       " 758716       -1.395554          1.182475         1.867795   1.310495   \n",
       " 165507        1.758172         -0.845684        -0.535391   1.310495   \n",
       " 645005        0.181309         -0.845684         1.867795  -1.107932   \n",
       " 716094        1.758172          1.182475        -0.535391   0.101281   \n",
       " 425458        0.181309         -0.845684        -0.535391  -0.503325   \n",
       " \n",
       "         keep_alive_session  \n",
       " 117313            0.856856  \n",
       " 37527            -1.167057  \n",
       " 494750            0.856856  \n",
       " 220781            0.856856  \n",
       " 296125            0.856856  \n",
       " ...                    ...  \n",
       " 758716            0.856856  \n",
       " 165507           -1.167057  \n",
       " 645005           -1.167057  \n",
       " 716094           -1.167057  \n",
       " 425458           -1.167057  \n",
       " \n",
       " [640000 rows x 12 columns],\n",
       "           income  name_email_similarity  prev_address_months_count  \\\n",
       " 170900 -1.592303               0.944501                  -0.402185   \n",
       " 273441 -0.559435              -0.591719                  -0.402185   \n",
       " 13367  -1.592303              -0.958731                  -0.402185   \n",
       " 9332   -0.559435              -1.562674                   2.321412   \n",
       " 765975  0.817723              -0.610725                  -0.129826   \n",
       " ...          ...                    ...                        ...   \n",
       " 152939  0.817723              -1.651989                  -0.402185   \n",
       " 632649 -1.592303               0.029949                  -0.402185   \n",
       " 111500  1.162013              -0.532475                   2.162535   \n",
       " 552041 -0.903724               1.461533                  -0.402185   \n",
       " 707572 -0.559435               1.314270                  -0.402185   \n",
       " \n",
       "         customer_age  employment_status  credit_risk_score  email_is_free  \\\n",
       " 170900     -1.969250          -0.474390           0.602899      -1.061884   \n",
       " 273441      1.355497          -0.474390           1.435261       0.941723   \n",
       " 13367      -0.306876           3.426793          -0.042898       0.941723   \n",
       " 9332       -0.306876           0.305847          -0.229462      -1.061884   \n",
       " 765975     -0.306876          -0.474390          -0.559536       0.941723   \n",
       " ...              ...                ...                ...            ...   \n",
       " 152939      2.186684           0.305847          -1.277089      -1.061884   \n",
       " 632649      0.524311           1.086083          -0.229462      -1.061884   \n",
       " 111500     -0.306876          -0.474390           0.488091      -1.061884   \n",
       " 552041     -0.306876          -0.474390          -0.731749       0.941723   \n",
       " 707572     -0.306876           3.426793           0.028857       0.941723   \n",
       " \n",
       "         housing_status  phone_home_valid  has_other_cards  device_os  \\\n",
       " 170900        1.758172         -0.845684        -0.535391  -0.503325   \n",
       " 273441       -1.395554         -0.845684         1.867795  -0.503325   \n",
       " 13367        -0.607123         -0.845684        -0.535391   1.310495   \n",
       " 9332          0.181309          1.182475        -0.535391  -0.503325   \n",
       " 765975        0.969740         -0.845684         1.867795  -1.107932   \n",
       " ...                ...               ...              ...        ...   \n",
       " 152939       -1.395554         -0.845684        -0.535391  -0.503325   \n",
       " 632649       -1.395554          1.182475        -0.535391   1.310495   \n",
       " 111500        0.969740          1.182475         1.867795  -1.107932   \n",
       " 552041       -0.607123         -0.845684         1.867795  -0.503325   \n",
       " 707572       -0.607123          1.182475        -0.535391  -1.107932   \n",
       " \n",
       "         keep_alive_session  \n",
       " 170900            0.856856  \n",
       " 273441            0.856856  \n",
       " 13367             0.856856  \n",
       " 9332              0.856856  \n",
       " 765975            0.856856  \n",
       " ...                    ...  \n",
       " 152939           -1.167057  \n",
       " 632649           -1.167057  \n",
       " 111500           -1.167057  \n",
       " 552041           -1.167057  \n",
       " 707572            0.856856  \n",
       " \n",
       " [160000 rows x 12 columns],\n",
       "         fraud_bool\n",
       " 117313           0\n",
       " 37527            0\n",
       " 494750           0\n",
       " 220781           0\n",
       " 296125           0\n",
       " ...            ...\n",
       " 758716           0\n",
       " 165507           0\n",
       " 645005           0\n",
       " 716094           0\n",
       " 425458           0\n",
       " \n",
       " [640000 rows x 1 columns],\n",
       "         fraud_bool\n",
       " 170900           0\n",
       " 273441           0\n",
       " 13367            0\n",
       " 9332             0\n",
       " 765975           0\n",
       " ...            ...\n",
       " 152939           0\n",
       " 632649           0\n",
       " 111500           0\n",
       " 552041           0\n",
       " 707572           0\n",
       " \n",
       " [160000 rows x 1 columns])"
      ]
     },
     "execution_count": 9,
     "metadata": {},
     "output_type": "execute_result"
    }
   ],
   "source": [
    "stratified_splitter(X_pd_fraud_sel_train_std, y_pd_fraud_sel_train)"
   ]
  },
  {
   "cell_type": "markdown",
   "id": "8f215d82",
   "metadata": {},
   "source": [
    "## Métodos Undersampling y Oversampling"
   ]
  },
  {
   "cell_type": "markdown",
   "id": "08f90e4d",
   "metadata": {},
   "source": [
    "![texto](https://miro.medium.com/v2/resize:fit:1400/format:webp/1*7xf9e1EaoK5n05izIFBouA.png)"
   ]
  },
  {
   "cell_type": "markdown",
   "id": "c86d7210",
   "metadata": {},
   "source": [
    "## Undersampling\n",
    "[Información adicional](https://imbalanced-learn.org/stable/references/generated/imblearn.under_sampling.RandomUnderSampler.html)"
   ]
  },
  {
   "cell_type": "markdown",
   "id": "6b4b03cd",
   "metadata": {},
   "source": [
    "El undersampling es una técnica de preprocesamiento de datos que aborda el desequilibrio de clases en conjuntos de datos, especialmente cuando hay una clase mayoritaria y una o más clases minoritarias. Consiste en reducir la proporción de la clase mayoritaria eliminando aleatoria o selectivamente ejemplos de esa clase. Esto ayuda a equilibrar la distribución de clases y evita que los modelos de aprendizaje automático se sesguen hacia la clase mayoritaria, mejorando así la capacidad del modelo para predecir la clase minoritaria. "
   ]
  },
  {
   "cell_type": "markdown",
   "id": "2035fd5d",
   "metadata": {},
   "source": [
    "La función definida en la siguiente línea de código 'undersample_data(X, y)' realiza un submuestreo (undersampling) de los datos utilizando la técnica Random UnderSampler. El submuestreo aleatorio se realiza para igualar el número de muestras de cada clase en la variable objetivo (y):"
   ]
  },
  {
   "cell_type": "code",
   "execution_count": 10,
   "id": "5f479fad",
   "metadata": {},
   "outputs": [],
   "source": [
    "def undersample_data(X, y):\n",
    "    rus = RandomUnderSampler(random_state=42)\n",
    "    X_resampled, y_resampled = rus.fit_resample(X, y)\n",
    "\n",
    "    print(\"Proporciones de clases en y_resampled después de undersampling:\")\n",
    "    print(y_resampled.value_counts())\n",
    "\n",
    "    return X_resampled, y_resampled"
   ]
  },
  {
   "cell_type": "markdown",
   "id": "435eec7d",
   "metadata": {},
   "source": [
    "A continuación, se aplica esta función a 'X_train_red' e 'y_train_red' para que contengan los conjuntos de datos submuestreados, donde se ha reducido el número de muestras de la clase mayoritaria para igualar el número de muestras de la clase minoritaria. "
   ]
  },
  {
   "cell_type": "code",
   "execution_count": 11,
   "id": "b2d26e88",
   "metadata": {
    "scrolled": true
   },
   "outputs": [
    {
     "name": "stdout",
     "output_type": "stream",
     "text": [
      "Proporciones de clases en y_resampled después de undersampling:\n",
      "fraud_bool\n",
      "0             8823\n",
      "1             8823\n",
      "Name: count, dtype: int64\n"
     ]
    }
   ],
   "source": [
    "X_train_red_und_total, y_train_red_und_total = undersample_data(X_pd_fraud_red_train, y_pd_fraud_red_train)"
   ]
  },
  {
   "cell_type": "markdown",
   "id": "a5e9c8fb",
   "metadata": {},
   "source": [
    "A continuación, se realiza el mismo procedimiento con 'X_train_red_std' e 'y_train_red':"
   ]
  },
  {
   "cell_type": "code",
   "execution_count": 12,
   "id": "5acef837",
   "metadata": {},
   "outputs": [
    {
     "name": "stdout",
     "output_type": "stream",
     "text": [
      "Proporciones de clases en y_resampled después de undersampling:\n",
      "fraud_bool\n",
      "0             8823\n",
      "1             8823\n",
      "Name: count, dtype: int64\n"
     ]
    }
   ],
   "source": [
    "X_train_red_std_und_total, y_train_red_und_total = undersample_data(X_pd_fraud_red_train_std, y_pd_fraud_red_train)"
   ]
  },
  {
   "cell_type": "markdown",
   "id": "e4309268",
   "metadata": {},
   "source": [
    "A continuación, se realiza el mismo procedimiento con 'X_train_sel' e 'y_train_sel':"
   ]
  },
  {
   "cell_type": "code",
   "execution_count": 13,
   "id": "47e69d4f",
   "metadata": {
    "scrolled": true
   },
   "outputs": [
    {
     "name": "stdout",
     "output_type": "stream",
     "text": [
      "Proporciones de clases en y_resampled después de undersampling:\n",
      "fraud_bool\n",
      "0             8823\n",
      "1             8823\n",
      "Name: count, dtype: int64\n"
     ]
    }
   ],
   "source": [
    "X_train_sel_und_total, y_train_sel_und_total = undersample_data(X_pd_fraud_sel_train, y_pd_fraud_sel_train)"
   ]
  },
  {
   "cell_type": "markdown",
   "id": "74e6682e",
   "metadata": {},
   "source": [
    "Por último, se realiza el mismo procedimiento con 'X_train_sel_std' e 'y_train_sel':"
   ]
  },
  {
   "cell_type": "code",
   "execution_count": 14,
   "id": "6a39de82",
   "metadata": {
    "scrolled": true
   },
   "outputs": [
    {
     "name": "stdout",
     "output_type": "stream",
     "text": [
      "Proporciones de clases en y_resampled después de undersampling:\n",
      "fraud_bool\n",
      "0             8823\n",
      "1             8823\n",
      "Name: count, dtype: int64\n"
     ]
    }
   ],
   "source": [
    "X_train_sel_std_und_total, y_train_sel_und_total = undersample_data(X_pd_fraud_sel_train_std, y_pd_fraud_sel_train)"
   ]
  },
  {
   "cell_type": "markdown",
   "id": "bca6e1dd",
   "metadata": {},
   "source": [
    "## Oversampling\n",
    "[Información adicional](https://imbalanced-learn.org/stable/references/generated/imblearn.over_sampling.SMOTE.html)"
   ]
  },
  {
   "cell_type": "markdown",
   "id": "c4c3ce3c",
   "metadata": {},
   "source": [
    "El oversampling es una técnica de preprocesamiento de datos utilizada para abordar el desequilibrio de clases en conjuntos de datos. Se enfoca en aumentar la proporción de la clase minoritaria generando ejemplos adicionales de esa clase. Esto ayuda a equilibrar la distribución de clases, especialmente cuando hay menos ejemplos de la clase minoritaria. El objetivo es mejorar la capacidad del modelo de aprendizaje automático para predecir la clase minoritaria, aunque se debe tener cuidado para evitar el sobreajuste y la introducción de ruido en el conjunto de datos."
   ]
  },
  {
   "cell_type": "markdown",
   "id": "ab724a98",
   "metadata": {},
   "source": [
    "A continuación se define la función 'oversample_data' que ealiza un sobre-muestreo (oversampling) de los datos utilizando la técnica SMOTE (Synthetic Minority Over-sampling Technique). El sobre-muestreo se realiza generando muestras sintéticas para la clase minoritaria, lo que ayuda a equilibrar la distribución de clases en la variable objetivo (y):"
   ]
  },
  {
   "cell_type": "code",
   "execution_count": 15,
   "id": "770e4b87",
   "metadata": {},
   "outputs": [],
   "source": [
    "def oversample_data(X, y):\n",
    "    smote = SMOTE(random_state=42)\n",
    "    X_resampled, y_resampled = smote.fit_resample(X, y)\n",
    "\n",
    "    print(\"Clases en y_resampled después de oversampling:\")\n",
    "    print(y_resampled.value_counts())\n",
    "\n",
    "    return X_resampled, y_resampled"
   ]
  },
  {
   "cell_type": "markdown",
   "id": "e2e5a35c",
   "metadata": {},
   "source": [
    "A continuación, se realiza el oversampling sobre los conjuntos de datos de 'X_train_red' e 'y_train_red' proporcionando conjuntos que estarán equilibrados en términos de clases después de aplicar la técnica de SMOTE para generar muestras sintéticas de la clase minoritaria:"
   ]
  },
  {
   "cell_type": "code",
   "execution_count": 16,
   "id": "b91f4153",
   "metadata": {
    "scrolled": false
   },
   "outputs": [
    {
     "name": "stdout",
     "output_type": "stream",
     "text": [
      "Clases en y_resampled después de oversampling:\n",
      "fraud_bool\n",
      "0             791177\n",
      "1             791177\n",
      "Name: count, dtype: int64\n"
     ]
    },
    {
     "data": {
      "text/plain": [
       "(           income  name_email_similarity  prev_address_months_count  \\\n",
       " 0        0.100000               0.137525                       -1.0   \n",
       " 1        0.800000               0.544001                       -1.0   \n",
       " 2        0.900000               0.691325                      113.0   \n",
       " 3        0.600000               0.476041                       -1.0   \n",
       " 4        0.800000               0.896029                      216.0   \n",
       " ...           ...                    ...                        ...   \n",
       " 1582349  0.642443               0.425144                       -1.0   \n",
       " 1582350  0.717807               0.404412                       -1.0   \n",
       " 1582351  0.900000               0.565406                       -1.0   \n",
       " 1582352  0.154197               0.165366                       -1.0   \n",
       " 1582353  0.874377               0.650374                       -1.0   \n",
       " \n",
       "          current_address_months_count  customer_age  days_since_request  \\\n",
       " 0                          159.000000            50            0.019500   \n",
       " 1                           69.000000            20            0.019971   \n",
       " 2                           11.000000            30            0.006098   \n",
       " 3                           42.000000            40            0.035810   \n",
       " 4                           11.000000            50            0.015699   \n",
       " ...                               ...           ...                 ...   \n",
       " 1582349                    101.096212            42            0.022238   \n",
       " 1582350                    262.342941            37            0.024761   \n",
       " 1582351                     96.098725            42            0.026552   \n",
       " 1582352                    163.954344            31            0.030869   \n",
       " 1582353                    119.879650            52            2.140029   \n",
       " \n",
       "          intended_balcon_amount  payment_type  zip_count_4w  \\\n",
       " 0                     -1.000000             2   1449.000000   \n",
       " 1                     -1.000000             3    717.000000   \n",
       " 2                     -1.000000             2    420.000000   \n",
       " 3                     32.541154             0   1145.000000   \n",
       " 4                     -1.000000             3   2904.000000   \n",
       " ...                         ...           ...           ...   \n",
       " 1582349               -1.000000             2    690.247355   \n",
       " 1582350               -1.000000             1    462.813397   \n",
       " 1582351                2.073680             1   3471.805552   \n",
       " 1582352               -1.000000             1    648.509573   \n",
       " 1582353               10.055131             0    958.292371   \n",
       " \n",
       "          bank_branch_count_8w  ...  has_other_cards  proposed_credit_limit  \\\n",
       " 0                    0.000000  ...                0                  500.0   \n",
       " 1                   22.000000  ...                0                  200.0   \n",
       " 2                    0.000000  ...                1                 2000.0   \n",
       " 3                  562.000000  ...                0                  200.0   \n",
       " 4                    8.000000  ...                0                 1000.0   \n",
       " ...                       ...  ...              ...                    ...   \n",
       " 1582349              1.212214  ...                0                  500.0   \n",
       " 1582350             14.178071  ...                0                 1000.0   \n",
       " 1582351              5.950638  ...                0                 1500.0   \n",
       " 1582352              0.864507  ...                0                  500.0   \n",
       " 1582353           1910.357778  ...                0                  500.0   \n",
       " \n",
       "          foreign_request  source  session_length_in_minutes  device_os  \\\n",
       " 0                      0       0                   8.413229          1   \n",
       " 1                      0       0                   6.699359          4   \n",
       " 2                      0       0                   5.424367          1   \n",
       " 3                      0       0                  10.212300          0   \n",
       " 4                      0       0                  24.210540          1   \n",
       " ...                  ...     ...                        ...        ...   \n",
       " 1582349                0       0                   8.251045          0   \n",
       " 1582350                0       0                   9.193930          2   \n",
       " 1582351                0       0                   5.956992          1   \n",
       " 1582352                0       0                   3.692625          0   \n",
       " 1582353                0       0                   4.928643          1   \n",
       " \n",
       "          keep_alive_session  device_distinct_emails_8w  month  mean_velocities  \n",
       " 0                         0                          1      0      6732.736893  \n",
       " 1                         0                          1      5      2989.737039  \n",
       " 2                         0                          1      4      5219.869368  \n",
       " 3                         1                          1      7      2772.296037  \n",
       " 4                         1                          1      5      4475.233434  \n",
       " ...                     ...                        ...    ...              ...  \n",
       " 1582349                   0                          1      7      3719.327098  \n",
       " 1582350                   0                          1      6      3052.205127  \n",
       " 1582351                   1                          1      3      4444.021987  \n",
       " 1582352                   0                          1      5      3690.956655  \n",
       " 1582353                   0                          1      5      4841.034964  \n",
       " \n",
       " [1582354 rows x 28 columns],\n",
       "          fraud_bool\n",
       " 0                 0\n",
       " 1                 0\n",
       " 2                 0\n",
       " 3                 0\n",
       " 4                 0\n",
       " ...             ...\n",
       " 1582349           1\n",
       " 1582350           1\n",
       " 1582351           1\n",
       " 1582352           1\n",
       " 1582353           1\n",
       " \n",
       " [1582354 rows x 1 columns])"
      ]
     },
     "execution_count": 16,
     "metadata": {},
     "output_type": "execute_result"
    }
   ],
   "source": [
    "oversample_data(X_pd_fraud_red_train, y_pd_fraud_red_train)"
   ]
  },
  {
   "cell_type": "markdown",
   "id": "528a58e3",
   "metadata": {},
   "source": [
    "A continuación, se realiza el mismo procedimiento con 'X_train_red_std' e 'y_train_red':"
   ]
  },
  {
   "cell_type": "code",
   "execution_count": 17,
   "id": "5311709a",
   "metadata": {
    "scrolled": false
   },
   "outputs": [
    {
     "name": "stdout",
     "output_type": "stream",
     "text": [
      "Clases en y_resampled después de oversampling:\n",
      "fraud_bool\n",
      "0             791177\n",
      "1             791177\n",
      "Name: count, dtype: int64\n"
     ]
    },
    {
     "data": {
      "text/plain": [
       "(           income  name_email_similarity  prev_address_months_count  \\\n",
       " 0       -1.593209              -1.231107                  -0.402198   \n",
       " 1        0.817528               0.174704                  -0.402198   \n",
       " 2        1.161919               0.684230                   2.186977   \n",
       " 3        0.128746              -0.060339                  -0.402198   \n",
       " 4        0.817528               1.392206                   4.526319   \n",
       " ...           ...                    ...                        ...   \n",
       " 1582349  1.088834              -1.152828                  -0.402198   \n",
       " 1582350  0.128746              -1.044398                  -0.402198   \n",
       " 1582351  1.041369              -0.230939                  -0.402198   \n",
       " 1582352 -0.811102              -1.583130                  -0.402198   \n",
       " 1582353  1.161919               1.076083                  -0.402198   \n",
       " \n",
       "          current_address_months_count  customer_age  days_since_request  \\\n",
       " 0                            0.817848      1.356764           -0.186708   \n",
       " 1                           -0.199703     -1.139056           -0.186620   \n",
       " 2                           -0.855458     -0.307116           -0.189203   \n",
       " 3                           -0.504969      0.524824           -0.183671   \n",
       " 4                           -0.855458      1.356764           -0.187415   \n",
       " ...                               ...           ...                 ...   \n",
       " 1582349                     -0.023862      0.701374           -0.188384   \n",
       " 1582350                      1.728747      0.019579           -0.186204   \n",
       " 1582351                      0.383708      1.356764           -0.187922   \n",
       " 1582352                      0.238538      0.524824           -0.188592   \n",
       " 1582353                     -0.030034      1.356764           -0.187344   \n",
       " \n",
       "          intended_balcon_amount  payment_type  zip_count_4w  \\\n",
       " 0                     -1.000000      0.794571     -0.123478   \n",
       " 1                     -1.000000      1.829170     -0.851703   \n",
       " 2                     -1.000000      0.794571     -1.147172   \n",
       " 3                      1.178346     -1.274627     -0.425910   \n",
       " 4                     -1.000000      1.829170      1.324019   \n",
       " ...                         ...           ...           ...   \n",
       " 1582349               -1.000000      0.794571     -0.638499   \n",
       " 1582350               -1.000000     -0.646305     -0.620936   \n",
       " 1582351               -1.000000      0.794571      2.074853   \n",
       " 1582352               -1.000000      0.794571     -0.521638   \n",
       " 1582353               -0.720953     -0.505128     -0.393195   \n",
       " \n",
       "          bank_branch_count_8w  ...  has_other_cards  proposed_credit_limit  \\\n",
       " 0                   -0.401681  ...        -0.535768              -0.033229   \n",
       " 1                   -0.353846  ...        -0.535768              -0.648367   \n",
       " 2                   -0.401681  ...         1.866481               3.042459   \n",
       " 3                    0.820289  ...        -0.535768              -0.648367   \n",
       " 4                   -0.384287  ...        -0.535768               0.992000   \n",
       " ...                       ...  ...              ...                    ...   \n",
       " 1582349             -0.400758  ...        -0.535768              -0.517826   \n",
       " 1582350             -0.370853  ...        -0.535768               0.589402   \n",
       " 1582351             -0.400920  ...        -0.535768               2.017230   \n",
       " 1582352             -0.401681  ...        -0.535768              -0.565020   \n",
       " 1582353              3.560958  ...         1.866481              -0.033229   \n",
       " \n",
       "          foreign_request    source  session_length_in_minutes  device_os  \\\n",
       " 0              -0.161225 -0.084645                   0.108472  -0.502010   \n",
       " 1              -0.161225 -0.084645                  -0.105048   1.312284   \n",
       " 2              -0.161225 -0.084645                  -0.263891  -0.502010   \n",
       " 3              -0.161225 -0.084645                   0.332607  -1.106775   \n",
       " 4              -0.161225 -0.084645                   2.076556  -0.502010   \n",
       " ...                  ...       ...                        ...        ...   \n",
       " 1582349        -0.161225 -0.084645                  -0.757914   1.312284   \n",
       " 1582350        -0.161225 -0.084645                   0.257701   1.312284   \n",
       " 1582351        -0.161225 -0.084645                  -0.205969  -0.683394   \n",
       " 1582352        -0.161225 -0.084645                  -0.584444  -1.106775   \n",
       " 1582353        -0.161225 -0.084645                  -0.313987  -1.106775   \n",
       " \n",
       "          keep_alive_session  device_distinct_emails_8w     month  \\\n",
       " 0                 -1.166617                  -0.101106 -1.488290   \n",
       " 1                 -1.166617                  -0.101106  0.774582   \n",
       " 2                 -1.166617                  -0.101106  0.322008   \n",
       " 3                  0.857179                  -0.101106  1.679731   \n",
       " 4                  0.857179                  -0.101106  0.774582   \n",
       " ...                     ...                        ...       ...   \n",
       " 1582349           -1.166617                   5.422683  0.966668   \n",
       " 1582350            0.857179                  -0.101106  1.227157   \n",
       " 1582351            0.857179                  -0.101106 -0.899977   \n",
       " 1582352           -1.166617                  -0.101106  0.835903   \n",
       " 1582353           -1.166617                  -0.101106  0.194757   \n",
       " \n",
       "          mean_velocities  \n",
       " 0               1.099991  \n",
       " 1              -1.416800  \n",
       " 2               0.082740  \n",
       " 3              -1.563007  \n",
       " 4              -0.417953  \n",
       " ...                  ...  \n",
       " 1582349        -0.532629  \n",
       " 1582350        -1.615218  \n",
       " 1582351        -0.498573  \n",
       " 1582352        -0.678103  \n",
       " 1582353         0.012464  \n",
       " \n",
       " [1582354 rows x 28 columns],\n",
       "          fraud_bool\n",
       " 0                 0\n",
       " 1                 0\n",
       " 2                 0\n",
       " 3                 0\n",
       " 4                 0\n",
       " ...             ...\n",
       " 1582349           1\n",
       " 1582350           1\n",
       " 1582351           1\n",
       " 1582352           1\n",
       " 1582353           1\n",
       " \n",
       " [1582354 rows x 1 columns])"
      ]
     },
     "execution_count": 17,
     "metadata": {},
     "output_type": "execute_result"
    }
   ],
   "source": [
    "oversample_data(X_pd_fraud_red_train_std, y_pd_fraud_red_train)"
   ]
  },
  {
   "cell_type": "markdown",
   "id": "7d2c03ad",
   "metadata": {},
   "source": [
    "A continuación, se realiza el mismo procedimiento con 'X_train_sel' e 'y_train_sel':"
   ]
  },
  {
   "cell_type": "code",
   "execution_count": 18,
   "id": "34ec2f2c",
   "metadata": {
    "scrolled": false
   },
   "outputs": [
    {
     "name": "stdout",
     "output_type": "stream",
     "text": [
      "Clases en y_resampled después de oversampling:\n",
      "fraud_bool\n",
      "0             791177\n",
      "1             791177\n",
      "Name: count, dtype: int64\n"
     ]
    },
    {
     "data": {
      "text/plain": [
       "(           income  name_email_similarity  prev_address_months_count  \\\n",
       " 0        0.500000               0.172538                  -1.000000   \n",
       " 1        0.100000               0.632957                  -1.000000   \n",
       " 2        0.100000               0.102029                  -1.000000   \n",
       " 3        0.900000               0.270367                  -1.000000   \n",
       " 4        0.800000               0.119439                  59.000000   \n",
       " ...           ...                    ...                        ...   \n",
       " 1582349  0.615114               0.391997                  -1.000000   \n",
       " 1582350  0.900000               0.063089                  -1.000000   \n",
       " 1582351  0.835004               0.029656                 235.848912   \n",
       " 1582352  0.618704               0.607810                  -1.000000   \n",
       " 1582353  0.900000               0.893710                  -1.000000   \n",
       " \n",
       "          customer_age  employment_status  credit_risk_score  email_is_free  \\\n",
       " 0                  60                  2         104.000000              1   \n",
       " 1                  50                  4          77.000000              1   \n",
       " 2                  40                  1          35.000000              1   \n",
       " 3                  40                  1          76.000000              1   \n",
       " 4                  10                  0         236.000000              0   \n",
       " ...               ...                ...                ...            ...   \n",
       " 1582349            20                  1          51.000000              0   \n",
       " 1582350            50                  0         299.392690              0   \n",
       " 1582351            50                  0         179.950638              1   \n",
       " 1582352            30                  0          93.864507              1   \n",
       " 1582353            40                  0         274.000000              0   \n",
       " \n",
       "          housing_status  phone_home_valid  has_other_cards  device_os  \\\n",
       " 0                     1                 1                1          1   \n",
       " 1                     1                 1                0          1   \n",
       " 2                     4                 1                0          1   \n",
       " 3                     2                 1                0          1   \n",
       " 4                     0                 0                0          0   \n",
       " ...                 ...               ...              ...        ...   \n",
       " 1582349               4                 0                0          0   \n",
       " 1582350               1                 0                0          3   \n",
       " 1582351               0                 0                0          0   \n",
       " 1582352               2                 0                0          0   \n",
       " 1582353               0                 0                0          0   \n",
       " \n",
       "          keep_alive_session  \n",
       " 0                         0  \n",
       " 1                         1  \n",
       " 2                         1  \n",
       " 3                         0  \n",
       " 4                         1  \n",
       " ...                     ...  \n",
       " 1582349                   0  \n",
       " 1582350                   0  \n",
       " 1582351                   0  \n",
       " 1582352                   0  \n",
       " 1582353                   0  \n",
       " \n",
       " [1582354 rows x 12 columns],\n",
       "          fraud_bool\n",
       " 0                 0\n",
       " 1                 0\n",
       " 2                 0\n",
       " 3                 0\n",
       " 4                 0\n",
       " ...             ...\n",
       " 1582349           1\n",
       " 1582350           1\n",
       " 1582351           1\n",
       " 1582352           1\n",
       " 1582353           1\n",
       " \n",
       " [1582354 rows x 1 columns])"
      ]
     },
     "execution_count": 18,
     "metadata": {},
     "output_type": "execute_result"
    }
   ],
   "source": [
    "oversample_data(X_pd_fraud_sel_train, y_pd_fraud_sel_train)"
   ]
  },
  {
   "cell_type": "markdown",
   "id": "2be7e918",
   "metadata": {},
   "source": [
    "Por último, se realiza el mismo procedimiento con 'X_train_sel_std' e 'y_train_sel':"
   ]
  },
  {
   "cell_type": "code",
   "execution_count": 19,
   "id": "21335bff",
   "metadata": {},
   "outputs": [
    {
     "name": "stdout",
     "output_type": "stream",
     "text": [
      "Clases en y_resampled después de oversampling:\n",
      "fraud_bool\n",
      "0             791177\n",
      "1             791177\n",
      "Name: count, dtype: int64\n"
     ]
    },
    {
     "data": {
      "text/plain": [
       "(           income  name_email_similarity  prev_address_months_count  \\\n",
       " 0       -0.215145              -1.111126                  -0.402185   \n",
       " 1       -1.592303               0.482134                  -0.402185   \n",
       " 2       -1.592303              -1.355118                  -0.402185   \n",
       " 3        1.162013              -0.772592                  -0.402185   \n",
       " 4        0.817723              -1.294871                   0.959613   \n",
       " ...           ...                    ...                        ...   \n",
       " 1582349 -1.446177               0.056881                  -0.402185   \n",
       " 1582350  1.162013              -1.455872                  -0.402185   \n",
       " 1582351  0.938237              -1.608559                   4.790762   \n",
       " 1582352 -1.294662              -1.274177                  -0.402185   \n",
       " 1582353  1.162013               1.310942                  -0.402185   \n",
       " \n",
       "          customer_age  employment_status  credit_risk_score  email_is_free  \\\n",
       " 0            2.186684           1.086083          -0.387323       0.941723   \n",
       " 1            1.355497           2.646556          -0.774802       0.941723   \n",
       " 2            0.524311           0.305847          -1.377546       0.941723   \n",
       " 3            0.524311           0.305847          -0.789153       0.941723   \n",
       " 4           -1.969250          -0.474390           1.507016      -1.061884   \n",
       " ...               ...                ...                ...            ...   \n",
       " 1582349     -1.138063          -0.308812          -1.159235      -1.061884   \n",
       " 1582350      1.355497          -0.000545           2.129356       0.941723   \n",
       " 1582351      1.064551          -0.474390           0.371104       0.941723   \n",
       " 1582352     -0.306876          -0.474390          -0.718877       0.941723   \n",
       " 1582353      0.524311          -0.474390           2.022938      -1.061884   \n",
       " \n",
       "          housing_status  phone_home_valid  has_other_cards  device_os  \\\n",
       " 0             -0.607123          1.182475         1.867795  -0.503325   \n",
       " 1             -0.607123          1.182475        -0.535391  -0.503325   \n",
       " 2              1.758172          1.182475        -0.535391  -0.503325   \n",
       " 3              0.181309          1.182475        -0.535391  -0.503325   \n",
       " 4             -1.395554         -0.845684        -0.535391  -1.107932   \n",
       " ...                 ...               ...              ...        ...   \n",
       " 1582349        1.758172         -0.845684        -0.535391  -1.107932   \n",
       " 1582350       -0.128301         -0.845684        -0.535391   0.705888   \n",
       " 1582351       -1.395554         -0.845684        -0.535391  -0.503325   \n",
       " 1582352        0.181309         -0.845684        -0.535391  -1.107932   \n",
       " 1582353       -1.395554         -0.845684        -0.535391  -1.107932   \n",
       " \n",
       "          keep_alive_session  \n",
       " 0                 -1.167057  \n",
       " 1                  0.856856  \n",
       " 2                  0.856856  \n",
       " 3                 -1.167057  \n",
       " 4                  0.856856  \n",
       " ...                     ...  \n",
       " 1582349           -1.167057  \n",
       " 1582350           -1.167057  \n",
       " 1582351           -1.167057  \n",
       " 1582352           -1.167057  \n",
       " 1582353           -1.167057  \n",
       " \n",
       " [1582354 rows x 12 columns],\n",
       "          fraud_bool\n",
       " 0                 0\n",
       " 1                 0\n",
       " 2                 0\n",
       " 3                 0\n",
       " 4                 0\n",
       " ...             ...\n",
       " 1582349           1\n",
       " 1582350           1\n",
       " 1582351           1\n",
       " 1582352           1\n",
       " 1582353           1\n",
       " \n",
       " [1582354 rows x 1 columns])"
      ]
     },
     "execution_count": 19,
     "metadata": {},
     "output_type": "execute_result"
    }
   ],
   "source": [
    "oversample_data(X_pd_fraud_sel_train_std, y_pd_fraud_sel_train)"
   ]
  },
  {
   "cell_type": "markdown",
   "id": "e76baa4f",
   "metadata": {},
   "source": [
    "[Información útil para la siguiente explicación](https://crunchingthedata.com/oversampling-vs-undersampling/)\n",
    "\n",
    "[Más información](https://www.blog.trainindata.com/undersampling-techniques-for-imbalanced-data/)"
   ]
  },
  {
   "cell_type": "markdown",
   "id": "ef86e41e",
   "metadata": {},
   "source": [
    "Puesto que queremos abordar el problema de desequilibrio de clases, tras leer bastante información sobre las diferencias entre undersampling y oversampling, consideramos que es más apropiado hacer un undersampling en este dataset puesto que es un conjunto de datos muy grande.\n",
    "Además, cuando una clase está sobrerrepresentada comparándola con otra, el modelo de aprendizaje automático puede tener dificultades para aprender patrones en la clase minoritaria, puesto que puede verse dominada por la clase mayoritaria (pudiendo existir sesgos hacia dicha clase). Por ello, si realizamos un undersampling y la clase mayoritaria está bien representado, no perderemos información si eliminamos algunas de las instancias."
   ]
  },
  {
   "cell_type": "markdown",
   "id": "66a5cb68",
   "metadata": {},
   "source": [
    "### División del conjunto de entrenamiento en train y validation"
   ]
  },
  {
   "cell_type": "markdown",
   "id": "6fc1a9da",
   "metadata": {},
   "source": [
    "Una vez realizados los muestreos dividimos el conjunto de train en train y validation para que nuestro conjunto train y val estén ambos balanceados. Esta división la vamos a realizar sobre el train **previamente al undersampling, es decir, sin balancear**, puesto que el validation no debe someterse a un balanceo. \n",
    "Tal y como se observa a continuación la división se realizará con la siguientes proporciones: un 20% de los datos se utilizará como conjunto de validación, y el 80% restante se utilizará como conjunto de entrenamiento."
   ]
  },
  {
   "cell_type": "markdown",
   "id": "d4868843",
   "metadata": {},
   "source": [
    "Para los datasets de 'red' sin estandarizar:"
   ]
  },
  {
   "cell_type": "code",
   "execution_count": 20,
   "id": "11ed9d9b",
   "metadata": {},
   "outputs": [],
   "source": [
    "X_train_red, X_red_val, y_train_red, y_red_val = train_test_split(X_pd_fraud_red_train, y_pd_fraud_red_train,\n",
    "                                                   stratify= y_pd_fraud_red_train, \n",
    "                                                   test_size=0.2, random_state=12345)"
   ]
  },
  {
   "cell_type": "markdown",
   "id": "0c79c39c",
   "metadata": {},
   "source": [
    "Para los datasets de 'red' estandarizados:"
   ]
  },
  {
   "cell_type": "code",
   "execution_count": 21,
   "id": "cdf2c77c",
   "metadata": {},
   "outputs": [],
   "source": [
    "X_train_red_std, X_red_val_std, y_train_red, y_red_val = train_test_split(X_pd_fraud_red_train_std, y_pd_fraud_red_train,\n",
    "                                                   stratify= y_pd_fraud_red_train, \n",
    "                                                   test_size=0.2, random_state=12345)"
   ]
  },
  {
   "cell_type": "markdown",
   "id": "dbaa8f90",
   "metadata": {},
   "source": [
    "Para los datasets de 'sel' sin estandarizar:"
   ]
  },
  {
   "cell_type": "code",
   "execution_count": 22,
   "id": "79711df7",
   "metadata": {},
   "outputs": [],
   "source": [
    "X_train_sel, X_sel_val, y_train_sel, y_sel_val = train_test_split(X_pd_fraud_sel_train, y_pd_fraud_sel_train,\n",
    "                                                   stratify= y_pd_fraud_sel_train, \n",
    "                                                   test_size=0.2, random_state=12345)"
   ]
  },
  {
   "cell_type": "markdown",
   "id": "7b63c557",
   "metadata": {},
   "source": [
    "Para los datasets de 'red' estandarizados:"
   ]
  },
  {
   "cell_type": "code",
   "execution_count": 23,
   "id": "8bddb021",
   "metadata": {},
   "outputs": [],
   "source": [
    "X_train_sel_std, X_sel_val_std, y_train_sel, y_sel_val = train_test_split(X_pd_fraud_sel_train_std, y_pd_fraud_sel_train,\n",
    "                                                   stratify= y_pd_fraud_sel_train, \n",
    "                                                   test_size=0.2, random_state=12345)"
   ]
  },
  {
   "cell_type": "markdown",
   "id": "e56adbb8",
   "metadata": {},
   "source": [
    "### Undersampling sobre el conjunto de train"
   ]
  },
  {
   "cell_type": "markdown",
   "id": "81d2e829",
   "metadata": {},
   "source": [
    "A continuación, realizamos el **undersampling** de la parte del train únicamente, puesto que ha sido el método de balanceo elegido para este proyecto. Además, recalcar una vez más que el undersampling lo hacemos por separado ahora puesto que el validation no debe estar balanceado para realizar los modelos y elegir los mejores."
   ]
  },
  {
   "cell_type": "markdown",
   "id": "bdcf88af",
   "metadata": {},
   "source": [
    "Undersampling de 'X_train_red' e 'y_train_red':"
   ]
  },
  {
   "cell_type": "code",
   "execution_count": 24,
   "id": "290e1849",
   "metadata": {},
   "outputs": [
    {
     "name": "stdout",
     "output_type": "stream",
     "text": [
      "Proporciones de clases en y_resampled después de undersampling:\n",
      "fraud_bool\n",
      "0             7058\n",
      "1             7058\n",
      "Name: count, dtype: int64\n"
     ]
    }
   ],
   "source": [
    "X_train_red_und, y_train_red_und = undersample_data(X_train_red, y_train_red)"
   ]
  },
  {
   "cell_type": "markdown",
   "id": "436af036",
   "metadata": {},
   "source": [
    "Undersampling de 'X_train_red_std' e 'y_train_red':"
   ]
  },
  {
   "cell_type": "code",
   "execution_count": 25,
   "id": "b4469bd9",
   "metadata": {},
   "outputs": [
    {
     "name": "stdout",
     "output_type": "stream",
     "text": [
      "Proporciones de clases en y_resampled después de undersampling:\n",
      "fraud_bool\n",
      "0             7058\n",
      "1             7058\n",
      "Name: count, dtype: int64\n"
     ]
    }
   ],
   "source": [
    "X_train_red_std_und, y_train_red_std_und = undersample_data(X_train_red_std, y_train_red)"
   ]
  },
  {
   "cell_type": "markdown",
   "id": "b7fe1520",
   "metadata": {},
   "source": [
    "Undersampling de 'X_train_sel' e 'y_train_sel':"
   ]
  },
  {
   "cell_type": "code",
   "execution_count": 26,
   "id": "8ea049bc",
   "metadata": {},
   "outputs": [
    {
     "name": "stdout",
     "output_type": "stream",
     "text": [
      "Proporciones de clases en y_resampled después de undersampling:\n",
      "fraud_bool\n",
      "0             7058\n",
      "1             7058\n",
      "Name: count, dtype: int64\n"
     ]
    }
   ],
   "source": [
    "X_train_sel_und, y_train_sel_und = undersample_data(X_train_sel, y_train_sel)"
   ]
  },
  {
   "cell_type": "markdown",
   "id": "28ce7f1f",
   "metadata": {},
   "source": [
    "Undersampling de 'X_train_sel_std' e 'y_train_sel':"
   ]
  },
  {
   "cell_type": "code",
   "execution_count": 27,
   "id": "140029bb",
   "metadata": {},
   "outputs": [
    {
     "name": "stdout",
     "output_type": "stream",
     "text": [
      "Proporciones de clases en y_resampled después de undersampling:\n",
      "fraud_bool\n",
      "0             7058\n",
      "1             7058\n",
      "Name: count, dtype: int64\n"
     ]
    }
   ],
   "source": [
    "X_train_sel_std_und, y_train_sel_std_und = undersample_data(X_train_sel_std, y_train_sel)"
   ]
  },
  {
   "cell_type": "markdown",
   "id": "b8cee76a",
   "metadata": {},
   "source": [
    "Exportamos a csv los datasets de train y val de cada undersampling realizado, así como el dataset entero de train realizado más arriba en el notebook."
   ]
  },
  {
   "cell_type": "code",
   "execution_count": 28,
   "id": "b142575c",
   "metadata": {},
   "outputs": [],
   "source": [
    "X_train_red_und_total.to_csv(\"data/X_train_red_und_total.csv\")\n",
    "y_train_red_und_total.to_csv(\"data/y_train_red_und_total.csv\")\n",
    "X_train_red_std_und_total.to_csv(\"data/X_train_red_std_und_total.csv\")\n",
    "X_train_sel_und_total.to_csv(\"data/X_train_sel_und_total.csv\")\n",
    "y_train_sel_und_total.to_csv(\"data/y_train_sel_und_total.csv\")\n",
    "X_train_sel_std_und_total.to_csv(\"data/X_train_sel_std_und_total.csv\")"
   ]
  },
  {
   "cell_type": "code",
   "execution_count": 29,
   "id": "971dc1a4",
   "metadata": {},
   "outputs": [],
   "source": [
    "X_train_red_und.to_csv(\"data/X_train_red_und.csv\")\n",
    "X_train_red_std_und.to_csv(\"data/X_train_red_std_und.csv\")\n",
    "X_red_val.to_csv(\"data/X_val_red.csv\")\n",
    "X_red_val_std.to_csv(\"data/X_val_red_std.csv\")\n",
    "y_train_red_und.to_csv(\"data/y_train_red_und.csv\")\n",
    "y_red_val.to_csv(\"data/y_val_red.csv\")\n",
    "X_train_sel_und.to_csv(\"data/X_train_sel_und.csv\")\n",
    "X_train_sel_std_und.to_csv(\"data/X_train_sel_std_und.csv\")\n",
    "X_sel_val.to_csv(\"data/X_val_sel.csv\")\n",
    "X_sel_val_std.to_csv(\"data/X_val_sel_std.csv\")\n",
    "y_train_sel_und.to_csv(\"data/y_train_sel_und.csv\")\n",
    "y_sel_val.to_csv(\"data/y_val_sel.csv\")"
   ]
  },
  {
   "cell_type": "markdown",
   "id": "35f28c04",
   "metadata": {},
   "source": [
    "### CONCLUSIONES\n",
    "\n",
    "- En primer lugar se han llevado a cabo **los muestreos de estratificado, oversampling y undersampling** sobre los conjuntos de datos de X e y de entrenamiento:\n",
    "  - 'X_pd_fraud_red_train'\n",
    "  - 'y_pd_fraud_red_train'\n",
    "  - 'X_pd_fraud_red_train_std'\n",
    "  - 'X_pd_fraud_sel_train'\n",
    "  - 'y_pd_fraud_sel_train'\n",
    "  - 'X_pd_fraud_sel_train_std'\n",
    "\n",
    "- Aunque se han realizado estas tres técnicas, **consideramos más pertinente utilizar el undersampling** puesto que es preferible para conjuntos de datos grandes, como con el que estamos trabajando. Además, en situaciones donde una clase está significativamente sobrerepresentada, el modelo de aprendizaje automático puede enfrentar desafíos al aprender patrones en la clase minoritaria, ya que podría ser ocultada por la clase mayoritaria, introduciendo posibles sesgos.\n",
    "\n",
    "- Al optar por el undersampling, se busca **equilibrar las clases eliminando instancias de la clase mayoritaria**, asegurando así que la representación de la clase minoritaria sea más destacada durante el proceso de aprendizaje. Esta estrategia permite mejorar la capacidad del modelo para generalizar patrones en la clase minoritaria, sin sacrificar información crítica en el conjunto de datos.\n",
    "\n",
    "- Posteriormente, se ha realizado **la separación del train en train y validation (80% y 20%, respectivamente)**.\n",
    "\n",
    "- Finalmente, se ha realizado la técnica de balanceo del **undersampling sobre el conjunto de train únicamente** puesto que la validación no debe estar balanceada para la consecución de los pasos que se llevarán a cabo en los siguientes notebooks."
   ]
  }
 ],
 "metadata": {
  "kernelspec": {
   "display_name": "Kernel 1",
   "language": "python",
   "name": "kernel-1"
  },
  "language_info": {
   "codemirror_mode": {
    "name": "ipython",
    "version": 3
   },
   "file_extension": ".py",
   "mimetype": "text/x-python",
   "name": "python",
   "nbconvert_exporter": "python",
   "pygments_lexer": "ipython3",
   "version": "3.11.5"
  }
 },
 "nbformat": 4,
 "nbformat_minor": 5
}
